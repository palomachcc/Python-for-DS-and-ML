{
 "cells": [
  {
   "cell_type": "code",
   "execution_count": 4,
   "id": "f032672f",
   "metadata": {},
   "outputs": [],
   "source": [
    "import pandas as pd\n",
    "import numpy as np\n",
    "from numpy import random #opcion A importas random y cuando llamas a la funcion pones random.funcion\n",
    "\n",
    "#Otra opcion es decir \"from numpy.random import randn\" y llamas directamente a la funcion"
   ]
  },
  {
   "cell_type": "code",
   "execution_count": 23,
   "id": "ef510336",
   "metadata": {
    "scrolled": true
   },
   "outputs": [
    {
     "data": {
      "text/html": [
       "<div>\n",
       "<style scoped>\n",
       "    .dataframe tbody tr th:only-of-type {\n",
       "        vertical-align: middle;\n",
       "    }\n",
       "\n",
       "    .dataframe tbody tr th {\n",
       "        vertical-align: top;\n",
       "    }\n",
       "\n",
       "    .dataframe thead th {\n",
       "        text-align: right;\n",
       "    }\n",
       "</style>\n",
       "<table border=\"1\" class=\"dataframe\">\n",
       "  <thead>\n",
       "    <tr style=\"text-align: right;\">\n",
       "      <th></th>\n",
       "      <th>W</th>\n",
       "      <th>X</th>\n",
       "      <th>Y</th>\n",
       "      <th>Z</th>\n",
       "    </tr>\n",
       "  </thead>\n",
       "  <tbody>\n",
       "    <tr>\n",
       "      <th>A</th>\n",
       "      <td>0.301502</td>\n",
       "      <td>-0.476877</td>\n",
       "      <td>1.924759</td>\n",
       "      <td>0.567711</td>\n",
       "    </tr>\n",
       "    <tr>\n",
       "      <th>B</th>\n",
       "      <td>1.637348</td>\n",
       "      <td>-1.720935</td>\n",
       "      <td>-2.319107</td>\n",
       "      <td>0.117153</td>\n",
       "    </tr>\n",
       "    <tr>\n",
       "      <th>C</th>\n",
       "      <td>-0.506544</td>\n",
       "      <td>0.382301</td>\n",
       "      <td>-0.532267</td>\n",
       "      <td>-0.822787</td>\n",
       "    </tr>\n",
       "    <tr>\n",
       "      <th>D</th>\n",
       "      <td>1.957181</td>\n",
       "      <td>1.277487</td>\n",
       "      <td>-0.452410</td>\n",
       "      <td>-0.795238</td>\n",
       "    </tr>\n",
       "    <tr>\n",
       "      <th>E</th>\n",
       "      <td>-0.412601</td>\n",
       "      <td>-0.540603</td>\n",
       "      <td>-0.852674</td>\n",
       "      <td>-2.009965</td>\n",
       "    </tr>\n",
       "  </tbody>\n",
       "</table>\n",
       "</div>"
      ],
      "text/plain": [
       "          W         X         Y         Z\n",
       "A  0.301502 -0.476877  1.924759  0.567711\n",
       "B  1.637348 -1.720935 -2.319107  0.117153\n",
       "C -0.506544  0.382301 -0.532267 -0.822787\n",
       "D  1.957181  1.277487 -0.452410 -0.795238\n",
       "E -0.412601 -0.540603 -0.852674 -2.009965"
      ]
     },
     "execution_count": 23,
     "metadata": {},
     "output_type": "execute_result"
    }
   ],
   "source": [
    "df = pd.DataFrame(random.randn(5,4),index='A B C D E'.split(),columns='W X Y Z'.split())\n",
    "df\n",
    "\n",
    "#lo de .split es para que me lo separe con comas, ver ejemplo de abajo tenes que agregar coma y comillas a cada letra"
   ]
  },
  {
   "cell_type": "code",
   "execution_count": 14,
   "id": "a5d0de4e",
   "metadata": {
    "scrolled": true
   },
   "outputs": [
    {
     "data": {
      "text/html": [
       "<div>\n",
       "<style scoped>\n",
       "    .dataframe tbody tr th:only-of-type {\n",
       "        vertical-align: middle;\n",
       "    }\n",
       "\n",
       "    .dataframe tbody tr th {\n",
       "        vertical-align: top;\n",
       "    }\n",
       "\n",
       "    .dataframe thead th {\n",
       "        text-align: right;\n",
       "    }\n",
       "</style>\n",
       "<table border=\"1\" class=\"dataframe\">\n",
       "  <thead>\n",
       "    <tr style=\"text-align: right;\">\n",
       "      <th></th>\n",
       "      <th>1</th>\n",
       "      <th>2</th>\n",
       "      <th>3</th>\n",
       "    </tr>\n",
       "  </thead>\n",
       "  <tbody>\n",
       "    <tr>\n",
       "      <th>A</th>\n",
       "      <td>-1.459293</td>\n",
       "      <td>0.946338</td>\n",
       "      <td>0.292443</td>\n",
       "    </tr>\n",
       "    <tr>\n",
       "      <th>B</th>\n",
       "      <td>-1.287004</td>\n",
       "      <td>-0.118339</td>\n",
       "      <td>0.942758</td>\n",
       "    </tr>\n",
       "    <tr>\n",
       "      <th>C</th>\n",
       "      <td>1.695572</td>\n",
       "      <td>0.335035</td>\n",
       "      <td>0.482997</td>\n",
       "    </tr>\n",
       "  </tbody>\n",
       "</table>\n",
       "</div>"
      ],
      "text/plain": [
       "          1         2         3\n",
       "A -1.459293  0.946338  0.292443\n",
       "B -1.287004 -0.118339  0.942758\n",
       "C  1.695572  0.335035  0.482997"
      ]
     },
     "execution_count": 14,
     "metadata": {},
     "output_type": "execute_result"
    }
   ],
   "source": [
    "indx=[\"A\",\"B\",\"C\"] \n",
    "col=[1,2,3]\n",
    "df2=pd.DataFrame(random.randn(3,3),indx,col)  \n",
    "#fijate que cada vez que corres el codigo agrega numeros nuevos aleatorios\n",
    "df2  "
   ]
  },
  {
   "cell_type": "code",
   "execution_count": 46,
   "id": "46e85331",
   "metadata": {},
   "outputs": [
    {
     "data": {
      "text/html": [
       "<div>\n",
       "<style scoped>\n",
       "    .dataframe tbody tr th:only-of-type {\n",
       "        vertical-align: middle;\n",
       "    }\n",
       "\n",
       "    .dataframe tbody tr th {\n",
       "        vertical-align: top;\n",
       "    }\n",
       "\n",
       "    .dataframe thead th {\n",
       "        text-align: right;\n",
       "    }\n",
       "</style>\n",
       "<table border=\"1\" class=\"dataframe\">\n",
       "  <thead>\n",
       "    <tr style=\"text-align: right;\">\n",
       "      <th></th>\n",
       "      <th>col1</th>\n",
       "      <th>col2</th>\n",
       "    </tr>\n",
       "  </thead>\n",
       "  <tbody>\n",
       "    <tr>\n",
       "      <th>0</th>\n",
       "      <td>1</td>\n",
       "      <td>3</td>\n",
       "    </tr>\n",
       "    <tr>\n",
       "      <th>1</th>\n",
       "      <td>2</td>\n",
       "      <td>4</td>\n",
       "    </tr>\n",
       "  </tbody>\n",
       "</table>\n",
       "</div>"
      ],
      "text/plain": [
       "   col1  col2\n",
       "0     1     3\n",
       "1     2     4"
      ]
     },
     "execution_count": 46,
     "metadata": {},
     "output_type": "execute_result"
    }
   ],
   "source": [
    "d = {'col1': [1, 2], 'col2': [3, 4]}\n",
    "df1 = pd.DataFrame(data=d)\n",
    "df1\n"
   ]
  },
  {
   "cell_type": "markdown",
   "id": "962b046f",
   "metadata": {},
   "source": [
    "   Selection and Indexing\n",
    "  "
   ]
  },
  {
   "cell_type": "code",
   "execution_count": 21,
   "id": "d470b0a1",
   "metadata": {},
   "outputs": [
    {
     "data": {
      "text/plain": [
       "A   -1.459293\n",
       "B   -1.287004\n",
       "C    1.695572\n",
       "Name: 1, dtype: float64"
      ]
     },
     "execution_count": 21,
     "metadata": {},
     "output_type": "execute_result"
    }
   ],
   "source": [
    "df2[1] #grab a column       nombredataframe[columna]"
   ]
  },
  {
   "cell_type": "code",
   "execution_count": 26,
   "id": "c58d60d8",
   "metadata": {
    "scrolled": true
   },
   "outputs": [
    {
     "data": {
      "text/plain": [
       "A    0.301502\n",
       "B    1.637348\n",
       "C   -0.506544\n",
       "D    1.957181\n",
       "E   -0.412601\n",
       "Name: W, dtype: float64"
      ]
     },
     "execution_count": 26,
     "metadata": {},
     "output_type": "execute_result"
    }
   ],
   "source": [
    "df[\"W\"]"
   ]
  },
  {
   "cell_type": "code",
   "execution_count": 29,
   "id": "57a9cdba",
   "metadata": {
    "scrolled": false
   },
   "outputs": [
    {
     "data": {
      "text/html": [
       "<div>\n",
       "<style scoped>\n",
       "    .dataframe tbody tr th:only-of-type {\n",
       "        vertical-align: middle;\n",
       "    }\n",
       "\n",
       "    .dataframe tbody tr th {\n",
       "        vertical-align: top;\n",
       "    }\n",
       "\n",
       "    .dataframe thead th {\n",
       "        text-align: right;\n",
       "    }\n",
       "</style>\n",
       "<table border=\"1\" class=\"dataframe\">\n",
       "  <thead>\n",
       "    <tr style=\"text-align: right;\">\n",
       "      <th></th>\n",
       "      <th>W</th>\n",
       "      <th>X</th>\n",
       "    </tr>\n",
       "  </thead>\n",
       "  <tbody>\n",
       "    <tr>\n",
       "      <th>A</th>\n",
       "      <td>0.301502</td>\n",
       "      <td>-0.476877</td>\n",
       "    </tr>\n",
       "    <tr>\n",
       "      <th>B</th>\n",
       "      <td>1.637348</td>\n",
       "      <td>-1.720935</td>\n",
       "    </tr>\n",
       "    <tr>\n",
       "      <th>C</th>\n",
       "      <td>-0.506544</td>\n",
       "      <td>0.382301</td>\n",
       "    </tr>\n",
       "    <tr>\n",
       "      <th>D</th>\n",
       "      <td>1.957181</td>\n",
       "      <td>1.277487</td>\n",
       "    </tr>\n",
       "    <tr>\n",
       "      <th>E</th>\n",
       "      <td>-0.412601</td>\n",
       "      <td>-0.540603</td>\n",
       "    </tr>\n",
       "  </tbody>\n",
       "</table>\n",
       "</div>"
      ],
      "text/plain": [
       "          W         X\n",
       "A  0.301502 -0.476877\n",
       "B  1.637348 -1.720935\n",
       "C -0.506544  0.382301\n",
       "D  1.957181  1.277487\n",
       "E -0.412601 -0.540603"
      ]
     },
     "execution_count": 29,
     "metadata": {},
     "output_type": "execute_result"
    }
   ],
   "source": [
    "#si quiero mas de una columna juntas, las agrego dentro de un mismo corchete\n",
    "df[[\"W\",\"X\"]]"
   ]
  },
  {
   "cell_type": "markdown",
   "id": "d4fbe620",
   "metadata": {},
   "source": [
    "Seleccionar filas"
   ]
  },
  {
   "cell_type": "code",
   "execution_count": 34,
   "id": "bf78f81d",
   "metadata": {
    "scrolled": true
   },
   "outputs": [
    {
     "data": {
      "text/plain": [
       "1   -1.459293\n",
       "2    0.946338\n",
       "3    0.292443\n",
       "Name: A, dtype: float64"
      ]
     },
     "execution_count": 34,
     "metadata": {},
     "output_type": "execute_result"
    }
   ],
   "source": [
    "df2.loc['A']  \n",
    "#me devuelve cada uno de los valores que aparecen en la fila INDICADA CON LABEL, con la columna respectiva"
   ]
  },
  {
   "cell_type": "code",
   "execution_count": 35,
   "id": "850150ba",
   "metadata": {
    "scrolled": false
   },
   "outputs": [
    {
     "data": {
      "text/plain": [
       "W   -0.506544\n",
       "X    0.382301\n",
       "Y   -0.532267\n",
       "Z   -0.822787\n",
       "Name: C, dtype: float64"
      ]
     },
     "execution_count": 35,
     "metadata": {},
     "output_type": "execute_result"
    }
   ],
   "source": [
    "df.iloc[2]  #me devuelve la fila indicada con POSICION desde cero."
   ]
  },
  {
   "cell_type": "code",
   "execution_count": 38,
   "id": "5cd22d85",
   "metadata": {},
   "outputs": [],
   "source": [
    "\n",
    "df3=pd.DataFrame(random.randn(3,3),col,indx) \n"
   ]
  },
  {
   "cell_type": "code",
   "execution_count": 39,
   "id": "c2a79ba7",
   "metadata": {
    "scrolled": true
   },
   "outputs": [
    {
     "data": {
      "text/html": [
       "<div>\n",
       "<style scoped>\n",
       "    .dataframe tbody tr th:only-of-type {\n",
       "        vertical-align: middle;\n",
       "    }\n",
       "\n",
       "    .dataframe tbody tr th {\n",
       "        vertical-align: top;\n",
       "    }\n",
       "\n",
       "    .dataframe thead th {\n",
       "        text-align: right;\n",
       "    }\n",
       "</style>\n",
       "<table border=\"1\" class=\"dataframe\">\n",
       "  <thead>\n",
       "    <tr style=\"text-align: right;\">\n",
       "      <th></th>\n",
       "      <th>A</th>\n",
       "      <th>B</th>\n",
       "      <th>C</th>\n",
       "    </tr>\n",
       "  </thead>\n",
       "  <tbody>\n",
       "    <tr>\n",
       "      <th>1</th>\n",
       "      <td>-0.659780</td>\n",
       "      <td>-0.036869</td>\n",
       "      <td>1.093536</td>\n",
       "    </tr>\n",
       "    <tr>\n",
       "      <th>2</th>\n",
       "      <td>0.498271</td>\n",
       "      <td>-0.003576</td>\n",
       "      <td>-0.870396</td>\n",
       "    </tr>\n",
       "    <tr>\n",
       "      <th>3</th>\n",
       "      <td>-0.096084</td>\n",
       "      <td>1.426706</td>\n",
       "      <td>-0.532531</td>\n",
       "    </tr>\n",
       "  </tbody>\n",
       "</table>\n",
       "</div>"
      ],
      "text/plain": [
       "          A         B         C\n",
       "1 -0.659780 -0.036869  1.093536\n",
       "2  0.498271 -0.003576 -0.870396\n",
       "3 -0.096084  1.426706 -0.532531"
      ]
     },
     "execution_count": 39,
     "metadata": {},
     "output_type": "execute_result"
    }
   ],
   "source": [
    "df3"
   ]
  },
  {
   "cell_type": "code",
   "execution_count": 40,
   "id": "04290550",
   "metadata": {
    "scrolled": false
   },
   "outputs": [
    {
     "data": {
      "text/plain": [
       "A   -0.096084\n",
       "B    1.426706\n",
       "C   -0.532531\n",
       "Name: 3, dtype: float64"
      ]
     },
     "execution_count": 40,
     "metadata": {},
     "output_type": "execute_result"
    }
   ],
   "source": [
    "df3.iloc[2]  # por POSICION"
   ]
  },
  {
   "cell_type": "code",
   "execution_count": null,
   "id": "50cb002b",
   "metadata": {},
   "outputs": [],
   "source": [
    "#OJO no confundir labels con posicion numerica cuando el index esta \"nombrado\" con numeros que puse"
   ]
  },
  {
   "cell_type": "code",
   "execution_count": 41,
   "id": "dbdd8ebe",
   "metadata": {},
   "outputs": [
    {
     "data": {
      "text/plain": [
       "A    0.498271\n",
       "B   -0.003576\n",
       "C   -0.870396\n",
       "Name: 2, dtype: float64"
      ]
     },
     "execution_count": 41,
     "metadata": {},
     "output_type": "execute_result"
    }
   ],
   "source": [
    "df3.loc[2] # por LABEL"
   ]
  },
  {
   "cell_type": "markdown",
   "id": "d9bc15a2",
   "metadata": {},
   "source": [
    "Seleccionar una celda segun columna y fila "
   ]
  },
  {
   "cell_type": "code",
   "execution_count": 44,
   "id": "d822580f",
   "metadata": {
    "scrolled": true
   },
   "outputs": [
    {
     "data": {
      "text/plain": [
       "-0.003575698391213086"
      ]
     },
     "execution_count": 44,
     "metadata": {},
     "output_type": "execute_result"
    }
   ],
   "source": [
    "df3.loc[2,\"B\"] # [FILA,COLUMNA]"
   ]
  },
  {
   "cell_type": "code",
   "execution_count": 45,
   "id": "7dc88abd",
   "metadata": {
    "scrolled": true
   },
   "outputs": [
    {
     "data": {
      "text/html": [
       "<div>\n",
       "<style scoped>\n",
       "    .dataframe tbody tr th:only-of-type {\n",
       "        vertical-align: middle;\n",
       "    }\n",
       "\n",
       "    .dataframe tbody tr th {\n",
       "        vertical-align: top;\n",
       "    }\n",
       "\n",
       "    .dataframe thead th {\n",
       "        text-align: right;\n",
       "    }\n",
       "</style>\n",
       "<table border=\"1\" class=\"dataframe\">\n",
       "  <thead>\n",
       "    <tr style=\"text-align: right;\">\n",
       "      <th></th>\n",
       "      <th>A</th>\n",
       "      <th>C</th>\n",
       "    </tr>\n",
       "  </thead>\n",
       "  <tbody>\n",
       "    <tr>\n",
       "      <th>1</th>\n",
       "      <td>-0.659780</td>\n",
       "      <td>1.093536</td>\n",
       "    </tr>\n",
       "    <tr>\n",
       "      <th>3</th>\n",
       "      <td>-0.096084</td>\n",
       "      <td>-0.532531</td>\n",
       "    </tr>\n",
       "  </tbody>\n",
       "</table>\n",
       "</div>"
      ],
      "text/plain": [
       "          A         C\n",
       "1 -0.659780  1.093536\n",
       "3 -0.096084 -0.532531"
      ]
     },
     "execution_count": 45,
     "metadata": {},
     "output_type": "execute_result"
    }
   ],
   "source": [
    "#Otro tipo de combinacion\n",
    "\n",
    "df3.loc[ [1,3] , [\"A\",\"C\"] ] \n",
    "#df.loc[['FILA1','FILA2'],['COLUMNA1','COLUMNA2']] "
   ]
  },
  {
   "cell_type": "markdown",
   "id": "40f19fa7",
   "metadata": {},
   "source": [
    "Agregar o sacar filas, columnas. Hay forma permanente o temporal"
   ]
  },
  {
   "cell_type": "code",
   "execution_count": 56,
   "id": "7e4ecf64",
   "metadata": {},
   "outputs": [],
   "source": [
    "df['new'] = df['W'] + df['Y']"
   ]
  },
  {
   "cell_type": "code",
   "execution_count": 48,
   "id": "a3037aba",
   "metadata": {},
   "outputs": [
    {
     "data": {
      "text/html": [
       "<div>\n",
       "<style scoped>\n",
       "    .dataframe tbody tr th:only-of-type {\n",
       "        vertical-align: middle;\n",
       "    }\n",
       "\n",
       "    .dataframe tbody tr th {\n",
       "        vertical-align: top;\n",
       "    }\n",
       "\n",
       "    .dataframe thead th {\n",
       "        text-align: right;\n",
       "    }\n",
       "</style>\n",
       "<table border=\"1\" class=\"dataframe\">\n",
       "  <thead>\n",
       "    <tr style=\"text-align: right;\">\n",
       "      <th></th>\n",
       "      <th>W</th>\n",
       "      <th>X</th>\n",
       "      <th>Y</th>\n",
       "      <th>Z</th>\n",
       "    </tr>\n",
       "  </thead>\n",
       "  <tbody>\n",
       "    <tr>\n",
       "      <th>A</th>\n",
       "      <td>0.301502</td>\n",
       "      <td>-0.476877</td>\n",
       "      <td>1.924759</td>\n",
       "      <td>0.567711</td>\n",
       "    </tr>\n",
       "    <tr>\n",
       "      <th>B</th>\n",
       "      <td>1.637348</td>\n",
       "      <td>-1.720935</td>\n",
       "      <td>-2.319107</td>\n",
       "      <td>0.117153</td>\n",
       "    </tr>\n",
       "    <tr>\n",
       "      <th>C</th>\n",
       "      <td>-0.506544</td>\n",
       "      <td>0.382301</td>\n",
       "      <td>-0.532267</td>\n",
       "      <td>-0.822787</td>\n",
       "    </tr>\n",
       "    <tr>\n",
       "      <th>D</th>\n",
       "      <td>1.957181</td>\n",
       "      <td>1.277487</td>\n",
       "      <td>-0.452410</td>\n",
       "      <td>-0.795238</td>\n",
       "    </tr>\n",
       "    <tr>\n",
       "      <th>E</th>\n",
       "      <td>-0.412601</td>\n",
       "      <td>-0.540603</td>\n",
       "      <td>-0.852674</td>\n",
       "      <td>-2.009965</td>\n",
       "    </tr>\n",
       "  </tbody>\n",
       "</table>\n",
       "</div>"
      ],
      "text/plain": [
       "          W         X         Y         Z\n",
       "A  0.301502 -0.476877  1.924759  0.567711\n",
       "B  1.637348 -1.720935 -2.319107  0.117153\n",
       "C -0.506544  0.382301 -0.532267 -0.822787\n",
       "D  1.957181  1.277487 -0.452410 -0.795238\n",
       "E -0.412601 -0.540603 -0.852674 -2.009965"
      ]
     },
     "execution_count": 48,
     "metadata": {},
     "output_type": "execute_result"
    }
   ],
   "source": [
    "df.drop('new',axis=1)   #axis=0 refers to de INDEX, axis=1 refers to the COLUMS"
   ]
  },
  {
   "cell_type": "code",
   "execution_count": 57,
   "id": "d7719cd6",
   "metadata": {
    "scrolled": true
   },
   "outputs": [
    {
     "data": {
      "text/html": [
       "<div>\n",
       "<style scoped>\n",
       "    .dataframe tbody tr th:only-of-type {\n",
       "        vertical-align: middle;\n",
       "    }\n",
       "\n",
       "    .dataframe tbody tr th {\n",
       "        vertical-align: top;\n",
       "    }\n",
       "\n",
       "    .dataframe thead th {\n",
       "        text-align: right;\n",
       "    }\n",
       "</style>\n",
       "<table border=\"1\" class=\"dataframe\">\n",
       "  <thead>\n",
       "    <tr style=\"text-align: right;\">\n",
       "      <th></th>\n",
       "      <th>W</th>\n",
       "      <th>X</th>\n",
       "      <th>Y</th>\n",
       "      <th>Z</th>\n",
       "      <th>new</th>\n",
       "    </tr>\n",
       "  </thead>\n",
       "  <tbody>\n",
       "    <tr>\n",
       "      <th>A</th>\n",
       "      <td>0.301502</td>\n",
       "      <td>-0.476877</td>\n",
       "      <td>1.924759</td>\n",
       "      <td>0.567711</td>\n",
       "      <td>2.226262</td>\n",
       "    </tr>\n",
       "    <tr>\n",
       "      <th>B</th>\n",
       "      <td>1.637348</td>\n",
       "      <td>-1.720935</td>\n",
       "      <td>-2.319107</td>\n",
       "      <td>0.117153</td>\n",
       "      <td>-0.681759</td>\n",
       "    </tr>\n",
       "    <tr>\n",
       "      <th>C</th>\n",
       "      <td>-0.506544</td>\n",
       "      <td>0.382301</td>\n",
       "      <td>-0.532267</td>\n",
       "      <td>-0.822787</td>\n",
       "      <td>-1.038812</td>\n",
       "    </tr>\n",
       "    <tr>\n",
       "      <th>D</th>\n",
       "      <td>1.957181</td>\n",
       "      <td>1.277487</td>\n",
       "      <td>-0.452410</td>\n",
       "      <td>-0.795238</td>\n",
       "      <td>1.504771</td>\n",
       "    </tr>\n",
       "    <tr>\n",
       "      <th>E</th>\n",
       "      <td>-0.412601</td>\n",
       "      <td>-0.540603</td>\n",
       "      <td>-0.852674</td>\n",
       "      <td>-2.009965</td>\n",
       "      <td>-1.265275</td>\n",
       "    </tr>\n",
       "  </tbody>\n",
       "</table>\n",
       "</div>"
      ],
      "text/plain": [
       "          W         X         Y         Z       new\n",
       "A  0.301502 -0.476877  1.924759  0.567711  2.226262\n",
       "B  1.637348 -1.720935 -2.319107  0.117153 -0.681759\n",
       "C -0.506544  0.382301 -0.532267 -0.822787 -1.038812\n",
       "D  1.957181  1.277487 -0.452410 -0.795238  1.504771\n",
       "E -0.412601 -0.540603 -0.852674 -2.009965 -1.265275"
      ]
     },
     "execution_count": 57,
     "metadata": {},
     "output_type": "execute_result"
    }
   ],
   "source": [
    "# si llamo devuelta a df veo que new sigue ahi, es temporal, como una consulta\n",
    "df"
   ]
  },
  {
   "cell_type": "code",
   "execution_count": 58,
   "id": "7b502b2c",
   "metadata": {},
   "outputs": [],
   "source": [
    "df.drop('new',axis=1,inplace=True)  #for permanent change \"inplace=True\""
   ]
  },
  {
   "cell_type": "code",
   "execution_count": 59,
   "id": "c55f3d9b",
   "metadata": {},
   "outputs": [
    {
     "data": {
      "text/html": [
       "<div>\n",
       "<style scoped>\n",
       "    .dataframe tbody tr th:only-of-type {\n",
       "        vertical-align: middle;\n",
       "    }\n",
       "\n",
       "    .dataframe tbody tr th {\n",
       "        vertical-align: top;\n",
       "    }\n",
       "\n",
       "    .dataframe thead th {\n",
       "        text-align: right;\n",
       "    }\n",
       "</style>\n",
       "<table border=\"1\" class=\"dataframe\">\n",
       "  <thead>\n",
       "    <tr style=\"text-align: right;\">\n",
       "      <th></th>\n",
       "      <th>W</th>\n",
       "      <th>X</th>\n",
       "      <th>Y</th>\n",
       "      <th>Z</th>\n",
       "    </tr>\n",
       "  </thead>\n",
       "  <tbody>\n",
       "    <tr>\n",
       "      <th>A</th>\n",
       "      <td>0.301502</td>\n",
       "      <td>-0.476877</td>\n",
       "      <td>1.924759</td>\n",
       "      <td>0.567711</td>\n",
       "    </tr>\n",
       "    <tr>\n",
       "      <th>B</th>\n",
       "      <td>1.637348</td>\n",
       "      <td>-1.720935</td>\n",
       "      <td>-2.319107</td>\n",
       "      <td>0.117153</td>\n",
       "    </tr>\n",
       "    <tr>\n",
       "      <th>C</th>\n",
       "      <td>-0.506544</td>\n",
       "      <td>0.382301</td>\n",
       "      <td>-0.532267</td>\n",
       "      <td>-0.822787</td>\n",
       "    </tr>\n",
       "    <tr>\n",
       "      <th>D</th>\n",
       "      <td>1.957181</td>\n",
       "      <td>1.277487</td>\n",
       "      <td>-0.452410</td>\n",
       "      <td>-0.795238</td>\n",
       "    </tr>\n",
       "    <tr>\n",
       "      <th>E</th>\n",
       "      <td>-0.412601</td>\n",
       "      <td>-0.540603</td>\n",
       "      <td>-0.852674</td>\n",
       "      <td>-2.009965</td>\n",
       "    </tr>\n",
       "  </tbody>\n",
       "</table>\n",
       "</div>"
      ],
      "text/plain": [
       "          W         X         Y         Z\n",
       "A  0.301502 -0.476877  1.924759  0.567711\n",
       "B  1.637348 -1.720935 -2.319107  0.117153\n",
       "C -0.506544  0.382301 -0.532267 -0.822787\n",
       "D  1.957181  1.277487 -0.452410 -0.795238\n",
       "E -0.412601 -0.540603 -0.852674 -2.009965"
      ]
     },
     "execution_count": 59,
     "metadata": {},
     "output_type": "execute_result"
    }
   ],
   "source": [
    "df"
   ]
  }
 ],
 "metadata": {
  "kernelspec": {
   "display_name": "Python 3 (ipykernel)",
   "language": "python",
   "name": "python3"
  },
  "language_info": {
   "codemirror_mode": {
    "name": "ipython",
    "version": 3
   },
   "file_extension": ".py",
   "mimetype": "text/x-python",
   "name": "python",
   "nbconvert_exporter": "python",
   "pygments_lexer": "ipython3",
   "version": "3.9.12"
  }
 },
 "nbformat": 4,
 "nbformat_minor": 5
}
