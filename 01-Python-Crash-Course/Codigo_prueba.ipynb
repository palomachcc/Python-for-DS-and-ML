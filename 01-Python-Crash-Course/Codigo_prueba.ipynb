{
 "cells": [
  {
   "cell_type": "markdown",
   "id": "8f547f61",
   "metadata": {},
   "source": [
    "Codigo de pruebaaaaaa"
   ]
  },
  {
   "cell_type": "code",
   "execution_count": 3,
   "id": "4b174be8",
   "metadata": {},
   "outputs": [
    {
     "name": "stdout",
     "output_type": "stream",
     "text": [
      "5\n"
     ]
    }
   ],
   "source": [
    "dict=[0,1,2,3,4]\n",
    "for i in dict:\n",
    "    count= i + 1\n",
    "print (count)"
   ]
  },
  {
   "cell_type": "code",
   "execution_count": 4,
   "id": "2df33745",
   "metadata": {},
   "outputs": [
    {
     "name": "stdout",
     "output_type": "stream",
     "text": [
      "1\n",
      "2\n",
      "3\n",
      "4\n",
      "5\n",
      "final count is 5\n"
     ]
    }
   ],
   "source": [
    "dict=[0,1,2,3,4]\n",
    "for i in dict:\n",
    "    count= i + 1\n",
    "    print(count)\n",
    "print (\"final count is\",count)"
   ]
  },
  {
   "cell_type": "code",
   "execution_count": 5,
   "id": "2cbcb16f",
   "metadata": {},
   "outputs": [
    {
     "name": "stdout",
     "output_type": "stream",
     "text": [
      "5\n"
     ]
    }
   ],
   "source": [
    "dict=[0,1,2,3,4]\n",
    "for i in dict:\n",
    "    count= i + 1\n",
    "print (count)"
   ]
  },
  {
   "cell_type": "code",
   "execution_count": null,
   "id": "0ddda2a2",
   "metadata": {},
   "outputs": [],
   "source": []
  },
  {
   "cell_type": "markdown",
   "id": "cb00662f",
   "metadata": {},
   "source": [
    "# codigo de prueba\n",
    "    \n",
    "    *print(\"hola\")*\n",
    "\n"
   ]
  },
  {
   "cell_type": "markdown",
   "id": "7afd1341",
   "metadata": {},
   "source": [
    "LaTex "
   ]
  },
  {
   "cell_type": "code",
   "execution_count": null,
   "id": "e6f93c5f",
   "metadata": {},
   "outputs": [],
   "source": []
  }
 ],
 "metadata": {
  "kernelspec": {
   "display_name": "Python 3 (ipykernel)",
   "language": "python",
   "name": "python3"
  },
  "language_info": {
   "codemirror_mode": {
    "name": "ipython",
    "version": 3
   },
   "file_extension": ".py",
   "mimetype": "text/x-python",
   "name": "python",
   "nbconvert_exporter": "python",
   "pygments_lexer": "ipython3",
   "version": "3.9.12"
  }
 },
 "nbformat": 4,
 "nbformat_minor": 5
}
