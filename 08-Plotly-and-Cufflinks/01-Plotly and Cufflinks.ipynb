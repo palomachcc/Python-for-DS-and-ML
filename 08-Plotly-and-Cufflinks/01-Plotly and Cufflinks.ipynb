{
 "cells": [
  {
   "cell_type": "markdown",
   "metadata": {},
   "source": [
    "___\n",
    "\n",
    "<a href='http://www.pieriandata.com'> <img src='../Pierian_Data_Logo.png' /></a>\n",
    "___\n",
    "# Plotly and Cufflinks"
   ]
  },
  {
   "cell_type": "markdown",
   "metadata": {},
   "source": [
    "Plotly is a library that allows you to create interactive plots that you can use in dashboards or websites (you can save them as html files or static images).\n",
    "\n",
    "## Installation\n",
    "\n",
    "In order for this all to work, you'll need to install plotly and cufflinks to call plots directly off of a pandas dataframe. These libraries are not currently available through **conda** but are available through **pip**. Install the libraries at your command line/terminal using:\n",
    "\n",
    "    pip install plotly\n",
    "    pip install cufflinks\n",
    "\n",
    "** NOTE: Make sure you only have one installation of Python on your computer when you do this, otherwise the installation may not work. **\n",
    "\n",
    "## Imports and Set-up"
   ]
  },
  {
   "cell_type": "code",
   "execution_count": 1,
   "metadata": {},
   "outputs": [],
   "source": [
    "import pandas as pd\n",
    "import numpy as np\n",
    "%matplotlib inline"
   ]
  },
  {
   "cell_type": "code",
   "execution_count": 2,
   "metadata": {
    "scrolled": true
   },
   "outputs": [
    {
     "name": "stdout",
     "output_type": "stream",
     "text": [
      "5.6.0\n"
     ]
    }
   ],
   "source": [
    "from plotly import __version__\n",
    "#from plotly.offline import download_plotlyjs, init_notebook_mode, plot, iplot\n",
    "\n",
    "print(__version__) # requires version >= 1.9.0"
   ]
  },
  {
   "cell_type": "code",
   "execution_count": 4,
   "metadata": {},
   "outputs": [],
   "source": [
    "from plotly.offline import download_plotlyjs, init_notebook_mode, plot, iplot"
   ]
  },
  {
   "cell_type": "code",
   "execution_count": 3,
   "metadata": {},
   "outputs": [],
   "source": [
    "import cufflinks as cf"
   ]
  },
  {
   "cell_type": "code",
   "execution_count": 6,
   "metadata": {},
   "outputs": [
    {
     "data": {
      "text/html": [
       "        <script type=\"text/javascript\">\n",
       "        window.PlotlyConfig = {MathJaxConfig: 'local'};\n",
       "        if (window.MathJax) {MathJax.Hub.Config({SVG: {font: \"STIX-Web\"}});}\n",
       "        if (typeof require !== 'undefined') {\n",
       "        require.undef(\"plotly\");\n",
       "        requirejs.config({\n",
       "            paths: {\n",
       "                'plotly': ['https://cdn.plot.ly/plotly-2.9.0.min']\n",
       "            }\n",
       "        });\n",
       "        require(['plotly'], function(Plotly) {\n",
       "            window._Plotly = Plotly;\n",
       "        });\n",
       "        }\n",
       "        </script>\n",
       "        "
      ]
     },
     "metadata": {},
     "output_type": "display_data"
    }
   ],
   "source": [
    "# For Notebooks\n",
    "init_notebook_mode(connected=True) "
   ]
  },
  {
   "cell_type": "code",
   "execution_count": 7,
   "metadata": {},
   "outputs": [
    {
     "data": {
      "text/html": [
       "        <script type=\"text/javascript\">\n",
       "        window.PlotlyConfig = {MathJaxConfig: 'local'};\n",
       "        if (window.MathJax) {MathJax.Hub.Config({SVG: {font: \"STIX-Web\"}});}\n",
       "        if (typeof require !== 'undefined') {\n",
       "        require.undef(\"plotly\");\n",
       "        requirejs.config({\n",
       "            paths: {\n",
       "                'plotly': ['https://cdn.plot.ly/plotly-2.9.0.min']\n",
       "            }\n",
       "        });\n",
       "        require(['plotly'], function(Plotly) {\n",
       "            window._Plotly = Plotly;\n",
       "        });\n",
       "        }\n",
       "        </script>\n",
       "        "
      ]
     },
     "metadata": {},
     "output_type": "display_data"
    }
   ],
   "source": [
    "# For offline use\n",
    "cf.go_offline()"
   ]
  },
  {
   "cell_type": "markdown",
   "metadata": {},
   "source": [
    "### Fake Data"
   ]
  },
  {
   "cell_type": "code",
   "execution_count": 8,
   "metadata": {},
   "outputs": [],
   "source": [
    "df = pd.DataFrame(np.random.randn(100,4),columns='A B C D'.split())"
   ]
  },
  {
   "cell_type": "code",
   "execution_count": 22,
   "metadata": {},
   "outputs": [
    {
     "data": {
      "text/html": [
       "<div>\n",
       "<table border=\"1\" class=\"dataframe\">\n",
       "  <thead>\n",
       "    <tr style=\"text-align: right;\">\n",
       "      <th></th>\n",
       "      <th>A</th>\n",
       "      <th>B</th>\n",
       "      <th>C</th>\n",
       "      <th>D</th>\n",
       "    </tr>\n",
       "  </thead>\n",
       "  <tbody>\n",
       "    <tr>\n",
       "      <th>0</th>\n",
       "      <td>1.878725</td>\n",
       "      <td>0.688719</td>\n",
       "      <td>1.066733</td>\n",
       "      <td>0.543956</td>\n",
       "    </tr>\n",
       "    <tr>\n",
       "      <th>1</th>\n",
       "      <td>0.028734</td>\n",
       "      <td>0.104054</td>\n",
       "      <td>0.048176</td>\n",
       "      <td>1.842188</td>\n",
       "    </tr>\n",
       "    <tr>\n",
       "      <th>2</th>\n",
       "      <td>-0.158793</td>\n",
       "      <td>0.387926</td>\n",
       "      <td>-0.635371</td>\n",
       "      <td>-0.637558</td>\n",
       "    </tr>\n",
       "    <tr>\n",
       "      <th>3</th>\n",
       "      <td>-1.221972</td>\n",
       "      <td>1.393423</td>\n",
       "      <td>-0.299794</td>\n",
       "      <td>-1.113622</td>\n",
       "    </tr>\n",
       "    <tr>\n",
       "      <th>4</th>\n",
       "      <td>1.253152</td>\n",
       "      <td>-0.537598</td>\n",
       "      <td>0.302917</td>\n",
       "      <td>-2.546083</td>\n",
       "    </tr>\n",
       "  </tbody>\n",
       "</table>\n",
       "</div>"
      ],
      "text/plain": [
       "          A         B         C         D\n",
       "0  1.878725  0.688719  1.066733  0.543956\n",
       "1  0.028734  0.104054  0.048176  1.842188\n",
       "2 -0.158793  0.387926 -0.635371 -0.637558\n",
       "3 -1.221972  1.393423 -0.299794 -1.113622\n",
       "4  1.253152 -0.537598  0.302917 -2.546083"
      ]
     },
     "execution_count": 22,
     "metadata": {},
     "output_type": "execute_result"
    }
   ],
   "source": [
    "df.head()"
   ]
  },
  {
   "cell_type": "code",
   "execution_count": 9,
   "metadata": {},
   "outputs": [],
   "source": [
    "df2 = pd.DataFrame({'Category':['A','B','C'],'Values':[32,43,50]})"
   ]
  },
  {
   "cell_type": "code",
   "execution_count": 40,
   "metadata": {},
   "outputs": [
    {
     "data": {
      "text/html": [
       "<div>\n",
       "<table border=\"1\" class=\"dataframe\">\n",
       "  <thead>\n",
       "    <tr style=\"text-align: right;\">\n",
       "      <th></th>\n",
       "      <th>Category</th>\n",
       "      <th>Values</th>\n",
       "    </tr>\n",
       "  </thead>\n",
       "  <tbody>\n",
       "    <tr>\n",
       "      <th>0</th>\n",
       "      <td>A</td>\n",
       "      <td>32</td>\n",
       "    </tr>\n",
       "    <tr>\n",
       "      <th>1</th>\n",
       "      <td>B</td>\n",
       "      <td>43</td>\n",
       "    </tr>\n",
       "    <tr>\n",
       "      <th>2</th>\n",
       "      <td>C</td>\n",
       "      <td>50</td>\n",
       "    </tr>\n",
       "  </tbody>\n",
       "</table>\n",
       "</div>"
      ],
      "text/plain": [
       "  Category  Values\n",
       "0        A      32\n",
       "1        B      43\n",
       "2        C      50"
      ]
     },
     "execution_count": 40,
     "metadata": {},
     "output_type": "execute_result"
    }
   ],
   "source": [
    "df2.head()"
   ]
  },
  {
   "cell_type": "markdown",
   "metadata": {},
   "source": [
    "## Using Cufflinks and iplot()\n",
    "\n",
    "* scatter\n",
    "* bar\n",
    "* box\n",
    "* spread\n",
    "* ratio\n",
    "* heatmap\n",
    "* surface\n",
    "* histogram\n",
    "* bubble"
   ]
  },
  {
   "cell_type": "markdown",
   "metadata": {},
   "source": [
    "## Scatter"
   ]
  },
  {
   "cell_type": "code",
   "execution_count": 10,
   "metadata": {},
   "outputs": [
    {
     "data": {
      "application/vnd.plotly.v1+json": {
       "config": {
        "linkText": "Export to plot.ly",
        "plotlyServerURL": "https://plot.ly",
        "showLink": true
       },
       "data": [
        {
         "line": {
          "color": "rgba(255, 153, 51, 1.0)",
          "dash": "solid",
          "shape": "linear",
          "width": 1.3
         },
         "marker": {
          "size": 10,
          "symbol": "circle"
         },
         "mode": "markers",
         "name": "B",
         "text": "",
         "type": "scatter",
         "x": [
          1.621784997721568,
          -0.41366034592813133,
          0.1703499631587245,
          -1.1920692972460996,
          1.490540900725984,
          -0.057932056600882395,
          1.9493212915706266,
          -1.2133489775891626,
          -1.0171927857273269,
          -0.8748618841330696,
          -0.19903180545332752,
          1.847526392833172,
          -0.2758818988849343,
          0.17071171785641004,
          0.24112433897690283,
          -1.0364302350178969,
          -0.8704374048875894,
          0.11878631382799285,
          0.5524041774833329,
          0.4112892963529475,
          -0.20274718423037727,
          -0.1461750034500728,
          0.3938150717043993,
          1.013168990337693,
          1.1587377671220014,
          -0.07891110920131336,
          0.19674715852663466,
          -0.5137254496290548,
          -1.3594253212057925,
          0.7768929577215199,
          0.6932876094382373,
          0.1484716481867066,
          2.141638801331524,
          -0.6084944312615944,
          0.12650327275946432,
          0.32470093884566403,
          1.4432404036386661,
          0.5217947714925911,
          -1.0688444844738667,
          1.089135815260983,
          -0.29998118456619116,
          1.0273537271019182,
          0.33014992958416733,
          0.586781806816406,
          -1.6649854938580066,
          -0.39329069469733646,
          -0.8237723532130063,
          0.4796787729400577,
          -0.3700012746496557,
          -0.13284150565306116,
          -1.1415402494783435,
          0.4020235767439107,
          -0.06843544392719376,
          -1.605258168642368,
          0.3923808704859432,
          -1.6020304450352683,
          1.0229879340680732,
          -0.4716385035017622,
          -0.3026686970378709,
          0.23121824625826157,
          0.7941197295728922,
          0.2078528949337184,
          -0.05314850978774376,
          1.091414986451456,
          -0.23054064816857944,
          0.12287026554946075,
          -1.7032966482057637,
          -0.5607482142252319,
          -0.4070160127155237,
          0.2911341229123403,
          -1.3376367352973613,
          2.471298182591257,
          -1.4273438012656001,
          -0.9644104778552279,
          0.7529486000501481,
          0.9160977380939834,
          -1.3222788380506154,
          0.07158314746484597,
          1.7485767845451123,
          2.159357303646926,
          -2.4804194984392924,
          -1.423385099276626,
          -1.456924292494143,
          0.09113542169714114,
          -0.8048108696952876,
          -0.27162322444491255,
          0.1389955219980199,
          0.2236833151602733,
          -1.0924382534322106,
          -1.0804917489162433,
          1.4912408101051184,
          0.18322793537716855,
          1.3056813227817263,
          1.9582872537903173,
          -1.3558255227600555,
          -1.5599278170781556,
          0.05322385578051336,
          0.2884950550162606,
          0.48473933084086995,
          -1.1138289966447266
         ],
         "y": [
          1.0464563135578546,
          -3.0632225880848103,
          0.7347392981478813,
          -0.4260768015024099,
          0.96632800431009,
          1.2259616492672805,
          -0.3898324536994116,
          -1.3347108635827836,
          0.05850423362368821,
          -0.4564072432013887,
          -0.15724725260979047,
          -1.0977125535217649,
          -1.665999133255654,
          -0.21072539560613976,
          0.7962219185478997,
          -1.288845173225243,
          1.564273626180649,
          -0.11076177080563634,
          0.8491023364744843,
          0.9853140925690016,
          0.6952633578875285,
          -0.5600769380847198,
          -0.19660318900246418,
          -0.6629276497584601,
          -1.3095091871088107,
          1.9410326677104206,
          -0.1989245390276827,
          -0.7713841078744924,
          0.552871220815854,
          -0.8537682860036248,
          -1.4949821204592284,
          0.2732931186024205,
          0.3180571929056187,
          -0.837676117557035,
          0.04896750587297655,
          0.12963765216194872,
          1.4307678743993686,
          -0.42045979023879326,
          -1.9952224416416797,
          -0.5346484174600119,
          -0.204811204865994,
          0.5420650487257817,
          0.4503872326298657,
          0.35425475395255546,
          0.5098829247281865,
          0.34922028677025024,
          -0.7712388190084934,
          1.2298158269216979,
          0.1733960637726265,
          0.3126798756781296,
          0.19876210807019104,
          1.0582434500911917,
          -1.6849847277255832,
          -0.10124840186809116,
          -0.23032439763298906,
          1.6930993305863318,
          -0.5503621073120089,
          1.120459574282658,
          -0.5427843412382684,
          -0.5993572950007119,
          0.39726633886579293,
          -0.465487493410192,
          -0.3432593210298152,
          -0.38337663937759575,
          -1.140292528148463,
          -0.8325557987264668,
          1.6304602355112843,
          1.284431606320553,
          -0.012042543937797351,
          1.6039192046856627,
          -0.5404995606983964,
          1.4255305799121059,
          -0.7118064004521089,
          1.9924921540827385,
          2.3583690017492733,
          1.467961164888937,
          0.6915606738845025,
          -1.7905203549323134,
          0.9946791497816215,
          0.40474624180499874,
          -0.861893923994319,
          -2.102546055137808,
          -0.7677543614787729,
          0.12425845837419648,
          -0.8931963800510369,
          -0.9950165747531337,
          0.9757275360573655,
          -0.2788829177616858,
          0.9797543092857613,
          -0.49850385133220226,
          0.14271820497733537,
          0.03975498644747681,
          0.7118652256934209,
          0.8906588179631437,
          -0.6197301677060046,
          -1.201610403980832,
          2.4617261927462804,
          1.0102652057417734,
          -1.0027608010524207,
          -1.935435639286333
         ]
        }
       ],
       "layout": {
        "legend": {
         "bgcolor": "#F5F6F9",
         "font": {
          "color": "#4D5663"
         }
        },
        "paper_bgcolor": "#F5F6F9",
        "plot_bgcolor": "#F5F6F9",
        "template": {
         "data": {
          "bar": [
           {
            "error_x": {
             "color": "#2a3f5f"
            },
            "error_y": {
             "color": "#2a3f5f"
            },
            "marker": {
             "line": {
              "color": "#E5ECF6",
              "width": 0.5
             },
             "pattern": {
              "fillmode": "overlay",
              "size": 10,
              "solidity": 0.2
             }
            },
            "type": "bar"
           }
          ],
          "barpolar": [
           {
            "marker": {
             "line": {
              "color": "#E5ECF6",
              "width": 0.5
             },
             "pattern": {
              "fillmode": "overlay",
              "size": 10,
              "solidity": 0.2
             }
            },
            "type": "barpolar"
           }
          ],
          "carpet": [
           {
            "aaxis": {
             "endlinecolor": "#2a3f5f",
             "gridcolor": "white",
             "linecolor": "white",
             "minorgridcolor": "white",
             "startlinecolor": "#2a3f5f"
            },
            "baxis": {
             "endlinecolor": "#2a3f5f",
             "gridcolor": "white",
             "linecolor": "white",
             "minorgridcolor": "white",
             "startlinecolor": "#2a3f5f"
            },
            "type": "carpet"
           }
          ],
          "choropleth": [
           {
            "colorbar": {
             "outlinewidth": 0,
             "ticks": ""
            },
            "type": "choropleth"
           }
          ],
          "contour": [
           {
            "colorbar": {
             "outlinewidth": 0,
             "ticks": ""
            },
            "colorscale": [
             [
              0,
              "#0d0887"
             ],
             [
              0.1111111111111111,
              "#46039f"
             ],
             [
              0.2222222222222222,
              "#7201a8"
             ],
             [
              0.3333333333333333,
              "#9c179e"
             ],
             [
              0.4444444444444444,
              "#bd3786"
             ],
             [
              0.5555555555555556,
              "#d8576b"
             ],
             [
              0.6666666666666666,
              "#ed7953"
             ],
             [
              0.7777777777777778,
              "#fb9f3a"
             ],
             [
              0.8888888888888888,
              "#fdca26"
             ],
             [
              1,
              "#f0f921"
             ]
            ],
            "type": "contour"
           }
          ],
          "contourcarpet": [
           {
            "colorbar": {
             "outlinewidth": 0,
             "ticks": ""
            },
            "type": "contourcarpet"
           }
          ],
          "heatmap": [
           {
            "colorbar": {
             "outlinewidth": 0,
             "ticks": ""
            },
            "colorscale": [
             [
              0,
              "#0d0887"
             ],
             [
              0.1111111111111111,
              "#46039f"
             ],
             [
              0.2222222222222222,
              "#7201a8"
             ],
             [
              0.3333333333333333,
              "#9c179e"
             ],
             [
              0.4444444444444444,
              "#bd3786"
             ],
             [
              0.5555555555555556,
              "#d8576b"
             ],
             [
              0.6666666666666666,
              "#ed7953"
             ],
             [
              0.7777777777777778,
              "#fb9f3a"
             ],
             [
              0.8888888888888888,
              "#fdca26"
             ],
             [
              1,
              "#f0f921"
             ]
            ],
            "type": "heatmap"
           }
          ],
          "heatmapgl": [
           {
            "colorbar": {
             "outlinewidth": 0,
             "ticks": ""
            },
            "colorscale": [
             [
              0,
              "#0d0887"
             ],
             [
              0.1111111111111111,
              "#46039f"
             ],
             [
              0.2222222222222222,
              "#7201a8"
             ],
             [
              0.3333333333333333,
              "#9c179e"
             ],
             [
              0.4444444444444444,
              "#bd3786"
             ],
             [
              0.5555555555555556,
              "#d8576b"
             ],
             [
              0.6666666666666666,
              "#ed7953"
             ],
             [
              0.7777777777777778,
              "#fb9f3a"
             ],
             [
              0.8888888888888888,
              "#fdca26"
             ],
             [
              1,
              "#f0f921"
             ]
            ],
            "type": "heatmapgl"
           }
          ],
          "histogram": [
           {
            "marker": {
             "pattern": {
              "fillmode": "overlay",
              "size": 10,
              "solidity": 0.2
             }
            },
            "type": "histogram"
           }
          ],
          "histogram2d": [
           {
            "colorbar": {
             "outlinewidth": 0,
             "ticks": ""
            },
            "colorscale": [
             [
              0,
              "#0d0887"
             ],
             [
              0.1111111111111111,
              "#46039f"
             ],
             [
              0.2222222222222222,
              "#7201a8"
             ],
             [
              0.3333333333333333,
              "#9c179e"
             ],
             [
              0.4444444444444444,
              "#bd3786"
             ],
             [
              0.5555555555555556,
              "#d8576b"
             ],
             [
              0.6666666666666666,
              "#ed7953"
             ],
             [
              0.7777777777777778,
              "#fb9f3a"
             ],
             [
              0.8888888888888888,
              "#fdca26"
             ],
             [
              1,
              "#f0f921"
             ]
            ],
            "type": "histogram2d"
           }
          ],
          "histogram2dcontour": [
           {
            "colorbar": {
             "outlinewidth": 0,
             "ticks": ""
            },
            "colorscale": [
             [
              0,
              "#0d0887"
             ],
             [
              0.1111111111111111,
              "#46039f"
             ],
             [
              0.2222222222222222,
              "#7201a8"
             ],
             [
              0.3333333333333333,
              "#9c179e"
             ],
             [
              0.4444444444444444,
              "#bd3786"
             ],
             [
              0.5555555555555556,
              "#d8576b"
             ],
             [
              0.6666666666666666,
              "#ed7953"
             ],
             [
              0.7777777777777778,
              "#fb9f3a"
             ],
             [
              0.8888888888888888,
              "#fdca26"
             ],
             [
              1,
              "#f0f921"
             ]
            ],
            "type": "histogram2dcontour"
           }
          ],
          "mesh3d": [
           {
            "colorbar": {
             "outlinewidth": 0,
             "ticks": ""
            },
            "type": "mesh3d"
           }
          ],
          "parcoords": [
           {
            "line": {
             "colorbar": {
              "outlinewidth": 0,
              "ticks": ""
             }
            },
            "type": "parcoords"
           }
          ],
          "pie": [
           {
            "automargin": true,
            "type": "pie"
           }
          ],
          "scatter": [
           {
            "marker": {
             "colorbar": {
              "outlinewidth": 0,
              "ticks": ""
             }
            },
            "type": "scatter"
           }
          ],
          "scatter3d": [
           {
            "line": {
             "colorbar": {
              "outlinewidth": 0,
              "ticks": ""
             }
            },
            "marker": {
             "colorbar": {
              "outlinewidth": 0,
              "ticks": ""
             }
            },
            "type": "scatter3d"
           }
          ],
          "scattercarpet": [
           {
            "marker": {
             "colorbar": {
              "outlinewidth": 0,
              "ticks": ""
             }
            },
            "type": "scattercarpet"
           }
          ],
          "scattergeo": [
           {
            "marker": {
             "colorbar": {
              "outlinewidth": 0,
              "ticks": ""
             }
            },
            "type": "scattergeo"
           }
          ],
          "scattergl": [
           {
            "marker": {
             "colorbar": {
              "outlinewidth": 0,
              "ticks": ""
             }
            },
            "type": "scattergl"
           }
          ],
          "scattermapbox": [
           {
            "marker": {
             "colorbar": {
              "outlinewidth": 0,
              "ticks": ""
             }
            },
            "type": "scattermapbox"
           }
          ],
          "scatterpolar": [
           {
            "marker": {
             "colorbar": {
              "outlinewidth": 0,
              "ticks": ""
             }
            },
            "type": "scatterpolar"
           }
          ],
          "scatterpolargl": [
           {
            "marker": {
             "colorbar": {
              "outlinewidth": 0,
              "ticks": ""
             }
            },
            "type": "scatterpolargl"
           }
          ],
          "scatterternary": [
           {
            "marker": {
             "colorbar": {
              "outlinewidth": 0,
              "ticks": ""
             }
            },
            "type": "scatterternary"
           }
          ],
          "surface": [
           {
            "colorbar": {
             "outlinewidth": 0,
             "ticks": ""
            },
            "colorscale": [
             [
              0,
              "#0d0887"
             ],
             [
              0.1111111111111111,
              "#46039f"
             ],
             [
              0.2222222222222222,
              "#7201a8"
             ],
             [
              0.3333333333333333,
              "#9c179e"
             ],
             [
              0.4444444444444444,
              "#bd3786"
             ],
             [
              0.5555555555555556,
              "#d8576b"
             ],
             [
              0.6666666666666666,
              "#ed7953"
             ],
             [
              0.7777777777777778,
              "#fb9f3a"
             ],
             [
              0.8888888888888888,
              "#fdca26"
             ],
             [
              1,
              "#f0f921"
             ]
            ],
            "type": "surface"
           }
          ],
          "table": [
           {
            "cells": {
             "fill": {
              "color": "#EBF0F8"
             },
             "line": {
              "color": "white"
             }
            },
            "header": {
             "fill": {
              "color": "#C8D4E3"
             },
             "line": {
              "color": "white"
             }
            },
            "type": "table"
           }
          ]
         },
         "layout": {
          "annotationdefaults": {
           "arrowcolor": "#2a3f5f",
           "arrowhead": 0,
           "arrowwidth": 1
          },
          "autotypenumbers": "strict",
          "coloraxis": {
           "colorbar": {
            "outlinewidth": 0,
            "ticks": ""
           }
          },
          "colorscale": {
           "diverging": [
            [
             0,
             "#8e0152"
            ],
            [
             0.1,
             "#c51b7d"
            ],
            [
             0.2,
             "#de77ae"
            ],
            [
             0.3,
             "#f1b6da"
            ],
            [
             0.4,
             "#fde0ef"
            ],
            [
             0.5,
             "#f7f7f7"
            ],
            [
             0.6,
             "#e6f5d0"
            ],
            [
             0.7,
             "#b8e186"
            ],
            [
             0.8,
             "#7fbc41"
            ],
            [
             0.9,
             "#4d9221"
            ],
            [
             1,
             "#276419"
            ]
           ],
           "sequential": [
            [
             0,
             "#0d0887"
            ],
            [
             0.1111111111111111,
             "#46039f"
            ],
            [
             0.2222222222222222,
             "#7201a8"
            ],
            [
             0.3333333333333333,
             "#9c179e"
            ],
            [
             0.4444444444444444,
             "#bd3786"
            ],
            [
             0.5555555555555556,
             "#d8576b"
            ],
            [
             0.6666666666666666,
             "#ed7953"
            ],
            [
             0.7777777777777778,
             "#fb9f3a"
            ],
            [
             0.8888888888888888,
             "#fdca26"
            ],
            [
             1,
             "#f0f921"
            ]
           ],
           "sequentialminus": [
            [
             0,
             "#0d0887"
            ],
            [
             0.1111111111111111,
             "#46039f"
            ],
            [
             0.2222222222222222,
             "#7201a8"
            ],
            [
             0.3333333333333333,
             "#9c179e"
            ],
            [
             0.4444444444444444,
             "#bd3786"
            ],
            [
             0.5555555555555556,
             "#d8576b"
            ],
            [
             0.6666666666666666,
             "#ed7953"
            ],
            [
             0.7777777777777778,
             "#fb9f3a"
            ],
            [
             0.8888888888888888,
             "#fdca26"
            ],
            [
             1,
             "#f0f921"
            ]
           ]
          },
          "colorway": [
           "#636efa",
           "#EF553B",
           "#00cc96",
           "#ab63fa",
           "#FFA15A",
           "#19d3f3",
           "#FF6692",
           "#B6E880",
           "#FF97FF",
           "#FECB52"
          ],
          "font": {
           "color": "#2a3f5f"
          },
          "geo": {
           "bgcolor": "white",
           "lakecolor": "white",
           "landcolor": "#E5ECF6",
           "showlakes": true,
           "showland": true,
           "subunitcolor": "white"
          },
          "hoverlabel": {
           "align": "left"
          },
          "hovermode": "closest",
          "mapbox": {
           "style": "light"
          },
          "paper_bgcolor": "white",
          "plot_bgcolor": "#E5ECF6",
          "polar": {
           "angularaxis": {
            "gridcolor": "white",
            "linecolor": "white",
            "ticks": ""
           },
           "bgcolor": "#E5ECF6",
           "radialaxis": {
            "gridcolor": "white",
            "linecolor": "white",
            "ticks": ""
           }
          },
          "scene": {
           "xaxis": {
            "backgroundcolor": "#E5ECF6",
            "gridcolor": "white",
            "gridwidth": 2,
            "linecolor": "white",
            "showbackground": true,
            "ticks": "",
            "zerolinecolor": "white"
           },
           "yaxis": {
            "backgroundcolor": "#E5ECF6",
            "gridcolor": "white",
            "gridwidth": 2,
            "linecolor": "white",
            "showbackground": true,
            "ticks": "",
            "zerolinecolor": "white"
           },
           "zaxis": {
            "backgroundcolor": "#E5ECF6",
            "gridcolor": "white",
            "gridwidth": 2,
            "linecolor": "white",
            "showbackground": true,
            "ticks": "",
            "zerolinecolor": "white"
           }
          },
          "shapedefaults": {
           "line": {
            "color": "#2a3f5f"
           }
          },
          "ternary": {
           "aaxis": {
            "gridcolor": "white",
            "linecolor": "white",
            "ticks": ""
           },
           "baxis": {
            "gridcolor": "white",
            "linecolor": "white",
            "ticks": ""
           },
           "bgcolor": "#E5ECF6",
           "caxis": {
            "gridcolor": "white",
            "linecolor": "white",
            "ticks": ""
           }
          },
          "title": {
           "x": 0.05
          },
          "xaxis": {
           "automargin": true,
           "gridcolor": "white",
           "linecolor": "white",
           "ticks": "",
           "title": {
            "standoff": 15
           },
           "zerolinecolor": "white",
           "zerolinewidth": 2
          },
          "yaxis": {
           "automargin": true,
           "gridcolor": "white",
           "linecolor": "white",
           "ticks": "",
           "title": {
            "standoff": 15
           },
           "zerolinecolor": "white",
           "zerolinewidth": 2
          }
         }
        },
        "title": {
         "font": {
          "color": "#4D5663"
         }
        },
        "xaxis": {
         "gridcolor": "#E1E5ED",
         "showgrid": true,
         "tickfont": {
          "color": "#4D5663"
         },
         "title": {
          "font": {
           "color": "#4D5663"
          },
          "text": ""
         },
         "zerolinecolor": "#E1E5ED"
        },
        "yaxis": {
         "gridcolor": "#E1E5ED",
         "showgrid": true,
         "tickfont": {
          "color": "#4D5663"
         },
         "title": {
          "font": {
           "color": "#4D5663"
          },
          "text": ""
         },
         "zerolinecolor": "#E1E5ED"
        }
       }
      },
      "text/html": [
       "<div>                            <div id=\"61a1c664-83af-4e03-967e-5b31437c22f7\" class=\"plotly-graph-div\" style=\"height:525px; width:100%;\"></div>            <script type=\"text/javascript\">                require([\"plotly\"], function(Plotly) {                    window.PLOTLYENV=window.PLOTLYENV || {};\n",
       "                    window.PLOTLYENV.BASE_URL='https://plot.ly';                                    if (document.getElementById(\"61a1c664-83af-4e03-967e-5b31437c22f7\")) {                    Plotly.newPlot(                        \"61a1c664-83af-4e03-967e-5b31437c22f7\",                        [{\"line\":{\"color\":\"rgba(255, 153, 51, 1.0)\",\"dash\":\"solid\",\"shape\":\"linear\",\"width\":1.3},\"marker\":{\"size\":10,\"symbol\":\"circle\"},\"mode\":\"markers\",\"name\":\"B\",\"text\":\"\",\"x\":[1.621784997721568,-0.41366034592813133,0.1703499631587245,-1.1920692972460996,1.490540900725984,-0.057932056600882395,1.9493212915706266,-1.2133489775891626,-1.0171927857273269,-0.8748618841330696,-0.19903180545332752,1.847526392833172,-0.2758818988849343,0.17071171785641004,0.24112433897690283,-1.0364302350178969,-0.8704374048875894,0.11878631382799285,0.5524041774833329,0.4112892963529475,-0.20274718423037727,-0.1461750034500728,0.3938150717043993,1.013168990337693,1.1587377671220014,-0.07891110920131336,0.19674715852663466,-0.5137254496290548,-1.3594253212057925,0.7768929577215199,0.6932876094382373,0.1484716481867066,2.141638801331524,-0.6084944312615944,0.12650327275946432,0.32470093884566403,1.4432404036386661,0.5217947714925911,-1.0688444844738667,1.089135815260983,-0.29998118456619116,1.0273537271019182,0.33014992958416733,0.586781806816406,-1.6649854938580066,-0.39329069469733646,-0.8237723532130063,0.4796787729400577,-0.3700012746496557,-0.13284150565306116,-1.1415402494783435,0.4020235767439107,-0.06843544392719376,-1.605258168642368,0.3923808704859432,-1.6020304450352683,1.0229879340680732,-0.4716385035017622,-0.3026686970378709,0.23121824625826157,0.7941197295728922,0.2078528949337184,-0.05314850978774376,1.091414986451456,-0.23054064816857944,0.12287026554946075,-1.7032966482057637,-0.5607482142252319,-0.4070160127155237,0.2911341229123403,-1.3376367352973613,2.471298182591257,-1.4273438012656001,-0.9644104778552279,0.7529486000501481,0.9160977380939834,-1.3222788380506154,0.07158314746484597,1.7485767845451123,2.159357303646926,-2.4804194984392924,-1.423385099276626,-1.456924292494143,0.09113542169714114,-0.8048108696952876,-0.27162322444491255,0.1389955219980199,0.2236833151602733,-1.0924382534322106,-1.0804917489162433,1.4912408101051184,0.18322793537716855,1.3056813227817263,1.9582872537903173,-1.3558255227600555,-1.5599278170781556,0.05322385578051336,0.2884950550162606,0.48473933084086995,-1.1138289966447266],\"y\":[1.0464563135578546,-3.0632225880848103,0.7347392981478813,-0.4260768015024099,0.96632800431009,1.2259616492672805,-0.3898324536994116,-1.3347108635827836,0.05850423362368821,-0.4564072432013887,-0.15724725260979047,-1.0977125535217649,-1.665999133255654,-0.21072539560613976,0.7962219185478997,-1.288845173225243,1.564273626180649,-0.11076177080563634,0.8491023364744843,0.9853140925690016,0.6952633578875285,-0.5600769380847198,-0.19660318900246418,-0.6629276497584601,-1.3095091871088107,1.9410326677104206,-0.1989245390276827,-0.7713841078744924,0.552871220815854,-0.8537682860036248,-1.4949821204592284,0.2732931186024205,0.3180571929056187,-0.837676117557035,0.04896750587297655,0.12963765216194872,1.4307678743993686,-0.42045979023879326,-1.9952224416416797,-0.5346484174600119,-0.204811204865994,0.5420650487257817,0.4503872326298657,0.35425475395255546,0.5098829247281865,0.34922028677025024,-0.7712388190084934,1.2298158269216979,0.1733960637726265,0.3126798756781296,0.19876210807019104,1.0582434500911917,-1.6849847277255832,-0.10124840186809116,-0.23032439763298906,1.6930993305863318,-0.5503621073120089,1.120459574282658,-0.5427843412382684,-0.5993572950007119,0.39726633886579293,-0.465487493410192,-0.3432593210298152,-0.38337663937759575,-1.140292528148463,-0.8325557987264668,1.6304602355112843,1.284431606320553,-0.012042543937797351,1.6039192046856627,-0.5404995606983964,1.4255305799121059,-0.7118064004521089,1.9924921540827385,2.3583690017492733,1.467961164888937,0.6915606738845025,-1.7905203549323134,0.9946791497816215,0.40474624180499874,-0.861893923994319,-2.102546055137808,-0.7677543614787729,0.12425845837419648,-0.8931963800510369,-0.9950165747531337,0.9757275360573655,-0.2788829177616858,0.9797543092857613,-0.49850385133220226,0.14271820497733537,0.03975498644747681,0.7118652256934209,0.8906588179631437,-0.6197301677060046,-1.201610403980832,2.4617261927462804,1.0102652057417734,-1.0027608010524207,-1.935435639286333],\"type\":\"scatter\"}],                        {\"legend\":{\"bgcolor\":\"#F5F6F9\",\"font\":{\"color\":\"#4D5663\"}},\"paper_bgcolor\":\"#F5F6F9\",\"plot_bgcolor\":\"#F5F6F9\",\"template\":{\"data\":{\"barpolar\":[{\"marker\":{\"line\":{\"color\":\"#E5ECF6\",\"width\":0.5},\"pattern\":{\"fillmode\":\"overlay\",\"size\":10,\"solidity\":0.2}},\"type\":\"barpolar\"}],\"bar\":[{\"error_x\":{\"color\":\"#2a3f5f\"},\"error_y\":{\"color\":\"#2a3f5f\"},\"marker\":{\"line\":{\"color\":\"#E5ECF6\",\"width\":0.5},\"pattern\":{\"fillmode\":\"overlay\",\"size\":10,\"solidity\":0.2}},\"type\":\"bar\"}],\"carpet\":[{\"aaxis\":{\"endlinecolor\":\"#2a3f5f\",\"gridcolor\":\"white\",\"linecolor\":\"white\",\"minorgridcolor\":\"white\",\"startlinecolor\":\"#2a3f5f\"},\"baxis\":{\"endlinecolor\":\"#2a3f5f\",\"gridcolor\":\"white\",\"linecolor\":\"white\",\"minorgridcolor\":\"white\",\"startlinecolor\":\"#2a3f5f\"},\"type\":\"carpet\"}],\"choropleth\":[{\"colorbar\":{\"outlinewidth\":0,\"ticks\":\"\"},\"type\":\"choropleth\"}],\"contourcarpet\":[{\"colorbar\":{\"outlinewidth\":0,\"ticks\":\"\"},\"type\":\"contourcarpet\"}],\"contour\":[{\"colorbar\":{\"outlinewidth\":0,\"ticks\":\"\"},\"colorscale\":[[0.0,\"#0d0887\"],[0.1111111111111111,\"#46039f\"],[0.2222222222222222,\"#7201a8\"],[0.3333333333333333,\"#9c179e\"],[0.4444444444444444,\"#bd3786\"],[0.5555555555555556,\"#d8576b\"],[0.6666666666666666,\"#ed7953\"],[0.7777777777777778,\"#fb9f3a\"],[0.8888888888888888,\"#fdca26\"],[1.0,\"#f0f921\"]],\"type\":\"contour\"}],\"heatmapgl\":[{\"colorbar\":{\"outlinewidth\":0,\"ticks\":\"\"},\"colorscale\":[[0.0,\"#0d0887\"],[0.1111111111111111,\"#46039f\"],[0.2222222222222222,\"#7201a8\"],[0.3333333333333333,\"#9c179e\"],[0.4444444444444444,\"#bd3786\"],[0.5555555555555556,\"#d8576b\"],[0.6666666666666666,\"#ed7953\"],[0.7777777777777778,\"#fb9f3a\"],[0.8888888888888888,\"#fdca26\"],[1.0,\"#f0f921\"]],\"type\":\"heatmapgl\"}],\"heatmap\":[{\"colorbar\":{\"outlinewidth\":0,\"ticks\":\"\"},\"colorscale\":[[0.0,\"#0d0887\"],[0.1111111111111111,\"#46039f\"],[0.2222222222222222,\"#7201a8\"],[0.3333333333333333,\"#9c179e\"],[0.4444444444444444,\"#bd3786\"],[0.5555555555555556,\"#d8576b\"],[0.6666666666666666,\"#ed7953\"],[0.7777777777777778,\"#fb9f3a\"],[0.8888888888888888,\"#fdca26\"],[1.0,\"#f0f921\"]],\"type\":\"heatmap\"}],\"histogram2dcontour\":[{\"colorbar\":{\"outlinewidth\":0,\"ticks\":\"\"},\"colorscale\":[[0.0,\"#0d0887\"],[0.1111111111111111,\"#46039f\"],[0.2222222222222222,\"#7201a8\"],[0.3333333333333333,\"#9c179e\"],[0.4444444444444444,\"#bd3786\"],[0.5555555555555556,\"#d8576b\"],[0.6666666666666666,\"#ed7953\"],[0.7777777777777778,\"#fb9f3a\"],[0.8888888888888888,\"#fdca26\"],[1.0,\"#f0f921\"]],\"type\":\"histogram2dcontour\"}],\"histogram2d\":[{\"colorbar\":{\"outlinewidth\":0,\"ticks\":\"\"},\"colorscale\":[[0.0,\"#0d0887\"],[0.1111111111111111,\"#46039f\"],[0.2222222222222222,\"#7201a8\"],[0.3333333333333333,\"#9c179e\"],[0.4444444444444444,\"#bd3786\"],[0.5555555555555556,\"#d8576b\"],[0.6666666666666666,\"#ed7953\"],[0.7777777777777778,\"#fb9f3a\"],[0.8888888888888888,\"#fdca26\"],[1.0,\"#f0f921\"]],\"type\":\"histogram2d\"}],\"histogram\":[{\"marker\":{\"pattern\":{\"fillmode\":\"overlay\",\"size\":10,\"solidity\":0.2}},\"type\":\"histogram\"}],\"mesh3d\":[{\"colorbar\":{\"outlinewidth\":0,\"ticks\":\"\"},\"type\":\"mesh3d\"}],\"parcoords\":[{\"line\":{\"colorbar\":{\"outlinewidth\":0,\"ticks\":\"\"}},\"type\":\"parcoords\"}],\"pie\":[{\"automargin\":true,\"type\":\"pie\"}],\"scatter3d\":[{\"line\":{\"colorbar\":{\"outlinewidth\":0,\"ticks\":\"\"}},\"marker\":{\"colorbar\":{\"outlinewidth\":0,\"ticks\":\"\"}},\"type\":\"scatter3d\"}],\"scattercarpet\":[{\"marker\":{\"colorbar\":{\"outlinewidth\":0,\"ticks\":\"\"}},\"type\":\"scattercarpet\"}],\"scattergeo\":[{\"marker\":{\"colorbar\":{\"outlinewidth\":0,\"ticks\":\"\"}},\"type\":\"scattergeo\"}],\"scattergl\":[{\"marker\":{\"colorbar\":{\"outlinewidth\":0,\"ticks\":\"\"}},\"type\":\"scattergl\"}],\"scattermapbox\":[{\"marker\":{\"colorbar\":{\"outlinewidth\":0,\"ticks\":\"\"}},\"type\":\"scattermapbox\"}],\"scatterpolargl\":[{\"marker\":{\"colorbar\":{\"outlinewidth\":0,\"ticks\":\"\"}},\"type\":\"scatterpolargl\"}],\"scatterpolar\":[{\"marker\":{\"colorbar\":{\"outlinewidth\":0,\"ticks\":\"\"}},\"type\":\"scatterpolar\"}],\"scatter\":[{\"marker\":{\"colorbar\":{\"outlinewidth\":0,\"ticks\":\"\"}},\"type\":\"scatter\"}],\"scatterternary\":[{\"marker\":{\"colorbar\":{\"outlinewidth\":0,\"ticks\":\"\"}},\"type\":\"scatterternary\"}],\"surface\":[{\"colorbar\":{\"outlinewidth\":0,\"ticks\":\"\"},\"colorscale\":[[0.0,\"#0d0887\"],[0.1111111111111111,\"#46039f\"],[0.2222222222222222,\"#7201a8\"],[0.3333333333333333,\"#9c179e\"],[0.4444444444444444,\"#bd3786\"],[0.5555555555555556,\"#d8576b\"],[0.6666666666666666,\"#ed7953\"],[0.7777777777777778,\"#fb9f3a\"],[0.8888888888888888,\"#fdca26\"],[1.0,\"#f0f921\"]],\"type\":\"surface\"}],\"table\":[{\"cells\":{\"fill\":{\"color\":\"#EBF0F8\"},\"line\":{\"color\":\"white\"}},\"header\":{\"fill\":{\"color\":\"#C8D4E3\"},\"line\":{\"color\":\"white\"}},\"type\":\"table\"}]},\"layout\":{\"annotationdefaults\":{\"arrowcolor\":\"#2a3f5f\",\"arrowhead\":0,\"arrowwidth\":1},\"autotypenumbers\":\"strict\",\"coloraxis\":{\"colorbar\":{\"outlinewidth\":0,\"ticks\":\"\"}},\"colorscale\":{\"diverging\":[[0,\"#8e0152\"],[0.1,\"#c51b7d\"],[0.2,\"#de77ae\"],[0.3,\"#f1b6da\"],[0.4,\"#fde0ef\"],[0.5,\"#f7f7f7\"],[0.6,\"#e6f5d0\"],[0.7,\"#b8e186\"],[0.8,\"#7fbc41\"],[0.9,\"#4d9221\"],[1,\"#276419\"]],\"sequential\":[[0.0,\"#0d0887\"],[0.1111111111111111,\"#46039f\"],[0.2222222222222222,\"#7201a8\"],[0.3333333333333333,\"#9c179e\"],[0.4444444444444444,\"#bd3786\"],[0.5555555555555556,\"#d8576b\"],[0.6666666666666666,\"#ed7953\"],[0.7777777777777778,\"#fb9f3a\"],[0.8888888888888888,\"#fdca26\"],[1.0,\"#f0f921\"]],\"sequentialminus\":[[0.0,\"#0d0887\"],[0.1111111111111111,\"#46039f\"],[0.2222222222222222,\"#7201a8\"],[0.3333333333333333,\"#9c179e\"],[0.4444444444444444,\"#bd3786\"],[0.5555555555555556,\"#d8576b\"],[0.6666666666666666,\"#ed7953\"],[0.7777777777777778,\"#fb9f3a\"],[0.8888888888888888,\"#fdca26\"],[1.0,\"#f0f921\"]]},\"colorway\":[\"#636efa\",\"#EF553B\",\"#00cc96\",\"#ab63fa\",\"#FFA15A\",\"#19d3f3\",\"#FF6692\",\"#B6E880\",\"#FF97FF\",\"#FECB52\"],\"font\":{\"color\":\"#2a3f5f\"},\"geo\":{\"bgcolor\":\"white\",\"lakecolor\":\"white\",\"landcolor\":\"#E5ECF6\",\"showlakes\":true,\"showland\":true,\"subunitcolor\":\"white\"},\"hoverlabel\":{\"align\":\"left\"},\"hovermode\":\"closest\",\"mapbox\":{\"style\":\"light\"},\"paper_bgcolor\":\"white\",\"plot_bgcolor\":\"#E5ECF6\",\"polar\":{\"angularaxis\":{\"gridcolor\":\"white\",\"linecolor\":\"white\",\"ticks\":\"\"},\"bgcolor\":\"#E5ECF6\",\"radialaxis\":{\"gridcolor\":\"white\",\"linecolor\":\"white\",\"ticks\":\"\"}},\"scene\":{\"xaxis\":{\"backgroundcolor\":\"#E5ECF6\",\"gridcolor\":\"white\",\"gridwidth\":2,\"linecolor\":\"white\",\"showbackground\":true,\"ticks\":\"\",\"zerolinecolor\":\"white\"},\"yaxis\":{\"backgroundcolor\":\"#E5ECF6\",\"gridcolor\":\"white\",\"gridwidth\":2,\"linecolor\":\"white\",\"showbackground\":true,\"ticks\":\"\",\"zerolinecolor\":\"white\"},\"zaxis\":{\"backgroundcolor\":\"#E5ECF6\",\"gridcolor\":\"white\",\"gridwidth\":2,\"linecolor\":\"white\",\"showbackground\":true,\"ticks\":\"\",\"zerolinecolor\":\"white\"}},\"shapedefaults\":{\"line\":{\"color\":\"#2a3f5f\"}},\"ternary\":{\"aaxis\":{\"gridcolor\":\"white\",\"linecolor\":\"white\",\"ticks\":\"\"},\"baxis\":{\"gridcolor\":\"white\",\"linecolor\":\"white\",\"ticks\":\"\"},\"bgcolor\":\"#E5ECF6\",\"caxis\":{\"gridcolor\":\"white\",\"linecolor\":\"white\",\"ticks\":\"\"}},\"title\":{\"x\":0.05},\"xaxis\":{\"automargin\":true,\"gridcolor\":\"white\",\"linecolor\":\"white\",\"ticks\":\"\",\"title\":{\"standoff\":15},\"zerolinecolor\":\"white\",\"zerolinewidth\":2},\"yaxis\":{\"automargin\":true,\"gridcolor\":\"white\",\"linecolor\":\"white\",\"ticks\":\"\",\"title\":{\"standoff\":15},\"zerolinecolor\":\"white\",\"zerolinewidth\":2}}},\"title\":{\"font\":{\"color\":\"#4D5663\"}},\"xaxis\":{\"gridcolor\":\"#E1E5ED\",\"showgrid\":true,\"tickfont\":{\"color\":\"#4D5663\"},\"title\":{\"font\":{\"color\":\"#4D5663\"},\"text\":\"\"},\"zerolinecolor\":\"#E1E5ED\"},\"yaxis\":{\"gridcolor\":\"#E1E5ED\",\"showgrid\":true,\"tickfont\":{\"color\":\"#4D5663\"},\"title\":{\"font\":{\"color\":\"#4D5663\"},\"text\":\"\"},\"zerolinecolor\":\"#E1E5ED\"}},                        {\"showLink\": true, \"linkText\": \"Export to plot.ly\", \"plotlyServerURL\": \"https://plot.ly\", \"responsive\": true}                    ).then(function(){\n",
       "                            \n",
       "var gd = document.getElementById('61a1c664-83af-4e03-967e-5b31437c22f7');\n",
       "var x = new MutationObserver(function (mutations, observer) {{\n",
       "        var display = window.getComputedStyle(gd).display;\n",
       "        if (!display || display === 'none') {{\n",
       "            console.log([gd, 'removed!']);\n",
       "            Plotly.purge(gd);\n",
       "            observer.disconnect();\n",
       "        }}\n",
       "}});\n",
       "\n",
       "// Listen for the removal of the full notebook cells\n",
       "var notebookContainer = gd.closest('#notebook-container');\n",
       "if (notebookContainer) {{\n",
       "    x.observe(notebookContainer, {childList: true});\n",
       "}}\n",
       "\n",
       "// Listen for the clearing of the current output cell\n",
       "var outputEl = gd.closest('.output');\n",
       "if (outputEl) {{\n",
       "    x.observe(outputEl, {childList: true});\n",
       "}}\n",
       "\n",
       "                        })                };                });            </script>        </div>"
      ]
     },
     "metadata": {},
     "output_type": "display_data"
    }
   ],
   "source": [
    "df.iplot(kind='scatter',x='A',y='B',mode='markers',size=10)"
   ]
  },
  {
   "cell_type": "markdown",
   "metadata": {},
   "source": [
    "## Bar Plots"
   ]
  },
  {
   "cell_type": "code",
   "execution_count": 11,
   "metadata": {},
   "outputs": [
    {
     "data": {
      "application/vnd.plotly.v1+json": {
       "config": {
        "linkText": "Export to plot.ly",
        "plotlyServerURL": "https://plot.ly",
        "showLink": true
       },
       "data": [
        {
         "marker": {
          "color": "rgba(255, 153, 51, 0.6)",
          "line": {
           "color": "rgba(255, 153, 51, 1.0)",
           "width": 1
          }
         },
         "name": "Values",
         "orientation": "v",
         "text": "",
         "type": "bar",
         "x": [
          "A",
          "B",
          "C"
         ],
         "y": [
          32,
          43,
          50
         ]
        }
       ],
       "layout": {
        "legend": {
         "bgcolor": "#F5F6F9",
         "font": {
          "color": "#4D5663"
         }
        },
        "paper_bgcolor": "#F5F6F9",
        "plot_bgcolor": "#F5F6F9",
        "template": {
         "data": {
          "bar": [
           {
            "error_x": {
             "color": "#2a3f5f"
            },
            "error_y": {
             "color": "#2a3f5f"
            },
            "marker": {
             "line": {
              "color": "#E5ECF6",
              "width": 0.5
             },
             "pattern": {
              "fillmode": "overlay",
              "size": 10,
              "solidity": 0.2
             }
            },
            "type": "bar"
           }
          ],
          "barpolar": [
           {
            "marker": {
             "line": {
              "color": "#E5ECF6",
              "width": 0.5
             },
             "pattern": {
              "fillmode": "overlay",
              "size": 10,
              "solidity": 0.2
             }
            },
            "type": "barpolar"
           }
          ],
          "carpet": [
           {
            "aaxis": {
             "endlinecolor": "#2a3f5f",
             "gridcolor": "white",
             "linecolor": "white",
             "minorgridcolor": "white",
             "startlinecolor": "#2a3f5f"
            },
            "baxis": {
             "endlinecolor": "#2a3f5f",
             "gridcolor": "white",
             "linecolor": "white",
             "minorgridcolor": "white",
             "startlinecolor": "#2a3f5f"
            },
            "type": "carpet"
           }
          ],
          "choropleth": [
           {
            "colorbar": {
             "outlinewidth": 0,
             "ticks": ""
            },
            "type": "choropleth"
           }
          ],
          "contour": [
           {
            "colorbar": {
             "outlinewidth": 0,
             "ticks": ""
            },
            "colorscale": [
             [
              0,
              "#0d0887"
             ],
             [
              0.1111111111111111,
              "#46039f"
             ],
             [
              0.2222222222222222,
              "#7201a8"
             ],
             [
              0.3333333333333333,
              "#9c179e"
             ],
             [
              0.4444444444444444,
              "#bd3786"
             ],
             [
              0.5555555555555556,
              "#d8576b"
             ],
             [
              0.6666666666666666,
              "#ed7953"
             ],
             [
              0.7777777777777778,
              "#fb9f3a"
             ],
             [
              0.8888888888888888,
              "#fdca26"
             ],
             [
              1,
              "#f0f921"
             ]
            ],
            "type": "contour"
           }
          ],
          "contourcarpet": [
           {
            "colorbar": {
             "outlinewidth": 0,
             "ticks": ""
            },
            "type": "contourcarpet"
           }
          ],
          "heatmap": [
           {
            "colorbar": {
             "outlinewidth": 0,
             "ticks": ""
            },
            "colorscale": [
             [
              0,
              "#0d0887"
             ],
             [
              0.1111111111111111,
              "#46039f"
             ],
             [
              0.2222222222222222,
              "#7201a8"
             ],
             [
              0.3333333333333333,
              "#9c179e"
             ],
             [
              0.4444444444444444,
              "#bd3786"
             ],
             [
              0.5555555555555556,
              "#d8576b"
             ],
             [
              0.6666666666666666,
              "#ed7953"
             ],
             [
              0.7777777777777778,
              "#fb9f3a"
             ],
             [
              0.8888888888888888,
              "#fdca26"
             ],
             [
              1,
              "#f0f921"
             ]
            ],
            "type": "heatmap"
           }
          ],
          "heatmapgl": [
           {
            "colorbar": {
             "outlinewidth": 0,
             "ticks": ""
            },
            "colorscale": [
             [
              0,
              "#0d0887"
             ],
             [
              0.1111111111111111,
              "#46039f"
             ],
             [
              0.2222222222222222,
              "#7201a8"
             ],
             [
              0.3333333333333333,
              "#9c179e"
             ],
             [
              0.4444444444444444,
              "#bd3786"
             ],
             [
              0.5555555555555556,
              "#d8576b"
             ],
             [
              0.6666666666666666,
              "#ed7953"
             ],
             [
              0.7777777777777778,
              "#fb9f3a"
             ],
             [
              0.8888888888888888,
              "#fdca26"
             ],
             [
              1,
              "#f0f921"
             ]
            ],
            "type": "heatmapgl"
           }
          ],
          "histogram": [
           {
            "marker": {
             "pattern": {
              "fillmode": "overlay",
              "size": 10,
              "solidity": 0.2
             }
            },
            "type": "histogram"
           }
          ],
          "histogram2d": [
           {
            "colorbar": {
             "outlinewidth": 0,
             "ticks": ""
            },
            "colorscale": [
             [
              0,
              "#0d0887"
             ],
             [
              0.1111111111111111,
              "#46039f"
             ],
             [
              0.2222222222222222,
              "#7201a8"
             ],
             [
              0.3333333333333333,
              "#9c179e"
             ],
             [
              0.4444444444444444,
              "#bd3786"
             ],
             [
              0.5555555555555556,
              "#d8576b"
             ],
             [
              0.6666666666666666,
              "#ed7953"
             ],
             [
              0.7777777777777778,
              "#fb9f3a"
             ],
             [
              0.8888888888888888,
              "#fdca26"
             ],
             [
              1,
              "#f0f921"
             ]
            ],
            "type": "histogram2d"
           }
          ],
          "histogram2dcontour": [
           {
            "colorbar": {
             "outlinewidth": 0,
             "ticks": ""
            },
            "colorscale": [
             [
              0,
              "#0d0887"
             ],
             [
              0.1111111111111111,
              "#46039f"
             ],
             [
              0.2222222222222222,
              "#7201a8"
             ],
             [
              0.3333333333333333,
              "#9c179e"
             ],
             [
              0.4444444444444444,
              "#bd3786"
             ],
             [
              0.5555555555555556,
              "#d8576b"
             ],
             [
              0.6666666666666666,
              "#ed7953"
             ],
             [
              0.7777777777777778,
              "#fb9f3a"
             ],
             [
              0.8888888888888888,
              "#fdca26"
             ],
             [
              1,
              "#f0f921"
             ]
            ],
            "type": "histogram2dcontour"
           }
          ],
          "mesh3d": [
           {
            "colorbar": {
             "outlinewidth": 0,
             "ticks": ""
            },
            "type": "mesh3d"
           }
          ],
          "parcoords": [
           {
            "line": {
             "colorbar": {
              "outlinewidth": 0,
              "ticks": ""
             }
            },
            "type": "parcoords"
           }
          ],
          "pie": [
           {
            "automargin": true,
            "type": "pie"
           }
          ],
          "scatter": [
           {
            "marker": {
             "colorbar": {
              "outlinewidth": 0,
              "ticks": ""
             }
            },
            "type": "scatter"
           }
          ],
          "scatter3d": [
           {
            "line": {
             "colorbar": {
              "outlinewidth": 0,
              "ticks": ""
             }
            },
            "marker": {
             "colorbar": {
              "outlinewidth": 0,
              "ticks": ""
             }
            },
            "type": "scatter3d"
           }
          ],
          "scattercarpet": [
           {
            "marker": {
             "colorbar": {
              "outlinewidth": 0,
              "ticks": ""
             }
            },
            "type": "scattercarpet"
           }
          ],
          "scattergeo": [
           {
            "marker": {
             "colorbar": {
              "outlinewidth": 0,
              "ticks": ""
             }
            },
            "type": "scattergeo"
           }
          ],
          "scattergl": [
           {
            "marker": {
             "colorbar": {
              "outlinewidth": 0,
              "ticks": ""
             }
            },
            "type": "scattergl"
           }
          ],
          "scattermapbox": [
           {
            "marker": {
             "colorbar": {
              "outlinewidth": 0,
              "ticks": ""
             }
            },
            "type": "scattermapbox"
           }
          ],
          "scatterpolar": [
           {
            "marker": {
             "colorbar": {
              "outlinewidth": 0,
              "ticks": ""
             }
            },
            "type": "scatterpolar"
           }
          ],
          "scatterpolargl": [
           {
            "marker": {
             "colorbar": {
              "outlinewidth": 0,
              "ticks": ""
             }
            },
            "type": "scatterpolargl"
           }
          ],
          "scatterternary": [
           {
            "marker": {
             "colorbar": {
              "outlinewidth": 0,
              "ticks": ""
             }
            },
            "type": "scatterternary"
           }
          ],
          "surface": [
           {
            "colorbar": {
             "outlinewidth": 0,
             "ticks": ""
            },
            "colorscale": [
             [
              0,
              "#0d0887"
             ],
             [
              0.1111111111111111,
              "#46039f"
             ],
             [
              0.2222222222222222,
              "#7201a8"
             ],
             [
              0.3333333333333333,
              "#9c179e"
             ],
             [
              0.4444444444444444,
              "#bd3786"
             ],
             [
              0.5555555555555556,
              "#d8576b"
             ],
             [
              0.6666666666666666,
              "#ed7953"
             ],
             [
              0.7777777777777778,
              "#fb9f3a"
             ],
             [
              0.8888888888888888,
              "#fdca26"
             ],
             [
              1,
              "#f0f921"
             ]
            ],
            "type": "surface"
           }
          ],
          "table": [
           {
            "cells": {
             "fill": {
              "color": "#EBF0F8"
             },
             "line": {
              "color": "white"
             }
            },
            "header": {
             "fill": {
              "color": "#C8D4E3"
             },
             "line": {
              "color": "white"
             }
            },
            "type": "table"
           }
          ]
         },
         "layout": {
          "annotationdefaults": {
           "arrowcolor": "#2a3f5f",
           "arrowhead": 0,
           "arrowwidth": 1
          },
          "autotypenumbers": "strict",
          "coloraxis": {
           "colorbar": {
            "outlinewidth": 0,
            "ticks": ""
           }
          },
          "colorscale": {
           "diverging": [
            [
             0,
             "#8e0152"
            ],
            [
             0.1,
             "#c51b7d"
            ],
            [
             0.2,
             "#de77ae"
            ],
            [
             0.3,
             "#f1b6da"
            ],
            [
             0.4,
             "#fde0ef"
            ],
            [
             0.5,
             "#f7f7f7"
            ],
            [
             0.6,
             "#e6f5d0"
            ],
            [
             0.7,
             "#b8e186"
            ],
            [
             0.8,
             "#7fbc41"
            ],
            [
             0.9,
             "#4d9221"
            ],
            [
             1,
             "#276419"
            ]
           ],
           "sequential": [
            [
             0,
             "#0d0887"
            ],
            [
             0.1111111111111111,
             "#46039f"
            ],
            [
             0.2222222222222222,
             "#7201a8"
            ],
            [
             0.3333333333333333,
             "#9c179e"
            ],
            [
             0.4444444444444444,
             "#bd3786"
            ],
            [
             0.5555555555555556,
             "#d8576b"
            ],
            [
             0.6666666666666666,
             "#ed7953"
            ],
            [
             0.7777777777777778,
             "#fb9f3a"
            ],
            [
             0.8888888888888888,
             "#fdca26"
            ],
            [
             1,
             "#f0f921"
            ]
           ],
           "sequentialminus": [
            [
             0,
             "#0d0887"
            ],
            [
             0.1111111111111111,
             "#46039f"
            ],
            [
             0.2222222222222222,
             "#7201a8"
            ],
            [
             0.3333333333333333,
             "#9c179e"
            ],
            [
             0.4444444444444444,
             "#bd3786"
            ],
            [
             0.5555555555555556,
             "#d8576b"
            ],
            [
             0.6666666666666666,
             "#ed7953"
            ],
            [
             0.7777777777777778,
             "#fb9f3a"
            ],
            [
             0.8888888888888888,
             "#fdca26"
            ],
            [
             1,
             "#f0f921"
            ]
           ]
          },
          "colorway": [
           "#636efa",
           "#EF553B",
           "#00cc96",
           "#ab63fa",
           "#FFA15A",
           "#19d3f3",
           "#FF6692",
           "#B6E880",
           "#FF97FF",
           "#FECB52"
          ],
          "font": {
           "color": "#2a3f5f"
          },
          "geo": {
           "bgcolor": "white",
           "lakecolor": "white",
           "landcolor": "#E5ECF6",
           "showlakes": true,
           "showland": true,
           "subunitcolor": "white"
          },
          "hoverlabel": {
           "align": "left"
          },
          "hovermode": "closest",
          "mapbox": {
           "style": "light"
          },
          "paper_bgcolor": "white",
          "plot_bgcolor": "#E5ECF6",
          "polar": {
           "angularaxis": {
            "gridcolor": "white",
            "linecolor": "white",
            "ticks": ""
           },
           "bgcolor": "#E5ECF6",
           "radialaxis": {
            "gridcolor": "white",
            "linecolor": "white",
            "ticks": ""
           }
          },
          "scene": {
           "xaxis": {
            "backgroundcolor": "#E5ECF6",
            "gridcolor": "white",
            "gridwidth": 2,
            "linecolor": "white",
            "showbackground": true,
            "ticks": "",
            "zerolinecolor": "white"
           },
           "yaxis": {
            "backgroundcolor": "#E5ECF6",
            "gridcolor": "white",
            "gridwidth": 2,
            "linecolor": "white",
            "showbackground": true,
            "ticks": "",
            "zerolinecolor": "white"
           },
           "zaxis": {
            "backgroundcolor": "#E5ECF6",
            "gridcolor": "white",
            "gridwidth": 2,
            "linecolor": "white",
            "showbackground": true,
            "ticks": "",
            "zerolinecolor": "white"
           }
          },
          "shapedefaults": {
           "line": {
            "color": "#2a3f5f"
           }
          },
          "ternary": {
           "aaxis": {
            "gridcolor": "white",
            "linecolor": "white",
            "ticks": ""
           },
           "baxis": {
            "gridcolor": "white",
            "linecolor": "white",
            "ticks": ""
           },
           "bgcolor": "#E5ECF6",
           "caxis": {
            "gridcolor": "white",
            "linecolor": "white",
            "ticks": ""
           }
          },
          "title": {
           "x": 0.05
          },
          "xaxis": {
           "automargin": true,
           "gridcolor": "white",
           "linecolor": "white",
           "ticks": "",
           "title": {
            "standoff": 15
           },
           "zerolinecolor": "white",
           "zerolinewidth": 2
          },
          "yaxis": {
           "automargin": true,
           "gridcolor": "white",
           "linecolor": "white",
           "ticks": "",
           "title": {
            "standoff": 15
           },
           "zerolinecolor": "white",
           "zerolinewidth": 2
          }
         }
        },
        "title": {
         "font": {
          "color": "#4D5663"
         }
        },
        "xaxis": {
         "gridcolor": "#E1E5ED",
         "showgrid": true,
         "tickfont": {
          "color": "#4D5663"
         },
         "title": {
          "font": {
           "color": "#4D5663"
          },
          "text": ""
         },
         "zerolinecolor": "#E1E5ED"
        },
        "yaxis": {
         "gridcolor": "#E1E5ED",
         "showgrid": true,
         "tickfont": {
          "color": "#4D5663"
         },
         "title": {
          "font": {
           "color": "#4D5663"
          },
          "text": ""
         },
         "zerolinecolor": "#E1E5ED"
        }
       }
      },
      "text/html": [
       "<div>                            <div id=\"46d26eaa-f8b4-4cc8-ad86-567390606558\" class=\"plotly-graph-div\" style=\"height:525px; width:100%;\"></div>            <script type=\"text/javascript\">                require([\"plotly\"], function(Plotly) {                    window.PLOTLYENV=window.PLOTLYENV || {};\n",
       "                    window.PLOTLYENV.BASE_URL='https://plot.ly';                                    if (document.getElementById(\"46d26eaa-f8b4-4cc8-ad86-567390606558\")) {                    Plotly.newPlot(                        \"46d26eaa-f8b4-4cc8-ad86-567390606558\",                        [{\"marker\":{\"color\":\"rgba(255, 153, 51, 0.6)\",\"line\":{\"color\":\"rgba(255, 153, 51, 1.0)\",\"width\":1}},\"name\":\"Values\",\"orientation\":\"v\",\"text\":\"\",\"x\":[\"A\",\"B\",\"C\"],\"y\":[32,43,50],\"type\":\"bar\"}],                        {\"legend\":{\"bgcolor\":\"#F5F6F9\",\"font\":{\"color\":\"#4D5663\"}},\"paper_bgcolor\":\"#F5F6F9\",\"plot_bgcolor\":\"#F5F6F9\",\"template\":{\"data\":{\"barpolar\":[{\"marker\":{\"line\":{\"color\":\"#E5ECF6\",\"width\":0.5},\"pattern\":{\"fillmode\":\"overlay\",\"size\":10,\"solidity\":0.2}},\"type\":\"barpolar\"}],\"bar\":[{\"error_x\":{\"color\":\"#2a3f5f\"},\"error_y\":{\"color\":\"#2a3f5f\"},\"marker\":{\"line\":{\"color\":\"#E5ECF6\",\"width\":0.5},\"pattern\":{\"fillmode\":\"overlay\",\"size\":10,\"solidity\":0.2}},\"type\":\"bar\"}],\"carpet\":[{\"aaxis\":{\"endlinecolor\":\"#2a3f5f\",\"gridcolor\":\"white\",\"linecolor\":\"white\",\"minorgridcolor\":\"white\",\"startlinecolor\":\"#2a3f5f\"},\"baxis\":{\"endlinecolor\":\"#2a3f5f\",\"gridcolor\":\"white\",\"linecolor\":\"white\",\"minorgridcolor\":\"white\",\"startlinecolor\":\"#2a3f5f\"},\"type\":\"carpet\"}],\"choropleth\":[{\"colorbar\":{\"outlinewidth\":0,\"ticks\":\"\"},\"type\":\"choropleth\"}],\"contourcarpet\":[{\"colorbar\":{\"outlinewidth\":0,\"ticks\":\"\"},\"type\":\"contourcarpet\"}],\"contour\":[{\"colorbar\":{\"outlinewidth\":0,\"ticks\":\"\"},\"colorscale\":[[0.0,\"#0d0887\"],[0.1111111111111111,\"#46039f\"],[0.2222222222222222,\"#7201a8\"],[0.3333333333333333,\"#9c179e\"],[0.4444444444444444,\"#bd3786\"],[0.5555555555555556,\"#d8576b\"],[0.6666666666666666,\"#ed7953\"],[0.7777777777777778,\"#fb9f3a\"],[0.8888888888888888,\"#fdca26\"],[1.0,\"#f0f921\"]],\"type\":\"contour\"}],\"heatmapgl\":[{\"colorbar\":{\"outlinewidth\":0,\"ticks\":\"\"},\"colorscale\":[[0.0,\"#0d0887\"],[0.1111111111111111,\"#46039f\"],[0.2222222222222222,\"#7201a8\"],[0.3333333333333333,\"#9c179e\"],[0.4444444444444444,\"#bd3786\"],[0.5555555555555556,\"#d8576b\"],[0.6666666666666666,\"#ed7953\"],[0.7777777777777778,\"#fb9f3a\"],[0.8888888888888888,\"#fdca26\"],[1.0,\"#f0f921\"]],\"type\":\"heatmapgl\"}],\"heatmap\":[{\"colorbar\":{\"outlinewidth\":0,\"ticks\":\"\"},\"colorscale\":[[0.0,\"#0d0887\"],[0.1111111111111111,\"#46039f\"],[0.2222222222222222,\"#7201a8\"],[0.3333333333333333,\"#9c179e\"],[0.4444444444444444,\"#bd3786\"],[0.5555555555555556,\"#d8576b\"],[0.6666666666666666,\"#ed7953\"],[0.7777777777777778,\"#fb9f3a\"],[0.8888888888888888,\"#fdca26\"],[1.0,\"#f0f921\"]],\"type\":\"heatmap\"}],\"histogram2dcontour\":[{\"colorbar\":{\"outlinewidth\":0,\"ticks\":\"\"},\"colorscale\":[[0.0,\"#0d0887\"],[0.1111111111111111,\"#46039f\"],[0.2222222222222222,\"#7201a8\"],[0.3333333333333333,\"#9c179e\"],[0.4444444444444444,\"#bd3786\"],[0.5555555555555556,\"#d8576b\"],[0.6666666666666666,\"#ed7953\"],[0.7777777777777778,\"#fb9f3a\"],[0.8888888888888888,\"#fdca26\"],[1.0,\"#f0f921\"]],\"type\":\"histogram2dcontour\"}],\"histogram2d\":[{\"colorbar\":{\"outlinewidth\":0,\"ticks\":\"\"},\"colorscale\":[[0.0,\"#0d0887\"],[0.1111111111111111,\"#46039f\"],[0.2222222222222222,\"#7201a8\"],[0.3333333333333333,\"#9c179e\"],[0.4444444444444444,\"#bd3786\"],[0.5555555555555556,\"#d8576b\"],[0.6666666666666666,\"#ed7953\"],[0.7777777777777778,\"#fb9f3a\"],[0.8888888888888888,\"#fdca26\"],[1.0,\"#f0f921\"]],\"type\":\"histogram2d\"}],\"histogram\":[{\"marker\":{\"pattern\":{\"fillmode\":\"overlay\",\"size\":10,\"solidity\":0.2}},\"type\":\"histogram\"}],\"mesh3d\":[{\"colorbar\":{\"outlinewidth\":0,\"ticks\":\"\"},\"type\":\"mesh3d\"}],\"parcoords\":[{\"line\":{\"colorbar\":{\"outlinewidth\":0,\"ticks\":\"\"}},\"type\":\"parcoords\"}],\"pie\":[{\"automargin\":true,\"type\":\"pie\"}],\"scatter3d\":[{\"line\":{\"colorbar\":{\"outlinewidth\":0,\"ticks\":\"\"}},\"marker\":{\"colorbar\":{\"outlinewidth\":0,\"ticks\":\"\"}},\"type\":\"scatter3d\"}],\"scattercarpet\":[{\"marker\":{\"colorbar\":{\"outlinewidth\":0,\"ticks\":\"\"}},\"type\":\"scattercarpet\"}],\"scattergeo\":[{\"marker\":{\"colorbar\":{\"outlinewidth\":0,\"ticks\":\"\"}},\"type\":\"scattergeo\"}],\"scattergl\":[{\"marker\":{\"colorbar\":{\"outlinewidth\":0,\"ticks\":\"\"}},\"type\":\"scattergl\"}],\"scattermapbox\":[{\"marker\":{\"colorbar\":{\"outlinewidth\":0,\"ticks\":\"\"}},\"type\":\"scattermapbox\"}],\"scatterpolargl\":[{\"marker\":{\"colorbar\":{\"outlinewidth\":0,\"ticks\":\"\"}},\"type\":\"scatterpolargl\"}],\"scatterpolar\":[{\"marker\":{\"colorbar\":{\"outlinewidth\":0,\"ticks\":\"\"}},\"type\":\"scatterpolar\"}],\"scatter\":[{\"marker\":{\"colorbar\":{\"outlinewidth\":0,\"ticks\":\"\"}},\"type\":\"scatter\"}],\"scatterternary\":[{\"marker\":{\"colorbar\":{\"outlinewidth\":0,\"ticks\":\"\"}},\"type\":\"scatterternary\"}],\"surface\":[{\"colorbar\":{\"outlinewidth\":0,\"ticks\":\"\"},\"colorscale\":[[0.0,\"#0d0887\"],[0.1111111111111111,\"#46039f\"],[0.2222222222222222,\"#7201a8\"],[0.3333333333333333,\"#9c179e\"],[0.4444444444444444,\"#bd3786\"],[0.5555555555555556,\"#d8576b\"],[0.6666666666666666,\"#ed7953\"],[0.7777777777777778,\"#fb9f3a\"],[0.8888888888888888,\"#fdca26\"],[1.0,\"#f0f921\"]],\"type\":\"surface\"}],\"table\":[{\"cells\":{\"fill\":{\"color\":\"#EBF0F8\"},\"line\":{\"color\":\"white\"}},\"header\":{\"fill\":{\"color\":\"#C8D4E3\"},\"line\":{\"color\":\"white\"}},\"type\":\"table\"}]},\"layout\":{\"annotationdefaults\":{\"arrowcolor\":\"#2a3f5f\",\"arrowhead\":0,\"arrowwidth\":1},\"autotypenumbers\":\"strict\",\"coloraxis\":{\"colorbar\":{\"outlinewidth\":0,\"ticks\":\"\"}},\"colorscale\":{\"diverging\":[[0,\"#8e0152\"],[0.1,\"#c51b7d\"],[0.2,\"#de77ae\"],[0.3,\"#f1b6da\"],[0.4,\"#fde0ef\"],[0.5,\"#f7f7f7\"],[0.6,\"#e6f5d0\"],[0.7,\"#b8e186\"],[0.8,\"#7fbc41\"],[0.9,\"#4d9221\"],[1,\"#276419\"]],\"sequential\":[[0.0,\"#0d0887\"],[0.1111111111111111,\"#46039f\"],[0.2222222222222222,\"#7201a8\"],[0.3333333333333333,\"#9c179e\"],[0.4444444444444444,\"#bd3786\"],[0.5555555555555556,\"#d8576b\"],[0.6666666666666666,\"#ed7953\"],[0.7777777777777778,\"#fb9f3a\"],[0.8888888888888888,\"#fdca26\"],[1.0,\"#f0f921\"]],\"sequentialminus\":[[0.0,\"#0d0887\"],[0.1111111111111111,\"#46039f\"],[0.2222222222222222,\"#7201a8\"],[0.3333333333333333,\"#9c179e\"],[0.4444444444444444,\"#bd3786\"],[0.5555555555555556,\"#d8576b\"],[0.6666666666666666,\"#ed7953\"],[0.7777777777777778,\"#fb9f3a\"],[0.8888888888888888,\"#fdca26\"],[1.0,\"#f0f921\"]]},\"colorway\":[\"#636efa\",\"#EF553B\",\"#00cc96\",\"#ab63fa\",\"#FFA15A\",\"#19d3f3\",\"#FF6692\",\"#B6E880\",\"#FF97FF\",\"#FECB52\"],\"font\":{\"color\":\"#2a3f5f\"},\"geo\":{\"bgcolor\":\"white\",\"lakecolor\":\"white\",\"landcolor\":\"#E5ECF6\",\"showlakes\":true,\"showland\":true,\"subunitcolor\":\"white\"},\"hoverlabel\":{\"align\":\"left\"},\"hovermode\":\"closest\",\"mapbox\":{\"style\":\"light\"},\"paper_bgcolor\":\"white\",\"plot_bgcolor\":\"#E5ECF6\",\"polar\":{\"angularaxis\":{\"gridcolor\":\"white\",\"linecolor\":\"white\",\"ticks\":\"\"},\"bgcolor\":\"#E5ECF6\",\"radialaxis\":{\"gridcolor\":\"white\",\"linecolor\":\"white\",\"ticks\":\"\"}},\"scene\":{\"xaxis\":{\"backgroundcolor\":\"#E5ECF6\",\"gridcolor\":\"white\",\"gridwidth\":2,\"linecolor\":\"white\",\"showbackground\":true,\"ticks\":\"\",\"zerolinecolor\":\"white\"},\"yaxis\":{\"backgroundcolor\":\"#E5ECF6\",\"gridcolor\":\"white\",\"gridwidth\":2,\"linecolor\":\"white\",\"showbackground\":true,\"ticks\":\"\",\"zerolinecolor\":\"white\"},\"zaxis\":{\"backgroundcolor\":\"#E5ECF6\",\"gridcolor\":\"white\",\"gridwidth\":2,\"linecolor\":\"white\",\"showbackground\":true,\"ticks\":\"\",\"zerolinecolor\":\"white\"}},\"shapedefaults\":{\"line\":{\"color\":\"#2a3f5f\"}},\"ternary\":{\"aaxis\":{\"gridcolor\":\"white\",\"linecolor\":\"white\",\"ticks\":\"\"},\"baxis\":{\"gridcolor\":\"white\",\"linecolor\":\"white\",\"ticks\":\"\"},\"bgcolor\":\"#E5ECF6\",\"caxis\":{\"gridcolor\":\"white\",\"linecolor\":\"white\",\"ticks\":\"\"}},\"title\":{\"x\":0.05},\"xaxis\":{\"automargin\":true,\"gridcolor\":\"white\",\"linecolor\":\"white\",\"ticks\":\"\",\"title\":{\"standoff\":15},\"zerolinecolor\":\"white\",\"zerolinewidth\":2},\"yaxis\":{\"automargin\":true,\"gridcolor\":\"white\",\"linecolor\":\"white\",\"ticks\":\"\",\"title\":{\"standoff\":15},\"zerolinecolor\":\"white\",\"zerolinewidth\":2}}},\"title\":{\"font\":{\"color\":\"#4D5663\"}},\"xaxis\":{\"gridcolor\":\"#E1E5ED\",\"showgrid\":true,\"tickfont\":{\"color\":\"#4D5663\"},\"title\":{\"font\":{\"color\":\"#4D5663\"},\"text\":\"\"},\"zerolinecolor\":\"#E1E5ED\"},\"yaxis\":{\"gridcolor\":\"#E1E5ED\",\"showgrid\":true,\"tickfont\":{\"color\":\"#4D5663\"},\"title\":{\"font\":{\"color\":\"#4D5663\"},\"text\":\"\"},\"zerolinecolor\":\"#E1E5ED\"}},                        {\"showLink\": true, \"linkText\": \"Export to plot.ly\", \"plotlyServerURL\": \"https://plot.ly\", \"responsive\": true}                    ).then(function(){\n",
       "                            \n",
       "var gd = document.getElementById('46d26eaa-f8b4-4cc8-ad86-567390606558');\n",
       "var x = new MutationObserver(function (mutations, observer) {{\n",
       "        var display = window.getComputedStyle(gd).display;\n",
       "        if (!display || display === 'none') {{\n",
       "            console.log([gd, 'removed!']);\n",
       "            Plotly.purge(gd);\n",
       "            observer.disconnect();\n",
       "        }}\n",
       "}});\n",
       "\n",
       "// Listen for the removal of the full notebook cells\n",
       "var notebookContainer = gd.closest('#notebook-container');\n",
       "if (notebookContainer) {{\n",
       "    x.observe(notebookContainer, {childList: true});\n",
       "}}\n",
       "\n",
       "// Listen for the clearing of the current output cell\n",
       "var outputEl = gd.closest('.output');\n",
       "if (outputEl) {{\n",
       "    x.observe(outputEl, {childList: true});\n",
       "}}\n",
       "\n",
       "                        })                };                });            </script>        </div>"
      ]
     },
     "metadata": {},
     "output_type": "display_data"
    }
   ],
   "source": [
    "df2.iplot(kind='bar',x='Category',y='Values')"
   ]
  },
  {
   "cell_type": "code",
   "execution_count": 12,
   "metadata": {},
   "outputs": [
    {
     "data": {
      "application/vnd.plotly.v1+json": {
       "config": {
        "linkText": "Export to plot.ly",
        "plotlyServerURL": "https://plot.ly",
        "showLink": true
       },
       "data": [
        {
         "marker": {
          "color": "rgba(255, 153, 51, 0.6)",
          "line": {
           "color": "rgba(255, 153, 51, 1.0)",
           "width": 1
          }
         },
         "name": "None",
         "orientation": "v",
         "text": "",
         "type": "bar",
         "x": [
          "A",
          "B",
          "C",
          "D"
         ],
         "y": [
          100,
          100,
          100,
          100
         ]
        }
       ],
       "layout": {
        "legend": {
         "bgcolor": "#F5F6F9",
         "font": {
          "color": "#4D5663"
         }
        },
        "paper_bgcolor": "#F5F6F9",
        "plot_bgcolor": "#F5F6F9",
        "template": {
         "data": {
          "bar": [
           {
            "error_x": {
             "color": "#2a3f5f"
            },
            "error_y": {
             "color": "#2a3f5f"
            },
            "marker": {
             "line": {
              "color": "#E5ECF6",
              "width": 0.5
             },
             "pattern": {
              "fillmode": "overlay",
              "size": 10,
              "solidity": 0.2
             }
            },
            "type": "bar"
           }
          ],
          "barpolar": [
           {
            "marker": {
             "line": {
              "color": "#E5ECF6",
              "width": 0.5
             },
             "pattern": {
              "fillmode": "overlay",
              "size": 10,
              "solidity": 0.2
             }
            },
            "type": "barpolar"
           }
          ],
          "carpet": [
           {
            "aaxis": {
             "endlinecolor": "#2a3f5f",
             "gridcolor": "white",
             "linecolor": "white",
             "minorgridcolor": "white",
             "startlinecolor": "#2a3f5f"
            },
            "baxis": {
             "endlinecolor": "#2a3f5f",
             "gridcolor": "white",
             "linecolor": "white",
             "minorgridcolor": "white",
             "startlinecolor": "#2a3f5f"
            },
            "type": "carpet"
           }
          ],
          "choropleth": [
           {
            "colorbar": {
             "outlinewidth": 0,
             "ticks": ""
            },
            "type": "choropleth"
           }
          ],
          "contour": [
           {
            "colorbar": {
             "outlinewidth": 0,
             "ticks": ""
            },
            "colorscale": [
             [
              0,
              "#0d0887"
             ],
             [
              0.1111111111111111,
              "#46039f"
             ],
             [
              0.2222222222222222,
              "#7201a8"
             ],
             [
              0.3333333333333333,
              "#9c179e"
             ],
             [
              0.4444444444444444,
              "#bd3786"
             ],
             [
              0.5555555555555556,
              "#d8576b"
             ],
             [
              0.6666666666666666,
              "#ed7953"
             ],
             [
              0.7777777777777778,
              "#fb9f3a"
             ],
             [
              0.8888888888888888,
              "#fdca26"
             ],
             [
              1,
              "#f0f921"
             ]
            ],
            "type": "contour"
           }
          ],
          "contourcarpet": [
           {
            "colorbar": {
             "outlinewidth": 0,
             "ticks": ""
            },
            "type": "contourcarpet"
           }
          ],
          "heatmap": [
           {
            "colorbar": {
             "outlinewidth": 0,
             "ticks": ""
            },
            "colorscale": [
             [
              0,
              "#0d0887"
             ],
             [
              0.1111111111111111,
              "#46039f"
             ],
             [
              0.2222222222222222,
              "#7201a8"
             ],
             [
              0.3333333333333333,
              "#9c179e"
             ],
             [
              0.4444444444444444,
              "#bd3786"
             ],
             [
              0.5555555555555556,
              "#d8576b"
             ],
             [
              0.6666666666666666,
              "#ed7953"
             ],
             [
              0.7777777777777778,
              "#fb9f3a"
             ],
             [
              0.8888888888888888,
              "#fdca26"
             ],
             [
              1,
              "#f0f921"
             ]
            ],
            "type": "heatmap"
           }
          ],
          "heatmapgl": [
           {
            "colorbar": {
             "outlinewidth": 0,
             "ticks": ""
            },
            "colorscale": [
             [
              0,
              "#0d0887"
             ],
             [
              0.1111111111111111,
              "#46039f"
             ],
             [
              0.2222222222222222,
              "#7201a8"
             ],
             [
              0.3333333333333333,
              "#9c179e"
             ],
             [
              0.4444444444444444,
              "#bd3786"
             ],
             [
              0.5555555555555556,
              "#d8576b"
             ],
             [
              0.6666666666666666,
              "#ed7953"
             ],
             [
              0.7777777777777778,
              "#fb9f3a"
             ],
             [
              0.8888888888888888,
              "#fdca26"
             ],
             [
              1,
              "#f0f921"
             ]
            ],
            "type": "heatmapgl"
           }
          ],
          "histogram": [
           {
            "marker": {
             "pattern": {
              "fillmode": "overlay",
              "size": 10,
              "solidity": 0.2
             }
            },
            "type": "histogram"
           }
          ],
          "histogram2d": [
           {
            "colorbar": {
             "outlinewidth": 0,
             "ticks": ""
            },
            "colorscale": [
             [
              0,
              "#0d0887"
             ],
             [
              0.1111111111111111,
              "#46039f"
             ],
             [
              0.2222222222222222,
              "#7201a8"
             ],
             [
              0.3333333333333333,
              "#9c179e"
             ],
             [
              0.4444444444444444,
              "#bd3786"
             ],
             [
              0.5555555555555556,
              "#d8576b"
             ],
             [
              0.6666666666666666,
              "#ed7953"
             ],
             [
              0.7777777777777778,
              "#fb9f3a"
             ],
             [
              0.8888888888888888,
              "#fdca26"
             ],
             [
              1,
              "#f0f921"
             ]
            ],
            "type": "histogram2d"
           }
          ],
          "histogram2dcontour": [
           {
            "colorbar": {
             "outlinewidth": 0,
             "ticks": ""
            },
            "colorscale": [
             [
              0,
              "#0d0887"
             ],
             [
              0.1111111111111111,
              "#46039f"
             ],
             [
              0.2222222222222222,
              "#7201a8"
             ],
             [
              0.3333333333333333,
              "#9c179e"
             ],
             [
              0.4444444444444444,
              "#bd3786"
             ],
             [
              0.5555555555555556,
              "#d8576b"
             ],
             [
              0.6666666666666666,
              "#ed7953"
             ],
             [
              0.7777777777777778,
              "#fb9f3a"
             ],
             [
              0.8888888888888888,
              "#fdca26"
             ],
             [
              1,
              "#f0f921"
             ]
            ],
            "type": "histogram2dcontour"
           }
          ],
          "mesh3d": [
           {
            "colorbar": {
             "outlinewidth": 0,
             "ticks": ""
            },
            "type": "mesh3d"
           }
          ],
          "parcoords": [
           {
            "line": {
             "colorbar": {
              "outlinewidth": 0,
              "ticks": ""
             }
            },
            "type": "parcoords"
           }
          ],
          "pie": [
           {
            "automargin": true,
            "type": "pie"
           }
          ],
          "scatter": [
           {
            "marker": {
             "colorbar": {
              "outlinewidth": 0,
              "ticks": ""
             }
            },
            "type": "scatter"
           }
          ],
          "scatter3d": [
           {
            "line": {
             "colorbar": {
              "outlinewidth": 0,
              "ticks": ""
             }
            },
            "marker": {
             "colorbar": {
              "outlinewidth": 0,
              "ticks": ""
             }
            },
            "type": "scatter3d"
           }
          ],
          "scattercarpet": [
           {
            "marker": {
             "colorbar": {
              "outlinewidth": 0,
              "ticks": ""
             }
            },
            "type": "scattercarpet"
           }
          ],
          "scattergeo": [
           {
            "marker": {
             "colorbar": {
              "outlinewidth": 0,
              "ticks": ""
             }
            },
            "type": "scattergeo"
           }
          ],
          "scattergl": [
           {
            "marker": {
             "colorbar": {
              "outlinewidth": 0,
              "ticks": ""
             }
            },
            "type": "scattergl"
           }
          ],
          "scattermapbox": [
           {
            "marker": {
             "colorbar": {
              "outlinewidth": 0,
              "ticks": ""
             }
            },
            "type": "scattermapbox"
           }
          ],
          "scatterpolar": [
           {
            "marker": {
             "colorbar": {
              "outlinewidth": 0,
              "ticks": ""
             }
            },
            "type": "scatterpolar"
           }
          ],
          "scatterpolargl": [
           {
            "marker": {
             "colorbar": {
              "outlinewidth": 0,
              "ticks": ""
             }
            },
            "type": "scatterpolargl"
           }
          ],
          "scatterternary": [
           {
            "marker": {
             "colorbar": {
              "outlinewidth": 0,
              "ticks": ""
             }
            },
            "type": "scatterternary"
           }
          ],
          "surface": [
           {
            "colorbar": {
             "outlinewidth": 0,
             "ticks": ""
            },
            "colorscale": [
             [
              0,
              "#0d0887"
             ],
             [
              0.1111111111111111,
              "#46039f"
             ],
             [
              0.2222222222222222,
              "#7201a8"
             ],
             [
              0.3333333333333333,
              "#9c179e"
             ],
             [
              0.4444444444444444,
              "#bd3786"
             ],
             [
              0.5555555555555556,
              "#d8576b"
             ],
             [
              0.6666666666666666,
              "#ed7953"
             ],
             [
              0.7777777777777778,
              "#fb9f3a"
             ],
             [
              0.8888888888888888,
              "#fdca26"
             ],
             [
              1,
              "#f0f921"
             ]
            ],
            "type": "surface"
           }
          ],
          "table": [
           {
            "cells": {
             "fill": {
              "color": "#EBF0F8"
             },
             "line": {
              "color": "white"
             }
            },
            "header": {
             "fill": {
              "color": "#C8D4E3"
             },
             "line": {
              "color": "white"
             }
            },
            "type": "table"
           }
          ]
         },
         "layout": {
          "annotationdefaults": {
           "arrowcolor": "#2a3f5f",
           "arrowhead": 0,
           "arrowwidth": 1
          },
          "autotypenumbers": "strict",
          "coloraxis": {
           "colorbar": {
            "outlinewidth": 0,
            "ticks": ""
           }
          },
          "colorscale": {
           "diverging": [
            [
             0,
             "#8e0152"
            ],
            [
             0.1,
             "#c51b7d"
            ],
            [
             0.2,
             "#de77ae"
            ],
            [
             0.3,
             "#f1b6da"
            ],
            [
             0.4,
             "#fde0ef"
            ],
            [
             0.5,
             "#f7f7f7"
            ],
            [
             0.6,
             "#e6f5d0"
            ],
            [
             0.7,
             "#b8e186"
            ],
            [
             0.8,
             "#7fbc41"
            ],
            [
             0.9,
             "#4d9221"
            ],
            [
             1,
             "#276419"
            ]
           ],
           "sequential": [
            [
             0,
             "#0d0887"
            ],
            [
             0.1111111111111111,
             "#46039f"
            ],
            [
             0.2222222222222222,
             "#7201a8"
            ],
            [
             0.3333333333333333,
             "#9c179e"
            ],
            [
             0.4444444444444444,
             "#bd3786"
            ],
            [
             0.5555555555555556,
             "#d8576b"
            ],
            [
             0.6666666666666666,
             "#ed7953"
            ],
            [
             0.7777777777777778,
             "#fb9f3a"
            ],
            [
             0.8888888888888888,
             "#fdca26"
            ],
            [
             1,
             "#f0f921"
            ]
           ],
           "sequentialminus": [
            [
             0,
             "#0d0887"
            ],
            [
             0.1111111111111111,
             "#46039f"
            ],
            [
             0.2222222222222222,
             "#7201a8"
            ],
            [
             0.3333333333333333,
             "#9c179e"
            ],
            [
             0.4444444444444444,
             "#bd3786"
            ],
            [
             0.5555555555555556,
             "#d8576b"
            ],
            [
             0.6666666666666666,
             "#ed7953"
            ],
            [
             0.7777777777777778,
             "#fb9f3a"
            ],
            [
             0.8888888888888888,
             "#fdca26"
            ],
            [
             1,
             "#f0f921"
            ]
           ]
          },
          "colorway": [
           "#636efa",
           "#EF553B",
           "#00cc96",
           "#ab63fa",
           "#FFA15A",
           "#19d3f3",
           "#FF6692",
           "#B6E880",
           "#FF97FF",
           "#FECB52"
          ],
          "font": {
           "color": "#2a3f5f"
          },
          "geo": {
           "bgcolor": "white",
           "lakecolor": "white",
           "landcolor": "#E5ECF6",
           "showlakes": true,
           "showland": true,
           "subunitcolor": "white"
          },
          "hoverlabel": {
           "align": "left"
          },
          "hovermode": "closest",
          "mapbox": {
           "style": "light"
          },
          "paper_bgcolor": "white",
          "plot_bgcolor": "#E5ECF6",
          "polar": {
           "angularaxis": {
            "gridcolor": "white",
            "linecolor": "white",
            "ticks": ""
           },
           "bgcolor": "#E5ECF6",
           "radialaxis": {
            "gridcolor": "white",
            "linecolor": "white",
            "ticks": ""
           }
          },
          "scene": {
           "xaxis": {
            "backgroundcolor": "#E5ECF6",
            "gridcolor": "white",
            "gridwidth": 2,
            "linecolor": "white",
            "showbackground": true,
            "ticks": "",
            "zerolinecolor": "white"
           },
           "yaxis": {
            "backgroundcolor": "#E5ECF6",
            "gridcolor": "white",
            "gridwidth": 2,
            "linecolor": "white",
            "showbackground": true,
            "ticks": "",
            "zerolinecolor": "white"
           },
           "zaxis": {
            "backgroundcolor": "#E5ECF6",
            "gridcolor": "white",
            "gridwidth": 2,
            "linecolor": "white",
            "showbackground": true,
            "ticks": "",
            "zerolinecolor": "white"
           }
          },
          "shapedefaults": {
           "line": {
            "color": "#2a3f5f"
           }
          },
          "ternary": {
           "aaxis": {
            "gridcolor": "white",
            "linecolor": "white",
            "ticks": ""
           },
           "baxis": {
            "gridcolor": "white",
            "linecolor": "white",
            "ticks": ""
           },
           "bgcolor": "#E5ECF6",
           "caxis": {
            "gridcolor": "white",
            "linecolor": "white",
            "ticks": ""
           }
          },
          "title": {
           "x": 0.05
          },
          "xaxis": {
           "automargin": true,
           "gridcolor": "white",
           "linecolor": "white",
           "ticks": "",
           "title": {
            "standoff": 15
           },
           "zerolinecolor": "white",
           "zerolinewidth": 2
          },
          "yaxis": {
           "automargin": true,
           "gridcolor": "white",
           "linecolor": "white",
           "ticks": "",
           "title": {
            "standoff": 15
           },
           "zerolinecolor": "white",
           "zerolinewidth": 2
          }
         }
        },
        "title": {
         "font": {
          "color": "#4D5663"
         }
        },
        "xaxis": {
         "gridcolor": "#E1E5ED",
         "showgrid": true,
         "tickfont": {
          "color": "#4D5663"
         },
         "title": {
          "font": {
           "color": "#4D5663"
          },
          "text": ""
         },
         "zerolinecolor": "#E1E5ED"
        },
        "yaxis": {
         "gridcolor": "#E1E5ED",
         "showgrid": true,
         "tickfont": {
          "color": "#4D5663"
         },
         "title": {
          "font": {
           "color": "#4D5663"
          },
          "text": ""
         },
         "zerolinecolor": "#E1E5ED"
        }
       }
      },
      "text/html": [
       "<div>                            <div id=\"5a4d3ae8-81e4-4481-a68e-a50cf5e9e0c4\" class=\"plotly-graph-div\" style=\"height:525px; width:100%;\"></div>            <script type=\"text/javascript\">                require([\"plotly\"], function(Plotly) {                    window.PLOTLYENV=window.PLOTLYENV || {};\n",
       "                    window.PLOTLYENV.BASE_URL='https://plot.ly';                                    if (document.getElementById(\"5a4d3ae8-81e4-4481-a68e-a50cf5e9e0c4\")) {                    Plotly.newPlot(                        \"5a4d3ae8-81e4-4481-a68e-a50cf5e9e0c4\",                        [{\"marker\":{\"color\":\"rgba(255, 153, 51, 0.6)\",\"line\":{\"color\":\"rgba(255, 153, 51, 1.0)\",\"width\":1}},\"name\":\"None\",\"orientation\":\"v\",\"text\":\"\",\"x\":[\"A\",\"B\",\"C\",\"D\"],\"y\":[100,100,100,100],\"type\":\"bar\"}],                        {\"legend\":{\"bgcolor\":\"#F5F6F9\",\"font\":{\"color\":\"#4D5663\"}},\"paper_bgcolor\":\"#F5F6F9\",\"plot_bgcolor\":\"#F5F6F9\",\"template\":{\"data\":{\"barpolar\":[{\"marker\":{\"line\":{\"color\":\"#E5ECF6\",\"width\":0.5},\"pattern\":{\"fillmode\":\"overlay\",\"size\":10,\"solidity\":0.2}},\"type\":\"barpolar\"}],\"bar\":[{\"error_x\":{\"color\":\"#2a3f5f\"},\"error_y\":{\"color\":\"#2a3f5f\"},\"marker\":{\"line\":{\"color\":\"#E5ECF6\",\"width\":0.5},\"pattern\":{\"fillmode\":\"overlay\",\"size\":10,\"solidity\":0.2}},\"type\":\"bar\"}],\"carpet\":[{\"aaxis\":{\"endlinecolor\":\"#2a3f5f\",\"gridcolor\":\"white\",\"linecolor\":\"white\",\"minorgridcolor\":\"white\",\"startlinecolor\":\"#2a3f5f\"},\"baxis\":{\"endlinecolor\":\"#2a3f5f\",\"gridcolor\":\"white\",\"linecolor\":\"white\",\"minorgridcolor\":\"white\",\"startlinecolor\":\"#2a3f5f\"},\"type\":\"carpet\"}],\"choropleth\":[{\"colorbar\":{\"outlinewidth\":0,\"ticks\":\"\"},\"type\":\"choropleth\"}],\"contourcarpet\":[{\"colorbar\":{\"outlinewidth\":0,\"ticks\":\"\"},\"type\":\"contourcarpet\"}],\"contour\":[{\"colorbar\":{\"outlinewidth\":0,\"ticks\":\"\"},\"colorscale\":[[0.0,\"#0d0887\"],[0.1111111111111111,\"#46039f\"],[0.2222222222222222,\"#7201a8\"],[0.3333333333333333,\"#9c179e\"],[0.4444444444444444,\"#bd3786\"],[0.5555555555555556,\"#d8576b\"],[0.6666666666666666,\"#ed7953\"],[0.7777777777777778,\"#fb9f3a\"],[0.8888888888888888,\"#fdca26\"],[1.0,\"#f0f921\"]],\"type\":\"contour\"}],\"heatmapgl\":[{\"colorbar\":{\"outlinewidth\":0,\"ticks\":\"\"},\"colorscale\":[[0.0,\"#0d0887\"],[0.1111111111111111,\"#46039f\"],[0.2222222222222222,\"#7201a8\"],[0.3333333333333333,\"#9c179e\"],[0.4444444444444444,\"#bd3786\"],[0.5555555555555556,\"#d8576b\"],[0.6666666666666666,\"#ed7953\"],[0.7777777777777778,\"#fb9f3a\"],[0.8888888888888888,\"#fdca26\"],[1.0,\"#f0f921\"]],\"type\":\"heatmapgl\"}],\"heatmap\":[{\"colorbar\":{\"outlinewidth\":0,\"ticks\":\"\"},\"colorscale\":[[0.0,\"#0d0887\"],[0.1111111111111111,\"#46039f\"],[0.2222222222222222,\"#7201a8\"],[0.3333333333333333,\"#9c179e\"],[0.4444444444444444,\"#bd3786\"],[0.5555555555555556,\"#d8576b\"],[0.6666666666666666,\"#ed7953\"],[0.7777777777777778,\"#fb9f3a\"],[0.8888888888888888,\"#fdca26\"],[1.0,\"#f0f921\"]],\"type\":\"heatmap\"}],\"histogram2dcontour\":[{\"colorbar\":{\"outlinewidth\":0,\"ticks\":\"\"},\"colorscale\":[[0.0,\"#0d0887\"],[0.1111111111111111,\"#46039f\"],[0.2222222222222222,\"#7201a8\"],[0.3333333333333333,\"#9c179e\"],[0.4444444444444444,\"#bd3786\"],[0.5555555555555556,\"#d8576b\"],[0.6666666666666666,\"#ed7953\"],[0.7777777777777778,\"#fb9f3a\"],[0.8888888888888888,\"#fdca26\"],[1.0,\"#f0f921\"]],\"type\":\"histogram2dcontour\"}],\"histogram2d\":[{\"colorbar\":{\"outlinewidth\":0,\"ticks\":\"\"},\"colorscale\":[[0.0,\"#0d0887\"],[0.1111111111111111,\"#46039f\"],[0.2222222222222222,\"#7201a8\"],[0.3333333333333333,\"#9c179e\"],[0.4444444444444444,\"#bd3786\"],[0.5555555555555556,\"#d8576b\"],[0.6666666666666666,\"#ed7953\"],[0.7777777777777778,\"#fb9f3a\"],[0.8888888888888888,\"#fdca26\"],[1.0,\"#f0f921\"]],\"type\":\"histogram2d\"}],\"histogram\":[{\"marker\":{\"pattern\":{\"fillmode\":\"overlay\",\"size\":10,\"solidity\":0.2}},\"type\":\"histogram\"}],\"mesh3d\":[{\"colorbar\":{\"outlinewidth\":0,\"ticks\":\"\"},\"type\":\"mesh3d\"}],\"parcoords\":[{\"line\":{\"colorbar\":{\"outlinewidth\":0,\"ticks\":\"\"}},\"type\":\"parcoords\"}],\"pie\":[{\"automargin\":true,\"type\":\"pie\"}],\"scatter3d\":[{\"line\":{\"colorbar\":{\"outlinewidth\":0,\"ticks\":\"\"}},\"marker\":{\"colorbar\":{\"outlinewidth\":0,\"ticks\":\"\"}},\"type\":\"scatter3d\"}],\"scattercarpet\":[{\"marker\":{\"colorbar\":{\"outlinewidth\":0,\"ticks\":\"\"}},\"type\":\"scattercarpet\"}],\"scattergeo\":[{\"marker\":{\"colorbar\":{\"outlinewidth\":0,\"ticks\":\"\"}},\"type\":\"scattergeo\"}],\"scattergl\":[{\"marker\":{\"colorbar\":{\"outlinewidth\":0,\"ticks\":\"\"}},\"type\":\"scattergl\"}],\"scattermapbox\":[{\"marker\":{\"colorbar\":{\"outlinewidth\":0,\"ticks\":\"\"}},\"type\":\"scattermapbox\"}],\"scatterpolargl\":[{\"marker\":{\"colorbar\":{\"outlinewidth\":0,\"ticks\":\"\"}},\"type\":\"scatterpolargl\"}],\"scatterpolar\":[{\"marker\":{\"colorbar\":{\"outlinewidth\":0,\"ticks\":\"\"}},\"type\":\"scatterpolar\"}],\"scatter\":[{\"marker\":{\"colorbar\":{\"outlinewidth\":0,\"ticks\":\"\"}},\"type\":\"scatter\"}],\"scatterternary\":[{\"marker\":{\"colorbar\":{\"outlinewidth\":0,\"ticks\":\"\"}},\"type\":\"scatterternary\"}],\"surface\":[{\"colorbar\":{\"outlinewidth\":0,\"ticks\":\"\"},\"colorscale\":[[0.0,\"#0d0887\"],[0.1111111111111111,\"#46039f\"],[0.2222222222222222,\"#7201a8\"],[0.3333333333333333,\"#9c179e\"],[0.4444444444444444,\"#bd3786\"],[0.5555555555555556,\"#d8576b\"],[0.6666666666666666,\"#ed7953\"],[0.7777777777777778,\"#fb9f3a\"],[0.8888888888888888,\"#fdca26\"],[1.0,\"#f0f921\"]],\"type\":\"surface\"}],\"table\":[{\"cells\":{\"fill\":{\"color\":\"#EBF0F8\"},\"line\":{\"color\":\"white\"}},\"header\":{\"fill\":{\"color\":\"#C8D4E3\"},\"line\":{\"color\":\"white\"}},\"type\":\"table\"}]},\"layout\":{\"annotationdefaults\":{\"arrowcolor\":\"#2a3f5f\",\"arrowhead\":0,\"arrowwidth\":1},\"autotypenumbers\":\"strict\",\"coloraxis\":{\"colorbar\":{\"outlinewidth\":0,\"ticks\":\"\"}},\"colorscale\":{\"diverging\":[[0,\"#8e0152\"],[0.1,\"#c51b7d\"],[0.2,\"#de77ae\"],[0.3,\"#f1b6da\"],[0.4,\"#fde0ef\"],[0.5,\"#f7f7f7\"],[0.6,\"#e6f5d0\"],[0.7,\"#b8e186\"],[0.8,\"#7fbc41\"],[0.9,\"#4d9221\"],[1,\"#276419\"]],\"sequential\":[[0.0,\"#0d0887\"],[0.1111111111111111,\"#46039f\"],[0.2222222222222222,\"#7201a8\"],[0.3333333333333333,\"#9c179e\"],[0.4444444444444444,\"#bd3786\"],[0.5555555555555556,\"#d8576b\"],[0.6666666666666666,\"#ed7953\"],[0.7777777777777778,\"#fb9f3a\"],[0.8888888888888888,\"#fdca26\"],[1.0,\"#f0f921\"]],\"sequentialminus\":[[0.0,\"#0d0887\"],[0.1111111111111111,\"#46039f\"],[0.2222222222222222,\"#7201a8\"],[0.3333333333333333,\"#9c179e\"],[0.4444444444444444,\"#bd3786\"],[0.5555555555555556,\"#d8576b\"],[0.6666666666666666,\"#ed7953\"],[0.7777777777777778,\"#fb9f3a\"],[0.8888888888888888,\"#fdca26\"],[1.0,\"#f0f921\"]]},\"colorway\":[\"#636efa\",\"#EF553B\",\"#00cc96\",\"#ab63fa\",\"#FFA15A\",\"#19d3f3\",\"#FF6692\",\"#B6E880\",\"#FF97FF\",\"#FECB52\"],\"font\":{\"color\":\"#2a3f5f\"},\"geo\":{\"bgcolor\":\"white\",\"lakecolor\":\"white\",\"landcolor\":\"#E5ECF6\",\"showlakes\":true,\"showland\":true,\"subunitcolor\":\"white\"},\"hoverlabel\":{\"align\":\"left\"},\"hovermode\":\"closest\",\"mapbox\":{\"style\":\"light\"},\"paper_bgcolor\":\"white\",\"plot_bgcolor\":\"#E5ECF6\",\"polar\":{\"angularaxis\":{\"gridcolor\":\"white\",\"linecolor\":\"white\",\"ticks\":\"\"},\"bgcolor\":\"#E5ECF6\",\"radialaxis\":{\"gridcolor\":\"white\",\"linecolor\":\"white\",\"ticks\":\"\"}},\"scene\":{\"xaxis\":{\"backgroundcolor\":\"#E5ECF6\",\"gridcolor\":\"white\",\"gridwidth\":2,\"linecolor\":\"white\",\"showbackground\":true,\"ticks\":\"\",\"zerolinecolor\":\"white\"},\"yaxis\":{\"backgroundcolor\":\"#E5ECF6\",\"gridcolor\":\"white\",\"gridwidth\":2,\"linecolor\":\"white\",\"showbackground\":true,\"ticks\":\"\",\"zerolinecolor\":\"white\"},\"zaxis\":{\"backgroundcolor\":\"#E5ECF6\",\"gridcolor\":\"white\",\"gridwidth\":2,\"linecolor\":\"white\",\"showbackground\":true,\"ticks\":\"\",\"zerolinecolor\":\"white\"}},\"shapedefaults\":{\"line\":{\"color\":\"#2a3f5f\"}},\"ternary\":{\"aaxis\":{\"gridcolor\":\"white\",\"linecolor\":\"white\",\"ticks\":\"\"},\"baxis\":{\"gridcolor\":\"white\",\"linecolor\":\"white\",\"ticks\":\"\"},\"bgcolor\":\"#E5ECF6\",\"caxis\":{\"gridcolor\":\"white\",\"linecolor\":\"white\",\"ticks\":\"\"}},\"title\":{\"x\":0.05},\"xaxis\":{\"automargin\":true,\"gridcolor\":\"white\",\"linecolor\":\"white\",\"ticks\":\"\",\"title\":{\"standoff\":15},\"zerolinecolor\":\"white\",\"zerolinewidth\":2},\"yaxis\":{\"automargin\":true,\"gridcolor\":\"white\",\"linecolor\":\"white\",\"ticks\":\"\",\"title\":{\"standoff\":15},\"zerolinecolor\":\"white\",\"zerolinewidth\":2}}},\"title\":{\"font\":{\"color\":\"#4D5663\"}},\"xaxis\":{\"gridcolor\":\"#E1E5ED\",\"showgrid\":true,\"tickfont\":{\"color\":\"#4D5663\"},\"title\":{\"font\":{\"color\":\"#4D5663\"},\"text\":\"\"},\"zerolinecolor\":\"#E1E5ED\"},\"yaxis\":{\"gridcolor\":\"#E1E5ED\",\"showgrid\":true,\"tickfont\":{\"color\":\"#4D5663\"},\"title\":{\"font\":{\"color\":\"#4D5663\"},\"text\":\"\"},\"zerolinecolor\":\"#E1E5ED\"}},                        {\"showLink\": true, \"linkText\": \"Export to plot.ly\", \"plotlyServerURL\": \"https://plot.ly\", \"responsive\": true}                    ).then(function(){\n",
       "                            \n",
       "var gd = document.getElementById('5a4d3ae8-81e4-4481-a68e-a50cf5e9e0c4');\n",
       "var x = new MutationObserver(function (mutations, observer) {{\n",
       "        var display = window.getComputedStyle(gd).display;\n",
       "        if (!display || display === 'none') {{\n",
       "            console.log([gd, 'removed!']);\n",
       "            Plotly.purge(gd);\n",
       "            observer.disconnect();\n",
       "        }}\n",
       "}});\n",
       "\n",
       "// Listen for the removal of the full notebook cells\n",
       "var notebookContainer = gd.closest('#notebook-container');\n",
       "if (notebookContainer) {{\n",
       "    x.observe(notebookContainer, {childList: true});\n",
       "}}\n",
       "\n",
       "// Listen for the clearing of the current output cell\n",
       "var outputEl = gd.closest('.output');\n",
       "if (outputEl) {{\n",
       "    x.observe(outputEl, {childList: true});\n",
       "}}\n",
       "\n",
       "                        })                };                });            </script>        </div>"
      ]
     },
     "metadata": {},
     "output_type": "display_data"
    }
   ],
   "source": [
    "df.count().iplot(kind='bar')"
   ]
  },
  {
   "cell_type": "markdown",
   "metadata": {},
   "source": [
    "## Boxplots"
   ]
  },
  {
   "cell_type": "code",
   "execution_count": 13,
   "metadata": {},
   "outputs": [
    {
     "data": {
      "application/vnd.plotly.v1+json": {
       "config": {
        "linkText": "Export to plot.ly",
        "plotlyServerURL": "https://plot.ly",
        "showLink": true
       },
       "data": [
        {
         "boxpoints": false,
         "line": {
          "width": 1.3
         },
         "marker": {
          "color": "rgba(255, 153, 51, 1.0)"
         },
         "name": "A",
         "orientation": "v",
         "type": "box",
         "y": [
          1.621784997721568,
          -0.41366034592813133,
          0.1703499631587245,
          -1.1920692972460996,
          1.490540900725984,
          -0.057932056600882395,
          1.9493212915706266,
          -1.2133489775891626,
          -1.0171927857273269,
          -0.8748618841330696,
          -0.19903180545332752,
          1.847526392833172,
          -0.2758818988849343,
          0.17071171785641004,
          0.24112433897690283,
          -1.0364302350178969,
          -0.8704374048875894,
          0.11878631382799285,
          0.5524041774833329,
          0.4112892963529475,
          -0.20274718423037727,
          -0.1461750034500728,
          0.3938150717043993,
          1.013168990337693,
          1.1587377671220014,
          -0.07891110920131336,
          0.19674715852663466,
          -0.5137254496290548,
          -1.3594253212057925,
          0.7768929577215199,
          0.6932876094382373,
          0.1484716481867066,
          2.141638801331524,
          -0.6084944312615944,
          0.12650327275946432,
          0.32470093884566403,
          1.4432404036386661,
          0.5217947714925911,
          -1.0688444844738667,
          1.089135815260983,
          -0.29998118456619116,
          1.0273537271019182,
          0.33014992958416733,
          0.586781806816406,
          -1.6649854938580066,
          -0.39329069469733646,
          -0.8237723532130063,
          0.4796787729400577,
          -0.3700012746496557,
          -0.13284150565306116,
          -1.1415402494783435,
          0.4020235767439107,
          -0.06843544392719376,
          -1.605258168642368,
          0.3923808704859432,
          -1.6020304450352683,
          1.0229879340680732,
          -0.4716385035017622,
          -0.3026686970378709,
          0.23121824625826157,
          0.7941197295728922,
          0.2078528949337184,
          -0.05314850978774376,
          1.091414986451456,
          -0.23054064816857944,
          0.12287026554946075,
          -1.7032966482057637,
          -0.5607482142252319,
          -0.4070160127155237,
          0.2911341229123403,
          -1.3376367352973613,
          2.471298182591257,
          -1.4273438012656001,
          -0.9644104778552279,
          0.7529486000501481,
          0.9160977380939834,
          -1.3222788380506154,
          0.07158314746484597,
          1.7485767845451123,
          2.159357303646926,
          -2.4804194984392924,
          -1.423385099276626,
          -1.456924292494143,
          0.09113542169714114,
          -0.8048108696952876,
          -0.27162322444491255,
          0.1389955219980199,
          0.2236833151602733,
          -1.0924382534322106,
          -1.0804917489162433,
          1.4912408101051184,
          0.18322793537716855,
          1.3056813227817263,
          1.9582872537903173,
          -1.3558255227600555,
          -1.5599278170781556,
          0.05322385578051336,
          0.2884950550162606,
          0.48473933084086995,
          -1.1138289966447266
         ]
        },
        {
         "boxpoints": false,
         "line": {
          "width": 1.3
         },
         "marker": {
          "color": "rgba(55, 128, 191, 1.0)"
         },
         "name": "B",
         "orientation": "v",
         "type": "box",
         "y": [
          1.0464563135578546,
          -3.0632225880848103,
          0.7347392981478813,
          -0.4260768015024099,
          0.96632800431009,
          1.2259616492672805,
          -0.3898324536994116,
          -1.3347108635827836,
          0.05850423362368821,
          -0.4564072432013887,
          -0.15724725260979047,
          -1.0977125535217649,
          -1.665999133255654,
          -0.21072539560613976,
          0.7962219185478997,
          -1.288845173225243,
          1.564273626180649,
          -0.11076177080563634,
          0.8491023364744843,
          0.9853140925690016,
          0.6952633578875285,
          -0.5600769380847198,
          -0.19660318900246418,
          -0.6629276497584601,
          -1.3095091871088107,
          1.9410326677104206,
          -0.1989245390276827,
          -0.7713841078744924,
          0.552871220815854,
          -0.8537682860036248,
          -1.4949821204592284,
          0.2732931186024205,
          0.3180571929056187,
          -0.837676117557035,
          0.04896750587297655,
          0.12963765216194872,
          1.4307678743993686,
          -0.42045979023879326,
          -1.9952224416416797,
          -0.5346484174600119,
          -0.204811204865994,
          0.5420650487257817,
          0.4503872326298657,
          0.35425475395255546,
          0.5098829247281865,
          0.34922028677025024,
          -0.7712388190084934,
          1.2298158269216979,
          0.1733960637726265,
          0.3126798756781296,
          0.19876210807019104,
          1.0582434500911917,
          -1.6849847277255832,
          -0.10124840186809116,
          -0.23032439763298906,
          1.6930993305863318,
          -0.5503621073120089,
          1.120459574282658,
          -0.5427843412382684,
          -0.5993572950007119,
          0.39726633886579293,
          -0.465487493410192,
          -0.3432593210298152,
          -0.38337663937759575,
          -1.140292528148463,
          -0.8325557987264668,
          1.6304602355112843,
          1.284431606320553,
          -0.012042543937797351,
          1.6039192046856627,
          -0.5404995606983964,
          1.4255305799121059,
          -0.7118064004521089,
          1.9924921540827385,
          2.3583690017492733,
          1.467961164888937,
          0.6915606738845025,
          -1.7905203549323134,
          0.9946791497816215,
          0.40474624180499874,
          -0.861893923994319,
          -2.102546055137808,
          -0.7677543614787729,
          0.12425845837419648,
          -0.8931963800510369,
          -0.9950165747531337,
          0.9757275360573655,
          -0.2788829177616858,
          0.9797543092857613,
          -0.49850385133220226,
          0.14271820497733537,
          0.03975498644747681,
          0.7118652256934209,
          0.8906588179631437,
          -0.6197301677060046,
          -1.201610403980832,
          2.4617261927462804,
          1.0102652057417734,
          -1.0027608010524207,
          -1.935435639286333
         ]
        },
        {
         "boxpoints": false,
         "line": {
          "width": 1.3
         },
         "marker": {
          "color": "rgba(50, 171, 96, 1.0)"
         },
         "name": "C",
         "orientation": "v",
         "type": "box",
         "y": [
          0.33843758094155335,
          -0.2382709946480748,
          0.22403536453053965,
          -0.3043966856091476,
          -0.9092891682702926,
          2.17868145639729,
          -0.2834297476206791,
          -1.1747593063055741,
          0.8547278158043446,
          -0.28895013784748314,
          -1.0555352363008217,
          -1.7216316204653157,
          -0.6724901553983208,
          0.9453486302766296,
          -1.0250727206635541,
          0.06618194321345852,
          -0.28411764141537355,
          1.631059058350737,
          1.694501208527916,
          0.18409191694693677,
          -0.435324315739716,
          1.49312748793559,
          -0.9461586780122293,
          -0.5138094122024075,
          0.7082355733246352,
          -2.004521818888406,
          1.0088034517924231,
          0.19898135532908753,
          0.9521169639269785,
          -0.03807202992688498,
          1.7246180652826841,
          1.0049603921498376,
          0.3561034983306561,
          1.0036856736349766,
          0.6371941877920423,
          1.534969468086901,
          -0.8419048062706564,
          -0.05031940466547256,
          -0.5993737503476307,
          0.967096866496843,
          -0.9714579177342824,
          -0.6204083855100891,
          0.6943598579296563,
          1.2587355386229353,
          -0.09904670726754072,
          -0.9889542216035125,
          1.349004205847779,
          0.6924025810598344,
          -0.3899570287709958,
          0.6923778114954655,
          0.4354946779581317,
          0.8395989470007246,
          -0.8023939293826446,
          0.5529062988801857,
          1.5930022158547414,
          -0.0033021948190812517,
          0.3914218714623637,
          0.16754014056453526,
          0.8342617129273869,
          1.0888118845726371,
          -0.1744573866531768,
          1.6280531748603946,
          -1.2243913141704272,
          -0.4633239306090089,
          0.6125049384428948,
          0.051854633513044444,
          0.8508869477339461,
          1.5027127847691086,
          0.48426485243644807,
          -1.128822208688011,
          -0.9717832870910856,
          0.6254143649548266,
          0.592465907128901,
          -0.39067682200424536,
          0.06759480248335602,
          0.9858707264858869,
          -0.7246544723035329,
          -1.1019909708749236,
          -1.8734821669209074,
          2.6910576016600904,
          0.8326038503827787,
          -0.6837829572010239,
          -0.27828647768238607,
          -2.1930223888736338,
          -1.3010368303151036,
          0.03847258451290304,
          -0.39220334098864656,
          0.4515211677197727,
          0.3850212005586349,
          -1.7031979580192445,
          -0.6995949612797254,
          0.5978437816476047,
          -1.829365113479942,
          -1.5934857748804108,
          -0.7180116789337732,
          0.1777678173297205,
          -2.1969426091857263,
          -0.9611101217742426,
          0.7084924626039807,
          -0.833105851124916
         ]
        },
        {
         "boxpoints": false,
         "line": {
          "width": 1.3
         },
         "marker": {
          "color": "rgba(128, 0, 128, 1.0)"
         },
         "name": "D",
         "orientation": "v",
         "type": "box",
         "y": [
          -1.1004471665582038,
          0.041217183727715746,
          -0.7718473787639256,
          0.109557433906497,
          1.408925887016048,
          0.796780758991421,
          0.3660699365361497,
          0.9390213997427165,
          -0.5968841974369468,
          0.3672813247171284,
          0.7023621972232881,
          -0.1569516908250397,
          1.5268566575278142,
          0.5890678720923911,
          -1.8729957508816617,
          0.3211315137072359,
          -0.9273489054776755,
          0.1365792379447031,
          -0.6430232999123707,
          0.1961283295358216,
          0.20682960503607187,
          1.7340790969935829,
          0.07469030215823605,
          0.4069181240374408,
          0.887401920221741,
          -0.003514010812075497,
          -0.35382803423574477,
          0.0014193462807367129,
          0.6040694239822059,
          0.63826759625818,
          0.12284176757473954,
          0.3078461613565154,
          0.886220242731648,
          0.5355407769598614,
          -0.3868766954356073,
          -1.235122496288211,
          -0.02187803860552186,
          -0.690821704620183,
          -0.96843782816511,
          0.4290004724349664,
          -0.6150667513201463,
          -1.1644702103477313,
          -0.3024878956777604,
          0.21675550479802616,
          -1.108344807575133,
          -0.6529549198621861,
          -1.6048750507931338,
          2.1282050713734972,
          1.240451474833909,
          -0.9468468701132373,
          -0.7149128729282663,
          0.7684842078600935,
          0.6152290770981884,
          -0.9601817186734947,
          -0.6240098199662922,
          -1.9132242570550178,
          2.3860115322006923,
          1.6017347659003962,
          1.3854886213432298,
          -1.2533714050617275,
          1.1675065748777036,
          -0.8339954419544497,
          0.6645104113109662,
          -1.8460278374452133,
          0.9251573704783496,
          0.2555287627841315,
          2.011142381066698,
          -0.6568507775284618,
          0.4762725736337321,
          1.2235886048878013,
          -0.019813701981420996,
          0.2760002279222589,
          -1.4773144851682558,
          0.3492241057863119,
          0.12354359418652405,
          0.8879054373917248,
          0.25607188364142947,
          0.6587390390326553,
          -0.6310520211119438,
          -1.3190616725838245,
          1.308501006057353,
          0.4882677346986149,
          -0.4421846205193525,
          -3.007741043840323,
          0.8179465777852021,
          0.43747631218148203,
          1.9454955053320981,
          -1.748406067292762,
          0.8939847009844076,
          0.2704301609821631,
          -1.0529061904206758,
          0.2687186229625887,
          -1.061510706367173,
          0.6879940899945505,
          -1.1320643754291746,
          0.12005105359613082,
          -1.7391644637925068,
          -0.8504517692291123,
          0.944538349676949,
          2.2049053506380676
         ]
        }
       ],
       "layout": {
        "legend": {
         "bgcolor": "#F5F6F9",
         "font": {
          "color": "#4D5663"
         }
        },
        "paper_bgcolor": "#F5F6F9",
        "plot_bgcolor": "#F5F6F9",
        "template": {
         "data": {
          "bar": [
           {
            "error_x": {
             "color": "#2a3f5f"
            },
            "error_y": {
             "color": "#2a3f5f"
            },
            "marker": {
             "line": {
              "color": "#E5ECF6",
              "width": 0.5
             },
             "pattern": {
              "fillmode": "overlay",
              "size": 10,
              "solidity": 0.2
             }
            },
            "type": "bar"
           }
          ],
          "barpolar": [
           {
            "marker": {
             "line": {
              "color": "#E5ECF6",
              "width": 0.5
             },
             "pattern": {
              "fillmode": "overlay",
              "size": 10,
              "solidity": 0.2
             }
            },
            "type": "barpolar"
           }
          ],
          "carpet": [
           {
            "aaxis": {
             "endlinecolor": "#2a3f5f",
             "gridcolor": "white",
             "linecolor": "white",
             "minorgridcolor": "white",
             "startlinecolor": "#2a3f5f"
            },
            "baxis": {
             "endlinecolor": "#2a3f5f",
             "gridcolor": "white",
             "linecolor": "white",
             "minorgridcolor": "white",
             "startlinecolor": "#2a3f5f"
            },
            "type": "carpet"
           }
          ],
          "choropleth": [
           {
            "colorbar": {
             "outlinewidth": 0,
             "ticks": ""
            },
            "type": "choropleth"
           }
          ],
          "contour": [
           {
            "colorbar": {
             "outlinewidth": 0,
             "ticks": ""
            },
            "colorscale": [
             [
              0,
              "#0d0887"
             ],
             [
              0.1111111111111111,
              "#46039f"
             ],
             [
              0.2222222222222222,
              "#7201a8"
             ],
             [
              0.3333333333333333,
              "#9c179e"
             ],
             [
              0.4444444444444444,
              "#bd3786"
             ],
             [
              0.5555555555555556,
              "#d8576b"
             ],
             [
              0.6666666666666666,
              "#ed7953"
             ],
             [
              0.7777777777777778,
              "#fb9f3a"
             ],
             [
              0.8888888888888888,
              "#fdca26"
             ],
             [
              1,
              "#f0f921"
             ]
            ],
            "type": "contour"
           }
          ],
          "contourcarpet": [
           {
            "colorbar": {
             "outlinewidth": 0,
             "ticks": ""
            },
            "type": "contourcarpet"
           }
          ],
          "heatmap": [
           {
            "colorbar": {
             "outlinewidth": 0,
             "ticks": ""
            },
            "colorscale": [
             [
              0,
              "#0d0887"
             ],
             [
              0.1111111111111111,
              "#46039f"
             ],
             [
              0.2222222222222222,
              "#7201a8"
             ],
             [
              0.3333333333333333,
              "#9c179e"
             ],
             [
              0.4444444444444444,
              "#bd3786"
             ],
             [
              0.5555555555555556,
              "#d8576b"
             ],
             [
              0.6666666666666666,
              "#ed7953"
             ],
             [
              0.7777777777777778,
              "#fb9f3a"
             ],
             [
              0.8888888888888888,
              "#fdca26"
             ],
             [
              1,
              "#f0f921"
             ]
            ],
            "type": "heatmap"
           }
          ],
          "heatmapgl": [
           {
            "colorbar": {
             "outlinewidth": 0,
             "ticks": ""
            },
            "colorscale": [
             [
              0,
              "#0d0887"
             ],
             [
              0.1111111111111111,
              "#46039f"
             ],
             [
              0.2222222222222222,
              "#7201a8"
             ],
             [
              0.3333333333333333,
              "#9c179e"
             ],
             [
              0.4444444444444444,
              "#bd3786"
             ],
             [
              0.5555555555555556,
              "#d8576b"
             ],
             [
              0.6666666666666666,
              "#ed7953"
             ],
             [
              0.7777777777777778,
              "#fb9f3a"
             ],
             [
              0.8888888888888888,
              "#fdca26"
             ],
             [
              1,
              "#f0f921"
             ]
            ],
            "type": "heatmapgl"
           }
          ],
          "histogram": [
           {
            "marker": {
             "pattern": {
              "fillmode": "overlay",
              "size": 10,
              "solidity": 0.2
             }
            },
            "type": "histogram"
           }
          ],
          "histogram2d": [
           {
            "colorbar": {
             "outlinewidth": 0,
             "ticks": ""
            },
            "colorscale": [
             [
              0,
              "#0d0887"
             ],
             [
              0.1111111111111111,
              "#46039f"
             ],
             [
              0.2222222222222222,
              "#7201a8"
             ],
             [
              0.3333333333333333,
              "#9c179e"
             ],
             [
              0.4444444444444444,
              "#bd3786"
             ],
             [
              0.5555555555555556,
              "#d8576b"
             ],
             [
              0.6666666666666666,
              "#ed7953"
             ],
             [
              0.7777777777777778,
              "#fb9f3a"
             ],
             [
              0.8888888888888888,
              "#fdca26"
             ],
             [
              1,
              "#f0f921"
             ]
            ],
            "type": "histogram2d"
           }
          ],
          "histogram2dcontour": [
           {
            "colorbar": {
             "outlinewidth": 0,
             "ticks": ""
            },
            "colorscale": [
             [
              0,
              "#0d0887"
             ],
             [
              0.1111111111111111,
              "#46039f"
             ],
             [
              0.2222222222222222,
              "#7201a8"
             ],
             [
              0.3333333333333333,
              "#9c179e"
             ],
             [
              0.4444444444444444,
              "#bd3786"
             ],
             [
              0.5555555555555556,
              "#d8576b"
             ],
             [
              0.6666666666666666,
              "#ed7953"
             ],
             [
              0.7777777777777778,
              "#fb9f3a"
             ],
             [
              0.8888888888888888,
              "#fdca26"
             ],
             [
              1,
              "#f0f921"
             ]
            ],
            "type": "histogram2dcontour"
           }
          ],
          "mesh3d": [
           {
            "colorbar": {
             "outlinewidth": 0,
             "ticks": ""
            },
            "type": "mesh3d"
           }
          ],
          "parcoords": [
           {
            "line": {
             "colorbar": {
              "outlinewidth": 0,
              "ticks": ""
             }
            },
            "type": "parcoords"
           }
          ],
          "pie": [
           {
            "automargin": true,
            "type": "pie"
           }
          ],
          "scatter": [
           {
            "marker": {
             "colorbar": {
              "outlinewidth": 0,
              "ticks": ""
             }
            },
            "type": "scatter"
           }
          ],
          "scatter3d": [
           {
            "line": {
             "colorbar": {
              "outlinewidth": 0,
              "ticks": ""
             }
            },
            "marker": {
             "colorbar": {
              "outlinewidth": 0,
              "ticks": ""
             }
            },
            "type": "scatter3d"
           }
          ],
          "scattercarpet": [
           {
            "marker": {
             "colorbar": {
              "outlinewidth": 0,
              "ticks": ""
             }
            },
            "type": "scattercarpet"
           }
          ],
          "scattergeo": [
           {
            "marker": {
             "colorbar": {
              "outlinewidth": 0,
              "ticks": ""
             }
            },
            "type": "scattergeo"
           }
          ],
          "scattergl": [
           {
            "marker": {
             "colorbar": {
              "outlinewidth": 0,
              "ticks": ""
             }
            },
            "type": "scattergl"
           }
          ],
          "scattermapbox": [
           {
            "marker": {
             "colorbar": {
              "outlinewidth": 0,
              "ticks": ""
             }
            },
            "type": "scattermapbox"
           }
          ],
          "scatterpolar": [
           {
            "marker": {
             "colorbar": {
              "outlinewidth": 0,
              "ticks": ""
             }
            },
            "type": "scatterpolar"
           }
          ],
          "scatterpolargl": [
           {
            "marker": {
             "colorbar": {
              "outlinewidth": 0,
              "ticks": ""
             }
            },
            "type": "scatterpolargl"
           }
          ],
          "scatterternary": [
           {
            "marker": {
             "colorbar": {
              "outlinewidth": 0,
              "ticks": ""
             }
            },
            "type": "scatterternary"
           }
          ],
          "surface": [
           {
            "colorbar": {
             "outlinewidth": 0,
             "ticks": ""
            },
            "colorscale": [
             [
              0,
              "#0d0887"
             ],
             [
              0.1111111111111111,
              "#46039f"
             ],
             [
              0.2222222222222222,
              "#7201a8"
             ],
             [
              0.3333333333333333,
              "#9c179e"
             ],
             [
              0.4444444444444444,
              "#bd3786"
             ],
             [
              0.5555555555555556,
              "#d8576b"
             ],
             [
              0.6666666666666666,
              "#ed7953"
             ],
             [
              0.7777777777777778,
              "#fb9f3a"
             ],
             [
              0.8888888888888888,
              "#fdca26"
             ],
             [
              1,
              "#f0f921"
             ]
            ],
            "type": "surface"
           }
          ],
          "table": [
           {
            "cells": {
             "fill": {
              "color": "#EBF0F8"
             },
             "line": {
              "color": "white"
             }
            },
            "header": {
             "fill": {
              "color": "#C8D4E3"
             },
             "line": {
              "color": "white"
             }
            },
            "type": "table"
           }
          ]
         },
         "layout": {
          "annotationdefaults": {
           "arrowcolor": "#2a3f5f",
           "arrowhead": 0,
           "arrowwidth": 1
          },
          "autotypenumbers": "strict",
          "coloraxis": {
           "colorbar": {
            "outlinewidth": 0,
            "ticks": ""
           }
          },
          "colorscale": {
           "diverging": [
            [
             0,
             "#8e0152"
            ],
            [
             0.1,
             "#c51b7d"
            ],
            [
             0.2,
             "#de77ae"
            ],
            [
             0.3,
             "#f1b6da"
            ],
            [
             0.4,
             "#fde0ef"
            ],
            [
             0.5,
             "#f7f7f7"
            ],
            [
             0.6,
             "#e6f5d0"
            ],
            [
             0.7,
             "#b8e186"
            ],
            [
             0.8,
             "#7fbc41"
            ],
            [
             0.9,
             "#4d9221"
            ],
            [
             1,
             "#276419"
            ]
           ],
           "sequential": [
            [
             0,
             "#0d0887"
            ],
            [
             0.1111111111111111,
             "#46039f"
            ],
            [
             0.2222222222222222,
             "#7201a8"
            ],
            [
             0.3333333333333333,
             "#9c179e"
            ],
            [
             0.4444444444444444,
             "#bd3786"
            ],
            [
             0.5555555555555556,
             "#d8576b"
            ],
            [
             0.6666666666666666,
             "#ed7953"
            ],
            [
             0.7777777777777778,
             "#fb9f3a"
            ],
            [
             0.8888888888888888,
             "#fdca26"
            ],
            [
             1,
             "#f0f921"
            ]
           ],
           "sequentialminus": [
            [
             0,
             "#0d0887"
            ],
            [
             0.1111111111111111,
             "#46039f"
            ],
            [
             0.2222222222222222,
             "#7201a8"
            ],
            [
             0.3333333333333333,
             "#9c179e"
            ],
            [
             0.4444444444444444,
             "#bd3786"
            ],
            [
             0.5555555555555556,
             "#d8576b"
            ],
            [
             0.6666666666666666,
             "#ed7953"
            ],
            [
             0.7777777777777778,
             "#fb9f3a"
            ],
            [
             0.8888888888888888,
             "#fdca26"
            ],
            [
             1,
             "#f0f921"
            ]
           ]
          },
          "colorway": [
           "#636efa",
           "#EF553B",
           "#00cc96",
           "#ab63fa",
           "#FFA15A",
           "#19d3f3",
           "#FF6692",
           "#B6E880",
           "#FF97FF",
           "#FECB52"
          ],
          "font": {
           "color": "#2a3f5f"
          },
          "geo": {
           "bgcolor": "white",
           "lakecolor": "white",
           "landcolor": "#E5ECF6",
           "showlakes": true,
           "showland": true,
           "subunitcolor": "white"
          },
          "hoverlabel": {
           "align": "left"
          },
          "hovermode": "closest",
          "mapbox": {
           "style": "light"
          },
          "paper_bgcolor": "white",
          "plot_bgcolor": "#E5ECF6",
          "polar": {
           "angularaxis": {
            "gridcolor": "white",
            "linecolor": "white",
            "ticks": ""
           },
           "bgcolor": "#E5ECF6",
           "radialaxis": {
            "gridcolor": "white",
            "linecolor": "white",
            "ticks": ""
           }
          },
          "scene": {
           "xaxis": {
            "backgroundcolor": "#E5ECF6",
            "gridcolor": "white",
            "gridwidth": 2,
            "linecolor": "white",
            "showbackground": true,
            "ticks": "",
            "zerolinecolor": "white"
           },
           "yaxis": {
            "backgroundcolor": "#E5ECF6",
            "gridcolor": "white",
            "gridwidth": 2,
            "linecolor": "white",
            "showbackground": true,
            "ticks": "",
            "zerolinecolor": "white"
           },
           "zaxis": {
            "backgroundcolor": "#E5ECF6",
            "gridcolor": "white",
            "gridwidth": 2,
            "linecolor": "white",
            "showbackground": true,
            "ticks": "",
            "zerolinecolor": "white"
           }
          },
          "shapedefaults": {
           "line": {
            "color": "#2a3f5f"
           }
          },
          "ternary": {
           "aaxis": {
            "gridcolor": "white",
            "linecolor": "white",
            "ticks": ""
           },
           "baxis": {
            "gridcolor": "white",
            "linecolor": "white",
            "ticks": ""
           },
           "bgcolor": "#E5ECF6",
           "caxis": {
            "gridcolor": "white",
            "linecolor": "white",
            "ticks": ""
           }
          },
          "title": {
           "x": 0.05
          },
          "xaxis": {
           "automargin": true,
           "gridcolor": "white",
           "linecolor": "white",
           "ticks": "",
           "title": {
            "standoff": 15
           },
           "zerolinecolor": "white",
           "zerolinewidth": 2
          },
          "yaxis": {
           "automargin": true,
           "gridcolor": "white",
           "linecolor": "white",
           "ticks": "",
           "title": {
            "standoff": 15
           },
           "zerolinecolor": "white",
           "zerolinewidth": 2
          }
         }
        },
        "title": {
         "font": {
          "color": "#4D5663"
         }
        },
        "xaxis": {
         "gridcolor": "#E1E5ED",
         "showgrid": true,
         "tickfont": {
          "color": "#4D5663"
         },
         "title": {
          "font": {
           "color": "#4D5663"
          },
          "text": ""
         },
         "zerolinecolor": "#E1E5ED"
        },
        "yaxis": {
         "gridcolor": "#E1E5ED",
         "showgrid": true,
         "tickfont": {
          "color": "#4D5663"
         },
         "title": {
          "font": {
           "color": "#4D5663"
          },
          "text": ""
         },
         "zerolinecolor": "#E1E5ED"
        }
       }
      },
      "text/html": [
       "<div>                            <div id=\"5a9ad0f0-22ef-4ba7-bfd2-af0d5d203d05\" class=\"plotly-graph-div\" style=\"height:525px; width:100%;\"></div>            <script type=\"text/javascript\">                require([\"plotly\"], function(Plotly) {                    window.PLOTLYENV=window.PLOTLYENV || {};\n",
       "                    window.PLOTLYENV.BASE_URL='https://plot.ly';                                    if (document.getElementById(\"5a9ad0f0-22ef-4ba7-bfd2-af0d5d203d05\")) {                    Plotly.newPlot(                        \"5a9ad0f0-22ef-4ba7-bfd2-af0d5d203d05\",                        [{\"boxpoints\":false,\"line\":{\"width\":1.3},\"marker\":{\"color\":\"rgba(255, 153, 51, 1.0)\"},\"name\":\"A\",\"orientation\":\"v\",\"y\":[1.621784997721568,-0.41366034592813133,0.1703499631587245,-1.1920692972460996,1.490540900725984,-0.057932056600882395,1.9493212915706266,-1.2133489775891626,-1.0171927857273269,-0.8748618841330696,-0.19903180545332752,1.847526392833172,-0.2758818988849343,0.17071171785641004,0.24112433897690283,-1.0364302350178969,-0.8704374048875894,0.11878631382799285,0.5524041774833329,0.4112892963529475,-0.20274718423037727,-0.1461750034500728,0.3938150717043993,1.013168990337693,1.1587377671220014,-0.07891110920131336,0.19674715852663466,-0.5137254496290548,-1.3594253212057925,0.7768929577215199,0.6932876094382373,0.1484716481867066,2.141638801331524,-0.6084944312615944,0.12650327275946432,0.32470093884566403,1.4432404036386661,0.5217947714925911,-1.0688444844738667,1.089135815260983,-0.29998118456619116,1.0273537271019182,0.33014992958416733,0.586781806816406,-1.6649854938580066,-0.39329069469733646,-0.8237723532130063,0.4796787729400577,-0.3700012746496557,-0.13284150565306116,-1.1415402494783435,0.4020235767439107,-0.06843544392719376,-1.605258168642368,0.3923808704859432,-1.6020304450352683,1.0229879340680732,-0.4716385035017622,-0.3026686970378709,0.23121824625826157,0.7941197295728922,0.2078528949337184,-0.05314850978774376,1.091414986451456,-0.23054064816857944,0.12287026554946075,-1.7032966482057637,-0.5607482142252319,-0.4070160127155237,0.2911341229123403,-1.3376367352973613,2.471298182591257,-1.4273438012656001,-0.9644104778552279,0.7529486000501481,0.9160977380939834,-1.3222788380506154,0.07158314746484597,1.7485767845451123,2.159357303646926,-2.4804194984392924,-1.423385099276626,-1.456924292494143,0.09113542169714114,-0.8048108696952876,-0.27162322444491255,0.1389955219980199,0.2236833151602733,-1.0924382534322106,-1.0804917489162433,1.4912408101051184,0.18322793537716855,1.3056813227817263,1.9582872537903173,-1.3558255227600555,-1.5599278170781556,0.05322385578051336,0.2884950550162606,0.48473933084086995,-1.1138289966447266],\"type\":\"box\"},{\"boxpoints\":false,\"line\":{\"width\":1.3},\"marker\":{\"color\":\"rgba(55, 128, 191, 1.0)\"},\"name\":\"B\",\"orientation\":\"v\",\"y\":[1.0464563135578546,-3.0632225880848103,0.7347392981478813,-0.4260768015024099,0.96632800431009,1.2259616492672805,-0.3898324536994116,-1.3347108635827836,0.05850423362368821,-0.4564072432013887,-0.15724725260979047,-1.0977125535217649,-1.665999133255654,-0.21072539560613976,0.7962219185478997,-1.288845173225243,1.564273626180649,-0.11076177080563634,0.8491023364744843,0.9853140925690016,0.6952633578875285,-0.5600769380847198,-0.19660318900246418,-0.6629276497584601,-1.3095091871088107,1.9410326677104206,-0.1989245390276827,-0.7713841078744924,0.552871220815854,-0.8537682860036248,-1.4949821204592284,0.2732931186024205,0.3180571929056187,-0.837676117557035,0.04896750587297655,0.12963765216194872,1.4307678743993686,-0.42045979023879326,-1.9952224416416797,-0.5346484174600119,-0.204811204865994,0.5420650487257817,0.4503872326298657,0.35425475395255546,0.5098829247281865,0.34922028677025024,-0.7712388190084934,1.2298158269216979,0.1733960637726265,0.3126798756781296,0.19876210807019104,1.0582434500911917,-1.6849847277255832,-0.10124840186809116,-0.23032439763298906,1.6930993305863318,-0.5503621073120089,1.120459574282658,-0.5427843412382684,-0.5993572950007119,0.39726633886579293,-0.465487493410192,-0.3432593210298152,-0.38337663937759575,-1.140292528148463,-0.8325557987264668,1.6304602355112843,1.284431606320553,-0.012042543937797351,1.6039192046856627,-0.5404995606983964,1.4255305799121059,-0.7118064004521089,1.9924921540827385,2.3583690017492733,1.467961164888937,0.6915606738845025,-1.7905203549323134,0.9946791497816215,0.40474624180499874,-0.861893923994319,-2.102546055137808,-0.7677543614787729,0.12425845837419648,-0.8931963800510369,-0.9950165747531337,0.9757275360573655,-0.2788829177616858,0.9797543092857613,-0.49850385133220226,0.14271820497733537,0.03975498644747681,0.7118652256934209,0.8906588179631437,-0.6197301677060046,-1.201610403980832,2.4617261927462804,1.0102652057417734,-1.0027608010524207,-1.935435639286333],\"type\":\"box\"},{\"boxpoints\":false,\"line\":{\"width\":1.3},\"marker\":{\"color\":\"rgba(50, 171, 96, 1.0)\"},\"name\":\"C\",\"orientation\":\"v\",\"y\":[0.33843758094155335,-0.2382709946480748,0.22403536453053965,-0.3043966856091476,-0.9092891682702926,2.17868145639729,-0.2834297476206791,-1.1747593063055741,0.8547278158043446,-0.28895013784748314,-1.0555352363008217,-1.7216316204653157,-0.6724901553983208,0.9453486302766296,-1.0250727206635541,0.06618194321345852,-0.28411764141537355,1.631059058350737,1.694501208527916,0.18409191694693677,-0.435324315739716,1.49312748793559,-0.9461586780122293,-0.5138094122024075,0.7082355733246352,-2.004521818888406,1.0088034517924231,0.19898135532908753,0.9521169639269785,-0.03807202992688498,1.7246180652826841,1.0049603921498376,0.3561034983306561,1.0036856736349766,0.6371941877920423,1.534969468086901,-0.8419048062706564,-0.05031940466547256,-0.5993737503476307,0.967096866496843,-0.9714579177342824,-0.6204083855100891,0.6943598579296563,1.2587355386229353,-0.09904670726754072,-0.9889542216035125,1.349004205847779,0.6924025810598344,-0.3899570287709958,0.6923778114954655,0.4354946779581317,0.8395989470007246,-0.8023939293826446,0.5529062988801857,1.5930022158547414,-0.0033021948190812517,0.3914218714623637,0.16754014056453526,0.8342617129273869,1.0888118845726371,-0.1744573866531768,1.6280531748603946,-1.2243913141704272,-0.4633239306090089,0.6125049384428948,0.051854633513044444,0.8508869477339461,1.5027127847691086,0.48426485243644807,-1.128822208688011,-0.9717832870910856,0.6254143649548266,0.592465907128901,-0.39067682200424536,0.06759480248335602,0.9858707264858869,-0.7246544723035329,-1.1019909708749236,-1.8734821669209074,2.6910576016600904,0.8326038503827787,-0.6837829572010239,-0.27828647768238607,-2.1930223888736338,-1.3010368303151036,0.03847258451290304,-0.39220334098864656,0.4515211677197727,0.3850212005586349,-1.7031979580192445,-0.6995949612797254,0.5978437816476047,-1.829365113479942,-1.5934857748804108,-0.7180116789337732,0.1777678173297205,-2.1969426091857263,-0.9611101217742426,0.7084924626039807,-0.833105851124916],\"type\":\"box\"},{\"boxpoints\":false,\"line\":{\"width\":1.3},\"marker\":{\"color\":\"rgba(128, 0, 128, 1.0)\"},\"name\":\"D\",\"orientation\":\"v\",\"y\":[-1.1004471665582038,0.041217183727715746,-0.7718473787639256,0.109557433906497,1.408925887016048,0.796780758991421,0.3660699365361497,0.9390213997427165,-0.5968841974369468,0.3672813247171284,0.7023621972232881,-0.1569516908250397,1.5268566575278142,0.5890678720923911,-1.8729957508816617,0.3211315137072359,-0.9273489054776755,0.1365792379447031,-0.6430232999123707,0.1961283295358216,0.20682960503607187,1.7340790969935829,0.07469030215823605,0.4069181240374408,0.887401920221741,-0.003514010812075497,-0.35382803423574477,0.0014193462807367129,0.6040694239822059,0.63826759625818,0.12284176757473954,0.3078461613565154,0.886220242731648,0.5355407769598614,-0.3868766954356073,-1.235122496288211,-0.02187803860552186,-0.690821704620183,-0.96843782816511,0.4290004724349664,-0.6150667513201463,-1.1644702103477313,-0.3024878956777604,0.21675550479802616,-1.108344807575133,-0.6529549198621861,-1.6048750507931338,2.1282050713734972,1.240451474833909,-0.9468468701132373,-0.7149128729282663,0.7684842078600935,0.6152290770981884,-0.9601817186734947,-0.6240098199662922,-1.9132242570550178,2.3860115322006923,1.6017347659003962,1.3854886213432298,-1.2533714050617275,1.1675065748777036,-0.8339954419544497,0.6645104113109662,-1.8460278374452133,0.9251573704783496,0.2555287627841315,2.011142381066698,-0.6568507775284618,0.4762725736337321,1.2235886048878013,-0.019813701981420996,0.2760002279222589,-1.4773144851682558,0.3492241057863119,0.12354359418652405,0.8879054373917248,0.25607188364142947,0.6587390390326553,-0.6310520211119438,-1.3190616725838245,1.308501006057353,0.4882677346986149,-0.4421846205193525,-3.007741043840323,0.8179465777852021,0.43747631218148203,1.9454955053320981,-1.748406067292762,0.8939847009844076,0.2704301609821631,-1.0529061904206758,0.2687186229625887,-1.061510706367173,0.6879940899945505,-1.1320643754291746,0.12005105359613082,-1.7391644637925068,-0.8504517692291123,0.944538349676949,2.2049053506380676],\"type\":\"box\"}],                        {\"legend\":{\"bgcolor\":\"#F5F6F9\",\"font\":{\"color\":\"#4D5663\"}},\"paper_bgcolor\":\"#F5F6F9\",\"plot_bgcolor\":\"#F5F6F9\",\"template\":{\"data\":{\"barpolar\":[{\"marker\":{\"line\":{\"color\":\"#E5ECF6\",\"width\":0.5},\"pattern\":{\"fillmode\":\"overlay\",\"size\":10,\"solidity\":0.2}},\"type\":\"barpolar\"}],\"bar\":[{\"error_x\":{\"color\":\"#2a3f5f\"},\"error_y\":{\"color\":\"#2a3f5f\"},\"marker\":{\"line\":{\"color\":\"#E5ECF6\",\"width\":0.5},\"pattern\":{\"fillmode\":\"overlay\",\"size\":10,\"solidity\":0.2}},\"type\":\"bar\"}],\"carpet\":[{\"aaxis\":{\"endlinecolor\":\"#2a3f5f\",\"gridcolor\":\"white\",\"linecolor\":\"white\",\"minorgridcolor\":\"white\",\"startlinecolor\":\"#2a3f5f\"},\"baxis\":{\"endlinecolor\":\"#2a3f5f\",\"gridcolor\":\"white\",\"linecolor\":\"white\",\"minorgridcolor\":\"white\",\"startlinecolor\":\"#2a3f5f\"},\"type\":\"carpet\"}],\"choropleth\":[{\"colorbar\":{\"outlinewidth\":0,\"ticks\":\"\"},\"type\":\"choropleth\"}],\"contourcarpet\":[{\"colorbar\":{\"outlinewidth\":0,\"ticks\":\"\"},\"type\":\"contourcarpet\"}],\"contour\":[{\"colorbar\":{\"outlinewidth\":0,\"ticks\":\"\"},\"colorscale\":[[0.0,\"#0d0887\"],[0.1111111111111111,\"#46039f\"],[0.2222222222222222,\"#7201a8\"],[0.3333333333333333,\"#9c179e\"],[0.4444444444444444,\"#bd3786\"],[0.5555555555555556,\"#d8576b\"],[0.6666666666666666,\"#ed7953\"],[0.7777777777777778,\"#fb9f3a\"],[0.8888888888888888,\"#fdca26\"],[1.0,\"#f0f921\"]],\"type\":\"contour\"}],\"heatmapgl\":[{\"colorbar\":{\"outlinewidth\":0,\"ticks\":\"\"},\"colorscale\":[[0.0,\"#0d0887\"],[0.1111111111111111,\"#46039f\"],[0.2222222222222222,\"#7201a8\"],[0.3333333333333333,\"#9c179e\"],[0.4444444444444444,\"#bd3786\"],[0.5555555555555556,\"#d8576b\"],[0.6666666666666666,\"#ed7953\"],[0.7777777777777778,\"#fb9f3a\"],[0.8888888888888888,\"#fdca26\"],[1.0,\"#f0f921\"]],\"type\":\"heatmapgl\"}],\"heatmap\":[{\"colorbar\":{\"outlinewidth\":0,\"ticks\":\"\"},\"colorscale\":[[0.0,\"#0d0887\"],[0.1111111111111111,\"#46039f\"],[0.2222222222222222,\"#7201a8\"],[0.3333333333333333,\"#9c179e\"],[0.4444444444444444,\"#bd3786\"],[0.5555555555555556,\"#d8576b\"],[0.6666666666666666,\"#ed7953\"],[0.7777777777777778,\"#fb9f3a\"],[0.8888888888888888,\"#fdca26\"],[1.0,\"#f0f921\"]],\"type\":\"heatmap\"}],\"histogram2dcontour\":[{\"colorbar\":{\"outlinewidth\":0,\"ticks\":\"\"},\"colorscale\":[[0.0,\"#0d0887\"],[0.1111111111111111,\"#46039f\"],[0.2222222222222222,\"#7201a8\"],[0.3333333333333333,\"#9c179e\"],[0.4444444444444444,\"#bd3786\"],[0.5555555555555556,\"#d8576b\"],[0.6666666666666666,\"#ed7953\"],[0.7777777777777778,\"#fb9f3a\"],[0.8888888888888888,\"#fdca26\"],[1.0,\"#f0f921\"]],\"type\":\"histogram2dcontour\"}],\"histogram2d\":[{\"colorbar\":{\"outlinewidth\":0,\"ticks\":\"\"},\"colorscale\":[[0.0,\"#0d0887\"],[0.1111111111111111,\"#46039f\"],[0.2222222222222222,\"#7201a8\"],[0.3333333333333333,\"#9c179e\"],[0.4444444444444444,\"#bd3786\"],[0.5555555555555556,\"#d8576b\"],[0.6666666666666666,\"#ed7953\"],[0.7777777777777778,\"#fb9f3a\"],[0.8888888888888888,\"#fdca26\"],[1.0,\"#f0f921\"]],\"type\":\"histogram2d\"}],\"histogram\":[{\"marker\":{\"pattern\":{\"fillmode\":\"overlay\",\"size\":10,\"solidity\":0.2}},\"type\":\"histogram\"}],\"mesh3d\":[{\"colorbar\":{\"outlinewidth\":0,\"ticks\":\"\"},\"type\":\"mesh3d\"}],\"parcoords\":[{\"line\":{\"colorbar\":{\"outlinewidth\":0,\"ticks\":\"\"}},\"type\":\"parcoords\"}],\"pie\":[{\"automargin\":true,\"type\":\"pie\"}],\"scatter3d\":[{\"line\":{\"colorbar\":{\"outlinewidth\":0,\"ticks\":\"\"}},\"marker\":{\"colorbar\":{\"outlinewidth\":0,\"ticks\":\"\"}},\"type\":\"scatter3d\"}],\"scattercarpet\":[{\"marker\":{\"colorbar\":{\"outlinewidth\":0,\"ticks\":\"\"}},\"type\":\"scattercarpet\"}],\"scattergeo\":[{\"marker\":{\"colorbar\":{\"outlinewidth\":0,\"ticks\":\"\"}},\"type\":\"scattergeo\"}],\"scattergl\":[{\"marker\":{\"colorbar\":{\"outlinewidth\":0,\"ticks\":\"\"}},\"type\":\"scattergl\"}],\"scattermapbox\":[{\"marker\":{\"colorbar\":{\"outlinewidth\":0,\"ticks\":\"\"}},\"type\":\"scattermapbox\"}],\"scatterpolargl\":[{\"marker\":{\"colorbar\":{\"outlinewidth\":0,\"ticks\":\"\"}},\"type\":\"scatterpolargl\"}],\"scatterpolar\":[{\"marker\":{\"colorbar\":{\"outlinewidth\":0,\"ticks\":\"\"}},\"type\":\"scatterpolar\"}],\"scatter\":[{\"marker\":{\"colorbar\":{\"outlinewidth\":0,\"ticks\":\"\"}},\"type\":\"scatter\"}],\"scatterternary\":[{\"marker\":{\"colorbar\":{\"outlinewidth\":0,\"ticks\":\"\"}},\"type\":\"scatterternary\"}],\"surface\":[{\"colorbar\":{\"outlinewidth\":0,\"ticks\":\"\"},\"colorscale\":[[0.0,\"#0d0887\"],[0.1111111111111111,\"#46039f\"],[0.2222222222222222,\"#7201a8\"],[0.3333333333333333,\"#9c179e\"],[0.4444444444444444,\"#bd3786\"],[0.5555555555555556,\"#d8576b\"],[0.6666666666666666,\"#ed7953\"],[0.7777777777777778,\"#fb9f3a\"],[0.8888888888888888,\"#fdca26\"],[1.0,\"#f0f921\"]],\"type\":\"surface\"}],\"table\":[{\"cells\":{\"fill\":{\"color\":\"#EBF0F8\"},\"line\":{\"color\":\"white\"}},\"header\":{\"fill\":{\"color\":\"#C8D4E3\"},\"line\":{\"color\":\"white\"}},\"type\":\"table\"}]},\"layout\":{\"annotationdefaults\":{\"arrowcolor\":\"#2a3f5f\",\"arrowhead\":0,\"arrowwidth\":1},\"autotypenumbers\":\"strict\",\"coloraxis\":{\"colorbar\":{\"outlinewidth\":0,\"ticks\":\"\"}},\"colorscale\":{\"diverging\":[[0,\"#8e0152\"],[0.1,\"#c51b7d\"],[0.2,\"#de77ae\"],[0.3,\"#f1b6da\"],[0.4,\"#fde0ef\"],[0.5,\"#f7f7f7\"],[0.6,\"#e6f5d0\"],[0.7,\"#b8e186\"],[0.8,\"#7fbc41\"],[0.9,\"#4d9221\"],[1,\"#276419\"]],\"sequential\":[[0.0,\"#0d0887\"],[0.1111111111111111,\"#46039f\"],[0.2222222222222222,\"#7201a8\"],[0.3333333333333333,\"#9c179e\"],[0.4444444444444444,\"#bd3786\"],[0.5555555555555556,\"#d8576b\"],[0.6666666666666666,\"#ed7953\"],[0.7777777777777778,\"#fb9f3a\"],[0.8888888888888888,\"#fdca26\"],[1.0,\"#f0f921\"]],\"sequentialminus\":[[0.0,\"#0d0887\"],[0.1111111111111111,\"#46039f\"],[0.2222222222222222,\"#7201a8\"],[0.3333333333333333,\"#9c179e\"],[0.4444444444444444,\"#bd3786\"],[0.5555555555555556,\"#d8576b\"],[0.6666666666666666,\"#ed7953\"],[0.7777777777777778,\"#fb9f3a\"],[0.8888888888888888,\"#fdca26\"],[1.0,\"#f0f921\"]]},\"colorway\":[\"#636efa\",\"#EF553B\",\"#00cc96\",\"#ab63fa\",\"#FFA15A\",\"#19d3f3\",\"#FF6692\",\"#B6E880\",\"#FF97FF\",\"#FECB52\"],\"font\":{\"color\":\"#2a3f5f\"},\"geo\":{\"bgcolor\":\"white\",\"lakecolor\":\"white\",\"landcolor\":\"#E5ECF6\",\"showlakes\":true,\"showland\":true,\"subunitcolor\":\"white\"},\"hoverlabel\":{\"align\":\"left\"},\"hovermode\":\"closest\",\"mapbox\":{\"style\":\"light\"},\"paper_bgcolor\":\"white\",\"plot_bgcolor\":\"#E5ECF6\",\"polar\":{\"angularaxis\":{\"gridcolor\":\"white\",\"linecolor\":\"white\",\"ticks\":\"\"},\"bgcolor\":\"#E5ECF6\",\"radialaxis\":{\"gridcolor\":\"white\",\"linecolor\":\"white\",\"ticks\":\"\"}},\"scene\":{\"xaxis\":{\"backgroundcolor\":\"#E5ECF6\",\"gridcolor\":\"white\",\"gridwidth\":2,\"linecolor\":\"white\",\"showbackground\":true,\"ticks\":\"\",\"zerolinecolor\":\"white\"},\"yaxis\":{\"backgroundcolor\":\"#E5ECF6\",\"gridcolor\":\"white\",\"gridwidth\":2,\"linecolor\":\"white\",\"showbackground\":true,\"ticks\":\"\",\"zerolinecolor\":\"white\"},\"zaxis\":{\"backgroundcolor\":\"#E5ECF6\",\"gridcolor\":\"white\",\"gridwidth\":2,\"linecolor\":\"white\",\"showbackground\":true,\"ticks\":\"\",\"zerolinecolor\":\"white\"}},\"shapedefaults\":{\"line\":{\"color\":\"#2a3f5f\"}},\"ternary\":{\"aaxis\":{\"gridcolor\":\"white\",\"linecolor\":\"white\",\"ticks\":\"\"},\"baxis\":{\"gridcolor\":\"white\",\"linecolor\":\"white\",\"ticks\":\"\"},\"bgcolor\":\"#E5ECF6\",\"caxis\":{\"gridcolor\":\"white\",\"linecolor\":\"white\",\"ticks\":\"\"}},\"title\":{\"x\":0.05},\"xaxis\":{\"automargin\":true,\"gridcolor\":\"white\",\"linecolor\":\"white\",\"ticks\":\"\",\"title\":{\"standoff\":15},\"zerolinecolor\":\"white\",\"zerolinewidth\":2},\"yaxis\":{\"automargin\":true,\"gridcolor\":\"white\",\"linecolor\":\"white\",\"ticks\":\"\",\"title\":{\"standoff\":15},\"zerolinecolor\":\"white\",\"zerolinewidth\":2}}},\"title\":{\"font\":{\"color\":\"#4D5663\"}},\"xaxis\":{\"gridcolor\":\"#E1E5ED\",\"showgrid\":true,\"tickfont\":{\"color\":\"#4D5663\"},\"title\":{\"font\":{\"color\":\"#4D5663\"},\"text\":\"\"},\"zerolinecolor\":\"#E1E5ED\"},\"yaxis\":{\"gridcolor\":\"#E1E5ED\",\"showgrid\":true,\"tickfont\":{\"color\":\"#4D5663\"},\"title\":{\"font\":{\"color\":\"#4D5663\"},\"text\":\"\"},\"zerolinecolor\":\"#E1E5ED\"}},                        {\"showLink\": true, \"linkText\": \"Export to plot.ly\", \"plotlyServerURL\": \"https://plot.ly\", \"responsive\": true}                    ).then(function(){\n",
       "                            \n",
       "var gd = document.getElementById('5a9ad0f0-22ef-4ba7-bfd2-af0d5d203d05');\n",
       "var x = new MutationObserver(function (mutations, observer) {{\n",
       "        var display = window.getComputedStyle(gd).display;\n",
       "        if (!display || display === 'none') {{\n",
       "            console.log([gd, 'removed!']);\n",
       "            Plotly.purge(gd);\n",
       "            observer.disconnect();\n",
       "        }}\n",
       "}});\n",
       "\n",
       "// Listen for the removal of the full notebook cells\n",
       "var notebookContainer = gd.closest('#notebook-container');\n",
       "if (notebookContainer) {{\n",
       "    x.observe(notebookContainer, {childList: true});\n",
       "}}\n",
       "\n",
       "// Listen for the clearing of the current output cell\n",
       "var outputEl = gd.closest('.output');\n",
       "if (outputEl) {{\n",
       "    x.observe(outputEl, {childList: true});\n",
       "}}\n",
       "\n",
       "                        })                };                });            </script>        </div>"
      ]
     },
     "metadata": {},
     "output_type": "display_data"
    }
   ],
   "source": [
    "df.iplot(kind='box')"
   ]
  },
  {
   "cell_type": "markdown",
   "metadata": {},
   "source": [
    "## 3d Surface"
   ]
  },
  {
   "cell_type": "code",
   "execution_count": 14,
   "metadata": {
    "scrolled": true
   },
   "outputs": [
    {
     "data": {
      "application/vnd.plotly.v1+json": {
       "config": {
        "linkText": "Export to plot.ly",
        "plotlyServerURL": "https://plot.ly",
        "showLink": true
       },
       "data": [
        {
         "colorscale": [
          [
           0,
           "rgb(165,0,38)"
          ],
          [
           0.1,
           "rgb(215,48,39)"
          ],
          [
           0.2,
           "rgb(244,109,67)"
          ],
          [
           0.3,
           "rgb(253,174,97)"
          ],
          [
           0.4,
           "rgb(254,224,144)"
          ],
          [
           0.5,
           "rgb(255,255,191)"
          ],
          [
           0.6,
           "rgb(224,243,248)"
          ],
          [
           0.7,
           "rgb(171,217,233)"
          ],
          [
           0.8,
           "rgb(116,173,209)"
          ],
          [
           0.9,
           "rgb(69,117,180)"
          ],
          [
           1,
           "rgb(49,54,149)"
          ]
         ],
         "type": "surface",
         "x": [
          0,
          1,
          2,
          3,
          4
         ],
         "y": [
          "x",
          "y",
          "z"
         ],
         "z": [
          [
           1,
           2,
           3,
           4,
           5
          ],
          [
           10,
           20,
           30,
           20,
           10
          ],
          [
           5,
           4,
           3,
           2,
           1
          ]
         ]
        }
       ],
       "layout": {
        "legend": {
         "bgcolor": "#F5F6F9",
         "font": {
          "color": "#4D5663"
         }
        },
        "paper_bgcolor": "#F5F6F9",
        "plot_bgcolor": "#F5F6F9",
        "template": {
         "data": {
          "bar": [
           {
            "error_x": {
             "color": "#2a3f5f"
            },
            "error_y": {
             "color": "#2a3f5f"
            },
            "marker": {
             "line": {
              "color": "#E5ECF6",
              "width": 0.5
             },
             "pattern": {
              "fillmode": "overlay",
              "size": 10,
              "solidity": 0.2
             }
            },
            "type": "bar"
           }
          ],
          "barpolar": [
           {
            "marker": {
             "line": {
              "color": "#E5ECF6",
              "width": 0.5
             },
             "pattern": {
              "fillmode": "overlay",
              "size": 10,
              "solidity": 0.2
             }
            },
            "type": "barpolar"
           }
          ],
          "carpet": [
           {
            "aaxis": {
             "endlinecolor": "#2a3f5f",
             "gridcolor": "white",
             "linecolor": "white",
             "minorgridcolor": "white",
             "startlinecolor": "#2a3f5f"
            },
            "baxis": {
             "endlinecolor": "#2a3f5f",
             "gridcolor": "white",
             "linecolor": "white",
             "minorgridcolor": "white",
             "startlinecolor": "#2a3f5f"
            },
            "type": "carpet"
           }
          ],
          "choropleth": [
           {
            "colorbar": {
             "outlinewidth": 0,
             "ticks": ""
            },
            "type": "choropleth"
           }
          ],
          "contour": [
           {
            "colorbar": {
             "outlinewidth": 0,
             "ticks": ""
            },
            "colorscale": [
             [
              0,
              "#0d0887"
             ],
             [
              0.1111111111111111,
              "#46039f"
             ],
             [
              0.2222222222222222,
              "#7201a8"
             ],
             [
              0.3333333333333333,
              "#9c179e"
             ],
             [
              0.4444444444444444,
              "#bd3786"
             ],
             [
              0.5555555555555556,
              "#d8576b"
             ],
             [
              0.6666666666666666,
              "#ed7953"
             ],
             [
              0.7777777777777778,
              "#fb9f3a"
             ],
             [
              0.8888888888888888,
              "#fdca26"
             ],
             [
              1,
              "#f0f921"
             ]
            ],
            "type": "contour"
           }
          ],
          "contourcarpet": [
           {
            "colorbar": {
             "outlinewidth": 0,
             "ticks": ""
            },
            "type": "contourcarpet"
           }
          ],
          "heatmap": [
           {
            "colorbar": {
             "outlinewidth": 0,
             "ticks": ""
            },
            "colorscale": [
             [
              0,
              "#0d0887"
             ],
             [
              0.1111111111111111,
              "#46039f"
             ],
             [
              0.2222222222222222,
              "#7201a8"
             ],
             [
              0.3333333333333333,
              "#9c179e"
             ],
             [
              0.4444444444444444,
              "#bd3786"
             ],
             [
              0.5555555555555556,
              "#d8576b"
             ],
             [
              0.6666666666666666,
              "#ed7953"
             ],
             [
              0.7777777777777778,
              "#fb9f3a"
             ],
             [
              0.8888888888888888,
              "#fdca26"
             ],
             [
              1,
              "#f0f921"
             ]
            ],
            "type": "heatmap"
           }
          ],
          "heatmapgl": [
           {
            "colorbar": {
             "outlinewidth": 0,
             "ticks": ""
            },
            "colorscale": [
             [
              0,
              "#0d0887"
             ],
             [
              0.1111111111111111,
              "#46039f"
             ],
             [
              0.2222222222222222,
              "#7201a8"
             ],
             [
              0.3333333333333333,
              "#9c179e"
             ],
             [
              0.4444444444444444,
              "#bd3786"
             ],
             [
              0.5555555555555556,
              "#d8576b"
             ],
             [
              0.6666666666666666,
              "#ed7953"
             ],
             [
              0.7777777777777778,
              "#fb9f3a"
             ],
             [
              0.8888888888888888,
              "#fdca26"
             ],
             [
              1,
              "#f0f921"
             ]
            ],
            "type": "heatmapgl"
           }
          ],
          "histogram": [
           {
            "marker": {
             "pattern": {
              "fillmode": "overlay",
              "size": 10,
              "solidity": 0.2
             }
            },
            "type": "histogram"
           }
          ],
          "histogram2d": [
           {
            "colorbar": {
             "outlinewidth": 0,
             "ticks": ""
            },
            "colorscale": [
             [
              0,
              "#0d0887"
             ],
             [
              0.1111111111111111,
              "#46039f"
             ],
             [
              0.2222222222222222,
              "#7201a8"
             ],
             [
              0.3333333333333333,
              "#9c179e"
             ],
             [
              0.4444444444444444,
              "#bd3786"
             ],
             [
              0.5555555555555556,
              "#d8576b"
             ],
             [
              0.6666666666666666,
              "#ed7953"
             ],
             [
              0.7777777777777778,
              "#fb9f3a"
             ],
             [
              0.8888888888888888,
              "#fdca26"
             ],
             [
              1,
              "#f0f921"
             ]
            ],
            "type": "histogram2d"
           }
          ],
          "histogram2dcontour": [
           {
            "colorbar": {
             "outlinewidth": 0,
             "ticks": ""
            },
            "colorscale": [
             [
              0,
              "#0d0887"
             ],
             [
              0.1111111111111111,
              "#46039f"
             ],
             [
              0.2222222222222222,
              "#7201a8"
             ],
             [
              0.3333333333333333,
              "#9c179e"
             ],
             [
              0.4444444444444444,
              "#bd3786"
             ],
             [
              0.5555555555555556,
              "#d8576b"
             ],
             [
              0.6666666666666666,
              "#ed7953"
             ],
             [
              0.7777777777777778,
              "#fb9f3a"
             ],
             [
              0.8888888888888888,
              "#fdca26"
             ],
             [
              1,
              "#f0f921"
             ]
            ],
            "type": "histogram2dcontour"
           }
          ],
          "mesh3d": [
           {
            "colorbar": {
             "outlinewidth": 0,
             "ticks": ""
            },
            "type": "mesh3d"
           }
          ],
          "parcoords": [
           {
            "line": {
             "colorbar": {
              "outlinewidth": 0,
              "ticks": ""
             }
            },
            "type": "parcoords"
           }
          ],
          "pie": [
           {
            "automargin": true,
            "type": "pie"
           }
          ],
          "scatter": [
           {
            "marker": {
             "colorbar": {
              "outlinewidth": 0,
              "ticks": ""
             }
            },
            "type": "scatter"
           }
          ],
          "scatter3d": [
           {
            "line": {
             "colorbar": {
              "outlinewidth": 0,
              "ticks": ""
             }
            },
            "marker": {
             "colorbar": {
              "outlinewidth": 0,
              "ticks": ""
             }
            },
            "type": "scatter3d"
           }
          ],
          "scattercarpet": [
           {
            "marker": {
             "colorbar": {
              "outlinewidth": 0,
              "ticks": ""
             }
            },
            "type": "scattercarpet"
           }
          ],
          "scattergeo": [
           {
            "marker": {
             "colorbar": {
              "outlinewidth": 0,
              "ticks": ""
             }
            },
            "type": "scattergeo"
           }
          ],
          "scattergl": [
           {
            "marker": {
             "colorbar": {
              "outlinewidth": 0,
              "ticks": ""
             }
            },
            "type": "scattergl"
           }
          ],
          "scattermapbox": [
           {
            "marker": {
             "colorbar": {
              "outlinewidth": 0,
              "ticks": ""
             }
            },
            "type": "scattermapbox"
           }
          ],
          "scatterpolar": [
           {
            "marker": {
             "colorbar": {
              "outlinewidth": 0,
              "ticks": ""
             }
            },
            "type": "scatterpolar"
           }
          ],
          "scatterpolargl": [
           {
            "marker": {
             "colorbar": {
              "outlinewidth": 0,
              "ticks": ""
             }
            },
            "type": "scatterpolargl"
           }
          ],
          "scatterternary": [
           {
            "marker": {
             "colorbar": {
              "outlinewidth": 0,
              "ticks": ""
             }
            },
            "type": "scatterternary"
           }
          ],
          "surface": [
           {
            "colorbar": {
             "outlinewidth": 0,
             "ticks": ""
            },
            "colorscale": [
             [
              0,
              "#0d0887"
             ],
             [
              0.1111111111111111,
              "#46039f"
             ],
             [
              0.2222222222222222,
              "#7201a8"
             ],
             [
              0.3333333333333333,
              "#9c179e"
             ],
             [
              0.4444444444444444,
              "#bd3786"
             ],
             [
              0.5555555555555556,
              "#d8576b"
             ],
             [
              0.6666666666666666,
              "#ed7953"
             ],
             [
              0.7777777777777778,
              "#fb9f3a"
             ],
             [
              0.8888888888888888,
              "#fdca26"
             ],
             [
              1,
              "#f0f921"
             ]
            ],
            "type": "surface"
           }
          ],
          "table": [
           {
            "cells": {
             "fill": {
              "color": "#EBF0F8"
             },
             "line": {
              "color": "white"
             }
            },
            "header": {
             "fill": {
              "color": "#C8D4E3"
             },
             "line": {
              "color": "white"
             }
            },
            "type": "table"
           }
          ]
         },
         "layout": {
          "annotationdefaults": {
           "arrowcolor": "#2a3f5f",
           "arrowhead": 0,
           "arrowwidth": 1
          },
          "autotypenumbers": "strict",
          "coloraxis": {
           "colorbar": {
            "outlinewidth": 0,
            "ticks": ""
           }
          },
          "colorscale": {
           "diverging": [
            [
             0,
             "#8e0152"
            ],
            [
             0.1,
             "#c51b7d"
            ],
            [
             0.2,
             "#de77ae"
            ],
            [
             0.3,
             "#f1b6da"
            ],
            [
             0.4,
             "#fde0ef"
            ],
            [
             0.5,
             "#f7f7f7"
            ],
            [
             0.6,
             "#e6f5d0"
            ],
            [
             0.7,
             "#b8e186"
            ],
            [
             0.8,
             "#7fbc41"
            ],
            [
             0.9,
             "#4d9221"
            ],
            [
             1,
             "#276419"
            ]
           ],
           "sequential": [
            [
             0,
             "#0d0887"
            ],
            [
             0.1111111111111111,
             "#46039f"
            ],
            [
             0.2222222222222222,
             "#7201a8"
            ],
            [
             0.3333333333333333,
             "#9c179e"
            ],
            [
             0.4444444444444444,
             "#bd3786"
            ],
            [
             0.5555555555555556,
             "#d8576b"
            ],
            [
             0.6666666666666666,
             "#ed7953"
            ],
            [
             0.7777777777777778,
             "#fb9f3a"
            ],
            [
             0.8888888888888888,
             "#fdca26"
            ],
            [
             1,
             "#f0f921"
            ]
           ],
           "sequentialminus": [
            [
             0,
             "#0d0887"
            ],
            [
             0.1111111111111111,
             "#46039f"
            ],
            [
             0.2222222222222222,
             "#7201a8"
            ],
            [
             0.3333333333333333,
             "#9c179e"
            ],
            [
             0.4444444444444444,
             "#bd3786"
            ],
            [
             0.5555555555555556,
             "#d8576b"
            ],
            [
             0.6666666666666666,
             "#ed7953"
            ],
            [
             0.7777777777777778,
             "#fb9f3a"
            ],
            [
             0.8888888888888888,
             "#fdca26"
            ],
            [
             1,
             "#f0f921"
            ]
           ]
          },
          "colorway": [
           "#636efa",
           "#EF553B",
           "#00cc96",
           "#ab63fa",
           "#FFA15A",
           "#19d3f3",
           "#FF6692",
           "#B6E880",
           "#FF97FF",
           "#FECB52"
          ],
          "font": {
           "color": "#2a3f5f"
          },
          "geo": {
           "bgcolor": "white",
           "lakecolor": "white",
           "landcolor": "#E5ECF6",
           "showlakes": true,
           "showland": true,
           "subunitcolor": "white"
          },
          "hoverlabel": {
           "align": "left"
          },
          "hovermode": "closest",
          "mapbox": {
           "style": "light"
          },
          "paper_bgcolor": "white",
          "plot_bgcolor": "#E5ECF6",
          "polar": {
           "angularaxis": {
            "gridcolor": "white",
            "linecolor": "white",
            "ticks": ""
           },
           "bgcolor": "#E5ECF6",
           "radialaxis": {
            "gridcolor": "white",
            "linecolor": "white",
            "ticks": ""
           }
          },
          "scene": {
           "xaxis": {
            "backgroundcolor": "#E5ECF6",
            "gridcolor": "white",
            "gridwidth": 2,
            "linecolor": "white",
            "showbackground": true,
            "ticks": "",
            "zerolinecolor": "white"
           },
           "yaxis": {
            "backgroundcolor": "#E5ECF6",
            "gridcolor": "white",
            "gridwidth": 2,
            "linecolor": "white",
            "showbackground": true,
            "ticks": "",
            "zerolinecolor": "white"
           },
           "zaxis": {
            "backgroundcolor": "#E5ECF6",
            "gridcolor": "white",
            "gridwidth": 2,
            "linecolor": "white",
            "showbackground": true,
            "ticks": "",
            "zerolinecolor": "white"
           }
          },
          "shapedefaults": {
           "line": {
            "color": "#2a3f5f"
           }
          },
          "ternary": {
           "aaxis": {
            "gridcolor": "white",
            "linecolor": "white",
            "ticks": ""
           },
           "baxis": {
            "gridcolor": "white",
            "linecolor": "white",
            "ticks": ""
           },
           "bgcolor": "#E5ECF6",
           "caxis": {
            "gridcolor": "white",
            "linecolor": "white",
            "ticks": ""
           }
          },
          "title": {
           "x": 0.05
          },
          "xaxis": {
           "automargin": true,
           "gridcolor": "white",
           "linecolor": "white",
           "ticks": "",
           "title": {
            "standoff": 15
           },
           "zerolinecolor": "white",
           "zerolinewidth": 2
          },
          "yaxis": {
           "automargin": true,
           "gridcolor": "white",
           "linecolor": "white",
           "ticks": "",
           "title": {
            "standoff": 15
           },
           "zerolinecolor": "white",
           "zerolinewidth": 2
          }
         }
        },
        "title": {
         "font": {
          "color": "#4D5663"
         }
        },
        "xaxis": {
         "gridcolor": "#E1E5ED",
         "showgrid": true,
         "tickfont": {
          "color": "#4D5663"
         },
         "title": {
          "font": {
           "color": "#4D5663"
          },
          "text": ""
         },
         "zerolinecolor": "#E1E5ED"
        },
        "yaxis": {
         "gridcolor": "#E1E5ED",
         "showgrid": true,
         "tickfont": {
          "color": "#4D5663"
         },
         "title": {
          "font": {
           "color": "#4D5663"
          },
          "text": ""
         },
         "zerolinecolor": "#E1E5ED"
        }
       }
      },
      "text/html": [
       "<div>                            <div id=\"26a46e2a-b915-428b-80b4-4fddfd47d2ee\" class=\"plotly-graph-div\" style=\"height:525px; width:100%;\"></div>            <script type=\"text/javascript\">                require([\"plotly\"], function(Plotly) {                    window.PLOTLYENV=window.PLOTLYENV || {};\n",
       "                    window.PLOTLYENV.BASE_URL='https://plot.ly';                                    if (document.getElementById(\"26a46e2a-b915-428b-80b4-4fddfd47d2ee\")) {                    Plotly.newPlot(                        \"26a46e2a-b915-428b-80b4-4fddfd47d2ee\",                        [{\"colorscale\":[[0.0,\"rgb(165,0,38)\"],[0.1,\"rgb(215,48,39)\"],[0.2,\"rgb(244,109,67)\"],[0.3,\"rgb(253,174,97)\"],[0.4,\"rgb(254,224,144)\"],[0.5,\"rgb(255,255,191)\"],[0.6,\"rgb(224,243,248)\"],[0.7,\"rgb(171,217,233)\"],[0.8,\"rgb(116,173,209)\"],[0.9,\"rgb(69,117,180)\"],[1.0,\"rgb(49,54,149)\"]],\"x\":[0,1,2,3,4],\"y\":[\"x\",\"y\",\"z\"],\"z\":[[1,2,3,4,5],[10,20,30,20,10],[5,4,3,2,1]],\"type\":\"surface\"}],                        {\"legend\":{\"bgcolor\":\"#F5F6F9\",\"font\":{\"color\":\"#4D5663\"}},\"paper_bgcolor\":\"#F5F6F9\",\"plot_bgcolor\":\"#F5F6F9\",\"template\":{\"data\":{\"barpolar\":[{\"marker\":{\"line\":{\"color\":\"#E5ECF6\",\"width\":0.5},\"pattern\":{\"fillmode\":\"overlay\",\"size\":10,\"solidity\":0.2}},\"type\":\"barpolar\"}],\"bar\":[{\"error_x\":{\"color\":\"#2a3f5f\"},\"error_y\":{\"color\":\"#2a3f5f\"},\"marker\":{\"line\":{\"color\":\"#E5ECF6\",\"width\":0.5},\"pattern\":{\"fillmode\":\"overlay\",\"size\":10,\"solidity\":0.2}},\"type\":\"bar\"}],\"carpet\":[{\"aaxis\":{\"endlinecolor\":\"#2a3f5f\",\"gridcolor\":\"white\",\"linecolor\":\"white\",\"minorgridcolor\":\"white\",\"startlinecolor\":\"#2a3f5f\"},\"baxis\":{\"endlinecolor\":\"#2a3f5f\",\"gridcolor\":\"white\",\"linecolor\":\"white\",\"minorgridcolor\":\"white\",\"startlinecolor\":\"#2a3f5f\"},\"type\":\"carpet\"}],\"choropleth\":[{\"colorbar\":{\"outlinewidth\":0,\"ticks\":\"\"},\"type\":\"choropleth\"}],\"contourcarpet\":[{\"colorbar\":{\"outlinewidth\":0,\"ticks\":\"\"},\"type\":\"contourcarpet\"}],\"contour\":[{\"colorbar\":{\"outlinewidth\":0,\"ticks\":\"\"},\"colorscale\":[[0.0,\"#0d0887\"],[0.1111111111111111,\"#46039f\"],[0.2222222222222222,\"#7201a8\"],[0.3333333333333333,\"#9c179e\"],[0.4444444444444444,\"#bd3786\"],[0.5555555555555556,\"#d8576b\"],[0.6666666666666666,\"#ed7953\"],[0.7777777777777778,\"#fb9f3a\"],[0.8888888888888888,\"#fdca26\"],[1.0,\"#f0f921\"]],\"type\":\"contour\"}],\"heatmapgl\":[{\"colorbar\":{\"outlinewidth\":0,\"ticks\":\"\"},\"colorscale\":[[0.0,\"#0d0887\"],[0.1111111111111111,\"#46039f\"],[0.2222222222222222,\"#7201a8\"],[0.3333333333333333,\"#9c179e\"],[0.4444444444444444,\"#bd3786\"],[0.5555555555555556,\"#d8576b\"],[0.6666666666666666,\"#ed7953\"],[0.7777777777777778,\"#fb9f3a\"],[0.8888888888888888,\"#fdca26\"],[1.0,\"#f0f921\"]],\"type\":\"heatmapgl\"}],\"heatmap\":[{\"colorbar\":{\"outlinewidth\":0,\"ticks\":\"\"},\"colorscale\":[[0.0,\"#0d0887\"],[0.1111111111111111,\"#46039f\"],[0.2222222222222222,\"#7201a8\"],[0.3333333333333333,\"#9c179e\"],[0.4444444444444444,\"#bd3786\"],[0.5555555555555556,\"#d8576b\"],[0.6666666666666666,\"#ed7953\"],[0.7777777777777778,\"#fb9f3a\"],[0.8888888888888888,\"#fdca26\"],[1.0,\"#f0f921\"]],\"type\":\"heatmap\"}],\"histogram2dcontour\":[{\"colorbar\":{\"outlinewidth\":0,\"ticks\":\"\"},\"colorscale\":[[0.0,\"#0d0887\"],[0.1111111111111111,\"#46039f\"],[0.2222222222222222,\"#7201a8\"],[0.3333333333333333,\"#9c179e\"],[0.4444444444444444,\"#bd3786\"],[0.5555555555555556,\"#d8576b\"],[0.6666666666666666,\"#ed7953\"],[0.7777777777777778,\"#fb9f3a\"],[0.8888888888888888,\"#fdca26\"],[1.0,\"#f0f921\"]],\"type\":\"histogram2dcontour\"}],\"histogram2d\":[{\"colorbar\":{\"outlinewidth\":0,\"ticks\":\"\"},\"colorscale\":[[0.0,\"#0d0887\"],[0.1111111111111111,\"#46039f\"],[0.2222222222222222,\"#7201a8\"],[0.3333333333333333,\"#9c179e\"],[0.4444444444444444,\"#bd3786\"],[0.5555555555555556,\"#d8576b\"],[0.6666666666666666,\"#ed7953\"],[0.7777777777777778,\"#fb9f3a\"],[0.8888888888888888,\"#fdca26\"],[1.0,\"#f0f921\"]],\"type\":\"histogram2d\"}],\"histogram\":[{\"marker\":{\"pattern\":{\"fillmode\":\"overlay\",\"size\":10,\"solidity\":0.2}},\"type\":\"histogram\"}],\"mesh3d\":[{\"colorbar\":{\"outlinewidth\":0,\"ticks\":\"\"},\"type\":\"mesh3d\"}],\"parcoords\":[{\"line\":{\"colorbar\":{\"outlinewidth\":0,\"ticks\":\"\"}},\"type\":\"parcoords\"}],\"pie\":[{\"automargin\":true,\"type\":\"pie\"}],\"scatter3d\":[{\"line\":{\"colorbar\":{\"outlinewidth\":0,\"ticks\":\"\"}},\"marker\":{\"colorbar\":{\"outlinewidth\":0,\"ticks\":\"\"}},\"type\":\"scatter3d\"}],\"scattercarpet\":[{\"marker\":{\"colorbar\":{\"outlinewidth\":0,\"ticks\":\"\"}},\"type\":\"scattercarpet\"}],\"scattergeo\":[{\"marker\":{\"colorbar\":{\"outlinewidth\":0,\"ticks\":\"\"}},\"type\":\"scattergeo\"}],\"scattergl\":[{\"marker\":{\"colorbar\":{\"outlinewidth\":0,\"ticks\":\"\"}},\"type\":\"scattergl\"}],\"scattermapbox\":[{\"marker\":{\"colorbar\":{\"outlinewidth\":0,\"ticks\":\"\"}},\"type\":\"scattermapbox\"}],\"scatterpolargl\":[{\"marker\":{\"colorbar\":{\"outlinewidth\":0,\"ticks\":\"\"}},\"type\":\"scatterpolargl\"}],\"scatterpolar\":[{\"marker\":{\"colorbar\":{\"outlinewidth\":0,\"ticks\":\"\"}},\"type\":\"scatterpolar\"}],\"scatter\":[{\"marker\":{\"colorbar\":{\"outlinewidth\":0,\"ticks\":\"\"}},\"type\":\"scatter\"}],\"scatterternary\":[{\"marker\":{\"colorbar\":{\"outlinewidth\":0,\"ticks\":\"\"}},\"type\":\"scatterternary\"}],\"surface\":[{\"colorbar\":{\"outlinewidth\":0,\"ticks\":\"\"},\"colorscale\":[[0.0,\"#0d0887\"],[0.1111111111111111,\"#46039f\"],[0.2222222222222222,\"#7201a8\"],[0.3333333333333333,\"#9c179e\"],[0.4444444444444444,\"#bd3786\"],[0.5555555555555556,\"#d8576b\"],[0.6666666666666666,\"#ed7953\"],[0.7777777777777778,\"#fb9f3a\"],[0.8888888888888888,\"#fdca26\"],[1.0,\"#f0f921\"]],\"type\":\"surface\"}],\"table\":[{\"cells\":{\"fill\":{\"color\":\"#EBF0F8\"},\"line\":{\"color\":\"white\"}},\"header\":{\"fill\":{\"color\":\"#C8D4E3\"},\"line\":{\"color\":\"white\"}},\"type\":\"table\"}]},\"layout\":{\"annotationdefaults\":{\"arrowcolor\":\"#2a3f5f\",\"arrowhead\":0,\"arrowwidth\":1},\"autotypenumbers\":\"strict\",\"coloraxis\":{\"colorbar\":{\"outlinewidth\":0,\"ticks\":\"\"}},\"colorscale\":{\"diverging\":[[0,\"#8e0152\"],[0.1,\"#c51b7d\"],[0.2,\"#de77ae\"],[0.3,\"#f1b6da\"],[0.4,\"#fde0ef\"],[0.5,\"#f7f7f7\"],[0.6,\"#e6f5d0\"],[0.7,\"#b8e186\"],[0.8,\"#7fbc41\"],[0.9,\"#4d9221\"],[1,\"#276419\"]],\"sequential\":[[0.0,\"#0d0887\"],[0.1111111111111111,\"#46039f\"],[0.2222222222222222,\"#7201a8\"],[0.3333333333333333,\"#9c179e\"],[0.4444444444444444,\"#bd3786\"],[0.5555555555555556,\"#d8576b\"],[0.6666666666666666,\"#ed7953\"],[0.7777777777777778,\"#fb9f3a\"],[0.8888888888888888,\"#fdca26\"],[1.0,\"#f0f921\"]],\"sequentialminus\":[[0.0,\"#0d0887\"],[0.1111111111111111,\"#46039f\"],[0.2222222222222222,\"#7201a8\"],[0.3333333333333333,\"#9c179e\"],[0.4444444444444444,\"#bd3786\"],[0.5555555555555556,\"#d8576b\"],[0.6666666666666666,\"#ed7953\"],[0.7777777777777778,\"#fb9f3a\"],[0.8888888888888888,\"#fdca26\"],[1.0,\"#f0f921\"]]},\"colorway\":[\"#636efa\",\"#EF553B\",\"#00cc96\",\"#ab63fa\",\"#FFA15A\",\"#19d3f3\",\"#FF6692\",\"#B6E880\",\"#FF97FF\",\"#FECB52\"],\"font\":{\"color\":\"#2a3f5f\"},\"geo\":{\"bgcolor\":\"white\",\"lakecolor\":\"white\",\"landcolor\":\"#E5ECF6\",\"showlakes\":true,\"showland\":true,\"subunitcolor\":\"white\"},\"hoverlabel\":{\"align\":\"left\"},\"hovermode\":\"closest\",\"mapbox\":{\"style\":\"light\"},\"paper_bgcolor\":\"white\",\"plot_bgcolor\":\"#E5ECF6\",\"polar\":{\"angularaxis\":{\"gridcolor\":\"white\",\"linecolor\":\"white\",\"ticks\":\"\"},\"bgcolor\":\"#E5ECF6\",\"radialaxis\":{\"gridcolor\":\"white\",\"linecolor\":\"white\",\"ticks\":\"\"}},\"scene\":{\"xaxis\":{\"backgroundcolor\":\"#E5ECF6\",\"gridcolor\":\"white\",\"gridwidth\":2,\"linecolor\":\"white\",\"showbackground\":true,\"ticks\":\"\",\"zerolinecolor\":\"white\"},\"yaxis\":{\"backgroundcolor\":\"#E5ECF6\",\"gridcolor\":\"white\",\"gridwidth\":2,\"linecolor\":\"white\",\"showbackground\":true,\"ticks\":\"\",\"zerolinecolor\":\"white\"},\"zaxis\":{\"backgroundcolor\":\"#E5ECF6\",\"gridcolor\":\"white\",\"gridwidth\":2,\"linecolor\":\"white\",\"showbackground\":true,\"ticks\":\"\",\"zerolinecolor\":\"white\"}},\"shapedefaults\":{\"line\":{\"color\":\"#2a3f5f\"}},\"ternary\":{\"aaxis\":{\"gridcolor\":\"white\",\"linecolor\":\"white\",\"ticks\":\"\"},\"baxis\":{\"gridcolor\":\"white\",\"linecolor\":\"white\",\"ticks\":\"\"},\"bgcolor\":\"#E5ECF6\",\"caxis\":{\"gridcolor\":\"white\",\"linecolor\":\"white\",\"ticks\":\"\"}},\"title\":{\"x\":0.05},\"xaxis\":{\"automargin\":true,\"gridcolor\":\"white\",\"linecolor\":\"white\",\"ticks\":\"\",\"title\":{\"standoff\":15},\"zerolinecolor\":\"white\",\"zerolinewidth\":2},\"yaxis\":{\"automargin\":true,\"gridcolor\":\"white\",\"linecolor\":\"white\",\"ticks\":\"\",\"title\":{\"standoff\":15},\"zerolinecolor\":\"white\",\"zerolinewidth\":2}}},\"title\":{\"font\":{\"color\":\"#4D5663\"}},\"xaxis\":{\"gridcolor\":\"#E1E5ED\",\"showgrid\":true,\"tickfont\":{\"color\":\"#4D5663\"},\"title\":{\"font\":{\"color\":\"#4D5663\"},\"text\":\"\"},\"zerolinecolor\":\"#E1E5ED\"},\"yaxis\":{\"gridcolor\":\"#E1E5ED\",\"showgrid\":true,\"tickfont\":{\"color\":\"#4D5663\"},\"title\":{\"font\":{\"color\":\"#4D5663\"},\"text\":\"\"},\"zerolinecolor\":\"#E1E5ED\"}},                        {\"showLink\": true, \"linkText\": \"Export to plot.ly\", \"plotlyServerURL\": \"https://plot.ly\", \"responsive\": true}                    ).then(function(){\n",
       "                            \n",
       "var gd = document.getElementById('26a46e2a-b915-428b-80b4-4fddfd47d2ee');\n",
       "var x = new MutationObserver(function (mutations, observer) {{\n",
       "        var display = window.getComputedStyle(gd).display;\n",
       "        if (!display || display === 'none') {{\n",
       "            console.log([gd, 'removed!']);\n",
       "            Plotly.purge(gd);\n",
       "            observer.disconnect();\n",
       "        }}\n",
       "}});\n",
       "\n",
       "// Listen for the removal of the full notebook cells\n",
       "var notebookContainer = gd.closest('#notebook-container');\n",
       "if (notebookContainer) {{\n",
       "    x.observe(notebookContainer, {childList: true});\n",
       "}}\n",
       "\n",
       "// Listen for the clearing of the current output cell\n",
       "var outputEl = gd.closest('.output');\n",
       "if (outputEl) {{\n",
       "    x.observe(outputEl, {childList: true});\n",
       "}}\n",
       "\n",
       "                        })                };                });            </script>        </div>"
      ]
     },
     "metadata": {},
     "output_type": "display_data"
    }
   ],
   "source": [
    "df3 = pd.DataFrame({'x':[1,2,3,4,5],'y':[10,20,30,20,10],'z':[5,4,3,2,1]})\n",
    "df3.iplot(kind='surface',colorscale='rdylbu') #rd=red yl=yellow bu=blue"
   ]
  },
  {
   "cell_type": "markdown",
   "metadata": {},
   "source": [
    "## Spread"
   ]
  },
  {
   "cell_type": "code",
   "execution_count": 15,
   "metadata": {},
   "outputs": [
    {
     "name": "stderr",
     "output_type": "stream",
     "text": [
      "C:\\Users\\palic\\anaconda3\\lib\\site-packages\\cufflinks\\plotlytools.py:849: FutureWarning:\n",
      "\n",
      "The pandas.np module is deprecated and will be removed from pandas in a future version. Import numpy directly instead.\n",
      "\n",
      "C:\\Users\\palic\\anaconda3\\lib\\site-packages\\cufflinks\\plotlytools.py:850: FutureWarning:\n",
      "\n",
      "The pandas.np module is deprecated and will be removed from pandas in a future version. Import numpy directly instead.\n",
      "\n"
     ]
    },
    {
     "data": {
      "application/vnd.plotly.v1+json": {
       "config": {
        "linkText": "Export to plot.ly",
        "plotlyServerURL": "https://plot.ly",
        "showLink": true
       },
       "data": [
        {
         "line": {
          "color": "rgba(255, 153, 51, 1.0)",
          "dash": "solid",
          "shape": "linear",
          "width": 1.3
         },
         "mode": "lines",
         "name": "A",
         "text": "",
         "type": "scatter",
         "x": [
          0,
          1,
          2,
          3,
          4,
          5,
          6,
          7,
          8,
          9,
          10,
          11,
          12,
          13,
          14,
          15,
          16,
          17,
          18,
          19,
          20,
          21,
          22,
          23,
          24,
          25,
          26,
          27,
          28,
          29,
          30,
          31,
          32,
          33,
          34,
          35,
          36,
          37,
          38,
          39,
          40,
          41,
          42,
          43,
          44,
          45,
          46,
          47,
          48,
          49,
          50,
          51,
          52,
          53,
          54,
          55,
          56,
          57,
          58,
          59,
          60,
          61,
          62,
          63,
          64,
          65,
          66,
          67,
          68,
          69,
          70,
          71,
          72,
          73,
          74,
          75,
          76,
          77,
          78,
          79,
          80,
          81,
          82,
          83,
          84,
          85,
          86,
          87,
          88,
          89,
          90,
          91,
          92,
          93,
          94,
          95,
          96,
          97,
          98,
          99
         ],
         "y": [
          1.621784997721568,
          -0.41366034592813133,
          0.1703499631587245,
          -1.1920692972460996,
          1.490540900725984,
          -0.057932056600882395,
          1.9493212915706266,
          -1.2133489775891626,
          -1.0171927857273269,
          -0.8748618841330696,
          -0.19903180545332752,
          1.847526392833172,
          -0.2758818988849343,
          0.17071171785641004,
          0.24112433897690283,
          -1.0364302350178969,
          -0.8704374048875894,
          0.11878631382799285,
          0.5524041774833329,
          0.4112892963529475,
          -0.20274718423037727,
          -0.1461750034500728,
          0.3938150717043993,
          1.013168990337693,
          1.1587377671220014,
          -0.07891110920131336,
          0.19674715852663466,
          -0.5137254496290548,
          -1.3594253212057925,
          0.7768929577215199,
          0.6932876094382373,
          0.1484716481867066,
          2.141638801331524,
          -0.6084944312615944,
          0.12650327275946432,
          0.32470093884566403,
          1.4432404036386661,
          0.5217947714925911,
          -1.0688444844738667,
          1.089135815260983,
          -0.29998118456619116,
          1.0273537271019182,
          0.33014992958416733,
          0.586781806816406,
          -1.6649854938580066,
          -0.39329069469733646,
          -0.8237723532130063,
          0.4796787729400577,
          -0.3700012746496557,
          -0.13284150565306116,
          -1.1415402494783435,
          0.4020235767439107,
          -0.06843544392719376,
          -1.605258168642368,
          0.3923808704859432,
          -1.6020304450352683,
          1.0229879340680732,
          -0.4716385035017622,
          -0.3026686970378709,
          0.23121824625826157,
          0.7941197295728922,
          0.2078528949337184,
          -0.05314850978774376,
          1.091414986451456,
          -0.23054064816857944,
          0.12287026554946075,
          -1.7032966482057637,
          -0.5607482142252319,
          -0.4070160127155237,
          0.2911341229123403,
          -1.3376367352973613,
          2.471298182591257,
          -1.4273438012656001,
          -0.9644104778552279,
          0.7529486000501481,
          0.9160977380939834,
          -1.3222788380506154,
          0.07158314746484597,
          1.7485767845451123,
          2.159357303646926,
          -2.4804194984392924,
          -1.423385099276626,
          -1.456924292494143,
          0.09113542169714114,
          -0.8048108696952876,
          -0.27162322444491255,
          0.1389955219980199,
          0.2236833151602733,
          -1.0924382534322106,
          -1.0804917489162433,
          1.4912408101051184,
          0.18322793537716855,
          1.3056813227817263,
          1.9582872537903173,
          -1.3558255227600555,
          -1.5599278170781556,
          0.05322385578051336,
          0.2884950550162606,
          0.48473933084086995,
          -1.1138289966447266
         ]
        },
        {
         "line": {
          "color": "rgba(55, 128, 191, 1.0)",
          "dash": "solid",
          "shape": "linear",
          "width": 1.3
         },
         "mode": "lines",
         "name": "B",
         "text": "",
         "type": "scatter",
         "x": [
          0,
          1,
          2,
          3,
          4,
          5,
          6,
          7,
          8,
          9,
          10,
          11,
          12,
          13,
          14,
          15,
          16,
          17,
          18,
          19,
          20,
          21,
          22,
          23,
          24,
          25,
          26,
          27,
          28,
          29,
          30,
          31,
          32,
          33,
          34,
          35,
          36,
          37,
          38,
          39,
          40,
          41,
          42,
          43,
          44,
          45,
          46,
          47,
          48,
          49,
          50,
          51,
          52,
          53,
          54,
          55,
          56,
          57,
          58,
          59,
          60,
          61,
          62,
          63,
          64,
          65,
          66,
          67,
          68,
          69,
          70,
          71,
          72,
          73,
          74,
          75,
          76,
          77,
          78,
          79,
          80,
          81,
          82,
          83,
          84,
          85,
          86,
          87,
          88,
          89,
          90,
          91,
          92,
          93,
          94,
          95,
          96,
          97,
          98,
          99
         ],
         "y": [
          1.0464563135578546,
          -3.0632225880848103,
          0.7347392981478813,
          -0.4260768015024099,
          0.96632800431009,
          1.2259616492672805,
          -0.3898324536994116,
          -1.3347108635827836,
          0.05850423362368821,
          -0.4564072432013887,
          -0.15724725260979047,
          -1.0977125535217649,
          -1.665999133255654,
          -0.21072539560613976,
          0.7962219185478997,
          -1.288845173225243,
          1.564273626180649,
          -0.11076177080563634,
          0.8491023364744843,
          0.9853140925690016,
          0.6952633578875285,
          -0.5600769380847198,
          -0.19660318900246418,
          -0.6629276497584601,
          -1.3095091871088107,
          1.9410326677104206,
          -0.1989245390276827,
          -0.7713841078744924,
          0.552871220815854,
          -0.8537682860036248,
          -1.4949821204592284,
          0.2732931186024205,
          0.3180571929056187,
          -0.837676117557035,
          0.04896750587297655,
          0.12963765216194872,
          1.4307678743993686,
          -0.42045979023879326,
          -1.9952224416416797,
          -0.5346484174600119,
          -0.204811204865994,
          0.5420650487257817,
          0.4503872326298657,
          0.35425475395255546,
          0.5098829247281865,
          0.34922028677025024,
          -0.7712388190084934,
          1.2298158269216979,
          0.1733960637726265,
          0.3126798756781296,
          0.19876210807019104,
          1.0582434500911917,
          -1.6849847277255832,
          -0.10124840186809116,
          -0.23032439763298906,
          1.6930993305863318,
          -0.5503621073120089,
          1.120459574282658,
          -0.5427843412382684,
          -0.5993572950007119,
          0.39726633886579293,
          -0.465487493410192,
          -0.3432593210298152,
          -0.38337663937759575,
          -1.140292528148463,
          -0.8325557987264668,
          1.6304602355112843,
          1.284431606320553,
          -0.012042543937797351,
          1.6039192046856627,
          -0.5404995606983964,
          1.4255305799121059,
          -0.7118064004521089,
          1.9924921540827385,
          2.3583690017492733,
          1.467961164888937,
          0.6915606738845025,
          -1.7905203549323134,
          0.9946791497816215,
          0.40474624180499874,
          -0.861893923994319,
          -2.102546055137808,
          -0.7677543614787729,
          0.12425845837419648,
          -0.8931963800510369,
          -0.9950165747531337,
          0.9757275360573655,
          -0.2788829177616858,
          0.9797543092857613,
          -0.49850385133220226,
          0.14271820497733537,
          0.03975498644747681,
          0.7118652256934209,
          0.8906588179631437,
          -0.6197301677060046,
          -1.201610403980832,
          2.4617261927462804,
          1.0102652057417734,
          -1.0027608010524207,
          -1.935435639286333
         ]
        },
        {
         "connectgaps": false,
         "fill": "tozeroy",
         "line": {
          "color": "green",
          "dash": "solid",
          "shape": "linear",
          "width": 0.5
         },
         "mode": "lines",
         "name": "Spread",
         "showlegend": false,
         "type": "scatter",
         "x": [
          0,
          1,
          2,
          3,
          4,
          5,
          6,
          7,
          8,
          9,
          10,
          11,
          12,
          13,
          14,
          15,
          16,
          17,
          18,
          19,
          20,
          21,
          22,
          23,
          24,
          25,
          26,
          27,
          28,
          29,
          30,
          31,
          32,
          33,
          34,
          35,
          36,
          37,
          38,
          39,
          40,
          41,
          42,
          43,
          44,
          45,
          46,
          47,
          48,
          49,
          50,
          51,
          52,
          53,
          54,
          55,
          56,
          57,
          58,
          59,
          60,
          61,
          62,
          63,
          64,
          65,
          66,
          67,
          68,
          69,
          70,
          71,
          72,
          73,
          74,
          75,
          76,
          77,
          78,
          79,
          80,
          81,
          82,
          83,
          84,
          85,
          86,
          87,
          88,
          89,
          90,
          91,
          92,
          93,
          94,
          95,
          96,
          97,
          98,
          99
         ],
         "xaxis": "x2",
         "y": [
          0.5753286841637133,
          2.649562242156679,
          "",
          "",
          0.524212896415894,
          "",
          2.339153745270038,
          0.12136188599362097,
          "",
          "",
          "",
          2.945238946354937,
          1.3901172343707198,
          0.3814371134625498,
          "",
          0.2524149382073462,
          "",
          0.2295480846336292,
          "",
          "",
          "",
          0.413901934634647,
          0.5904182607068634,
          1.6760966400961532,
          2.4682469542308123,
          "",
          0.39567169755431736,
          0.25765865824543766,
          "",
          1.6306612437251446,
          2.1882697298974656,
          "",
          1.8235816084259056,
          0.22918168629544056,
          0.07753576688648778,
          0.1950632866837153,
          0.012472529239297536,
          0.9422545617313844,
          0.926377957167813,
          1.6237842327209948,
          "",
          0.48528867837613654,
          "",
          0.23252705286385056,
          "",
          "",
          "",
          "",
          "",
          "",
          "",
          "",
          1.6165492837983895,
          "",
          0.6227052681189322,
          "",
          1.573350041380082,
          "",
          0.24011564420039744,
          0.8305755412589735,
          0.3968533907070993,
          0.6733403883439104,
          0.29011081124207144,
          1.4747916258290517,
          0.9097518799798836,
          0.9554260642759276,
          "",
          "",
          "",
          "",
          "",
          1.0457676026791514,
          "",
          "",
          "",
          "",
          "",
          1.8621035023971595,
          0.7538976347634908,
          1.754611061841927,
          "",
          0.679160955861182,
          "",
          "",
          0.08838551035574926,
          0.723393350308221,
          "",
          0.5025662329219591,
          "",
          "",
          1.348522605127783,
          0.14347294892969176,
          0.5938160970883054,
          1.0676284358271735,
          "",
          "",
          "",
          "",
          1.4875001318932908,
          0.8216066426416064
         ],
         "yaxis": "y2"
        },
        {
         "connectgaps": false,
         "fill": "tozeroy",
         "line": {
          "color": "red",
          "dash": "solid",
          "shape": "linear",
          "width": 0.5
         },
         "mode": "lines",
         "name": "Spread",
         "showlegend": false,
         "type": "scatter",
         "x": [
          0,
          1,
          2,
          3,
          4,
          5,
          6,
          7,
          8,
          9,
          10,
          11,
          12,
          13,
          14,
          15,
          16,
          17,
          18,
          19,
          20,
          21,
          22,
          23,
          24,
          25,
          26,
          27,
          28,
          29,
          30,
          31,
          32,
          33,
          34,
          35,
          36,
          37,
          38,
          39,
          40,
          41,
          42,
          43,
          44,
          45,
          46,
          47,
          48,
          49,
          50,
          51,
          52,
          53,
          54,
          55,
          56,
          57,
          58,
          59,
          60,
          61,
          62,
          63,
          64,
          65,
          66,
          67,
          68,
          69,
          70,
          71,
          72,
          73,
          74,
          75,
          76,
          77,
          78,
          79,
          80,
          81,
          82,
          83,
          84,
          85,
          86,
          87,
          88,
          89,
          90,
          91,
          92,
          93,
          94,
          95,
          96,
          97,
          98,
          99
         ],
         "xaxis": "x2",
         "y": [
          "",
          "",
          -0.5643893349891568,
          -0.7659924957436897,
          "",
          -1.2838937058681628,
          "",
          "",
          -1.0756970193510151,
          -0.41845464093168094,
          -0.04178455284353705,
          "",
          "",
          "",
          -0.5550975795709969,
          "",
          -2.4347110310682383,
          "",
          -0.2966981589911514,
          -0.5740247962160541,
          -0.8980105421179058,
          "",
          "",
          "",
          "",
          -2.019943776911734,
          "",
          "",
          -1.9122965420216467,
          "",
          "",
          -0.1248214704157139,
          "",
          "",
          "",
          "",
          "",
          "",
          "",
          "",
          -0.09516997970019717,
          "",
          -0.12023730304569835,
          "",
          -2.1748684185861933,
          -0.7425109814675868,
          -0.0525335342045129,
          -0.7501370539816402,
          -0.5433973384222822,
          -0.4455213813311908,
          -1.3403023575485347,
          -0.656219873347281,
          "",
          -1.5040097667742767,
          "",
          -3.2951297756216,
          "",
          -1.5920980777844203,
          "",
          "",
          "",
          "",
          "",
          "",
          "",
          "",
          -3.333756883717048,
          -1.845179820545785,
          -0.3949734687777263,
          -1.3127850817733224,
          -0.7971371745989648,
          "",
          -0.7155374008134913,
          -2.9569026319379663,
          -1.6054204016991251,
          -0.5518634267949536,
          -2.013839511935118,
          "",
          "",
          "",
          -1.6185255744449734,
          "",
          -0.6891699310153702,
          -0.03312303667705534,
          "",
          "",
          -0.8367320140593456,
          "",
          -2.072192562717972,
          -0.5819878975840411,
          "",
          "",
          "",
          "",
          -0.7360953550540509,
          -0.3583174130973237,
          -2.4085023369657668,
          -0.7217701507255128,
          "",
          ""
         ],
         "yaxis": "y2"
        }
       ],
       "layout": {
        "hovermode": "x",
        "legend": {
         "bgcolor": "#F5F6F9",
         "font": {
          "color": "#4D5663"
         }
        },
        "paper_bgcolor": "#F5F6F9",
        "plot_bgcolor": "#F5F6F9",
        "template": {
         "data": {
          "bar": [
           {
            "error_x": {
             "color": "#2a3f5f"
            },
            "error_y": {
             "color": "#2a3f5f"
            },
            "marker": {
             "line": {
              "color": "#E5ECF6",
              "width": 0.5
             },
             "pattern": {
              "fillmode": "overlay",
              "size": 10,
              "solidity": 0.2
             }
            },
            "type": "bar"
           }
          ],
          "barpolar": [
           {
            "marker": {
             "line": {
              "color": "#E5ECF6",
              "width": 0.5
             },
             "pattern": {
              "fillmode": "overlay",
              "size": 10,
              "solidity": 0.2
             }
            },
            "type": "barpolar"
           }
          ],
          "carpet": [
           {
            "aaxis": {
             "endlinecolor": "#2a3f5f",
             "gridcolor": "white",
             "linecolor": "white",
             "minorgridcolor": "white",
             "startlinecolor": "#2a3f5f"
            },
            "baxis": {
             "endlinecolor": "#2a3f5f",
             "gridcolor": "white",
             "linecolor": "white",
             "minorgridcolor": "white",
             "startlinecolor": "#2a3f5f"
            },
            "type": "carpet"
           }
          ],
          "choropleth": [
           {
            "colorbar": {
             "outlinewidth": 0,
             "ticks": ""
            },
            "type": "choropleth"
           }
          ],
          "contour": [
           {
            "colorbar": {
             "outlinewidth": 0,
             "ticks": ""
            },
            "colorscale": [
             [
              0,
              "#0d0887"
             ],
             [
              0.1111111111111111,
              "#46039f"
             ],
             [
              0.2222222222222222,
              "#7201a8"
             ],
             [
              0.3333333333333333,
              "#9c179e"
             ],
             [
              0.4444444444444444,
              "#bd3786"
             ],
             [
              0.5555555555555556,
              "#d8576b"
             ],
             [
              0.6666666666666666,
              "#ed7953"
             ],
             [
              0.7777777777777778,
              "#fb9f3a"
             ],
             [
              0.8888888888888888,
              "#fdca26"
             ],
             [
              1,
              "#f0f921"
             ]
            ],
            "type": "contour"
           }
          ],
          "contourcarpet": [
           {
            "colorbar": {
             "outlinewidth": 0,
             "ticks": ""
            },
            "type": "contourcarpet"
           }
          ],
          "heatmap": [
           {
            "colorbar": {
             "outlinewidth": 0,
             "ticks": ""
            },
            "colorscale": [
             [
              0,
              "#0d0887"
             ],
             [
              0.1111111111111111,
              "#46039f"
             ],
             [
              0.2222222222222222,
              "#7201a8"
             ],
             [
              0.3333333333333333,
              "#9c179e"
             ],
             [
              0.4444444444444444,
              "#bd3786"
             ],
             [
              0.5555555555555556,
              "#d8576b"
             ],
             [
              0.6666666666666666,
              "#ed7953"
             ],
             [
              0.7777777777777778,
              "#fb9f3a"
             ],
             [
              0.8888888888888888,
              "#fdca26"
             ],
             [
              1,
              "#f0f921"
             ]
            ],
            "type": "heatmap"
           }
          ],
          "heatmapgl": [
           {
            "colorbar": {
             "outlinewidth": 0,
             "ticks": ""
            },
            "colorscale": [
             [
              0,
              "#0d0887"
             ],
             [
              0.1111111111111111,
              "#46039f"
             ],
             [
              0.2222222222222222,
              "#7201a8"
             ],
             [
              0.3333333333333333,
              "#9c179e"
             ],
             [
              0.4444444444444444,
              "#bd3786"
             ],
             [
              0.5555555555555556,
              "#d8576b"
             ],
             [
              0.6666666666666666,
              "#ed7953"
             ],
             [
              0.7777777777777778,
              "#fb9f3a"
             ],
             [
              0.8888888888888888,
              "#fdca26"
             ],
             [
              1,
              "#f0f921"
             ]
            ],
            "type": "heatmapgl"
           }
          ],
          "histogram": [
           {
            "marker": {
             "pattern": {
              "fillmode": "overlay",
              "size": 10,
              "solidity": 0.2
             }
            },
            "type": "histogram"
           }
          ],
          "histogram2d": [
           {
            "colorbar": {
             "outlinewidth": 0,
             "ticks": ""
            },
            "colorscale": [
             [
              0,
              "#0d0887"
             ],
             [
              0.1111111111111111,
              "#46039f"
             ],
             [
              0.2222222222222222,
              "#7201a8"
             ],
             [
              0.3333333333333333,
              "#9c179e"
             ],
             [
              0.4444444444444444,
              "#bd3786"
             ],
             [
              0.5555555555555556,
              "#d8576b"
             ],
             [
              0.6666666666666666,
              "#ed7953"
             ],
             [
              0.7777777777777778,
              "#fb9f3a"
             ],
             [
              0.8888888888888888,
              "#fdca26"
             ],
             [
              1,
              "#f0f921"
             ]
            ],
            "type": "histogram2d"
           }
          ],
          "histogram2dcontour": [
           {
            "colorbar": {
             "outlinewidth": 0,
             "ticks": ""
            },
            "colorscale": [
             [
              0,
              "#0d0887"
             ],
             [
              0.1111111111111111,
              "#46039f"
             ],
             [
              0.2222222222222222,
              "#7201a8"
             ],
             [
              0.3333333333333333,
              "#9c179e"
             ],
             [
              0.4444444444444444,
              "#bd3786"
             ],
             [
              0.5555555555555556,
              "#d8576b"
             ],
             [
              0.6666666666666666,
              "#ed7953"
             ],
             [
              0.7777777777777778,
              "#fb9f3a"
             ],
             [
              0.8888888888888888,
              "#fdca26"
             ],
             [
              1,
              "#f0f921"
             ]
            ],
            "type": "histogram2dcontour"
           }
          ],
          "mesh3d": [
           {
            "colorbar": {
             "outlinewidth": 0,
             "ticks": ""
            },
            "type": "mesh3d"
           }
          ],
          "parcoords": [
           {
            "line": {
             "colorbar": {
              "outlinewidth": 0,
              "ticks": ""
             }
            },
            "type": "parcoords"
           }
          ],
          "pie": [
           {
            "automargin": true,
            "type": "pie"
           }
          ],
          "scatter": [
           {
            "marker": {
             "colorbar": {
              "outlinewidth": 0,
              "ticks": ""
             }
            },
            "type": "scatter"
           }
          ],
          "scatter3d": [
           {
            "line": {
             "colorbar": {
              "outlinewidth": 0,
              "ticks": ""
             }
            },
            "marker": {
             "colorbar": {
              "outlinewidth": 0,
              "ticks": ""
             }
            },
            "type": "scatter3d"
           }
          ],
          "scattercarpet": [
           {
            "marker": {
             "colorbar": {
              "outlinewidth": 0,
              "ticks": ""
             }
            },
            "type": "scattercarpet"
           }
          ],
          "scattergeo": [
           {
            "marker": {
             "colorbar": {
              "outlinewidth": 0,
              "ticks": ""
             }
            },
            "type": "scattergeo"
           }
          ],
          "scattergl": [
           {
            "marker": {
             "colorbar": {
              "outlinewidth": 0,
              "ticks": ""
             }
            },
            "type": "scattergl"
           }
          ],
          "scattermapbox": [
           {
            "marker": {
             "colorbar": {
              "outlinewidth": 0,
              "ticks": ""
             }
            },
            "type": "scattermapbox"
           }
          ],
          "scatterpolar": [
           {
            "marker": {
             "colorbar": {
              "outlinewidth": 0,
              "ticks": ""
             }
            },
            "type": "scatterpolar"
           }
          ],
          "scatterpolargl": [
           {
            "marker": {
             "colorbar": {
              "outlinewidth": 0,
              "ticks": ""
             }
            },
            "type": "scatterpolargl"
           }
          ],
          "scatterternary": [
           {
            "marker": {
             "colorbar": {
              "outlinewidth": 0,
              "ticks": ""
             }
            },
            "type": "scatterternary"
           }
          ],
          "surface": [
           {
            "colorbar": {
             "outlinewidth": 0,
             "ticks": ""
            },
            "colorscale": [
             [
              0,
              "#0d0887"
             ],
             [
              0.1111111111111111,
              "#46039f"
             ],
             [
              0.2222222222222222,
              "#7201a8"
             ],
             [
              0.3333333333333333,
              "#9c179e"
             ],
             [
              0.4444444444444444,
              "#bd3786"
             ],
             [
              0.5555555555555556,
              "#d8576b"
             ],
             [
              0.6666666666666666,
              "#ed7953"
             ],
             [
              0.7777777777777778,
              "#fb9f3a"
             ],
             [
              0.8888888888888888,
              "#fdca26"
             ],
             [
              1,
              "#f0f921"
             ]
            ],
            "type": "surface"
           }
          ],
          "table": [
           {
            "cells": {
             "fill": {
              "color": "#EBF0F8"
             },
             "line": {
              "color": "white"
             }
            },
            "header": {
             "fill": {
              "color": "#C8D4E3"
             },
             "line": {
              "color": "white"
             }
            },
            "type": "table"
           }
          ]
         },
         "layout": {
          "annotationdefaults": {
           "arrowcolor": "#2a3f5f",
           "arrowhead": 0,
           "arrowwidth": 1
          },
          "autotypenumbers": "strict",
          "coloraxis": {
           "colorbar": {
            "outlinewidth": 0,
            "ticks": ""
           }
          },
          "colorscale": {
           "diverging": [
            [
             0,
             "#8e0152"
            ],
            [
             0.1,
             "#c51b7d"
            ],
            [
             0.2,
             "#de77ae"
            ],
            [
             0.3,
             "#f1b6da"
            ],
            [
             0.4,
             "#fde0ef"
            ],
            [
             0.5,
             "#f7f7f7"
            ],
            [
             0.6,
             "#e6f5d0"
            ],
            [
             0.7,
             "#b8e186"
            ],
            [
             0.8,
             "#7fbc41"
            ],
            [
             0.9,
             "#4d9221"
            ],
            [
             1,
             "#276419"
            ]
           ],
           "sequential": [
            [
             0,
             "#0d0887"
            ],
            [
             0.1111111111111111,
             "#46039f"
            ],
            [
             0.2222222222222222,
             "#7201a8"
            ],
            [
             0.3333333333333333,
             "#9c179e"
            ],
            [
             0.4444444444444444,
             "#bd3786"
            ],
            [
             0.5555555555555556,
             "#d8576b"
            ],
            [
             0.6666666666666666,
             "#ed7953"
            ],
            [
             0.7777777777777778,
             "#fb9f3a"
            ],
            [
             0.8888888888888888,
             "#fdca26"
            ],
            [
             1,
             "#f0f921"
            ]
           ],
           "sequentialminus": [
            [
             0,
             "#0d0887"
            ],
            [
             0.1111111111111111,
             "#46039f"
            ],
            [
             0.2222222222222222,
             "#7201a8"
            ],
            [
             0.3333333333333333,
             "#9c179e"
            ],
            [
             0.4444444444444444,
             "#bd3786"
            ],
            [
             0.5555555555555556,
             "#d8576b"
            ],
            [
             0.6666666666666666,
             "#ed7953"
            ],
            [
             0.7777777777777778,
             "#fb9f3a"
            ],
            [
             0.8888888888888888,
             "#fdca26"
            ],
            [
             1,
             "#f0f921"
            ]
           ]
          },
          "colorway": [
           "#636efa",
           "#EF553B",
           "#00cc96",
           "#ab63fa",
           "#FFA15A",
           "#19d3f3",
           "#FF6692",
           "#B6E880",
           "#FF97FF",
           "#FECB52"
          ],
          "font": {
           "color": "#2a3f5f"
          },
          "geo": {
           "bgcolor": "white",
           "lakecolor": "white",
           "landcolor": "#E5ECF6",
           "showlakes": true,
           "showland": true,
           "subunitcolor": "white"
          },
          "hoverlabel": {
           "align": "left"
          },
          "hovermode": "closest",
          "mapbox": {
           "style": "light"
          },
          "paper_bgcolor": "white",
          "plot_bgcolor": "#E5ECF6",
          "polar": {
           "angularaxis": {
            "gridcolor": "white",
            "linecolor": "white",
            "ticks": ""
           },
           "bgcolor": "#E5ECF6",
           "radialaxis": {
            "gridcolor": "white",
            "linecolor": "white",
            "ticks": ""
           }
          },
          "scene": {
           "xaxis": {
            "backgroundcolor": "#E5ECF6",
            "gridcolor": "white",
            "gridwidth": 2,
            "linecolor": "white",
            "showbackground": true,
            "ticks": "",
            "zerolinecolor": "white"
           },
           "yaxis": {
            "backgroundcolor": "#E5ECF6",
            "gridcolor": "white",
            "gridwidth": 2,
            "linecolor": "white",
            "showbackground": true,
            "ticks": "",
            "zerolinecolor": "white"
           },
           "zaxis": {
            "backgroundcolor": "#E5ECF6",
            "gridcolor": "white",
            "gridwidth": 2,
            "linecolor": "white",
            "showbackground": true,
            "ticks": "",
            "zerolinecolor": "white"
           }
          },
          "shapedefaults": {
           "line": {
            "color": "#2a3f5f"
           }
          },
          "ternary": {
           "aaxis": {
            "gridcolor": "white",
            "linecolor": "white",
            "ticks": ""
           },
           "baxis": {
            "gridcolor": "white",
            "linecolor": "white",
            "ticks": ""
           },
           "bgcolor": "#E5ECF6",
           "caxis": {
            "gridcolor": "white",
            "linecolor": "white",
            "ticks": ""
           }
          },
          "title": {
           "x": 0.05
          },
          "xaxis": {
           "automargin": true,
           "gridcolor": "white",
           "linecolor": "white",
           "ticks": "",
           "title": {
            "standoff": 15
           },
           "zerolinecolor": "white",
           "zerolinewidth": 2
          },
          "yaxis": {
           "automargin": true,
           "gridcolor": "white",
           "linecolor": "white",
           "ticks": "",
           "title": {
            "standoff": 15
           },
           "zerolinecolor": "white",
           "zerolinewidth": 2
          }
         }
        },
        "title": {
         "font": {
          "color": "#4D5663"
         }
        },
        "xaxis": {
         "gridcolor": "#E1E5ED",
         "showgrid": true,
         "tickfont": {
          "color": "#4D5663"
         },
         "title": {
          "font": {
           "color": "#4D5663"
          },
          "text": ""
         },
         "zerolinecolor": "#E1E5ED"
        },
        "xaxis2": {
         "anchor": "y2",
         "gridcolor": "#E1E5ED",
         "showgrid": true,
         "showticklabels": false,
         "tickfont": {
          "color": "#4D5663"
         },
         "title": {
          "font": {
           "color": "#4D5663"
          },
          "text": ""
         },
         "zerolinecolor": "#E1E5ED"
        },
        "yaxis": {
         "domain": [
          0.3,
          1
         ],
         "gridcolor": "#E1E5ED",
         "showgrid": true,
         "tickfont": {
          "color": "#4D5663"
         },
         "title": {
          "font": {
           "color": "#4D5663"
          },
          "text": ""
         },
         "zerolinecolor": "#E1E5ED"
        },
        "yaxis2": {
         "domain": [
          0,
          0.25
         ],
         "gridcolor": "#E1E5ED",
         "showgrid": true,
         "tickfont": {
          "color": "#4D5663"
         },
         "title": {
          "font": {
           "color": "#4D5663"
          },
          "text": "Spread"
         },
         "zerolinecolor": "#E1E5ED"
        }
       }
      },
      "text/html": [
       "<div>                            <div id=\"929e97ae-e867-406d-9304-e48533297e4b\" class=\"plotly-graph-div\" style=\"height:525px; width:100%;\"></div>            <script type=\"text/javascript\">                require([\"plotly\"], function(Plotly) {                    window.PLOTLYENV=window.PLOTLYENV || {};\n",
       "                    window.PLOTLYENV.BASE_URL='https://plot.ly';                                    if (document.getElementById(\"929e97ae-e867-406d-9304-e48533297e4b\")) {                    Plotly.newPlot(                        \"929e97ae-e867-406d-9304-e48533297e4b\",                        [{\"line\":{\"color\":\"rgba(255, 153, 51, 1.0)\",\"dash\":\"solid\",\"shape\":\"linear\",\"width\":1.3},\"mode\":\"lines\",\"name\":\"A\",\"text\":\"\",\"x\":[0,1,2,3,4,5,6,7,8,9,10,11,12,13,14,15,16,17,18,19,20,21,22,23,24,25,26,27,28,29,30,31,32,33,34,35,36,37,38,39,40,41,42,43,44,45,46,47,48,49,50,51,52,53,54,55,56,57,58,59,60,61,62,63,64,65,66,67,68,69,70,71,72,73,74,75,76,77,78,79,80,81,82,83,84,85,86,87,88,89,90,91,92,93,94,95,96,97,98,99],\"y\":[1.621784997721568,-0.41366034592813133,0.1703499631587245,-1.1920692972460996,1.490540900725984,-0.057932056600882395,1.9493212915706266,-1.2133489775891626,-1.0171927857273269,-0.8748618841330696,-0.19903180545332752,1.847526392833172,-0.2758818988849343,0.17071171785641004,0.24112433897690283,-1.0364302350178969,-0.8704374048875894,0.11878631382799285,0.5524041774833329,0.4112892963529475,-0.20274718423037727,-0.1461750034500728,0.3938150717043993,1.013168990337693,1.1587377671220014,-0.07891110920131336,0.19674715852663466,-0.5137254496290548,-1.3594253212057925,0.7768929577215199,0.6932876094382373,0.1484716481867066,2.141638801331524,-0.6084944312615944,0.12650327275946432,0.32470093884566403,1.4432404036386661,0.5217947714925911,-1.0688444844738667,1.089135815260983,-0.29998118456619116,1.0273537271019182,0.33014992958416733,0.586781806816406,-1.6649854938580066,-0.39329069469733646,-0.8237723532130063,0.4796787729400577,-0.3700012746496557,-0.13284150565306116,-1.1415402494783435,0.4020235767439107,-0.06843544392719376,-1.605258168642368,0.3923808704859432,-1.6020304450352683,1.0229879340680732,-0.4716385035017622,-0.3026686970378709,0.23121824625826157,0.7941197295728922,0.2078528949337184,-0.05314850978774376,1.091414986451456,-0.23054064816857944,0.12287026554946075,-1.7032966482057637,-0.5607482142252319,-0.4070160127155237,0.2911341229123403,-1.3376367352973613,2.471298182591257,-1.4273438012656001,-0.9644104778552279,0.7529486000501481,0.9160977380939834,-1.3222788380506154,0.07158314746484597,1.7485767845451123,2.159357303646926,-2.4804194984392924,-1.423385099276626,-1.456924292494143,0.09113542169714114,-0.8048108696952876,-0.27162322444491255,0.1389955219980199,0.2236833151602733,-1.0924382534322106,-1.0804917489162433,1.4912408101051184,0.18322793537716855,1.3056813227817263,1.9582872537903173,-1.3558255227600555,-1.5599278170781556,0.05322385578051336,0.2884950550162606,0.48473933084086995,-1.1138289966447266],\"type\":\"scatter\"},{\"line\":{\"color\":\"rgba(55, 128, 191, 1.0)\",\"dash\":\"solid\",\"shape\":\"linear\",\"width\":1.3},\"mode\":\"lines\",\"name\":\"B\",\"text\":\"\",\"x\":[0,1,2,3,4,5,6,7,8,9,10,11,12,13,14,15,16,17,18,19,20,21,22,23,24,25,26,27,28,29,30,31,32,33,34,35,36,37,38,39,40,41,42,43,44,45,46,47,48,49,50,51,52,53,54,55,56,57,58,59,60,61,62,63,64,65,66,67,68,69,70,71,72,73,74,75,76,77,78,79,80,81,82,83,84,85,86,87,88,89,90,91,92,93,94,95,96,97,98,99],\"y\":[1.0464563135578546,-3.0632225880848103,0.7347392981478813,-0.4260768015024099,0.96632800431009,1.2259616492672805,-0.3898324536994116,-1.3347108635827836,0.05850423362368821,-0.4564072432013887,-0.15724725260979047,-1.0977125535217649,-1.665999133255654,-0.21072539560613976,0.7962219185478997,-1.288845173225243,1.564273626180649,-0.11076177080563634,0.8491023364744843,0.9853140925690016,0.6952633578875285,-0.5600769380847198,-0.19660318900246418,-0.6629276497584601,-1.3095091871088107,1.9410326677104206,-0.1989245390276827,-0.7713841078744924,0.552871220815854,-0.8537682860036248,-1.4949821204592284,0.2732931186024205,0.3180571929056187,-0.837676117557035,0.04896750587297655,0.12963765216194872,1.4307678743993686,-0.42045979023879326,-1.9952224416416797,-0.5346484174600119,-0.204811204865994,0.5420650487257817,0.4503872326298657,0.35425475395255546,0.5098829247281865,0.34922028677025024,-0.7712388190084934,1.2298158269216979,0.1733960637726265,0.3126798756781296,0.19876210807019104,1.0582434500911917,-1.6849847277255832,-0.10124840186809116,-0.23032439763298906,1.6930993305863318,-0.5503621073120089,1.120459574282658,-0.5427843412382684,-0.5993572950007119,0.39726633886579293,-0.465487493410192,-0.3432593210298152,-0.38337663937759575,-1.140292528148463,-0.8325557987264668,1.6304602355112843,1.284431606320553,-0.012042543937797351,1.6039192046856627,-0.5404995606983964,1.4255305799121059,-0.7118064004521089,1.9924921540827385,2.3583690017492733,1.467961164888937,0.6915606738845025,-1.7905203549323134,0.9946791497816215,0.40474624180499874,-0.861893923994319,-2.102546055137808,-0.7677543614787729,0.12425845837419648,-0.8931963800510369,-0.9950165747531337,0.9757275360573655,-0.2788829177616858,0.9797543092857613,-0.49850385133220226,0.14271820497733537,0.03975498644747681,0.7118652256934209,0.8906588179631437,-0.6197301677060046,-1.201610403980832,2.4617261927462804,1.0102652057417734,-1.0027608010524207,-1.935435639286333],\"type\":\"scatter\"},{\"connectgaps\":false,\"fill\":\"tozeroy\",\"line\":{\"color\":\"green\",\"dash\":\"solid\",\"shape\":\"linear\",\"width\":0.5},\"mode\":\"lines\",\"name\":\"Spread\",\"showlegend\":false,\"x\":[0,1,2,3,4,5,6,7,8,9,10,11,12,13,14,15,16,17,18,19,20,21,22,23,24,25,26,27,28,29,30,31,32,33,34,35,36,37,38,39,40,41,42,43,44,45,46,47,48,49,50,51,52,53,54,55,56,57,58,59,60,61,62,63,64,65,66,67,68,69,70,71,72,73,74,75,76,77,78,79,80,81,82,83,84,85,86,87,88,89,90,91,92,93,94,95,96,97,98,99],\"xaxis\":\"x2\",\"y\":[0.5753286841637133,2.649562242156679,\"\",\"\",0.524212896415894,\"\",2.339153745270038,0.12136188599362097,\"\",\"\",\"\",2.945238946354937,1.3901172343707198,0.3814371134625498,\"\",0.2524149382073462,\"\",0.2295480846336292,\"\",\"\",\"\",0.413901934634647,0.5904182607068634,1.6760966400961532,2.4682469542308123,\"\",0.39567169755431736,0.25765865824543766,\"\",1.6306612437251446,2.1882697298974656,\"\",1.8235816084259056,0.22918168629544056,0.07753576688648778,0.1950632866837153,0.012472529239297536,0.9422545617313844,0.926377957167813,1.6237842327209948,\"\",0.48528867837613654,\"\",0.23252705286385056,\"\",\"\",\"\",\"\",\"\",\"\",\"\",\"\",1.6165492837983895,\"\",0.6227052681189322,\"\",1.573350041380082,\"\",0.24011564420039744,0.8305755412589735,0.3968533907070993,0.6733403883439104,0.29011081124207144,1.4747916258290517,0.9097518799798836,0.9554260642759276,\"\",\"\",\"\",\"\",\"\",1.0457676026791514,\"\",\"\",\"\",\"\",\"\",1.8621035023971595,0.7538976347634908,1.754611061841927,\"\",0.679160955861182,\"\",\"\",0.08838551035574926,0.723393350308221,\"\",0.5025662329219591,\"\",\"\",1.348522605127783,0.14347294892969176,0.5938160970883054,1.0676284358271735,\"\",\"\",\"\",\"\",1.4875001318932908,0.8216066426416064],\"yaxis\":\"y2\",\"type\":\"scatter\"},{\"connectgaps\":false,\"fill\":\"tozeroy\",\"line\":{\"color\":\"red\",\"dash\":\"solid\",\"shape\":\"linear\",\"width\":0.5},\"mode\":\"lines\",\"name\":\"Spread\",\"showlegend\":false,\"x\":[0,1,2,3,4,5,6,7,8,9,10,11,12,13,14,15,16,17,18,19,20,21,22,23,24,25,26,27,28,29,30,31,32,33,34,35,36,37,38,39,40,41,42,43,44,45,46,47,48,49,50,51,52,53,54,55,56,57,58,59,60,61,62,63,64,65,66,67,68,69,70,71,72,73,74,75,76,77,78,79,80,81,82,83,84,85,86,87,88,89,90,91,92,93,94,95,96,97,98,99],\"xaxis\":\"x2\",\"y\":[\"\",\"\",-0.5643893349891568,-0.7659924957436897,\"\",-1.2838937058681628,\"\",\"\",-1.0756970193510151,-0.41845464093168094,-0.04178455284353705,\"\",\"\",\"\",-0.5550975795709969,\"\",-2.4347110310682383,\"\",-0.2966981589911514,-0.5740247962160541,-0.8980105421179058,\"\",\"\",\"\",\"\",-2.019943776911734,\"\",\"\",-1.9122965420216467,\"\",\"\",-0.1248214704157139,\"\",\"\",\"\",\"\",\"\",\"\",\"\",\"\",-0.09516997970019717,\"\",-0.12023730304569835,\"\",-2.1748684185861933,-0.7425109814675868,-0.0525335342045129,-0.7501370539816402,-0.5433973384222822,-0.4455213813311908,-1.3403023575485347,-0.656219873347281,\"\",-1.5040097667742767,\"\",-3.2951297756216,\"\",-1.5920980777844203,\"\",\"\",\"\",\"\",\"\",\"\",\"\",\"\",-3.333756883717048,-1.845179820545785,-0.3949734687777263,-1.3127850817733224,-0.7971371745989648,\"\",-0.7155374008134913,-2.9569026319379663,-1.6054204016991251,-0.5518634267949536,-2.013839511935118,\"\",\"\",\"\",-1.6185255744449734,\"\",-0.6891699310153702,-0.03312303667705534,\"\",\"\",-0.8367320140593456,\"\",-2.072192562717972,-0.5819878975840411,\"\",\"\",\"\",\"\",-0.7360953550540509,-0.3583174130973237,-2.4085023369657668,-0.7217701507255128,\"\",\"\"],\"yaxis\":\"y2\",\"type\":\"scatter\"}],                        {\"hovermode\":\"x\",\"legend\":{\"bgcolor\":\"#F5F6F9\",\"font\":{\"color\":\"#4D5663\"}},\"paper_bgcolor\":\"#F5F6F9\",\"plot_bgcolor\":\"#F5F6F9\",\"template\":{\"data\":{\"barpolar\":[{\"marker\":{\"line\":{\"color\":\"#E5ECF6\",\"width\":0.5},\"pattern\":{\"fillmode\":\"overlay\",\"size\":10,\"solidity\":0.2}},\"type\":\"barpolar\"}],\"bar\":[{\"error_x\":{\"color\":\"#2a3f5f\"},\"error_y\":{\"color\":\"#2a3f5f\"},\"marker\":{\"line\":{\"color\":\"#E5ECF6\",\"width\":0.5},\"pattern\":{\"fillmode\":\"overlay\",\"size\":10,\"solidity\":0.2}},\"type\":\"bar\"}],\"carpet\":[{\"aaxis\":{\"endlinecolor\":\"#2a3f5f\",\"gridcolor\":\"white\",\"linecolor\":\"white\",\"minorgridcolor\":\"white\",\"startlinecolor\":\"#2a3f5f\"},\"baxis\":{\"endlinecolor\":\"#2a3f5f\",\"gridcolor\":\"white\",\"linecolor\":\"white\",\"minorgridcolor\":\"white\",\"startlinecolor\":\"#2a3f5f\"},\"type\":\"carpet\"}],\"choropleth\":[{\"colorbar\":{\"outlinewidth\":0,\"ticks\":\"\"},\"type\":\"choropleth\"}],\"contourcarpet\":[{\"colorbar\":{\"outlinewidth\":0,\"ticks\":\"\"},\"type\":\"contourcarpet\"}],\"contour\":[{\"colorbar\":{\"outlinewidth\":0,\"ticks\":\"\"},\"colorscale\":[[0.0,\"#0d0887\"],[0.1111111111111111,\"#46039f\"],[0.2222222222222222,\"#7201a8\"],[0.3333333333333333,\"#9c179e\"],[0.4444444444444444,\"#bd3786\"],[0.5555555555555556,\"#d8576b\"],[0.6666666666666666,\"#ed7953\"],[0.7777777777777778,\"#fb9f3a\"],[0.8888888888888888,\"#fdca26\"],[1.0,\"#f0f921\"]],\"type\":\"contour\"}],\"heatmapgl\":[{\"colorbar\":{\"outlinewidth\":0,\"ticks\":\"\"},\"colorscale\":[[0.0,\"#0d0887\"],[0.1111111111111111,\"#46039f\"],[0.2222222222222222,\"#7201a8\"],[0.3333333333333333,\"#9c179e\"],[0.4444444444444444,\"#bd3786\"],[0.5555555555555556,\"#d8576b\"],[0.6666666666666666,\"#ed7953\"],[0.7777777777777778,\"#fb9f3a\"],[0.8888888888888888,\"#fdca26\"],[1.0,\"#f0f921\"]],\"type\":\"heatmapgl\"}],\"heatmap\":[{\"colorbar\":{\"outlinewidth\":0,\"ticks\":\"\"},\"colorscale\":[[0.0,\"#0d0887\"],[0.1111111111111111,\"#46039f\"],[0.2222222222222222,\"#7201a8\"],[0.3333333333333333,\"#9c179e\"],[0.4444444444444444,\"#bd3786\"],[0.5555555555555556,\"#d8576b\"],[0.6666666666666666,\"#ed7953\"],[0.7777777777777778,\"#fb9f3a\"],[0.8888888888888888,\"#fdca26\"],[1.0,\"#f0f921\"]],\"type\":\"heatmap\"}],\"histogram2dcontour\":[{\"colorbar\":{\"outlinewidth\":0,\"ticks\":\"\"},\"colorscale\":[[0.0,\"#0d0887\"],[0.1111111111111111,\"#46039f\"],[0.2222222222222222,\"#7201a8\"],[0.3333333333333333,\"#9c179e\"],[0.4444444444444444,\"#bd3786\"],[0.5555555555555556,\"#d8576b\"],[0.6666666666666666,\"#ed7953\"],[0.7777777777777778,\"#fb9f3a\"],[0.8888888888888888,\"#fdca26\"],[1.0,\"#f0f921\"]],\"type\":\"histogram2dcontour\"}],\"histogram2d\":[{\"colorbar\":{\"outlinewidth\":0,\"ticks\":\"\"},\"colorscale\":[[0.0,\"#0d0887\"],[0.1111111111111111,\"#46039f\"],[0.2222222222222222,\"#7201a8\"],[0.3333333333333333,\"#9c179e\"],[0.4444444444444444,\"#bd3786\"],[0.5555555555555556,\"#d8576b\"],[0.6666666666666666,\"#ed7953\"],[0.7777777777777778,\"#fb9f3a\"],[0.8888888888888888,\"#fdca26\"],[1.0,\"#f0f921\"]],\"type\":\"histogram2d\"}],\"histogram\":[{\"marker\":{\"pattern\":{\"fillmode\":\"overlay\",\"size\":10,\"solidity\":0.2}},\"type\":\"histogram\"}],\"mesh3d\":[{\"colorbar\":{\"outlinewidth\":0,\"ticks\":\"\"},\"type\":\"mesh3d\"}],\"parcoords\":[{\"line\":{\"colorbar\":{\"outlinewidth\":0,\"ticks\":\"\"}},\"type\":\"parcoords\"}],\"pie\":[{\"automargin\":true,\"type\":\"pie\"}],\"scatter3d\":[{\"line\":{\"colorbar\":{\"outlinewidth\":0,\"ticks\":\"\"}},\"marker\":{\"colorbar\":{\"outlinewidth\":0,\"ticks\":\"\"}},\"type\":\"scatter3d\"}],\"scattercarpet\":[{\"marker\":{\"colorbar\":{\"outlinewidth\":0,\"ticks\":\"\"}},\"type\":\"scattercarpet\"}],\"scattergeo\":[{\"marker\":{\"colorbar\":{\"outlinewidth\":0,\"ticks\":\"\"}},\"type\":\"scattergeo\"}],\"scattergl\":[{\"marker\":{\"colorbar\":{\"outlinewidth\":0,\"ticks\":\"\"}},\"type\":\"scattergl\"}],\"scattermapbox\":[{\"marker\":{\"colorbar\":{\"outlinewidth\":0,\"ticks\":\"\"}},\"type\":\"scattermapbox\"}],\"scatterpolargl\":[{\"marker\":{\"colorbar\":{\"outlinewidth\":0,\"ticks\":\"\"}},\"type\":\"scatterpolargl\"}],\"scatterpolar\":[{\"marker\":{\"colorbar\":{\"outlinewidth\":0,\"ticks\":\"\"}},\"type\":\"scatterpolar\"}],\"scatter\":[{\"marker\":{\"colorbar\":{\"outlinewidth\":0,\"ticks\":\"\"}},\"type\":\"scatter\"}],\"scatterternary\":[{\"marker\":{\"colorbar\":{\"outlinewidth\":0,\"ticks\":\"\"}},\"type\":\"scatterternary\"}],\"surface\":[{\"colorbar\":{\"outlinewidth\":0,\"ticks\":\"\"},\"colorscale\":[[0.0,\"#0d0887\"],[0.1111111111111111,\"#46039f\"],[0.2222222222222222,\"#7201a8\"],[0.3333333333333333,\"#9c179e\"],[0.4444444444444444,\"#bd3786\"],[0.5555555555555556,\"#d8576b\"],[0.6666666666666666,\"#ed7953\"],[0.7777777777777778,\"#fb9f3a\"],[0.8888888888888888,\"#fdca26\"],[1.0,\"#f0f921\"]],\"type\":\"surface\"}],\"table\":[{\"cells\":{\"fill\":{\"color\":\"#EBF0F8\"},\"line\":{\"color\":\"white\"}},\"header\":{\"fill\":{\"color\":\"#C8D4E3\"},\"line\":{\"color\":\"white\"}},\"type\":\"table\"}]},\"layout\":{\"annotationdefaults\":{\"arrowcolor\":\"#2a3f5f\",\"arrowhead\":0,\"arrowwidth\":1},\"autotypenumbers\":\"strict\",\"coloraxis\":{\"colorbar\":{\"outlinewidth\":0,\"ticks\":\"\"}},\"colorscale\":{\"diverging\":[[0,\"#8e0152\"],[0.1,\"#c51b7d\"],[0.2,\"#de77ae\"],[0.3,\"#f1b6da\"],[0.4,\"#fde0ef\"],[0.5,\"#f7f7f7\"],[0.6,\"#e6f5d0\"],[0.7,\"#b8e186\"],[0.8,\"#7fbc41\"],[0.9,\"#4d9221\"],[1,\"#276419\"]],\"sequential\":[[0.0,\"#0d0887\"],[0.1111111111111111,\"#46039f\"],[0.2222222222222222,\"#7201a8\"],[0.3333333333333333,\"#9c179e\"],[0.4444444444444444,\"#bd3786\"],[0.5555555555555556,\"#d8576b\"],[0.6666666666666666,\"#ed7953\"],[0.7777777777777778,\"#fb9f3a\"],[0.8888888888888888,\"#fdca26\"],[1.0,\"#f0f921\"]],\"sequentialminus\":[[0.0,\"#0d0887\"],[0.1111111111111111,\"#46039f\"],[0.2222222222222222,\"#7201a8\"],[0.3333333333333333,\"#9c179e\"],[0.4444444444444444,\"#bd3786\"],[0.5555555555555556,\"#d8576b\"],[0.6666666666666666,\"#ed7953\"],[0.7777777777777778,\"#fb9f3a\"],[0.8888888888888888,\"#fdca26\"],[1.0,\"#f0f921\"]]},\"colorway\":[\"#636efa\",\"#EF553B\",\"#00cc96\",\"#ab63fa\",\"#FFA15A\",\"#19d3f3\",\"#FF6692\",\"#B6E880\",\"#FF97FF\",\"#FECB52\"],\"font\":{\"color\":\"#2a3f5f\"},\"geo\":{\"bgcolor\":\"white\",\"lakecolor\":\"white\",\"landcolor\":\"#E5ECF6\",\"showlakes\":true,\"showland\":true,\"subunitcolor\":\"white\"},\"hoverlabel\":{\"align\":\"left\"},\"hovermode\":\"closest\",\"mapbox\":{\"style\":\"light\"},\"paper_bgcolor\":\"white\",\"plot_bgcolor\":\"#E5ECF6\",\"polar\":{\"angularaxis\":{\"gridcolor\":\"white\",\"linecolor\":\"white\",\"ticks\":\"\"},\"bgcolor\":\"#E5ECF6\",\"radialaxis\":{\"gridcolor\":\"white\",\"linecolor\":\"white\",\"ticks\":\"\"}},\"scene\":{\"xaxis\":{\"backgroundcolor\":\"#E5ECF6\",\"gridcolor\":\"white\",\"gridwidth\":2,\"linecolor\":\"white\",\"showbackground\":true,\"ticks\":\"\",\"zerolinecolor\":\"white\"},\"yaxis\":{\"backgroundcolor\":\"#E5ECF6\",\"gridcolor\":\"white\",\"gridwidth\":2,\"linecolor\":\"white\",\"showbackground\":true,\"ticks\":\"\",\"zerolinecolor\":\"white\"},\"zaxis\":{\"backgroundcolor\":\"#E5ECF6\",\"gridcolor\":\"white\",\"gridwidth\":2,\"linecolor\":\"white\",\"showbackground\":true,\"ticks\":\"\",\"zerolinecolor\":\"white\"}},\"shapedefaults\":{\"line\":{\"color\":\"#2a3f5f\"}},\"ternary\":{\"aaxis\":{\"gridcolor\":\"white\",\"linecolor\":\"white\",\"ticks\":\"\"},\"baxis\":{\"gridcolor\":\"white\",\"linecolor\":\"white\",\"ticks\":\"\"},\"bgcolor\":\"#E5ECF6\",\"caxis\":{\"gridcolor\":\"white\",\"linecolor\":\"white\",\"ticks\":\"\"}},\"title\":{\"x\":0.05},\"xaxis\":{\"automargin\":true,\"gridcolor\":\"white\",\"linecolor\":\"white\",\"ticks\":\"\",\"title\":{\"standoff\":15},\"zerolinecolor\":\"white\",\"zerolinewidth\":2},\"yaxis\":{\"automargin\":true,\"gridcolor\":\"white\",\"linecolor\":\"white\",\"ticks\":\"\",\"title\":{\"standoff\":15},\"zerolinecolor\":\"white\",\"zerolinewidth\":2}}},\"title\":{\"font\":{\"color\":\"#4D5663\"}},\"xaxis\":{\"gridcolor\":\"#E1E5ED\",\"showgrid\":true,\"tickfont\":{\"color\":\"#4D5663\"},\"title\":{\"font\":{\"color\":\"#4D5663\"},\"text\":\"\"},\"zerolinecolor\":\"#E1E5ED\"},\"yaxis\":{\"domain\":[0.3,1],\"gridcolor\":\"#E1E5ED\",\"showgrid\":true,\"tickfont\":{\"color\":\"#4D5663\"},\"title\":{\"font\":{\"color\":\"#4D5663\"},\"text\":\"\"},\"zerolinecolor\":\"#E1E5ED\"},\"yaxis2\":{\"domain\":[0,0.25],\"gridcolor\":\"#E1E5ED\",\"showgrid\":true,\"tickfont\":{\"color\":\"#4D5663\"},\"title\":{\"font\":{\"color\":\"#4D5663\"},\"text\":\"Spread\"},\"zerolinecolor\":\"#E1E5ED\"},\"xaxis2\":{\"anchor\":\"y2\",\"gridcolor\":\"#E1E5ED\",\"showgrid\":true,\"showticklabels\":false,\"tickfont\":{\"color\":\"#4D5663\"},\"title\":{\"font\":{\"color\":\"#4D5663\"},\"text\":\"\"},\"zerolinecolor\":\"#E1E5ED\"}},                        {\"showLink\": true, \"linkText\": \"Export to plot.ly\", \"plotlyServerURL\": \"https://plot.ly\", \"responsive\": true}                    ).then(function(){\n",
       "                            \n",
       "var gd = document.getElementById('929e97ae-e867-406d-9304-e48533297e4b');\n",
       "var x = new MutationObserver(function (mutations, observer) {{\n",
       "        var display = window.getComputedStyle(gd).display;\n",
       "        if (!display || display === 'none') {{\n",
       "            console.log([gd, 'removed!']);\n",
       "            Plotly.purge(gd);\n",
       "            observer.disconnect();\n",
       "        }}\n",
       "}});\n",
       "\n",
       "// Listen for the removal of the full notebook cells\n",
       "var notebookContainer = gd.closest('#notebook-container');\n",
       "if (notebookContainer) {{\n",
       "    x.observe(notebookContainer, {childList: true});\n",
       "}}\n",
       "\n",
       "// Listen for the clearing of the current output cell\n",
       "var outputEl = gd.closest('.output');\n",
       "if (outputEl) {{\n",
       "    x.observe(outputEl, {childList: true});\n",
       "}}\n",
       "\n",
       "                        })                };                });            </script>        </div>"
      ]
     },
     "metadata": {},
     "output_type": "display_data"
    }
   ],
   "source": [
    "df[['A','B']].iplot(kind='spread')"
   ]
  },
  {
   "cell_type": "markdown",
   "metadata": {},
   "source": [
    "## histogram"
   ]
  },
  {
   "cell_type": "code",
   "execution_count": 16,
   "metadata": {},
   "outputs": [
    {
     "data": {
      "application/vnd.plotly.v1+json": {
       "config": {
        "linkText": "Export to plot.ly",
        "plotlyServerURL": "https://plot.ly",
        "showLink": true
       },
       "data": [
        {
         "histfunc": "count",
         "histnorm": "",
         "marker": {
          "color": "rgba(255, 153, 51, 1.0)",
          "line": {
           "color": "#4D5663",
           "width": 1.3
          }
         },
         "name": "A",
         "nbinsx": 25,
         "opacity": 0.8,
         "orientation": "v",
         "type": "histogram",
         "x": [
          1.621784997721568,
          -0.41366034592813133,
          0.1703499631587245,
          -1.1920692972460996,
          1.490540900725984,
          -0.057932056600882395,
          1.9493212915706266,
          -1.2133489775891626,
          -1.0171927857273269,
          -0.8748618841330696,
          -0.19903180545332752,
          1.847526392833172,
          -0.2758818988849343,
          0.17071171785641004,
          0.24112433897690283,
          -1.0364302350178969,
          -0.8704374048875894,
          0.11878631382799285,
          0.5524041774833329,
          0.4112892963529475,
          -0.20274718423037727,
          -0.1461750034500728,
          0.3938150717043993,
          1.013168990337693,
          1.1587377671220014,
          -0.07891110920131336,
          0.19674715852663466,
          -0.5137254496290548,
          -1.3594253212057925,
          0.7768929577215199,
          0.6932876094382373,
          0.1484716481867066,
          2.141638801331524,
          -0.6084944312615944,
          0.12650327275946432,
          0.32470093884566403,
          1.4432404036386661,
          0.5217947714925911,
          -1.0688444844738667,
          1.089135815260983,
          -0.29998118456619116,
          1.0273537271019182,
          0.33014992958416733,
          0.586781806816406,
          -1.6649854938580066,
          -0.39329069469733646,
          -0.8237723532130063,
          0.4796787729400577,
          -0.3700012746496557,
          -0.13284150565306116,
          -1.1415402494783435,
          0.4020235767439107,
          -0.06843544392719376,
          -1.605258168642368,
          0.3923808704859432,
          -1.6020304450352683,
          1.0229879340680732,
          -0.4716385035017622,
          -0.3026686970378709,
          0.23121824625826157,
          0.7941197295728922,
          0.2078528949337184,
          -0.05314850978774376,
          1.091414986451456,
          -0.23054064816857944,
          0.12287026554946075,
          -1.7032966482057637,
          -0.5607482142252319,
          -0.4070160127155237,
          0.2911341229123403,
          -1.3376367352973613,
          2.471298182591257,
          -1.4273438012656001,
          -0.9644104778552279,
          0.7529486000501481,
          0.9160977380939834,
          -1.3222788380506154,
          0.07158314746484597,
          1.7485767845451123,
          2.159357303646926,
          -2.4804194984392924,
          -1.423385099276626,
          -1.456924292494143,
          0.09113542169714114,
          -0.8048108696952876,
          -0.27162322444491255,
          0.1389955219980199,
          0.2236833151602733,
          -1.0924382534322106,
          -1.0804917489162433,
          1.4912408101051184,
          0.18322793537716855,
          1.3056813227817263,
          1.9582872537903173,
          -1.3558255227600555,
          -1.5599278170781556,
          0.05322385578051336,
          0.2884950550162606,
          0.48473933084086995,
          -1.1138289966447266
         ]
        }
       ],
       "layout": {
        "barmode": "overlay",
        "legend": {
         "bgcolor": "#F5F6F9",
         "font": {
          "color": "#4D5663"
         }
        },
        "paper_bgcolor": "#F5F6F9",
        "plot_bgcolor": "#F5F6F9",
        "template": {
         "data": {
          "bar": [
           {
            "error_x": {
             "color": "#2a3f5f"
            },
            "error_y": {
             "color": "#2a3f5f"
            },
            "marker": {
             "line": {
              "color": "#E5ECF6",
              "width": 0.5
             },
             "pattern": {
              "fillmode": "overlay",
              "size": 10,
              "solidity": 0.2
             }
            },
            "type": "bar"
           }
          ],
          "barpolar": [
           {
            "marker": {
             "line": {
              "color": "#E5ECF6",
              "width": 0.5
             },
             "pattern": {
              "fillmode": "overlay",
              "size": 10,
              "solidity": 0.2
             }
            },
            "type": "barpolar"
           }
          ],
          "carpet": [
           {
            "aaxis": {
             "endlinecolor": "#2a3f5f",
             "gridcolor": "white",
             "linecolor": "white",
             "minorgridcolor": "white",
             "startlinecolor": "#2a3f5f"
            },
            "baxis": {
             "endlinecolor": "#2a3f5f",
             "gridcolor": "white",
             "linecolor": "white",
             "minorgridcolor": "white",
             "startlinecolor": "#2a3f5f"
            },
            "type": "carpet"
           }
          ],
          "choropleth": [
           {
            "colorbar": {
             "outlinewidth": 0,
             "ticks": ""
            },
            "type": "choropleth"
           }
          ],
          "contour": [
           {
            "colorbar": {
             "outlinewidth": 0,
             "ticks": ""
            },
            "colorscale": [
             [
              0,
              "#0d0887"
             ],
             [
              0.1111111111111111,
              "#46039f"
             ],
             [
              0.2222222222222222,
              "#7201a8"
             ],
             [
              0.3333333333333333,
              "#9c179e"
             ],
             [
              0.4444444444444444,
              "#bd3786"
             ],
             [
              0.5555555555555556,
              "#d8576b"
             ],
             [
              0.6666666666666666,
              "#ed7953"
             ],
             [
              0.7777777777777778,
              "#fb9f3a"
             ],
             [
              0.8888888888888888,
              "#fdca26"
             ],
             [
              1,
              "#f0f921"
             ]
            ],
            "type": "contour"
           }
          ],
          "contourcarpet": [
           {
            "colorbar": {
             "outlinewidth": 0,
             "ticks": ""
            },
            "type": "contourcarpet"
           }
          ],
          "heatmap": [
           {
            "colorbar": {
             "outlinewidth": 0,
             "ticks": ""
            },
            "colorscale": [
             [
              0,
              "#0d0887"
             ],
             [
              0.1111111111111111,
              "#46039f"
             ],
             [
              0.2222222222222222,
              "#7201a8"
             ],
             [
              0.3333333333333333,
              "#9c179e"
             ],
             [
              0.4444444444444444,
              "#bd3786"
             ],
             [
              0.5555555555555556,
              "#d8576b"
             ],
             [
              0.6666666666666666,
              "#ed7953"
             ],
             [
              0.7777777777777778,
              "#fb9f3a"
             ],
             [
              0.8888888888888888,
              "#fdca26"
             ],
             [
              1,
              "#f0f921"
             ]
            ],
            "type": "heatmap"
           }
          ],
          "heatmapgl": [
           {
            "colorbar": {
             "outlinewidth": 0,
             "ticks": ""
            },
            "colorscale": [
             [
              0,
              "#0d0887"
             ],
             [
              0.1111111111111111,
              "#46039f"
             ],
             [
              0.2222222222222222,
              "#7201a8"
             ],
             [
              0.3333333333333333,
              "#9c179e"
             ],
             [
              0.4444444444444444,
              "#bd3786"
             ],
             [
              0.5555555555555556,
              "#d8576b"
             ],
             [
              0.6666666666666666,
              "#ed7953"
             ],
             [
              0.7777777777777778,
              "#fb9f3a"
             ],
             [
              0.8888888888888888,
              "#fdca26"
             ],
             [
              1,
              "#f0f921"
             ]
            ],
            "type": "heatmapgl"
           }
          ],
          "histogram": [
           {
            "marker": {
             "pattern": {
              "fillmode": "overlay",
              "size": 10,
              "solidity": 0.2
             }
            },
            "type": "histogram"
           }
          ],
          "histogram2d": [
           {
            "colorbar": {
             "outlinewidth": 0,
             "ticks": ""
            },
            "colorscale": [
             [
              0,
              "#0d0887"
             ],
             [
              0.1111111111111111,
              "#46039f"
             ],
             [
              0.2222222222222222,
              "#7201a8"
             ],
             [
              0.3333333333333333,
              "#9c179e"
             ],
             [
              0.4444444444444444,
              "#bd3786"
             ],
             [
              0.5555555555555556,
              "#d8576b"
             ],
             [
              0.6666666666666666,
              "#ed7953"
             ],
             [
              0.7777777777777778,
              "#fb9f3a"
             ],
             [
              0.8888888888888888,
              "#fdca26"
             ],
             [
              1,
              "#f0f921"
             ]
            ],
            "type": "histogram2d"
           }
          ],
          "histogram2dcontour": [
           {
            "colorbar": {
             "outlinewidth": 0,
             "ticks": ""
            },
            "colorscale": [
             [
              0,
              "#0d0887"
             ],
             [
              0.1111111111111111,
              "#46039f"
             ],
             [
              0.2222222222222222,
              "#7201a8"
             ],
             [
              0.3333333333333333,
              "#9c179e"
             ],
             [
              0.4444444444444444,
              "#bd3786"
             ],
             [
              0.5555555555555556,
              "#d8576b"
             ],
             [
              0.6666666666666666,
              "#ed7953"
             ],
             [
              0.7777777777777778,
              "#fb9f3a"
             ],
             [
              0.8888888888888888,
              "#fdca26"
             ],
             [
              1,
              "#f0f921"
             ]
            ],
            "type": "histogram2dcontour"
           }
          ],
          "mesh3d": [
           {
            "colorbar": {
             "outlinewidth": 0,
             "ticks": ""
            },
            "type": "mesh3d"
           }
          ],
          "parcoords": [
           {
            "line": {
             "colorbar": {
              "outlinewidth": 0,
              "ticks": ""
             }
            },
            "type": "parcoords"
           }
          ],
          "pie": [
           {
            "automargin": true,
            "type": "pie"
           }
          ],
          "scatter": [
           {
            "marker": {
             "colorbar": {
              "outlinewidth": 0,
              "ticks": ""
             }
            },
            "type": "scatter"
           }
          ],
          "scatter3d": [
           {
            "line": {
             "colorbar": {
              "outlinewidth": 0,
              "ticks": ""
             }
            },
            "marker": {
             "colorbar": {
              "outlinewidth": 0,
              "ticks": ""
             }
            },
            "type": "scatter3d"
           }
          ],
          "scattercarpet": [
           {
            "marker": {
             "colorbar": {
              "outlinewidth": 0,
              "ticks": ""
             }
            },
            "type": "scattercarpet"
           }
          ],
          "scattergeo": [
           {
            "marker": {
             "colorbar": {
              "outlinewidth": 0,
              "ticks": ""
             }
            },
            "type": "scattergeo"
           }
          ],
          "scattergl": [
           {
            "marker": {
             "colorbar": {
              "outlinewidth": 0,
              "ticks": ""
             }
            },
            "type": "scattergl"
           }
          ],
          "scattermapbox": [
           {
            "marker": {
             "colorbar": {
              "outlinewidth": 0,
              "ticks": ""
             }
            },
            "type": "scattermapbox"
           }
          ],
          "scatterpolar": [
           {
            "marker": {
             "colorbar": {
              "outlinewidth": 0,
              "ticks": ""
             }
            },
            "type": "scatterpolar"
           }
          ],
          "scatterpolargl": [
           {
            "marker": {
             "colorbar": {
              "outlinewidth": 0,
              "ticks": ""
             }
            },
            "type": "scatterpolargl"
           }
          ],
          "scatterternary": [
           {
            "marker": {
             "colorbar": {
              "outlinewidth": 0,
              "ticks": ""
             }
            },
            "type": "scatterternary"
           }
          ],
          "surface": [
           {
            "colorbar": {
             "outlinewidth": 0,
             "ticks": ""
            },
            "colorscale": [
             [
              0,
              "#0d0887"
             ],
             [
              0.1111111111111111,
              "#46039f"
             ],
             [
              0.2222222222222222,
              "#7201a8"
             ],
             [
              0.3333333333333333,
              "#9c179e"
             ],
             [
              0.4444444444444444,
              "#bd3786"
             ],
             [
              0.5555555555555556,
              "#d8576b"
             ],
             [
              0.6666666666666666,
              "#ed7953"
             ],
             [
              0.7777777777777778,
              "#fb9f3a"
             ],
             [
              0.8888888888888888,
              "#fdca26"
             ],
             [
              1,
              "#f0f921"
             ]
            ],
            "type": "surface"
           }
          ],
          "table": [
           {
            "cells": {
             "fill": {
              "color": "#EBF0F8"
             },
             "line": {
              "color": "white"
             }
            },
            "header": {
             "fill": {
              "color": "#C8D4E3"
             },
             "line": {
              "color": "white"
             }
            },
            "type": "table"
           }
          ]
         },
         "layout": {
          "annotationdefaults": {
           "arrowcolor": "#2a3f5f",
           "arrowhead": 0,
           "arrowwidth": 1
          },
          "autotypenumbers": "strict",
          "coloraxis": {
           "colorbar": {
            "outlinewidth": 0,
            "ticks": ""
           }
          },
          "colorscale": {
           "diverging": [
            [
             0,
             "#8e0152"
            ],
            [
             0.1,
             "#c51b7d"
            ],
            [
             0.2,
             "#de77ae"
            ],
            [
             0.3,
             "#f1b6da"
            ],
            [
             0.4,
             "#fde0ef"
            ],
            [
             0.5,
             "#f7f7f7"
            ],
            [
             0.6,
             "#e6f5d0"
            ],
            [
             0.7,
             "#b8e186"
            ],
            [
             0.8,
             "#7fbc41"
            ],
            [
             0.9,
             "#4d9221"
            ],
            [
             1,
             "#276419"
            ]
           ],
           "sequential": [
            [
             0,
             "#0d0887"
            ],
            [
             0.1111111111111111,
             "#46039f"
            ],
            [
             0.2222222222222222,
             "#7201a8"
            ],
            [
             0.3333333333333333,
             "#9c179e"
            ],
            [
             0.4444444444444444,
             "#bd3786"
            ],
            [
             0.5555555555555556,
             "#d8576b"
            ],
            [
             0.6666666666666666,
             "#ed7953"
            ],
            [
             0.7777777777777778,
             "#fb9f3a"
            ],
            [
             0.8888888888888888,
             "#fdca26"
            ],
            [
             1,
             "#f0f921"
            ]
           ],
           "sequentialminus": [
            [
             0,
             "#0d0887"
            ],
            [
             0.1111111111111111,
             "#46039f"
            ],
            [
             0.2222222222222222,
             "#7201a8"
            ],
            [
             0.3333333333333333,
             "#9c179e"
            ],
            [
             0.4444444444444444,
             "#bd3786"
            ],
            [
             0.5555555555555556,
             "#d8576b"
            ],
            [
             0.6666666666666666,
             "#ed7953"
            ],
            [
             0.7777777777777778,
             "#fb9f3a"
            ],
            [
             0.8888888888888888,
             "#fdca26"
            ],
            [
             1,
             "#f0f921"
            ]
           ]
          },
          "colorway": [
           "#636efa",
           "#EF553B",
           "#00cc96",
           "#ab63fa",
           "#FFA15A",
           "#19d3f3",
           "#FF6692",
           "#B6E880",
           "#FF97FF",
           "#FECB52"
          ],
          "font": {
           "color": "#2a3f5f"
          },
          "geo": {
           "bgcolor": "white",
           "lakecolor": "white",
           "landcolor": "#E5ECF6",
           "showlakes": true,
           "showland": true,
           "subunitcolor": "white"
          },
          "hoverlabel": {
           "align": "left"
          },
          "hovermode": "closest",
          "mapbox": {
           "style": "light"
          },
          "paper_bgcolor": "white",
          "plot_bgcolor": "#E5ECF6",
          "polar": {
           "angularaxis": {
            "gridcolor": "white",
            "linecolor": "white",
            "ticks": ""
           },
           "bgcolor": "#E5ECF6",
           "radialaxis": {
            "gridcolor": "white",
            "linecolor": "white",
            "ticks": ""
           }
          },
          "scene": {
           "xaxis": {
            "backgroundcolor": "#E5ECF6",
            "gridcolor": "white",
            "gridwidth": 2,
            "linecolor": "white",
            "showbackground": true,
            "ticks": "",
            "zerolinecolor": "white"
           },
           "yaxis": {
            "backgroundcolor": "#E5ECF6",
            "gridcolor": "white",
            "gridwidth": 2,
            "linecolor": "white",
            "showbackground": true,
            "ticks": "",
            "zerolinecolor": "white"
           },
           "zaxis": {
            "backgroundcolor": "#E5ECF6",
            "gridcolor": "white",
            "gridwidth": 2,
            "linecolor": "white",
            "showbackground": true,
            "ticks": "",
            "zerolinecolor": "white"
           }
          },
          "shapedefaults": {
           "line": {
            "color": "#2a3f5f"
           }
          },
          "ternary": {
           "aaxis": {
            "gridcolor": "white",
            "linecolor": "white",
            "ticks": ""
           },
           "baxis": {
            "gridcolor": "white",
            "linecolor": "white",
            "ticks": ""
           },
           "bgcolor": "#E5ECF6",
           "caxis": {
            "gridcolor": "white",
            "linecolor": "white",
            "ticks": ""
           }
          },
          "title": {
           "x": 0.05
          },
          "xaxis": {
           "automargin": true,
           "gridcolor": "white",
           "linecolor": "white",
           "ticks": "",
           "title": {
            "standoff": 15
           },
           "zerolinecolor": "white",
           "zerolinewidth": 2
          },
          "yaxis": {
           "automargin": true,
           "gridcolor": "white",
           "linecolor": "white",
           "ticks": "",
           "title": {
            "standoff": 15
           },
           "zerolinecolor": "white",
           "zerolinewidth": 2
          }
         }
        },
        "title": {
         "font": {
          "color": "#4D5663"
         }
        },
        "xaxis": {
         "gridcolor": "#E1E5ED",
         "showgrid": true,
         "tickfont": {
          "color": "#4D5663"
         },
         "title": {
          "font": {
           "color": "#4D5663"
          },
          "text": ""
         },
         "zerolinecolor": "#E1E5ED"
        },
        "yaxis": {
         "gridcolor": "#E1E5ED",
         "showgrid": true,
         "tickfont": {
          "color": "#4D5663"
         },
         "title": {
          "font": {
           "color": "#4D5663"
          },
          "text": ""
         },
         "zerolinecolor": "#E1E5ED"
        }
       }
      },
      "text/html": [
       "<div>                            <div id=\"136673cb-c666-4c66-a6ad-d7eae0c77275\" class=\"plotly-graph-div\" style=\"height:525px; width:100%;\"></div>            <script type=\"text/javascript\">                require([\"plotly\"], function(Plotly) {                    window.PLOTLYENV=window.PLOTLYENV || {};\n",
       "                    window.PLOTLYENV.BASE_URL='https://plot.ly';                                    if (document.getElementById(\"136673cb-c666-4c66-a6ad-d7eae0c77275\")) {                    Plotly.newPlot(                        \"136673cb-c666-4c66-a6ad-d7eae0c77275\",                        [{\"histfunc\":\"count\",\"histnorm\":\"\",\"marker\":{\"color\":\"rgba(255, 153, 51, 1.0)\",\"line\":{\"color\":\"#4D5663\",\"width\":1.3}},\"name\":\"A\",\"nbinsx\":25,\"opacity\":0.8,\"orientation\":\"v\",\"x\":[1.621784997721568,-0.41366034592813133,0.1703499631587245,-1.1920692972460996,1.490540900725984,-0.057932056600882395,1.9493212915706266,-1.2133489775891626,-1.0171927857273269,-0.8748618841330696,-0.19903180545332752,1.847526392833172,-0.2758818988849343,0.17071171785641004,0.24112433897690283,-1.0364302350178969,-0.8704374048875894,0.11878631382799285,0.5524041774833329,0.4112892963529475,-0.20274718423037727,-0.1461750034500728,0.3938150717043993,1.013168990337693,1.1587377671220014,-0.07891110920131336,0.19674715852663466,-0.5137254496290548,-1.3594253212057925,0.7768929577215199,0.6932876094382373,0.1484716481867066,2.141638801331524,-0.6084944312615944,0.12650327275946432,0.32470093884566403,1.4432404036386661,0.5217947714925911,-1.0688444844738667,1.089135815260983,-0.29998118456619116,1.0273537271019182,0.33014992958416733,0.586781806816406,-1.6649854938580066,-0.39329069469733646,-0.8237723532130063,0.4796787729400577,-0.3700012746496557,-0.13284150565306116,-1.1415402494783435,0.4020235767439107,-0.06843544392719376,-1.605258168642368,0.3923808704859432,-1.6020304450352683,1.0229879340680732,-0.4716385035017622,-0.3026686970378709,0.23121824625826157,0.7941197295728922,0.2078528949337184,-0.05314850978774376,1.091414986451456,-0.23054064816857944,0.12287026554946075,-1.7032966482057637,-0.5607482142252319,-0.4070160127155237,0.2911341229123403,-1.3376367352973613,2.471298182591257,-1.4273438012656001,-0.9644104778552279,0.7529486000501481,0.9160977380939834,-1.3222788380506154,0.07158314746484597,1.7485767845451123,2.159357303646926,-2.4804194984392924,-1.423385099276626,-1.456924292494143,0.09113542169714114,-0.8048108696952876,-0.27162322444491255,0.1389955219980199,0.2236833151602733,-1.0924382534322106,-1.0804917489162433,1.4912408101051184,0.18322793537716855,1.3056813227817263,1.9582872537903173,-1.3558255227600555,-1.5599278170781556,0.05322385578051336,0.2884950550162606,0.48473933084086995,-1.1138289966447266],\"type\":\"histogram\"}],                        {\"barmode\":\"overlay\",\"legend\":{\"bgcolor\":\"#F5F6F9\",\"font\":{\"color\":\"#4D5663\"}},\"paper_bgcolor\":\"#F5F6F9\",\"plot_bgcolor\":\"#F5F6F9\",\"template\":{\"data\":{\"barpolar\":[{\"marker\":{\"line\":{\"color\":\"#E5ECF6\",\"width\":0.5},\"pattern\":{\"fillmode\":\"overlay\",\"size\":10,\"solidity\":0.2}},\"type\":\"barpolar\"}],\"bar\":[{\"error_x\":{\"color\":\"#2a3f5f\"},\"error_y\":{\"color\":\"#2a3f5f\"},\"marker\":{\"line\":{\"color\":\"#E5ECF6\",\"width\":0.5},\"pattern\":{\"fillmode\":\"overlay\",\"size\":10,\"solidity\":0.2}},\"type\":\"bar\"}],\"carpet\":[{\"aaxis\":{\"endlinecolor\":\"#2a3f5f\",\"gridcolor\":\"white\",\"linecolor\":\"white\",\"minorgridcolor\":\"white\",\"startlinecolor\":\"#2a3f5f\"},\"baxis\":{\"endlinecolor\":\"#2a3f5f\",\"gridcolor\":\"white\",\"linecolor\":\"white\",\"minorgridcolor\":\"white\",\"startlinecolor\":\"#2a3f5f\"},\"type\":\"carpet\"}],\"choropleth\":[{\"colorbar\":{\"outlinewidth\":0,\"ticks\":\"\"},\"type\":\"choropleth\"}],\"contourcarpet\":[{\"colorbar\":{\"outlinewidth\":0,\"ticks\":\"\"},\"type\":\"contourcarpet\"}],\"contour\":[{\"colorbar\":{\"outlinewidth\":0,\"ticks\":\"\"},\"colorscale\":[[0.0,\"#0d0887\"],[0.1111111111111111,\"#46039f\"],[0.2222222222222222,\"#7201a8\"],[0.3333333333333333,\"#9c179e\"],[0.4444444444444444,\"#bd3786\"],[0.5555555555555556,\"#d8576b\"],[0.6666666666666666,\"#ed7953\"],[0.7777777777777778,\"#fb9f3a\"],[0.8888888888888888,\"#fdca26\"],[1.0,\"#f0f921\"]],\"type\":\"contour\"}],\"heatmapgl\":[{\"colorbar\":{\"outlinewidth\":0,\"ticks\":\"\"},\"colorscale\":[[0.0,\"#0d0887\"],[0.1111111111111111,\"#46039f\"],[0.2222222222222222,\"#7201a8\"],[0.3333333333333333,\"#9c179e\"],[0.4444444444444444,\"#bd3786\"],[0.5555555555555556,\"#d8576b\"],[0.6666666666666666,\"#ed7953\"],[0.7777777777777778,\"#fb9f3a\"],[0.8888888888888888,\"#fdca26\"],[1.0,\"#f0f921\"]],\"type\":\"heatmapgl\"}],\"heatmap\":[{\"colorbar\":{\"outlinewidth\":0,\"ticks\":\"\"},\"colorscale\":[[0.0,\"#0d0887\"],[0.1111111111111111,\"#46039f\"],[0.2222222222222222,\"#7201a8\"],[0.3333333333333333,\"#9c179e\"],[0.4444444444444444,\"#bd3786\"],[0.5555555555555556,\"#d8576b\"],[0.6666666666666666,\"#ed7953\"],[0.7777777777777778,\"#fb9f3a\"],[0.8888888888888888,\"#fdca26\"],[1.0,\"#f0f921\"]],\"type\":\"heatmap\"}],\"histogram2dcontour\":[{\"colorbar\":{\"outlinewidth\":0,\"ticks\":\"\"},\"colorscale\":[[0.0,\"#0d0887\"],[0.1111111111111111,\"#46039f\"],[0.2222222222222222,\"#7201a8\"],[0.3333333333333333,\"#9c179e\"],[0.4444444444444444,\"#bd3786\"],[0.5555555555555556,\"#d8576b\"],[0.6666666666666666,\"#ed7953\"],[0.7777777777777778,\"#fb9f3a\"],[0.8888888888888888,\"#fdca26\"],[1.0,\"#f0f921\"]],\"type\":\"histogram2dcontour\"}],\"histogram2d\":[{\"colorbar\":{\"outlinewidth\":0,\"ticks\":\"\"},\"colorscale\":[[0.0,\"#0d0887\"],[0.1111111111111111,\"#46039f\"],[0.2222222222222222,\"#7201a8\"],[0.3333333333333333,\"#9c179e\"],[0.4444444444444444,\"#bd3786\"],[0.5555555555555556,\"#d8576b\"],[0.6666666666666666,\"#ed7953\"],[0.7777777777777778,\"#fb9f3a\"],[0.8888888888888888,\"#fdca26\"],[1.0,\"#f0f921\"]],\"type\":\"histogram2d\"}],\"histogram\":[{\"marker\":{\"pattern\":{\"fillmode\":\"overlay\",\"size\":10,\"solidity\":0.2}},\"type\":\"histogram\"}],\"mesh3d\":[{\"colorbar\":{\"outlinewidth\":0,\"ticks\":\"\"},\"type\":\"mesh3d\"}],\"parcoords\":[{\"line\":{\"colorbar\":{\"outlinewidth\":0,\"ticks\":\"\"}},\"type\":\"parcoords\"}],\"pie\":[{\"automargin\":true,\"type\":\"pie\"}],\"scatter3d\":[{\"line\":{\"colorbar\":{\"outlinewidth\":0,\"ticks\":\"\"}},\"marker\":{\"colorbar\":{\"outlinewidth\":0,\"ticks\":\"\"}},\"type\":\"scatter3d\"}],\"scattercarpet\":[{\"marker\":{\"colorbar\":{\"outlinewidth\":0,\"ticks\":\"\"}},\"type\":\"scattercarpet\"}],\"scattergeo\":[{\"marker\":{\"colorbar\":{\"outlinewidth\":0,\"ticks\":\"\"}},\"type\":\"scattergeo\"}],\"scattergl\":[{\"marker\":{\"colorbar\":{\"outlinewidth\":0,\"ticks\":\"\"}},\"type\":\"scattergl\"}],\"scattermapbox\":[{\"marker\":{\"colorbar\":{\"outlinewidth\":0,\"ticks\":\"\"}},\"type\":\"scattermapbox\"}],\"scatterpolargl\":[{\"marker\":{\"colorbar\":{\"outlinewidth\":0,\"ticks\":\"\"}},\"type\":\"scatterpolargl\"}],\"scatterpolar\":[{\"marker\":{\"colorbar\":{\"outlinewidth\":0,\"ticks\":\"\"}},\"type\":\"scatterpolar\"}],\"scatter\":[{\"marker\":{\"colorbar\":{\"outlinewidth\":0,\"ticks\":\"\"}},\"type\":\"scatter\"}],\"scatterternary\":[{\"marker\":{\"colorbar\":{\"outlinewidth\":0,\"ticks\":\"\"}},\"type\":\"scatterternary\"}],\"surface\":[{\"colorbar\":{\"outlinewidth\":0,\"ticks\":\"\"},\"colorscale\":[[0.0,\"#0d0887\"],[0.1111111111111111,\"#46039f\"],[0.2222222222222222,\"#7201a8\"],[0.3333333333333333,\"#9c179e\"],[0.4444444444444444,\"#bd3786\"],[0.5555555555555556,\"#d8576b\"],[0.6666666666666666,\"#ed7953\"],[0.7777777777777778,\"#fb9f3a\"],[0.8888888888888888,\"#fdca26\"],[1.0,\"#f0f921\"]],\"type\":\"surface\"}],\"table\":[{\"cells\":{\"fill\":{\"color\":\"#EBF0F8\"},\"line\":{\"color\":\"white\"}},\"header\":{\"fill\":{\"color\":\"#C8D4E3\"},\"line\":{\"color\":\"white\"}},\"type\":\"table\"}]},\"layout\":{\"annotationdefaults\":{\"arrowcolor\":\"#2a3f5f\",\"arrowhead\":0,\"arrowwidth\":1},\"autotypenumbers\":\"strict\",\"coloraxis\":{\"colorbar\":{\"outlinewidth\":0,\"ticks\":\"\"}},\"colorscale\":{\"diverging\":[[0,\"#8e0152\"],[0.1,\"#c51b7d\"],[0.2,\"#de77ae\"],[0.3,\"#f1b6da\"],[0.4,\"#fde0ef\"],[0.5,\"#f7f7f7\"],[0.6,\"#e6f5d0\"],[0.7,\"#b8e186\"],[0.8,\"#7fbc41\"],[0.9,\"#4d9221\"],[1,\"#276419\"]],\"sequential\":[[0.0,\"#0d0887\"],[0.1111111111111111,\"#46039f\"],[0.2222222222222222,\"#7201a8\"],[0.3333333333333333,\"#9c179e\"],[0.4444444444444444,\"#bd3786\"],[0.5555555555555556,\"#d8576b\"],[0.6666666666666666,\"#ed7953\"],[0.7777777777777778,\"#fb9f3a\"],[0.8888888888888888,\"#fdca26\"],[1.0,\"#f0f921\"]],\"sequentialminus\":[[0.0,\"#0d0887\"],[0.1111111111111111,\"#46039f\"],[0.2222222222222222,\"#7201a8\"],[0.3333333333333333,\"#9c179e\"],[0.4444444444444444,\"#bd3786\"],[0.5555555555555556,\"#d8576b\"],[0.6666666666666666,\"#ed7953\"],[0.7777777777777778,\"#fb9f3a\"],[0.8888888888888888,\"#fdca26\"],[1.0,\"#f0f921\"]]},\"colorway\":[\"#636efa\",\"#EF553B\",\"#00cc96\",\"#ab63fa\",\"#FFA15A\",\"#19d3f3\",\"#FF6692\",\"#B6E880\",\"#FF97FF\",\"#FECB52\"],\"font\":{\"color\":\"#2a3f5f\"},\"geo\":{\"bgcolor\":\"white\",\"lakecolor\":\"white\",\"landcolor\":\"#E5ECF6\",\"showlakes\":true,\"showland\":true,\"subunitcolor\":\"white\"},\"hoverlabel\":{\"align\":\"left\"},\"hovermode\":\"closest\",\"mapbox\":{\"style\":\"light\"},\"paper_bgcolor\":\"white\",\"plot_bgcolor\":\"#E5ECF6\",\"polar\":{\"angularaxis\":{\"gridcolor\":\"white\",\"linecolor\":\"white\",\"ticks\":\"\"},\"bgcolor\":\"#E5ECF6\",\"radialaxis\":{\"gridcolor\":\"white\",\"linecolor\":\"white\",\"ticks\":\"\"}},\"scene\":{\"xaxis\":{\"backgroundcolor\":\"#E5ECF6\",\"gridcolor\":\"white\",\"gridwidth\":2,\"linecolor\":\"white\",\"showbackground\":true,\"ticks\":\"\",\"zerolinecolor\":\"white\"},\"yaxis\":{\"backgroundcolor\":\"#E5ECF6\",\"gridcolor\":\"white\",\"gridwidth\":2,\"linecolor\":\"white\",\"showbackground\":true,\"ticks\":\"\",\"zerolinecolor\":\"white\"},\"zaxis\":{\"backgroundcolor\":\"#E5ECF6\",\"gridcolor\":\"white\",\"gridwidth\":2,\"linecolor\":\"white\",\"showbackground\":true,\"ticks\":\"\",\"zerolinecolor\":\"white\"}},\"shapedefaults\":{\"line\":{\"color\":\"#2a3f5f\"}},\"ternary\":{\"aaxis\":{\"gridcolor\":\"white\",\"linecolor\":\"white\",\"ticks\":\"\"},\"baxis\":{\"gridcolor\":\"white\",\"linecolor\":\"white\",\"ticks\":\"\"},\"bgcolor\":\"#E5ECF6\",\"caxis\":{\"gridcolor\":\"white\",\"linecolor\":\"white\",\"ticks\":\"\"}},\"title\":{\"x\":0.05},\"xaxis\":{\"automargin\":true,\"gridcolor\":\"white\",\"linecolor\":\"white\",\"ticks\":\"\",\"title\":{\"standoff\":15},\"zerolinecolor\":\"white\",\"zerolinewidth\":2},\"yaxis\":{\"automargin\":true,\"gridcolor\":\"white\",\"linecolor\":\"white\",\"ticks\":\"\",\"title\":{\"standoff\":15},\"zerolinecolor\":\"white\",\"zerolinewidth\":2}}},\"title\":{\"font\":{\"color\":\"#4D5663\"}},\"xaxis\":{\"gridcolor\":\"#E1E5ED\",\"showgrid\":true,\"tickfont\":{\"color\":\"#4D5663\"},\"title\":{\"font\":{\"color\":\"#4D5663\"},\"text\":\"\"},\"zerolinecolor\":\"#E1E5ED\"},\"yaxis\":{\"gridcolor\":\"#E1E5ED\",\"showgrid\":true,\"tickfont\":{\"color\":\"#4D5663\"},\"title\":{\"font\":{\"color\":\"#4D5663\"},\"text\":\"\"},\"zerolinecolor\":\"#E1E5ED\"}},                        {\"showLink\": true, \"linkText\": \"Export to plot.ly\", \"plotlyServerURL\": \"https://plot.ly\", \"responsive\": true}                    ).then(function(){\n",
       "                            \n",
       "var gd = document.getElementById('136673cb-c666-4c66-a6ad-d7eae0c77275');\n",
       "var x = new MutationObserver(function (mutations, observer) {{\n",
       "        var display = window.getComputedStyle(gd).display;\n",
       "        if (!display || display === 'none') {{\n",
       "            console.log([gd, 'removed!']);\n",
       "            Plotly.purge(gd);\n",
       "            observer.disconnect();\n",
       "        }}\n",
       "}});\n",
       "\n",
       "// Listen for the removal of the full notebook cells\n",
       "var notebookContainer = gd.closest('#notebook-container');\n",
       "if (notebookContainer) {{\n",
       "    x.observe(notebookContainer, {childList: true});\n",
       "}}\n",
       "\n",
       "// Listen for the clearing of the current output cell\n",
       "var outputEl = gd.closest('.output');\n",
       "if (outputEl) {{\n",
       "    x.observe(outputEl, {childList: true});\n",
       "}}\n",
       "\n",
       "                        })                };                });            </script>        </div>"
      ]
     },
     "metadata": {},
     "output_type": "display_data"
    }
   ],
   "source": [
    "df['A'].iplot(kind='hist',bins=25)"
   ]
  },
  {
   "cell_type": "code",
   "execution_count": 18,
   "metadata": {},
   "outputs": [
    {
     "data": {
      "application/vnd.plotly.v1+json": {
       "config": {
        "linkText": "Export to plot.ly",
        "plotlyServerURL": "https://plot.ly",
        "showLink": true
       },
       "data": [
        {
         "marker": {
          "color": [
           "rgb(255, 153, 51)",
           "rgb(55, 128, 191)",
           "rgb(50, 171, 96)",
           "rgb(128, 0, 128)",
           "rgb(219, 64, 82)",
           "rgb(0, 128, 128)",
           "rgb(255, 255, 51)",
           "rgb(128, 128, 0)",
           "rgb(251, 128, 114)",
           "rgb(128, 177, 211)"
          ],
          "line": {
           "width": 1.3
          },
          "size": [
           63,
           52,
           61,
           50,
           38,
           101,
           51,
           32,
           74,
           51,
           35,
           21,
           43,
           76,
           35,
           58,
           51,
           90,
           91,
           60,
           48,
           87,
           37,
           46,
           71,
           15,
           77,
           61,
           76,
           56,
           92,
           77,
           64,
           77,
           69,
           88,
           39,
           55,
           44,
           76,
           37,
           44,
           71,
           82,
           54,
           36,
           84,
           71,
           48,
           71,
           65,
           74,
           40,
           68,
           89,
           56,
           64,
           60,
           74,
           79,
           53,
           90,
           31,
           47,
           69,
           58,
           74,
           87,
           66,
           33,
           37,
           69,
           69,
           48,
           58,
           77,
           42,
           34,
           18,
           112,
           73,
           42,
           51,
           12,
           30,
           57,
           48,
           66,
           64,
           22,
           42,
           69,
           19,
           24,
           42,
           60,
           12,
           37,
           71,
           39
          ],
          "symbol": "circle"
         },
         "mode": "markers",
         "text": "",
         "type": "scatter",
         "x": [
          1.621784997721568,
          -0.41366034592813133,
          0.1703499631587245,
          -1.1920692972460996,
          1.490540900725984,
          -0.057932056600882395,
          1.9493212915706266,
          -1.2133489775891626,
          -1.0171927857273269,
          -0.8748618841330696,
          -0.19903180545332752,
          1.847526392833172,
          -0.2758818988849343,
          0.17071171785641004,
          0.24112433897690283,
          -1.0364302350178969,
          -0.8704374048875894,
          0.11878631382799285,
          0.5524041774833329,
          0.4112892963529475,
          -0.20274718423037727,
          -0.1461750034500728,
          0.3938150717043993,
          1.013168990337693,
          1.1587377671220014,
          -0.07891110920131336,
          0.19674715852663466,
          -0.5137254496290548,
          -1.3594253212057925,
          0.7768929577215199,
          0.6932876094382373,
          0.1484716481867066,
          2.141638801331524,
          -0.6084944312615944,
          0.12650327275946432,
          0.32470093884566403,
          1.4432404036386661,
          0.5217947714925911,
          -1.0688444844738667,
          1.089135815260983,
          -0.29998118456619116,
          1.0273537271019182,
          0.33014992958416733,
          0.586781806816406,
          -1.6649854938580066,
          -0.39329069469733646,
          -0.8237723532130063,
          0.4796787729400577,
          -0.3700012746496557,
          -0.13284150565306116,
          -1.1415402494783435,
          0.4020235767439107,
          -0.06843544392719376,
          -1.605258168642368,
          0.3923808704859432,
          -1.6020304450352683,
          1.0229879340680732,
          -0.4716385035017622,
          -0.3026686970378709,
          0.23121824625826157,
          0.7941197295728922,
          0.2078528949337184,
          -0.05314850978774376,
          1.091414986451456,
          -0.23054064816857944,
          0.12287026554946075,
          -1.7032966482057637,
          -0.5607482142252319,
          -0.4070160127155237,
          0.2911341229123403,
          -1.3376367352973613,
          2.471298182591257,
          -1.4273438012656001,
          -0.9644104778552279,
          0.7529486000501481,
          0.9160977380939834,
          -1.3222788380506154,
          0.07158314746484597,
          1.7485767845451123,
          2.159357303646926,
          -2.4804194984392924,
          -1.423385099276626,
          -1.456924292494143,
          0.09113542169714114,
          -0.8048108696952876,
          -0.27162322444491255,
          0.1389955219980199,
          0.2236833151602733,
          -1.0924382534322106,
          -1.0804917489162433,
          1.4912408101051184,
          0.18322793537716855,
          1.3056813227817263,
          1.9582872537903173,
          -1.3558255227600555,
          -1.5599278170781556,
          0.05322385578051336,
          0.2884950550162606,
          0.48473933084086995,
          -1.1138289966447266
         ],
         "y": [
          1.0464563135578546,
          -3.0632225880848103,
          0.7347392981478813,
          -0.4260768015024099,
          0.96632800431009,
          1.2259616492672805,
          -0.3898324536994116,
          -1.3347108635827836,
          0.05850423362368821,
          -0.4564072432013887,
          -0.15724725260979047,
          -1.0977125535217649,
          -1.665999133255654,
          -0.21072539560613976,
          0.7962219185478997,
          -1.288845173225243,
          1.564273626180649,
          -0.11076177080563634,
          0.8491023364744843,
          0.9853140925690016,
          0.6952633578875285,
          -0.5600769380847198,
          -0.19660318900246418,
          -0.6629276497584601,
          -1.3095091871088107,
          1.9410326677104206,
          -0.1989245390276827,
          -0.7713841078744924,
          0.552871220815854,
          -0.8537682860036248,
          -1.4949821204592284,
          0.2732931186024205,
          0.3180571929056187,
          -0.837676117557035,
          0.04896750587297655,
          0.12963765216194872,
          1.4307678743993686,
          -0.42045979023879326,
          -1.9952224416416797,
          -0.5346484174600119,
          -0.204811204865994,
          0.5420650487257817,
          0.4503872326298657,
          0.35425475395255546,
          0.5098829247281865,
          0.34922028677025024,
          -0.7712388190084934,
          1.2298158269216979,
          0.1733960637726265,
          0.3126798756781296,
          0.19876210807019104,
          1.0582434500911917,
          -1.6849847277255832,
          -0.10124840186809116,
          -0.23032439763298906,
          1.6930993305863318,
          -0.5503621073120089,
          1.120459574282658,
          -0.5427843412382684,
          -0.5993572950007119,
          0.39726633886579293,
          -0.465487493410192,
          -0.3432593210298152,
          -0.38337663937759575,
          -1.140292528148463,
          -0.8325557987264668,
          1.6304602355112843,
          1.284431606320553,
          -0.012042543937797351,
          1.6039192046856627,
          -0.5404995606983964,
          1.4255305799121059,
          -0.7118064004521089,
          1.9924921540827385,
          2.3583690017492733,
          1.467961164888937,
          0.6915606738845025,
          -1.7905203549323134,
          0.9946791497816215,
          0.40474624180499874,
          -0.861893923994319,
          -2.102546055137808,
          -0.7677543614787729,
          0.12425845837419648,
          -0.8931963800510369,
          -0.9950165747531337,
          0.9757275360573655,
          -0.2788829177616858,
          0.9797543092857613,
          -0.49850385133220226,
          0.14271820497733537,
          0.03975498644747681,
          0.7118652256934209,
          0.8906588179631437,
          -0.6197301677060046,
          -1.201610403980832,
          2.4617261927462804,
          1.0102652057417734,
          -1.0027608010524207,
          -1.935435639286333
         ]
        }
       ],
       "layout": {
        "legend": {
         "bgcolor": "#F5F6F9",
         "font": {
          "color": "#4D5663"
         }
        },
        "paper_bgcolor": "#F5F6F9",
        "plot_bgcolor": "#F5F6F9",
        "template": {
         "data": {
          "bar": [
           {
            "error_x": {
             "color": "#2a3f5f"
            },
            "error_y": {
             "color": "#2a3f5f"
            },
            "marker": {
             "line": {
              "color": "#E5ECF6",
              "width": 0.5
             },
             "pattern": {
              "fillmode": "overlay",
              "size": 10,
              "solidity": 0.2
             }
            },
            "type": "bar"
           }
          ],
          "barpolar": [
           {
            "marker": {
             "line": {
              "color": "#E5ECF6",
              "width": 0.5
             },
             "pattern": {
              "fillmode": "overlay",
              "size": 10,
              "solidity": 0.2
             }
            },
            "type": "barpolar"
           }
          ],
          "carpet": [
           {
            "aaxis": {
             "endlinecolor": "#2a3f5f",
             "gridcolor": "white",
             "linecolor": "white",
             "minorgridcolor": "white",
             "startlinecolor": "#2a3f5f"
            },
            "baxis": {
             "endlinecolor": "#2a3f5f",
             "gridcolor": "white",
             "linecolor": "white",
             "minorgridcolor": "white",
             "startlinecolor": "#2a3f5f"
            },
            "type": "carpet"
           }
          ],
          "choropleth": [
           {
            "colorbar": {
             "outlinewidth": 0,
             "ticks": ""
            },
            "type": "choropleth"
           }
          ],
          "contour": [
           {
            "colorbar": {
             "outlinewidth": 0,
             "ticks": ""
            },
            "colorscale": [
             [
              0,
              "#0d0887"
             ],
             [
              0.1111111111111111,
              "#46039f"
             ],
             [
              0.2222222222222222,
              "#7201a8"
             ],
             [
              0.3333333333333333,
              "#9c179e"
             ],
             [
              0.4444444444444444,
              "#bd3786"
             ],
             [
              0.5555555555555556,
              "#d8576b"
             ],
             [
              0.6666666666666666,
              "#ed7953"
             ],
             [
              0.7777777777777778,
              "#fb9f3a"
             ],
             [
              0.8888888888888888,
              "#fdca26"
             ],
             [
              1,
              "#f0f921"
             ]
            ],
            "type": "contour"
           }
          ],
          "contourcarpet": [
           {
            "colorbar": {
             "outlinewidth": 0,
             "ticks": ""
            },
            "type": "contourcarpet"
           }
          ],
          "heatmap": [
           {
            "colorbar": {
             "outlinewidth": 0,
             "ticks": ""
            },
            "colorscale": [
             [
              0,
              "#0d0887"
             ],
             [
              0.1111111111111111,
              "#46039f"
             ],
             [
              0.2222222222222222,
              "#7201a8"
             ],
             [
              0.3333333333333333,
              "#9c179e"
             ],
             [
              0.4444444444444444,
              "#bd3786"
             ],
             [
              0.5555555555555556,
              "#d8576b"
             ],
             [
              0.6666666666666666,
              "#ed7953"
             ],
             [
              0.7777777777777778,
              "#fb9f3a"
             ],
             [
              0.8888888888888888,
              "#fdca26"
             ],
             [
              1,
              "#f0f921"
             ]
            ],
            "type": "heatmap"
           }
          ],
          "heatmapgl": [
           {
            "colorbar": {
             "outlinewidth": 0,
             "ticks": ""
            },
            "colorscale": [
             [
              0,
              "#0d0887"
             ],
             [
              0.1111111111111111,
              "#46039f"
             ],
             [
              0.2222222222222222,
              "#7201a8"
             ],
             [
              0.3333333333333333,
              "#9c179e"
             ],
             [
              0.4444444444444444,
              "#bd3786"
             ],
             [
              0.5555555555555556,
              "#d8576b"
             ],
             [
              0.6666666666666666,
              "#ed7953"
             ],
             [
              0.7777777777777778,
              "#fb9f3a"
             ],
             [
              0.8888888888888888,
              "#fdca26"
             ],
             [
              1,
              "#f0f921"
             ]
            ],
            "type": "heatmapgl"
           }
          ],
          "histogram": [
           {
            "marker": {
             "pattern": {
              "fillmode": "overlay",
              "size": 10,
              "solidity": 0.2
             }
            },
            "type": "histogram"
           }
          ],
          "histogram2d": [
           {
            "colorbar": {
             "outlinewidth": 0,
             "ticks": ""
            },
            "colorscale": [
             [
              0,
              "#0d0887"
             ],
             [
              0.1111111111111111,
              "#46039f"
             ],
             [
              0.2222222222222222,
              "#7201a8"
             ],
             [
              0.3333333333333333,
              "#9c179e"
             ],
             [
              0.4444444444444444,
              "#bd3786"
             ],
             [
              0.5555555555555556,
              "#d8576b"
             ],
             [
              0.6666666666666666,
              "#ed7953"
             ],
             [
              0.7777777777777778,
              "#fb9f3a"
             ],
             [
              0.8888888888888888,
              "#fdca26"
             ],
             [
              1,
              "#f0f921"
             ]
            ],
            "type": "histogram2d"
           }
          ],
          "histogram2dcontour": [
           {
            "colorbar": {
             "outlinewidth": 0,
             "ticks": ""
            },
            "colorscale": [
             [
              0,
              "#0d0887"
             ],
             [
              0.1111111111111111,
              "#46039f"
             ],
             [
              0.2222222222222222,
              "#7201a8"
             ],
             [
              0.3333333333333333,
              "#9c179e"
             ],
             [
              0.4444444444444444,
              "#bd3786"
             ],
             [
              0.5555555555555556,
              "#d8576b"
             ],
             [
              0.6666666666666666,
              "#ed7953"
             ],
             [
              0.7777777777777778,
              "#fb9f3a"
             ],
             [
              0.8888888888888888,
              "#fdca26"
             ],
             [
              1,
              "#f0f921"
             ]
            ],
            "type": "histogram2dcontour"
           }
          ],
          "mesh3d": [
           {
            "colorbar": {
             "outlinewidth": 0,
             "ticks": ""
            },
            "type": "mesh3d"
           }
          ],
          "parcoords": [
           {
            "line": {
             "colorbar": {
              "outlinewidth": 0,
              "ticks": ""
             }
            },
            "type": "parcoords"
           }
          ],
          "pie": [
           {
            "automargin": true,
            "type": "pie"
           }
          ],
          "scatter": [
           {
            "marker": {
             "colorbar": {
              "outlinewidth": 0,
              "ticks": ""
             }
            },
            "type": "scatter"
           }
          ],
          "scatter3d": [
           {
            "line": {
             "colorbar": {
              "outlinewidth": 0,
              "ticks": ""
             }
            },
            "marker": {
             "colorbar": {
              "outlinewidth": 0,
              "ticks": ""
             }
            },
            "type": "scatter3d"
           }
          ],
          "scattercarpet": [
           {
            "marker": {
             "colorbar": {
              "outlinewidth": 0,
              "ticks": ""
             }
            },
            "type": "scattercarpet"
           }
          ],
          "scattergeo": [
           {
            "marker": {
             "colorbar": {
              "outlinewidth": 0,
              "ticks": ""
             }
            },
            "type": "scattergeo"
           }
          ],
          "scattergl": [
           {
            "marker": {
             "colorbar": {
              "outlinewidth": 0,
              "ticks": ""
             }
            },
            "type": "scattergl"
           }
          ],
          "scattermapbox": [
           {
            "marker": {
             "colorbar": {
              "outlinewidth": 0,
              "ticks": ""
             }
            },
            "type": "scattermapbox"
           }
          ],
          "scatterpolar": [
           {
            "marker": {
             "colorbar": {
              "outlinewidth": 0,
              "ticks": ""
             }
            },
            "type": "scatterpolar"
           }
          ],
          "scatterpolargl": [
           {
            "marker": {
             "colorbar": {
              "outlinewidth": 0,
              "ticks": ""
             }
            },
            "type": "scatterpolargl"
           }
          ],
          "scatterternary": [
           {
            "marker": {
             "colorbar": {
              "outlinewidth": 0,
              "ticks": ""
             }
            },
            "type": "scatterternary"
           }
          ],
          "surface": [
           {
            "colorbar": {
             "outlinewidth": 0,
             "ticks": ""
            },
            "colorscale": [
             [
              0,
              "#0d0887"
             ],
             [
              0.1111111111111111,
              "#46039f"
             ],
             [
              0.2222222222222222,
              "#7201a8"
             ],
             [
              0.3333333333333333,
              "#9c179e"
             ],
             [
              0.4444444444444444,
              "#bd3786"
             ],
             [
              0.5555555555555556,
              "#d8576b"
             ],
             [
              0.6666666666666666,
              "#ed7953"
             ],
             [
              0.7777777777777778,
              "#fb9f3a"
             ],
             [
              0.8888888888888888,
              "#fdca26"
             ],
             [
              1,
              "#f0f921"
             ]
            ],
            "type": "surface"
           }
          ],
          "table": [
           {
            "cells": {
             "fill": {
              "color": "#EBF0F8"
             },
             "line": {
              "color": "white"
             }
            },
            "header": {
             "fill": {
              "color": "#C8D4E3"
             },
             "line": {
              "color": "white"
             }
            },
            "type": "table"
           }
          ]
         },
         "layout": {
          "annotationdefaults": {
           "arrowcolor": "#2a3f5f",
           "arrowhead": 0,
           "arrowwidth": 1
          },
          "autotypenumbers": "strict",
          "coloraxis": {
           "colorbar": {
            "outlinewidth": 0,
            "ticks": ""
           }
          },
          "colorscale": {
           "diverging": [
            [
             0,
             "#8e0152"
            ],
            [
             0.1,
             "#c51b7d"
            ],
            [
             0.2,
             "#de77ae"
            ],
            [
             0.3,
             "#f1b6da"
            ],
            [
             0.4,
             "#fde0ef"
            ],
            [
             0.5,
             "#f7f7f7"
            ],
            [
             0.6,
             "#e6f5d0"
            ],
            [
             0.7,
             "#b8e186"
            ],
            [
             0.8,
             "#7fbc41"
            ],
            [
             0.9,
             "#4d9221"
            ],
            [
             1,
             "#276419"
            ]
           ],
           "sequential": [
            [
             0,
             "#0d0887"
            ],
            [
             0.1111111111111111,
             "#46039f"
            ],
            [
             0.2222222222222222,
             "#7201a8"
            ],
            [
             0.3333333333333333,
             "#9c179e"
            ],
            [
             0.4444444444444444,
             "#bd3786"
            ],
            [
             0.5555555555555556,
             "#d8576b"
            ],
            [
             0.6666666666666666,
             "#ed7953"
            ],
            [
             0.7777777777777778,
             "#fb9f3a"
            ],
            [
             0.8888888888888888,
             "#fdca26"
            ],
            [
             1,
             "#f0f921"
            ]
           ],
           "sequentialminus": [
            [
             0,
             "#0d0887"
            ],
            [
             0.1111111111111111,
             "#46039f"
            ],
            [
             0.2222222222222222,
             "#7201a8"
            ],
            [
             0.3333333333333333,
             "#9c179e"
            ],
            [
             0.4444444444444444,
             "#bd3786"
            ],
            [
             0.5555555555555556,
             "#d8576b"
            ],
            [
             0.6666666666666666,
             "#ed7953"
            ],
            [
             0.7777777777777778,
             "#fb9f3a"
            ],
            [
             0.8888888888888888,
             "#fdca26"
            ],
            [
             1,
             "#f0f921"
            ]
           ]
          },
          "colorway": [
           "#636efa",
           "#EF553B",
           "#00cc96",
           "#ab63fa",
           "#FFA15A",
           "#19d3f3",
           "#FF6692",
           "#B6E880",
           "#FF97FF",
           "#FECB52"
          ],
          "font": {
           "color": "#2a3f5f"
          },
          "geo": {
           "bgcolor": "white",
           "lakecolor": "white",
           "landcolor": "#E5ECF6",
           "showlakes": true,
           "showland": true,
           "subunitcolor": "white"
          },
          "hoverlabel": {
           "align": "left"
          },
          "hovermode": "closest",
          "mapbox": {
           "style": "light"
          },
          "paper_bgcolor": "white",
          "plot_bgcolor": "#E5ECF6",
          "polar": {
           "angularaxis": {
            "gridcolor": "white",
            "linecolor": "white",
            "ticks": ""
           },
           "bgcolor": "#E5ECF6",
           "radialaxis": {
            "gridcolor": "white",
            "linecolor": "white",
            "ticks": ""
           }
          },
          "scene": {
           "xaxis": {
            "backgroundcolor": "#E5ECF6",
            "gridcolor": "white",
            "gridwidth": 2,
            "linecolor": "white",
            "showbackground": true,
            "ticks": "",
            "zerolinecolor": "white"
           },
           "yaxis": {
            "backgroundcolor": "#E5ECF6",
            "gridcolor": "white",
            "gridwidth": 2,
            "linecolor": "white",
            "showbackground": true,
            "ticks": "",
            "zerolinecolor": "white"
           },
           "zaxis": {
            "backgroundcolor": "#E5ECF6",
            "gridcolor": "white",
            "gridwidth": 2,
            "linecolor": "white",
            "showbackground": true,
            "ticks": "",
            "zerolinecolor": "white"
           }
          },
          "shapedefaults": {
           "line": {
            "color": "#2a3f5f"
           }
          },
          "ternary": {
           "aaxis": {
            "gridcolor": "white",
            "linecolor": "white",
            "ticks": ""
           },
           "baxis": {
            "gridcolor": "white",
            "linecolor": "white",
            "ticks": ""
           },
           "bgcolor": "#E5ECF6",
           "caxis": {
            "gridcolor": "white",
            "linecolor": "white",
            "ticks": ""
           }
          },
          "title": {
           "x": 0.05
          },
          "xaxis": {
           "automargin": true,
           "gridcolor": "white",
           "linecolor": "white",
           "ticks": "",
           "title": {
            "standoff": 15
           },
           "zerolinecolor": "white",
           "zerolinewidth": 2
          },
          "yaxis": {
           "automargin": true,
           "gridcolor": "white",
           "linecolor": "white",
           "ticks": "",
           "title": {
            "standoff": 15
           },
           "zerolinecolor": "white",
           "zerolinewidth": 2
          }
         }
        },
        "title": {
         "font": {
          "color": "#4D5663"
         }
        },
        "xaxis": {
         "gridcolor": "#E1E5ED",
         "showgrid": true,
         "tickfont": {
          "color": "#4D5663"
         },
         "title": {
          "font": {
           "color": "#4D5663"
          },
          "text": ""
         },
         "zerolinecolor": "#E1E5ED"
        },
        "yaxis": {
         "gridcolor": "#E1E5ED",
         "showgrid": true,
         "tickfont": {
          "color": "#4D5663"
         },
         "title": {
          "font": {
           "color": "#4D5663"
          },
          "text": ""
         },
         "zerolinecolor": "#E1E5ED"
        }
       }
      },
      "text/html": [
       "<div>                            <div id=\"78fae39e-9190-41a9-99fc-f56565832c6b\" class=\"plotly-graph-div\" style=\"height:525px; width:100%;\"></div>            <script type=\"text/javascript\">                require([\"plotly\"], function(Plotly) {                    window.PLOTLYENV=window.PLOTLYENV || {};\n",
       "                    window.PLOTLYENV.BASE_URL='https://plot.ly';                                    if (document.getElementById(\"78fae39e-9190-41a9-99fc-f56565832c6b\")) {                    Plotly.newPlot(                        \"78fae39e-9190-41a9-99fc-f56565832c6b\",                        [{\"marker\":{\"color\":[\"rgb(255, 153, 51)\",\"rgb(55, 128, 191)\",\"rgb(50, 171, 96)\",\"rgb(128, 0, 128)\",\"rgb(219, 64, 82)\",\"rgb(0, 128, 128)\",\"rgb(255, 255, 51)\",\"rgb(128, 128, 0)\",\"rgb(251, 128, 114)\",\"rgb(128, 177, 211)\"],\"line\":{\"width\":1.3},\"size\":[63,52,61,50,38,101,51,32,74,51,35,21,43,76,35,58,51,90,91,60,48,87,37,46,71,15,77,61,76,56,92,77,64,77,69,88,39,55,44,76,37,44,71,82,54,36,84,71,48,71,65,74,40,68,89,56,64,60,74,79,53,90,31,47,69,58,74,87,66,33,37,69,69,48,58,77,42,34,18,112,73,42,51,12,30,57,48,66,64,22,42,69,19,24,42,60,12,37,71,39],\"symbol\":\"circle\"},\"mode\":\"markers\",\"text\":\"\",\"x\":[1.621784997721568,-0.41366034592813133,0.1703499631587245,-1.1920692972460996,1.490540900725984,-0.057932056600882395,1.9493212915706266,-1.2133489775891626,-1.0171927857273269,-0.8748618841330696,-0.19903180545332752,1.847526392833172,-0.2758818988849343,0.17071171785641004,0.24112433897690283,-1.0364302350178969,-0.8704374048875894,0.11878631382799285,0.5524041774833329,0.4112892963529475,-0.20274718423037727,-0.1461750034500728,0.3938150717043993,1.013168990337693,1.1587377671220014,-0.07891110920131336,0.19674715852663466,-0.5137254496290548,-1.3594253212057925,0.7768929577215199,0.6932876094382373,0.1484716481867066,2.141638801331524,-0.6084944312615944,0.12650327275946432,0.32470093884566403,1.4432404036386661,0.5217947714925911,-1.0688444844738667,1.089135815260983,-0.29998118456619116,1.0273537271019182,0.33014992958416733,0.586781806816406,-1.6649854938580066,-0.39329069469733646,-0.8237723532130063,0.4796787729400577,-0.3700012746496557,-0.13284150565306116,-1.1415402494783435,0.4020235767439107,-0.06843544392719376,-1.605258168642368,0.3923808704859432,-1.6020304450352683,1.0229879340680732,-0.4716385035017622,-0.3026686970378709,0.23121824625826157,0.7941197295728922,0.2078528949337184,-0.05314850978774376,1.091414986451456,-0.23054064816857944,0.12287026554946075,-1.7032966482057637,-0.5607482142252319,-0.4070160127155237,0.2911341229123403,-1.3376367352973613,2.471298182591257,-1.4273438012656001,-0.9644104778552279,0.7529486000501481,0.9160977380939834,-1.3222788380506154,0.07158314746484597,1.7485767845451123,2.159357303646926,-2.4804194984392924,-1.423385099276626,-1.456924292494143,0.09113542169714114,-0.8048108696952876,-0.27162322444491255,0.1389955219980199,0.2236833151602733,-1.0924382534322106,-1.0804917489162433,1.4912408101051184,0.18322793537716855,1.3056813227817263,1.9582872537903173,-1.3558255227600555,-1.5599278170781556,0.05322385578051336,0.2884950550162606,0.48473933084086995,-1.1138289966447266],\"y\":[1.0464563135578546,-3.0632225880848103,0.7347392981478813,-0.4260768015024099,0.96632800431009,1.2259616492672805,-0.3898324536994116,-1.3347108635827836,0.05850423362368821,-0.4564072432013887,-0.15724725260979047,-1.0977125535217649,-1.665999133255654,-0.21072539560613976,0.7962219185478997,-1.288845173225243,1.564273626180649,-0.11076177080563634,0.8491023364744843,0.9853140925690016,0.6952633578875285,-0.5600769380847198,-0.19660318900246418,-0.6629276497584601,-1.3095091871088107,1.9410326677104206,-0.1989245390276827,-0.7713841078744924,0.552871220815854,-0.8537682860036248,-1.4949821204592284,0.2732931186024205,0.3180571929056187,-0.837676117557035,0.04896750587297655,0.12963765216194872,1.4307678743993686,-0.42045979023879326,-1.9952224416416797,-0.5346484174600119,-0.204811204865994,0.5420650487257817,0.4503872326298657,0.35425475395255546,0.5098829247281865,0.34922028677025024,-0.7712388190084934,1.2298158269216979,0.1733960637726265,0.3126798756781296,0.19876210807019104,1.0582434500911917,-1.6849847277255832,-0.10124840186809116,-0.23032439763298906,1.6930993305863318,-0.5503621073120089,1.120459574282658,-0.5427843412382684,-0.5993572950007119,0.39726633886579293,-0.465487493410192,-0.3432593210298152,-0.38337663937759575,-1.140292528148463,-0.8325557987264668,1.6304602355112843,1.284431606320553,-0.012042543937797351,1.6039192046856627,-0.5404995606983964,1.4255305799121059,-0.7118064004521089,1.9924921540827385,2.3583690017492733,1.467961164888937,0.6915606738845025,-1.7905203549323134,0.9946791497816215,0.40474624180499874,-0.861893923994319,-2.102546055137808,-0.7677543614787729,0.12425845837419648,-0.8931963800510369,-0.9950165747531337,0.9757275360573655,-0.2788829177616858,0.9797543092857613,-0.49850385133220226,0.14271820497733537,0.03975498644747681,0.7118652256934209,0.8906588179631437,-0.6197301677060046,-1.201610403980832,2.4617261927462804,1.0102652057417734,-1.0027608010524207,-1.935435639286333],\"type\":\"scatter\"}],                        {\"legend\":{\"bgcolor\":\"#F5F6F9\",\"font\":{\"color\":\"#4D5663\"}},\"paper_bgcolor\":\"#F5F6F9\",\"plot_bgcolor\":\"#F5F6F9\",\"template\":{\"data\":{\"barpolar\":[{\"marker\":{\"line\":{\"color\":\"#E5ECF6\",\"width\":0.5},\"pattern\":{\"fillmode\":\"overlay\",\"size\":10,\"solidity\":0.2}},\"type\":\"barpolar\"}],\"bar\":[{\"error_x\":{\"color\":\"#2a3f5f\"},\"error_y\":{\"color\":\"#2a3f5f\"},\"marker\":{\"line\":{\"color\":\"#E5ECF6\",\"width\":0.5},\"pattern\":{\"fillmode\":\"overlay\",\"size\":10,\"solidity\":0.2}},\"type\":\"bar\"}],\"carpet\":[{\"aaxis\":{\"endlinecolor\":\"#2a3f5f\",\"gridcolor\":\"white\",\"linecolor\":\"white\",\"minorgridcolor\":\"white\",\"startlinecolor\":\"#2a3f5f\"},\"baxis\":{\"endlinecolor\":\"#2a3f5f\",\"gridcolor\":\"white\",\"linecolor\":\"white\",\"minorgridcolor\":\"white\",\"startlinecolor\":\"#2a3f5f\"},\"type\":\"carpet\"}],\"choropleth\":[{\"colorbar\":{\"outlinewidth\":0,\"ticks\":\"\"},\"type\":\"choropleth\"}],\"contourcarpet\":[{\"colorbar\":{\"outlinewidth\":0,\"ticks\":\"\"},\"type\":\"contourcarpet\"}],\"contour\":[{\"colorbar\":{\"outlinewidth\":0,\"ticks\":\"\"},\"colorscale\":[[0.0,\"#0d0887\"],[0.1111111111111111,\"#46039f\"],[0.2222222222222222,\"#7201a8\"],[0.3333333333333333,\"#9c179e\"],[0.4444444444444444,\"#bd3786\"],[0.5555555555555556,\"#d8576b\"],[0.6666666666666666,\"#ed7953\"],[0.7777777777777778,\"#fb9f3a\"],[0.8888888888888888,\"#fdca26\"],[1.0,\"#f0f921\"]],\"type\":\"contour\"}],\"heatmapgl\":[{\"colorbar\":{\"outlinewidth\":0,\"ticks\":\"\"},\"colorscale\":[[0.0,\"#0d0887\"],[0.1111111111111111,\"#46039f\"],[0.2222222222222222,\"#7201a8\"],[0.3333333333333333,\"#9c179e\"],[0.4444444444444444,\"#bd3786\"],[0.5555555555555556,\"#d8576b\"],[0.6666666666666666,\"#ed7953\"],[0.7777777777777778,\"#fb9f3a\"],[0.8888888888888888,\"#fdca26\"],[1.0,\"#f0f921\"]],\"type\":\"heatmapgl\"}],\"heatmap\":[{\"colorbar\":{\"outlinewidth\":0,\"ticks\":\"\"},\"colorscale\":[[0.0,\"#0d0887\"],[0.1111111111111111,\"#46039f\"],[0.2222222222222222,\"#7201a8\"],[0.3333333333333333,\"#9c179e\"],[0.4444444444444444,\"#bd3786\"],[0.5555555555555556,\"#d8576b\"],[0.6666666666666666,\"#ed7953\"],[0.7777777777777778,\"#fb9f3a\"],[0.8888888888888888,\"#fdca26\"],[1.0,\"#f0f921\"]],\"type\":\"heatmap\"}],\"histogram2dcontour\":[{\"colorbar\":{\"outlinewidth\":0,\"ticks\":\"\"},\"colorscale\":[[0.0,\"#0d0887\"],[0.1111111111111111,\"#46039f\"],[0.2222222222222222,\"#7201a8\"],[0.3333333333333333,\"#9c179e\"],[0.4444444444444444,\"#bd3786\"],[0.5555555555555556,\"#d8576b\"],[0.6666666666666666,\"#ed7953\"],[0.7777777777777778,\"#fb9f3a\"],[0.8888888888888888,\"#fdca26\"],[1.0,\"#f0f921\"]],\"type\":\"histogram2dcontour\"}],\"histogram2d\":[{\"colorbar\":{\"outlinewidth\":0,\"ticks\":\"\"},\"colorscale\":[[0.0,\"#0d0887\"],[0.1111111111111111,\"#46039f\"],[0.2222222222222222,\"#7201a8\"],[0.3333333333333333,\"#9c179e\"],[0.4444444444444444,\"#bd3786\"],[0.5555555555555556,\"#d8576b\"],[0.6666666666666666,\"#ed7953\"],[0.7777777777777778,\"#fb9f3a\"],[0.8888888888888888,\"#fdca26\"],[1.0,\"#f0f921\"]],\"type\":\"histogram2d\"}],\"histogram\":[{\"marker\":{\"pattern\":{\"fillmode\":\"overlay\",\"size\":10,\"solidity\":0.2}},\"type\":\"histogram\"}],\"mesh3d\":[{\"colorbar\":{\"outlinewidth\":0,\"ticks\":\"\"},\"type\":\"mesh3d\"}],\"parcoords\":[{\"line\":{\"colorbar\":{\"outlinewidth\":0,\"ticks\":\"\"}},\"type\":\"parcoords\"}],\"pie\":[{\"automargin\":true,\"type\":\"pie\"}],\"scatter3d\":[{\"line\":{\"colorbar\":{\"outlinewidth\":0,\"ticks\":\"\"}},\"marker\":{\"colorbar\":{\"outlinewidth\":0,\"ticks\":\"\"}},\"type\":\"scatter3d\"}],\"scattercarpet\":[{\"marker\":{\"colorbar\":{\"outlinewidth\":0,\"ticks\":\"\"}},\"type\":\"scattercarpet\"}],\"scattergeo\":[{\"marker\":{\"colorbar\":{\"outlinewidth\":0,\"ticks\":\"\"}},\"type\":\"scattergeo\"}],\"scattergl\":[{\"marker\":{\"colorbar\":{\"outlinewidth\":0,\"ticks\":\"\"}},\"type\":\"scattergl\"}],\"scattermapbox\":[{\"marker\":{\"colorbar\":{\"outlinewidth\":0,\"ticks\":\"\"}},\"type\":\"scattermapbox\"}],\"scatterpolargl\":[{\"marker\":{\"colorbar\":{\"outlinewidth\":0,\"ticks\":\"\"}},\"type\":\"scatterpolargl\"}],\"scatterpolar\":[{\"marker\":{\"colorbar\":{\"outlinewidth\":0,\"ticks\":\"\"}},\"type\":\"scatterpolar\"}],\"scatter\":[{\"marker\":{\"colorbar\":{\"outlinewidth\":0,\"ticks\":\"\"}},\"type\":\"scatter\"}],\"scatterternary\":[{\"marker\":{\"colorbar\":{\"outlinewidth\":0,\"ticks\":\"\"}},\"type\":\"scatterternary\"}],\"surface\":[{\"colorbar\":{\"outlinewidth\":0,\"ticks\":\"\"},\"colorscale\":[[0.0,\"#0d0887\"],[0.1111111111111111,\"#46039f\"],[0.2222222222222222,\"#7201a8\"],[0.3333333333333333,\"#9c179e\"],[0.4444444444444444,\"#bd3786\"],[0.5555555555555556,\"#d8576b\"],[0.6666666666666666,\"#ed7953\"],[0.7777777777777778,\"#fb9f3a\"],[0.8888888888888888,\"#fdca26\"],[1.0,\"#f0f921\"]],\"type\":\"surface\"}],\"table\":[{\"cells\":{\"fill\":{\"color\":\"#EBF0F8\"},\"line\":{\"color\":\"white\"}},\"header\":{\"fill\":{\"color\":\"#C8D4E3\"},\"line\":{\"color\":\"white\"}},\"type\":\"table\"}]},\"layout\":{\"annotationdefaults\":{\"arrowcolor\":\"#2a3f5f\",\"arrowhead\":0,\"arrowwidth\":1},\"autotypenumbers\":\"strict\",\"coloraxis\":{\"colorbar\":{\"outlinewidth\":0,\"ticks\":\"\"}},\"colorscale\":{\"diverging\":[[0,\"#8e0152\"],[0.1,\"#c51b7d\"],[0.2,\"#de77ae\"],[0.3,\"#f1b6da\"],[0.4,\"#fde0ef\"],[0.5,\"#f7f7f7\"],[0.6,\"#e6f5d0\"],[0.7,\"#b8e186\"],[0.8,\"#7fbc41\"],[0.9,\"#4d9221\"],[1,\"#276419\"]],\"sequential\":[[0.0,\"#0d0887\"],[0.1111111111111111,\"#46039f\"],[0.2222222222222222,\"#7201a8\"],[0.3333333333333333,\"#9c179e\"],[0.4444444444444444,\"#bd3786\"],[0.5555555555555556,\"#d8576b\"],[0.6666666666666666,\"#ed7953\"],[0.7777777777777778,\"#fb9f3a\"],[0.8888888888888888,\"#fdca26\"],[1.0,\"#f0f921\"]],\"sequentialminus\":[[0.0,\"#0d0887\"],[0.1111111111111111,\"#46039f\"],[0.2222222222222222,\"#7201a8\"],[0.3333333333333333,\"#9c179e\"],[0.4444444444444444,\"#bd3786\"],[0.5555555555555556,\"#d8576b\"],[0.6666666666666666,\"#ed7953\"],[0.7777777777777778,\"#fb9f3a\"],[0.8888888888888888,\"#fdca26\"],[1.0,\"#f0f921\"]]},\"colorway\":[\"#636efa\",\"#EF553B\",\"#00cc96\",\"#ab63fa\",\"#FFA15A\",\"#19d3f3\",\"#FF6692\",\"#B6E880\",\"#FF97FF\",\"#FECB52\"],\"font\":{\"color\":\"#2a3f5f\"},\"geo\":{\"bgcolor\":\"white\",\"lakecolor\":\"white\",\"landcolor\":\"#E5ECF6\",\"showlakes\":true,\"showland\":true,\"subunitcolor\":\"white\"},\"hoverlabel\":{\"align\":\"left\"},\"hovermode\":\"closest\",\"mapbox\":{\"style\":\"light\"},\"paper_bgcolor\":\"white\",\"plot_bgcolor\":\"#E5ECF6\",\"polar\":{\"angularaxis\":{\"gridcolor\":\"white\",\"linecolor\":\"white\",\"ticks\":\"\"},\"bgcolor\":\"#E5ECF6\",\"radialaxis\":{\"gridcolor\":\"white\",\"linecolor\":\"white\",\"ticks\":\"\"}},\"scene\":{\"xaxis\":{\"backgroundcolor\":\"#E5ECF6\",\"gridcolor\":\"white\",\"gridwidth\":2,\"linecolor\":\"white\",\"showbackground\":true,\"ticks\":\"\",\"zerolinecolor\":\"white\"},\"yaxis\":{\"backgroundcolor\":\"#E5ECF6\",\"gridcolor\":\"white\",\"gridwidth\":2,\"linecolor\":\"white\",\"showbackground\":true,\"ticks\":\"\",\"zerolinecolor\":\"white\"},\"zaxis\":{\"backgroundcolor\":\"#E5ECF6\",\"gridcolor\":\"white\",\"gridwidth\":2,\"linecolor\":\"white\",\"showbackground\":true,\"ticks\":\"\",\"zerolinecolor\":\"white\"}},\"shapedefaults\":{\"line\":{\"color\":\"#2a3f5f\"}},\"ternary\":{\"aaxis\":{\"gridcolor\":\"white\",\"linecolor\":\"white\",\"ticks\":\"\"},\"baxis\":{\"gridcolor\":\"white\",\"linecolor\":\"white\",\"ticks\":\"\"},\"bgcolor\":\"#E5ECF6\",\"caxis\":{\"gridcolor\":\"white\",\"linecolor\":\"white\",\"ticks\":\"\"}},\"title\":{\"x\":0.05},\"xaxis\":{\"automargin\":true,\"gridcolor\":\"white\",\"linecolor\":\"white\",\"ticks\":\"\",\"title\":{\"standoff\":15},\"zerolinecolor\":\"white\",\"zerolinewidth\":2},\"yaxis\":{\"automargin\":true,\"gridcolor\":\"white\",\"linecolor\":\"white\",\"ticks\":\"\",\"title\":{\"standoff\":15},\"zerolinecolor\":\"white\",\"zerolinewidth\":2}}},\"title\":{\"font\":{\"color\":\"#4D5663\"}},\"xaxis\":{\"gridcolor\":\"#E1E5ED\",\"showgrid\":true,\"tickfont\":{\"color\":\"#4D5663\"},\"title\":{\"font\":{\"color\":\"#4D5663\"},\"text\":\"\"},\"zerolinecolor\":\"#E1E5ED\"},\"yaxis\":{\"gridcolor\":\"#E1E5ED\",\"showgrid\":true,\"tickfont\":{\"color\":\"#4D5663\"},\"title\":{\"font\":{\"color\":\"#4D5663\"},\"text\":\"\"},\"zerolinecolor\":\"#E1E5ED\"}},                        {\"showLink\": true, \"linkText\": \"Export to plot.ly\", \"plotlyServerURL\": \"https://plot.ly\", \"responsive\": true}                    ).then(function(){\n",
       "                            \n",
       "var gd = document.getElementById('78fae39e-9190-41a9-99fc-f56565832c6b');\n",
       "var x = new MutationObserver(function (mutations, observer) {{\n",
       "        var display = window.getComputedStyle(gd).display;\n",
       "        if (!display || display === 'none') {{\n",
       "            console.log([gd, 'removed!']);\n",
       "            Plotly.purge(gd);\n",
       "            observer.disconnect();\n",
       "        }}\n",
       "}});\n",
       "\n",
       "// Listen for the removal of the full notebook cells\n",
       "var notebookContainer = gd.closest('#notebook-container');\n",
       "if (notebookContainer) {{\n",
       "    x.observe(notebookContainer, {childList: true});\n",
       "}}\n",
       "\n",
       "// Listen for the clearing of the current output cell\n",
       "var outputEl = gd.closest('.output');\n",
       "if (outputEl) {{\n",
       "    x.observe(outputEl, {childList: true});\n",
       "}}\n",
       "\n",
       "                        })                };                });            </script>        </div>"
      ]
     },
     "metadata": {},
     "output_type": "display_data"
    }
   ],
   "source": [
    "df.iplot(kind='bubble',x='A',y='B',size='C')"
   ]
  },
  {
   "cell_type": "markdown",
   "metadata": {},
   "source": [
    "## scatter_matrix()\n",
    "\n",
    "Similar to sns.pairplot()"
   ]
  },
  {
   "cell_type": "code",
   "execution_count": 19,
   "metadata": {},
   "outputs": [
    {
     "data": {
      "application/vnd.plotly.v1+json": {
       "config": {
        "linkText": "Export to plot.ly",
        "plotlyServerURL": "https://plot.ly",
        "showLink": true
       },
       "data": [
        {
         "histfunc": "count",
         "histnorm": "",
         "marker": {
          "color": "rgba(255, 153, 51, 1.0)",
          "line": {
           "color": "#4D5663",
           "width": 1.3
          }
         },
         "name": "A",
         "nbinsx": 10,
         "opacity": 0.8,
         "orientation": "v",
         "type": "histogram",
         "x": [
          1.621784997721568,
          -0.41366034592813133,
          0.1703499631587245,
          -1.1920692972460996,
          1.490540900725984,
          -0.057932056600882395,
          1.9493212915706266,
          -1.2133489775891626,
          -1.0171927857273269,
          -0.8748618841330696,
          -0.19903180545332752,
          1.847526392833172,
          -0.2758818988849343,
          0.17071171785641004,
          0.24112433897690283,
          -1.0364302350178969,
          -0.8704374048875894,
          0.11878631382799285,
          0.5524041774833329,
          0.4112892963529475,
          -0.20274718423037727,
          -0.1461750034500728,
          0.3938150717043993,
          1.013168990337693,
          1.1587377671220014,
          -0.07891110920131336,
          0.19674715852663466,
          -0.5137254496290548,
          -1.3594253212057925,
          0.7768929577215199,
          0.6932876094382373,
          0.1484716481867066,
          2.141638801331524,
          -0.6084944312615944,
          0.12650327275946432,
          0.32470093884566403,
          1.4432404036386661,
          0.5217947714925911,
          -1.0688444844738667,
          1.089135815260983,
          -0.29998118456619116,
          1.0273537271019182,
          0.33014992958416733,
          0.586781806816406,
          -1.6649854938580066,
          -0.39329069469733646,
          -0.8237723532130063,
          0.4796787729400577,
          -0.3700012746496557,
          -0.13284150565306116,
          -1.1415402494783435,
          0.4020235767439107,
          -0.06843544392719376,
          -1.605258168642368,
          0.3923808704859432,
          -1.6020304450352683,
          1.0229879340680732,
          -0.4716385035017622,
          -0.3026686970378709,
          0.23121824625826157,
          0.7941197295728922,
          0.2078528949337184,
          -0.05314850978774376,
          1.091414986451456,
          -0.23054064816857944,
          0.12287026554946075,
          -1.7032966482057637,
          -0.5607482142252319,
          -0.4070160127155237,
          0.2911341229123403,
          -1.3376367352973613,
          2.471298182591257,
          -1.4273438012656001,
          -0.9644104778552279,
          0.7529486000501481,
          0.9160977380939834,
          -1.3222788380506154,
          0.07158314746484597,
          1.7485767845451123,
          2.159357303646926,
          -2.4804194984392924,
          -1.423385099276626,
          -1.456924292494143,
          0.09113542169714114,
          -0.8048108696952876,
          -0.27162322444491255,
          0.1389955219980199,
          0.2236833151602733,
          -1.0924382534322106,
          -1.0804917489162433,
          1.4912408101051184,
          0.18322793537716855,
          1.3056813227817263,
          1.9582872537903173,
          -1.3558255227600555,
          -1.5599278170781556,
          0.05322385578051336,
          0.2884950550162606,
          0.48473933084086995,
          -1.1138289966447266
         ],
         "xaxis": "x",
         "yaxis": "y"
        },
        {
         "line": {
          "color": "rgba(128, 128, 128, 1.0)",
          "dash": "solid",
          "shape": "linear",
          "width": 1.3
         },
         "marker": {
          "size": 2,
          "symbol": "circle"
         },
         "mode": "markers",
         "name": "A",
         "text": "",
         "type": "scatter",
         "x": [
          1.0464563135578546,
          -3.0632225880848103,
          0.7347392981478813,
          -0.4260768015024099,
          0.96632800431009,
          1.2259616492672805,
          -0.3898324536994116,
          -1.3347108635827836,
          0.05850423362368821,
          -0.4564072432013887,
          -0.15724725260979047,
          -1.0977125535217649,
          -1.665999133255654,
          -0.21072539560613976,
          0.7962219185478997,
          -1.288845173225243,
          1.564273626180649,
          -0.11076177080563634,
          0.8491023364744843,
          0.9853140925690016,
          0.6952633578875285,
          -0.5600769380847198,
          -0.19660318900246418,
          -0.6629276497584601,
          -1.3095091871088107,
          1.9410326677104206,
          -0.1989245390276827,
          -0.7713841078744924,
          0.552871220815854,
          -0.8537682860036248,
          -1.4949821204592284,
          0.2732931186024205,
          0.3180571929056187,
          -0.837676117557035,
          0.04896750587297655,
          0.12963765216194872,
          1.4307678743993686,
          -0.42045979023879326,
          -1.9952224416416797,
          -0.5346484174600119,
          -0.204811204865994,
          0.5420650487257817,
          0.4503872326298657,
          0.35425475395255546,
          0.5098829247281865,
          0.34922028677025024,
          -0.7712388190084934,
          1.2298158269216979,
          0.1733960637726265,
          0.3126798756781296,
          0.19876210807019104,
          1.0582434500911917,
          -1.6849847277255832,
          -0.10124840186809116,
          -0.23032439763298906,
          1.6930993305863318,
          -0.5503621073120089,
          1.120459574282658,
          -0.5427843412382684,
          -0.5993572950007119,
          0.39726633886579293,
          -0.465487493410192,
          -0.3432593210298152,
          -0.38337663937759575,
          -1.140292528148463,
          -0.8325557987264668,
          1.6304602355112843,
          1.284431606320553,
          -0.012042543937797351,
          1.6039192046856627,
          -0.5404995606983964,
          1.4255305799121059,
          -0.7118064004521089,
          1.9924921540827385,
          2.3583690017492733,
          1.467961164888937,
          0.6915606738845025,
          -1.7905203549323134,
          0.9946791497816215,
          0.40474624180499874,
          -0.861893923994319,
          -2.102546055137808,
          -0.7677543614787729,
          0.12425845837419648,
          -0.8931963800510369,
          -0.9950165747531337,
          0.9757275360573655,
          -0.2788829177616858,
          0.9797543092857613,
          -0.49850385133220226,
          0.14271820497733537,
          0.03975498644747681,
          0.7118652256934209,
          0.8906588179631437,
          -0.6197301677060046,
          -1.201610403980832,
          2.4617261927462804,
          1.0102652057417734,
          -1.0027608010524207,
          -1.935435639286333
         ],
         "xaxis": "x2",
         "y": [
          1.621784997721568,
          -0.41366034592813133,
          0.1703499631587245,
          -1.1920692972460996,
          1.490540900725984,
          -0.057932056600882395,
          1.9493212915706266,
          -1.2133489775891626,
          -1.0171927857273269,
          -0.8748618841330696,
          -0.19903180545332752,
          1.847526392833172,
          -0.2758818988849343,
          0.17071171785641004,
          0.24112433897690283,
          -1.0364302350178969,
          -0.8704374048875894,
          0.11878631382799285,
          0.5524041774833329,
          0.4112892963529475,
          -0.20274718423037727,
          -0.1461750034500728,
          0.3938150717043993,
          1.013168990337693,
          1.1587377671220014,
          -0.07891110920131336,
          0.19674715852663466,
          -0.5137254496290548,
          -1.3594253212057925,
          0.7768929577215199,
          0.6932876094382373,
          0.1484716481867066,
          2.141638801331524,
          -0.6084944312615944,
          0.12650327275946432,
          0.32470093884566403,
          1.4432404036386661,
          0.5217947714925911,
          -1.0688444844738667,
          1.089135815260983,
          -0.29998118456619116,
          1.0273537271019182,
          0.33014992958416733,
          0.586781806816406,
          -1.6649854938580066,
          -0.39329069469733646,
          -0.8237723532130063,
          0.4796787729400577,
          -0.3700012746496557,
          -0.13284150565306116,
          -1.1415402494783435,
          0.4020235767439107,
          -0.06843544392719376,
          -1.605258168642368,
          0.3923808704859432,
          -1.6020304450352683,
          1.0229879340680732,
          -0.4716385035017622,
          -0.3026686970378709,
          0.23121824625826157,
          0.7941197295728922,
          0.2078528949337184,
          -0.05314850978774376,
          1.091414986451456,
          -0.23054064816857944,
          0.12287026554946075,
          -1.7032966482057637,
          -0.5607482142252319,
          -0.4070160127155237,
          0.2911341229123403,
          -1.3376367352973613,
          2.471298182591257,
          -1.4273438012656001,
          -0.9644104778552279,
          0.7529486000501481,
          0.9160977380939834,
          -1.3222788380506154,
          0.07158314746484597,
          1.7485767845451123,
          2.159357303646926,
          -2.4804194984392924,
          -1.423385099276626,
          -1.456924292494143,
          0.09113542169714114,
          -0.8048108696952876,
          -0.27162322444491255,
          0.1389955219980199,
          0.2236833151602733,
          -1.0924382534322106,
          -1.0804917489162433,
          1.4912408101051184,
          0.18322793537716855,
          1.3056813227817263,
          1.9582872537903173,
          -1.3558255227600555,
          -1.5599278170781556,
          0.05322385578051336,
          0.2884950550162606,
          0.48473933084086995,
          -1.1138289966447266
         ],
         "yaxis": "y2"
        },
        {
         "line": {
          "color": "rgba(128, 128, 128, 1.0)",
          "dash": "solid",
          "shape": "linear",
          "width": 1.3
         },
         "marker": {
          "size": 2,
          "symbol": "circle"
         },
         "mode": "markers",
         "name": "A",
         "text": "",
         "type": "scatter",
         "x": [
          0.33843758094155335,
          -0.2382709946480748,
          0.22403536453053965,
          -0.3043966856091476,
          -0.9092891682702926,
          2.17868145639729,
          -0.2834297476206791,
          -1.1747593063055741,
          0.8547278158043446,
          -0.28895013784748314,
          -1.0555352363008217,
          -1.7216316204653157,
          -0.6724901553983208,
          0.9453486302766296,
          -1.0250727206635541,
          0.06618194321345852,
          -0.28411764141537355,
          1.631059058350737,
          1.694501208527916,
          0.18409191694693677,
          -0.435324315739716,
          1.49312748793559,
          -0.9461586780122293,
          -0.5138094122024075,
          0.7082355733246352,
          -2.004521818888406,
          1.0088034517924231,
          0.19898135532908753,
          0.9521169639269785,
          -0.03807202992688498,
          1.7246180652826841,
          1.0049603921498376,
          0.3561034983306561,
          1.0036856736349766,
          0.6371941877920423,
          1.534969468086901,
          -0.8419048062706564,
          -0.05031940466547256,
          -0.5993737503476307,
          0.967096866496843,
          -0.9714579177342824,
          -0.6204083855100891,
          0.6943598579296563,
          1.2587355386229353,
          -0.09904670726754072,
          -0.9889542216035125,
          1.349004205847779,
          0.6924025810598344,
          -0.3899570287709958,
          0.6923778114954655,
          0.4354946779581317,
          0.8395989470007246,
          -0.8023939293826446,
          0.5529062988801857,
          1.5930022158547414,
          -0.0033021948190812517,
          0.3914218714623637,
          0.16754014056453526,
          0.8342617129273869,
          1.0888118845726371,
          -0.1744573866531768,
          1.6280531748603946,
          -1.2243913141704272,
          -0.4633239306090089,
          0.6125049384428948,
          0.051854633513044444,
          0.8508869477339461,
          1.5027127847691086,
          0.48426485243644807,
          -1.128822208688011,
          -0.9717832870910856,
          0.6254143649548266,
          0.592465907128901,
          -0.39067682200424536,
          0.06759480248335602,
          0.9858707264858869,
          -0.7246544723035329,
          -1.1019909708749236,
          -1.8734821669209074,
          2.6910576016600904,
          0.8326038503827787,
          -0.6837829572010239,
          -0.27828647768238607,
          -2.1930223888736338,
          -1.3010368303151036,
          0.03847258451290304,
          -0.39220334098864656,
          0.4515211677197727,
          0.3850212005586349,
          -1.7031979580192445,
          -0.6995949612797254,
          0.5978437816476047,
          -1.829365113479942,
          -1.5934857748804108,
          -0.7180116789337732,
          0.1777678173297205,
          -2.1969426091857263,
          -0.9611101217742426,
          0.7084924626039807,
          -0.833105851124916
         ],
         "xaxis": "x3",
         "y": [
          1.621784997721568,
          -0.41366034592813133,
          0.1703499631587245,
          -1.1920692972460996,
          1.490540900725984,
          -0.057932056600882395,
          1.9493212915706266,
          -1.2133489775891626,
          -1.0171927857273269,
          -0.8748618841330696,
          -0.19903180545332752,
          1.847526392833172,
          -0.2758818988849343,
          0.17071171785641004,
          0.24112433897690283,
          -1.0364302350178969,
          -0.8704374048875894,
          0.11878631382799285,
          0.5524041774833329,
          0.4112892963529475,
          -0.20274718423037727,
          -0.1461750034500728,
          0.3938150717043993,
          1.013168990337693,
          1.1587377671220014,
          -0.07891110920131336,
          0.19674715852663466,
          -0.5137254496290548,
          -1.3594253212057925,
          0.7768929577215199,
          0.6932876094382373,
          0.1484716481867066,
          2.141638801331524,
          -0.6084944312615944,
          0.12650327275946432,
          0.32470093884566403,
          1.4432404036386661,
          0.5217947714925911,
          -1.0688444844738667,
          1.089135815260983,
          -0.29998118456619116,
          1.0273537271019182,
          0.33014992958416733,
          0.586781806816406,
          -1.6649854938580066,
          -0.39329069469733646,
          -0.8237723532130063,
          0.4796787729400577,
          -0.3700012746496557,
          -0.13284150565306116,
          -1.1415402494783435,
          0.4020235767439107,
          -0.06843544392719376,
          -1.605258168642368,
          0.3923808704859432,
          -1.6020304450352683,
          1.0229879340680732,
          -0.4716385035017622,
          -0.3026686970378709,
          0.23121824625826157,
          0.7941197295728922,
          0.2078528949337184,
          -0.05314850978774376,
          1.091414986451456,
          -0.23054064816857944,
          0.12287026554946075,
          -1.7032966482057637,
          -0.5607482142252319,
          -0.4070160127155237,
          0.2911341229123403,
          -1.3376367352973613,
          2.471298182591257,
          -1.4273438012656001,
          -0.9644104778552279,
          0.7529486000501481,
          0.9160977380939834,
          -1.3222788380506154,
          0.07158314746484597,
          1.7485767845451123,
          2.159357303646926,
          -2.4804194984392924,
          -1.423385099276626,
          -1.456924292494143,
          0.09113542169714114,
          -0.8048108696952876,
          -0.27162322444491255,
          0.1389955219980199,
          0.2236833151602733,
          -1.0924382534322106,
          -1.0804917489162433,
          1.4912408101051184,
          0.18322793537716855,
          1.3056813227817263,
          1.9582872537903173,
          -1.3558255227600555,
          -1.5599278170781556,
          0.05322385578051336,
          0.2884950550162606,
          0.48473933084086995,
          -1.1138289966447266
         ],
         "yaxis": "y3"
        },
        {
         "line": {
          "color": "rgba(128, 128, 128, 1.0)",
          "dash": "solid",
          "shape": "linear",
          "width": 1.3
         },
         "marker": {
          "size": 2,
          "symbol": "circle"
         },
         "mode": "markers",
         "name": "A",
         "text": "",
         "type": "scatter",
         "x": [
          -1.1004471665582038,
          0.041217183727715746,
          -0.7718473787639256,
          0.109557433906497,
          1.408925887016048,
          0.796780758991421,
          0.3660699365361497,
          0.9390213997427165,
          -0.5968841974369468,
          0.3672813247171284,
          0.7023621972232881,
          -0.1569516908250397,
          1.5268566575278142,
          0.5890678720923911,
          -1.8729957508816617,
          0.3211315137072359,
          -0.9273489054776755,
          0.1365792379447031,
          -0.6430232999123707,
          0.1961283295358216,
          0.20682960503607187,
          1.7340790969935829,
          0.07469030215823605,
          0.4069181240374408,
          0.887401920221741,
          -0.003514010812075497,
          -0.35382803423574477,
          0.0014193462807367129,
          0.6040694239822059,
          0.63826759625818,
          0.12284176757473954,
          0.3078461613565154,
          0.886220242731648,
          0.5355407769598614,
          -0.3868766954356073,
          -1.235122496288211,
          -0.02187803860552186,
          -0.690821704620183,
          -0.96843782816511,
          0.4290004724349664,
          -0.6150667513201463,
          -1.1644702103477313,
          -0.3024878956777604,
          0.21675550479802616,
          -1.108344807575133,
          -0.6529549198621861,
          -1.6048750507931338,
          2.1282050713734972,
          1.240451474833909,
          -0.9468468701132373,
          -0.7149128729282663,
          0.7684842078600935,
          0.6152290770981884,
          -0.9601817186734947,
          -0.6240098199662922,
          -1.9132242570550178,
          2.3860115322006923,
          1.6017347659003962,
          1.3854886213432298,
          -1.2533714050617275,
          1.1675065748777036,
          -0.8339954419544497,
          0.6645104113109662,
          -1.8460278374452133,
          0.9251573704783496,
          0.2555287627841315,
          2.011142381066698,
          -0.6568507775284618,
          0.4762725736337321,
          1.2235886048878013,
          -0.019813701981420996,
          0.2760002279222589,
          -1.4773144851682558,
          0.3492241057863119,
          0.12354359418652405,
          0.8879054373917248,
          0.25607188364142947,
          0.6587390390326553,
          -0.6310520211119438,
          -1.3190616725838245,
          1.308501006057353,
          0.4882677346986149,
          -0.4421846205193525,
          -3.007741043840323,
          0.8179465777852021,
          0.43747631218148203,
          1.9454955053320981,
          -1.748406067292762,
          0.8939847009844076,
          0.2704301609821631,
          -1.0529061904206758,
          0.2687186229625887,
          -1.061510706367173,
          0.6879940899945505,
          -1.1320643754291746,
          0.12005105359613082,
          -1.7391644637925068,
          -0.8504517692291123,
          0.944538349676949,
          2.2049053506380676
         ],
         "xaxis": "x4",
         "y": [
          1.621784997721568,
          -0.41366034592813133,
          0.1703499631587245,
          -1.1920692972460996,
          1.490540900725984,
          -0.057932056600882395,
          1.9493212915706266,
          -1.2133489775891626,
          -1.0171927857273269,
          -0.8748618841330696,
          -0.19903180545332752,
          1.847526392833172,
          -0.2758818988849343,
          0.17071171785641004,
          0.24112433897690283,
          -1.0364302350178969,
          -0.8704374048875894,
          0.11878631382799285,
          0.5524041774833329,
          0.4112892963529475,
          -0.20274718423037727,
          -0.1461750034500728,
          0.3938150717043993,
          1.013168990337693,
          1.1587377671220014,
          -0.07891110920131336,
          0.19674715852663466,
          -0.5137254496290548,
          -1.3594253212057925,
          0.7768929577215199,
          0.6932876094382373,
          0.1484716481867066,
          2.141638801331524,
          -0.6084944312615944,
          0.12650327275946432,
          0.32470093884566403,
          1.4432404036386661,
          0.5217947714925911,
          -1.0688444844738667,
          1.089135815260983,
          -0.29998118456619116,
          1.0273537271019182,
          0.33014992958416733,
          0.586781806816406,
          -1.6649854938580066,
          -0.39329069469733646,
          -0.8237723532130063,
          0.4796787729400577,
          -0.3700012746496557,
          -0.13284150565306116,
          -1.1415402494783435,
          0.4020235767439107,
          -0.06843544392719376,
          -1.605258168642368,
          0.3923808704859432,
          -1.6020304450352683,
          1.0229879340680732,
          -0.4716385035017622,
          -0.3026686970378709,
          0.23121824625826157,
          0.7941197295728922,
          0.2078528949337184,
          -0.05314850978774376,
          1.091414986451456,
          -0.23054064816857944,
          0.12287026554946075,
          -1.7032966482057637,
          -0.5607482142252319,
          -0.4070160127155237,
          0.2911341229123403,
          -1.3376367352973613,
          2.471298182591257,
          -1.4273438012656001,
          -0.9644104778552279,
          0.7529486000501481,
          0.9160977380939834,
          -1.3222788380506154,
          0.07158314746484597,
          1.7485767845451123,
          2.159357303646926,
          -2.4804194984392924,
          -1.423385099276626,
          -1.456924292494143,
          0.09113542169714114,
          -0.8048108696952876,
          -0.27162322444491255,
          0.1389955219980199,
          0.2236833151602733,
          -1.0924382534322106,
          -1.0804917489162433,
          1.4912408101051184,
          0.18322793537716855,
          1.3056813227817263,
          1.9582872537903173,
          -1.3558255227600555,
          -1.5599278170781556,
          0.05322385578051336,
          0.2884950550162606,
          0.48473933084086995,
          -1.1138289966447266
         ],
         "yaxis": "y4"
        },
        {
         "line": {
          "color": "rgba(128, 128, 128, 1.0)",
          "dash": "solid",
          "shape": "linear",
          "width": 1.3
         },
         "marker": {
          "size": 2,
          "symbol": "circle"
         },
         "mode": "markers",
         "name": "B",
         "text": "",
         "type": "scatter",
         "x": [
          1.621784997721568,
          -0.41366034592813133,
          0.1703499631587245,
          -1.1920692972460996,
          1.490540900725984,
          -0.057932056600882395,
          1.9493212915706266,
          -1.2133489775891626,
          -1.0171927857273269,
          -0.8748618841330696,
          -0.19903180545332752,
          1.847526392833172,
          -0.2758818988849343,
          0.17071171785641004,
          0.24112433897690283,
          -1.0364302350178969,
          -0.8704374048875894,
          0.11878631382799285,
          0.5524041774833329,
          0.4112892963529475,
          -0.20274718423037727,
          -0.1461750034500728,
          0.3938150717043993,
          1.013168990337693,
          1.1587377671220014,
          -0.07891110920131336,
          0.19674715852663466,
          -0.5137254496290548,
          -1.3594253212057925,
          0.7768929577215199,
          0.6932876094382373,
          0.1484716481867066,
          2.141638801331524,
          -0.6084944312615944,
          0.12650327275946432,
          0.32470093884566403,
          1.4432404036386661,
          0.5217947714925911,
          -1.0688444844738667,
          1.089135815260983,
          -0.29998118456619116,
          1.0273537271019182,
          0.33014992958416733,
          0.586781806816406,
          -1.6649854938580066,
          -0.39329069469733646,
          -0.8237723532130063,
          0.4796787729400577,
          -0.3700012746496557,
          -0.13284150565306116,
          -1.1415402494783435,
          0.4020235767439107,
          -0.06843544392719376,
          -1.605258168642368,
          0.3923808704859432,
          -1.6020304450352683,
          1.0229879340680732,
          -0.4716385035017622,
          -0.3026686970378709,
          0.23121824625826157,
          0.7941197295728922,
          0.2078528949337184,
          -0.05314850978774376,
          1.091414986451456,
          -0.23054064816857944,
          0.12287026554946075,
          -1.7032966482057637,
          -0.5607482142252319,
          -0.4070160127155237,
          0.2911341229123403,
          -1.3376367352973613,
          2.471298182591257,
          -1.4273438012656001,
          -0.9644104778552279,
          0.7529486000501481,
          0.9160977380939834,
          -1.3222788380506154,
          0.07158314746484597,
          1.7485767845451123,
          2.159357303646926,
          -2.4804194984392924,
          -1.423385099276626,
          -1.456924292494143,
          0.09113542169714114,
          -0.8048108696952876,
          -0.27162322444491255,
          0.1389955219980199,
          0.2236833151602733,
          -1.0924382534322106,
          -1.0804917489162433,
          1.4912408101051184,
          0.18322793537716855,
          1.3056813227817263,
          1.9582872537903173,
          -1.3558255227600555,
          -1.5599278170781556,
          0.05322385578051336,
          0.2884950550162606,
          0.48473933084086995,
          -1.1138289966447266
         ],
         "xaxis": "x5",
         "y": [
          1.0464563135578546,
          -3.0632225880848103,
          0.7347392981478813,
          -0.4260768015024099,
          0.96632800431009,
          1.2259616492672805,
          -0.3898324536994116,
          -1.3347108635827836,
          0.05850423362368821,
          -0.4564072432013887,
          -0.15724725260979047,
          -1.0977125535217649,
          -1.665999133255654,
          -0.21072539560613976,
          0.7962219185478997,
          -1.288845173225243,
          1.564273626180649,
          -0.11076177080563634,
          0.8491023364744843,
          0.9853140925690016,
          0.6952633578875285,
          -0.5600769380847198,
          -0.19660318900246418,
          -0.6629276497584601,
          -1.3095091871088107,
          1.9410326677104206,
          -0.1989245390276827,
          -0.7713841078744924,
          0.552871220815854,
          -0.8537682860036248,
          -1.4949821204592284,
          0.2732931186024205,
          0.3180571929056187,
          -0.837676117557035,
          0.04896750587297655,
          0.12963765216194872,
          1.4307678743993686,
          -0.42045979023879326,
          -1.9952224416416797,
          -0.5346484174600119,
          -0.204811204865994,
          0.5420650487257817,
          0.4503872326298657,
          0.35425475395255546,
          0.5098829247281865,
          0.34922028677025024,
          -0.7712388190084934,
          1.2298158269216979,
          0.1733960637726265,
          0.3126798756781296,
          0.19876210807019104,
          1.0582434500911917,
          -1.6849847277255832,
          -0.10124840186809116,
          -0.23032439763298906,
          1.6930993305863318,
          -0.5503621073120089,
          1.120459574282658,
          -0.5427843412382684,
          -0.5993572950007119,
          0.39726633886579293,
          -0.465487493410192,
          -0.3432593210298152,
          -0.38337663937759575,
          -1.140292528148463,
          -0.8325557987264668,
          1.6304602355112843,
          1.284431606320553,
          -0.012042543937797351,
          1.6039192046856627,
          -0.5404995606983964,
          1.4255305799121059,
          -0.7118064004521089,
          1.9924921540827385,
          2.3583690017492733,
          1.467961164888937,
          0.6915606738845025,
          -1.7905203549323134,
          0.9946791497816215,
          0.40474624180499874,
          -0.861893923994319,
          -2.102546055137808,
          -0.7677543614787729,
          0.12425845837419648,
          -0.8931963800510369,
          -0.9950165747531337,
          0.9757275360573655,
          -0.2788829177616858,
          0.9797543092857613,
          -0.49850385133220226,
          0.14271820497733537,
          0.03975498644747681,
          0.7118652256934209,
          0.8906588179631437,
          -0.6197301677060046,
          -1.201610403980832,
          2.4617261927462804,
          1.0102652057417734,
          -1.0027608010524207,
          -1.935435639286333
         ],
         "yaxis": "y5"
        },
        {
         "histfunc": "count",
         "histnorm": "",
         "marker": {
          "color": "rgba(55, 128, 191, 1.0)",
          "line": {
           "color": "#4D5663",
           "width": 1.3
          }
         },
         "name": "B",
         "nbinsx": 10,
         "opacity": 0.8,
         "orientation": "v",
         "type": "histogram",
         "x": [
          1.0464563135578546,
          -3.0632225880848103,
          0.7347392981478813,
          -0.4260768015024099,
          0.96632800431009,
          1.2259616492672805,
          -0.3898324536994116,
          -1.3347108635827836,
          0.05850423362368821,
          -0.4564072432013887,
          -0.15724725260979047,
          -1.0977125535217649,
          -1.665999133255654,
          -0.21072539560613976,
          0.7962219185478997,
          -1.288845173225243,
          1.564273626180649,
          -0.11076177080563634,
          0.8491023364744843,
          0.9853140925690016,
          0.6952633578875285,
          -0.5600769380847198,
          -0.19660318900246418,
          -0.6629276497584601,
          -1.3095091871088107,
          1.9410326677104206,
          -0.1989245390276827,
          -0.7713841078744924,
          0.552871220815854,
          -0.8537682860036248,
          -1.4949821204592284,
          0.2732931186024205,
          0.3180571929056187,
          -0.837676117557035,
          0.04896750587297655,
          0.12963765216194872,
          1.4307678743993686,
          -0.42045979023879326,
          -1.9952224416416797,
          -0.5346484174600119,
          -0.204811204865994,
          0.5420650487257817,
          0.4503872326298657,
          0.35425475395255546,
          0.5098829247281865,
          0.34922028677025024,
          -0.7712388190084934,
          1.2298158269216979,
          0.1733960637726265,
          0.3126798756781296,
          0.19876210807019104,
          1.0582434500911917,
          -1.6849847277255832,
          -0.10124840186809116,
          -0.23032439763298906,
          1.6930993305863318,
          -0.5503621073120089,
          1.120459574282658,
          -0.5427843412382684,
          -0.5993572950007119,
          0.39726633886579293,
          -0.465487493410192,
          -0.3432593210298152,
          -0.38337663937759575,
          -1.140292528148463,
          -0.8325557987264668,
          1.6304602355112843,
          1.284431606320553,
          -0.012042543937797351,
          1.6039192046856627,
          -0.5404995606983964,
          1.4255305799121059,
          -0.7118064004521089,
          1.9924921540827385,
          2.3583690017492733,
          1.467961164888937,
          0.6915606738845025,
          -1.7905203549323134,
          0.9946791497816215,
          0.40474624180499874,
          -0.861893923994319,
          -2.102546055137808,
          -0.7677543614787729,
          0.12425845837419648,
          -0.8931963800510369,
          -0.9950165747531337,
          0.9757275360573655,
          -0.2788829177616858,
          0.9797543092857613,
          -0.49850385133220226,
          0.14271820497733537,
          0.03975498644747681,
          0.7118652256934209,
          0.8906588179631437,
          -0.6197301677060046,
          -1.201610403980832,
          2.4617261927462804,
          1.0102652057417734,
          -1.0027608010524207,
          -1.935435639286333
         ],
         "xaxis": "x6",
         "yaxis": "y6"
        },
        {
         "line": {
          "color": "rgba(128, 128, 128, 1.0)",
          "dash": "solid",
          "shape": "linear",
          "width": 1.3
         },
         "marker": {
          "size": 2,
          "symbol": "circle"
         },
         "mode": "markers",
         "name": "B",
         "text": "",
         "type": "scatter",
         "x": [
          0.33843758094155335,
          -0.2382709946480748,
          0.22403536453053965,
          -0.3043966856091476,
          -0.9092891682702926,
          2.17868145639729,
          -0.2834297476206791,
          -1.1747593063055741,
          0.8547278158043446,
          -0.28895013784748314,
          -1.0555352363008217,
          -1.7216316204653157,
          -0.6724901553983208,
          0.9453486302766296,
          -1.0250727206635541,
          0.06618194321345852,
          -0.28411764141537355,
          1.631059058350737,
          1.694501208527916,
          0.18409191694693677,
          -0.435324315739716,
          1.49312748793559,
          -0.9461586780122293,
          -0.5138094122024075,
          0.7082355733246352,
          -2.004521818888406,
          1.0088034517924231,
          0.19898135532908753,
          0.9521169639269785,
          -0.03807202992688498,
          1.7246180652826841,
          1.0049603921498376,
          0.3561034983306561,
          1.0036856736349766,
          0.6371941877920423,
          1.534969468086901,
          -0.8419048062706564,
          -0.05031940466547256,
          -0.5993737503476307,
          0.967096866496843,
          -0.9714579177342824,
          -0.6204083855100891,
          0.6943598579296563,
          1.2587355386229353,
          -0.09904670726754072,
          -0.9889542216035125,
          1.349004205847779,
          0.6924025810598344,
          -0.3899570287709958,
          0.6923778114954655,
          0.4354946779581317,
          0.8395989470007246,
          -0.8023939293826446,
          0.5529062988801857,
          1.5930022158547414,
          -0.0033021948190812517,
          0.3914218714623637,
          0.16754014056453526,
          0.8342617129273869,
          1.0888118845726371,
          -0.1744573866531768,
          1.6280531748603946,
          -1.2243913141704272,
          -0.4633239306090089,
          0.6125049384428948,
          0.051854633513044444,
          0.8508869477339461,
          1.5027127847691086,
          0.48426485243644807,
          -1.128822208688011,
          -0.9717832870910856,
          0.6254143649548266,
          0.592465907128901,
          -0.39067682200424536,
          0.06759480248335602,
          0.9858707264858869,
          -0.7246544723035329,
          -1.1019909708749236,
          -1.8734821669209074,
          2.6910576016600904,
          0.8326038503827787,
          -0.6837829572010239,
          -0.27828647768238607,
          -2.1930223888736338,
          -1.3010368303151036,
          0.03847258451290304,
          -0.39220334098864656,
          0.4515211677197727,
          0.3850212005586349,
          -1.7031979580192445,
          -0.6995949612797254,
          0.5978437816476047,
          -1.829365113479942,
          -1.5934857748804108,
          -0.7180116789337732,
          0.1777678173297205,
          -2.1969426091857263,
          -0.9611101217742426,
          0.7084924626039807,
          -0.833105851124916
         ],
         "xaxis": "x7",
         "y": [
          1.0464563135578546,
          -3.0632225880848103,
          0.7347392981478813,
          -0.4260768015024099,
          0.96632800431009,
          1.2259616492672805,
          -0.3898324536994116,
          -1.3347108635827836,
          0.05850423362368821,
          -0.4564072432013887,
          -0.15724725260979047,
          -1.0977125535217649,
          -1.665999133255654,
          -0.21072539560613976,
          0.7962219185478997,
          -1.288845173225243,
          1.564273626180649,
          -0.11076177080563634,
          0.8491023364744843,
          0.9853140925690016,
          0.6952633578875285,
          -0.5600769380847198,
          -0.19660318900246418,
          -0.6629276497584601,
          -1.3095091871088107,
          1.9410326677104206,
          -0.1989245390276827,
          -0.7713841078744924,
          0.552871220815854,
          -0.8537682860036248,
          -1.4949821204592284,
          0.2732931186024205,
          0.3180571929056187,
          -0.837676117557035,
          0.04896750587297655,
          0.12963765216194872,
          1.4307678743993686,
          -0.42045979023879326,
          -1.9952224416416797,
          -0.5346484174600119,
          -0.204811204865994,
          0.5420650487257817,
          0.4503872326298657,
          0.35425475395255546,
          0.5098829247281865,
          0.34922028677025024,
          -0.7712388190084934,
          1.2298158269216979,
          0.1733960637726265,
          0.3126798756781296,
          0.19876210807019104,
          1.0582434500911917,
          -1.6849847277255832,
          -0.10124840186809116,
          -0.23032439763298906,
          1.6930993305863318,
          -0.5503621073120089,
          1.120459574282658,
          -0.5427843412382684,
          -0.5993572950007119,
          0.39726633886579293,
          -0.465487493410192,
          -0.3432593210298152,
          -0.38337663937759575,
          -1.140292528148463,
          -0.8325557987264668,
          1.6304602355112843,
          1.284431606320553,
          -0.012042543937797351,
          1.6039192046856627,
          -0.5404995606983964,
          1.4255305799121059,
          -0.7118064004521089,
          1.9924921540827385,
          2.3583690017492733,
          1.467961164888937,
          0.6915606738845025,
          -1.7905203549323134,
          0.9946791497816215,
          0.40474624180499874,
          -0.861893923994319,
          -2.102546055137808,
          -0.7677543614787729,
          0.12425845837419648,
          -0.8931963800510369,
          -0.9950165747531337,
          0.9757275360573655,
          -0.2788829177616858,
          0.9797543092857613,
          -0.49850385133220226,
          0.14271820497733537,
          0.03975498644747681,
          0.7118652256934209,
          0.8906588179631437,
          -0.6197301677060046,
          -1.201610403980832,
          2.4617261927462804,
          1.0102652057417734,
          -1.0027608010524207,
          -1.935435639286333
         ],
         "yaxis": "y7"
        },
        {
         "line": {
          "color": "rgba(128, 128, 128, 1.0)",
          "dash": "solid",
          "shape": "linear",
          "width": 1.3
         },
         "marker": {
          "size": 2,
          "symbol": "circle"
         },
         "mode": "markers",
         "name": "B",
         "text": "",
         "type": "scatter",
         "x": [
          -1.1004471665582038,
          0.041217183727715746,
          -0.7718473787639256,
          0.109557433906497,
          1.408925887016048,
          0.796780758991421,
          0.3660699365361497,
          0.9390213997427165,
          -0.5968841974369468,
          0.3672813247171284,
          0.7023621972232881,
          -0.1569516908250397,
          1.5268566575278142,
          0.5890678720923911,
          -1.8729957508816617,
          0.3211315137072359,
          -0.9273489054776755,
          0.1365792379447031,
          -0.6430232999123707,
          0.1961283295358216,
          0.20682960503607187,
          1.7340790969935829,
          0.07469030215823605,
          0.4069181240374408,
          0.887401920221741,
          -0.003514010812075497,
          -0.35382803423574477,
          0.0014193462807367129,
          0.6040694239822059,
          0.63826759625818,
          0.12284176757473954,
          0.3078461613565154,
          0.886220242731648,
          0.5355407769598614,
          -0.3868766954356073,
          -1.235122496288211,
          -0.02187803860552186,
          -0.690821704620183,
          -0.96843782816511,
          0.4290004724349664,
          -0.6150667513201463,
          -1.1644702103477313,
          -0.3024878956777604,
          0.21675550479802616,
          -1.108344807575133,
          -0.6529549198621861,
          -1.6048750507931338,
          2.1282050713734972,
          1.240451474833909,
          -0.9468468701132373,
          -0.7149128729282663,
          0.7684842078600935,
          0.6152290770981884,
          -0.9601817186734947,
          -0.6240098199662922,
          -1.9132242570550178,
          2.3860115322006923,
          1.6017347659003962,
          1.3854886213432298,
          -1.2533714050617275,
          1.1675065748777036,
          -0.8339954419544497,
          0.6645104113109662,
          -1.8460278374452133,
          0.9251573704783496,
          0.2555287627841315,
          2.011142381066698,
          -0.6568507775284618,
          0.4762725736337321,
          1.2235886048878013,
          -0.019813701981420996,
          0.2760002279222589,
          -1.4773144851682558,
          0.3492241057863119,
          0.12354359418652405,
          0.8879054373917248,
          0.25607188364142947,
          0.6587390390326553,
          -0.6310520211119438,
          -1.3190616725838245,
          1.308501006057353,
          0.4882677346986149,
          -0.4421846205193525,
          -3.007741043840323,
          0.8179465777852021,
          0.43747631218148203,
          1.9454955053320981,
          -1.748406067292762,
          0.8939847009844076,
          0.2704301609821631,
          -1.0529061904206758,
          0.2687186229625887,
          -1.061510706367173,
          0.6879940899945505,
          -1.1320643754291746,
          0.12005105359613082,
          -1.7391644637925068,
          -0.8504517692291123,
          0.944538349676949,
          2.2049053506380676
         ],
         "xaxis": "x8",
         "y": [
          1.0464563135578546,
          -3.0632225880848103,
          0.7347392981478813,
          -0.4260768015024099,
          0.96632800431009,
          1.2259616492672805,
          -0.3898324536994116,
          -1.3347108635827836,
          0.05850423362368821,
          -0.4564072432013887,
          -0.15724725260979047,
          -1.0977125535217649,
          -1.665999133255654,
          -0.21072539560613976,
          0.7962219185478997,
          -1.288845173225243,
          1.564273626180649,
          -0.11076177080563634,
          0.8491023364744843,
          0.9853140925690016,
          0.6952633578875285,
          -0.5600769380847198,
          -0.19660318900246418,
          -0.6629276497584601,
          -1.3095091871088107,
          1.9410326677104206,
          -0.1989245390276827,
          -0.7713841078744924,
          0.552871220815854,
          -0.8537682860036248,
          -1.4949821204592284,
          0.2732931186024205,
          0.3180571929056187,
          -0.837676117557035,
          0.04896750587297655,
          0.12963765216194872,
          1.4307678743993686,
          -0.42045979023879326,
          -1.9952224416416797,
          -0.5346484174600119,
          -0.204811204865994,
          0.5420650487257817,
          0.4503872326298657,
          0.35425475395255546,
          0.5098829247281865,
          0.34922028677025024,
          -0.7712388190084934,
          1.2298158269216979,
          0.1733960637726265,
          0.3126798756781296,
          0.19876210807019104,
          1.0582434500911917,
          -1.6849847277255832,
          -0.10124840186809116,
          -0.23032439763298906,
          1.6930993305863318,
          -0.5503621073120089,
          1.120459574282658,
          -0.5427843412382684,
          -0.5993572950007119,
          0.39726633886579293,
          -0.465487493410192,
          -0.3432593210298152,
          -0.38337663937759575,
          -1.140292528148463,
          -0.8325557987264668,
          1.6304602355112843,
          1.284431606320553,
          -0.012042543937797351,
          1.6039192046856627,
          -0.5404995606983964,
          1.4255305799121059,
          -0.7118064004521089,
          1.9924921540827385,
          2.3583690017492733,
          1.467961164888937,
          0.6915606738845025,
          -1.7905203549323134,
          0.9946791497816215,
          0.40474624180499874,
          -0.861893923994319,
          -2.102546055137808,
          -0.7677543614787729,
          0.12425845837419648,
          -0.8931963800510369,
          -0.9950165747531337,
          0.9757275360573655,
          -0.2788829177616858,
          0.9797543092857613,
          -0.49850385133220226,
          0.14271820497733537,
          0.03975498644747681,
          0.7118652256934209,
          0.8906588179631437,
          -0.6197301677060046,
          -1.201610403980832,
          2.4617261927462804,
          1.0102652057417734,
          -1.0027608010524207,
          -1.935435639286333
         ],
         "yaxis": "y8"
        },
        {
         "line": {
          "color": "rgba(128, 128, 128, 1.0)",
          "dash": "solid",
          "shape": "linear",
          "width": 1.3
         },
         "marker": {
          "size": 2,
          "symbol": "circle"
         },
         "mode": "markers",
         "name": "C",
         "text": "",
         "type": "scatter",
         "x": [
          1.621784997721568,
          -0.41366034592813133,
          0.1703499631587245,
          -1.1920692972460996,
          1.490540900725984,
          -0.057932056600882395,
          1.9493212915706266,
          -1.2133489775891626,
          -1.0171927857273269,
          -0.8748618841330696,
          -0.19903180545332752,
          1.847526392833172,
          -0.2758818988849343,
          0.17071171785641004,
          0.24112433897690283,
          -1.0364302350178969,
          -0.8704374048875894,
          0.11878631382799285,
          0.5524041774833329,
          0.4112892963529475,
          -0.20274718423037727,
          -0.1461750034500728,
          0.3938150717043993,
          1.013168990337693,
          1.1587377671220014,
          -0.07891110920131336,
          0.19674715852663466,
          -0.5137254496290548,
          -1.3594253212057925,
          0.7768929577215199,
          0.6932876094382373,
          0.1484716481867066,
          2.141638801331524,
          -0.6084944312615944,
          0.12650327275946432,
          0.32470093884566403,
          1.4432404036386661,
          0.5217947714925911,
          -1.0688444844738667,
          1.089135815260983,
          -0.29998118456619116,
          1.0273537271019182,
          0.33014992958416733,
          0.586781806816406,
          -1.6649854938580066,
          -0.39329069469733646,
          -0.8237723532130063,
          0.4796787729400577,
          -0.3700012746496557,
          -0.13284150565306116,
          -1.1415402494783435,
          0.4020235767439107,
          -0.06843544392719376,
          -1.605258168642368,
          0.3923808704859432,
          -1.6020304450352683,
          1.0229879340680732,
          -0.4716385035017622,
          -0.3026686970378709,
          0.23121824625826157,
          0.7941197295728922,
          0.2078528949337184,
          -0.05314850978774376,
          1.091414986451456,
          -0.23054064816857944,
          0.12287026554946075,
          -1.7032966482057637,
          -0.5607482142252319,
          -0.4070160127155237,
          0.2911341229123403,
          -1.3376367352973613,
          2.471298182591257,
          -1.4273438012656001,
          -0.9644104778552279,
          0.7529486000501481,
          0.9160977380939834,
          -1.3222788380506154,
          0.07158314746484597,
          1.7485767845451123,
          2.159357303646926,
          -2.4804194984392924,
          -1.423385099276626,
          -1.456924292494143,
          0.09113542169714114,
          -0.8048108696952876,
          -0.27162322444491255,
          0.1389955219980199,
          0.2236833151602733,
          -1.0924382534322106,
          -1.0804917489162433,
          1.4912408101051184,
          0.18322793537716855,
          1.3056813227817263,
          1.9582872537903173,
          -1.3558255227600555,
          -1.5599278170781556,
          0.05322385578051336,
          0.2884950550162606,
          0.48473933084086995,
          -1.1138289966447266
         ],
         "xaxis": "x9",
         "y": [
          0.33843758094155335,
          -0.2382709946480748,
          0.22403536453053965,
          -0.3043966856091476,
          -0.9092891682702926,
          2.17868145639729,
          -0.2834297476206791,
          -1.1747593063055741,
          0.8547278158043446,
          -0.28895013784748314,
          -1.0555352363008217,
          -1.7216316204653157,
          -0.6724901553983208,
          0.9453486302766296,
          -1.0250727206635541,
          0.06618194321345852,
          -0.28411764141537355,
          1.631059058350737,
          1.694501208527916,
          0.18409191694693677,
          -0.435324315739716,
          1.49312748793559,
          -0.9461586780122293,
          -0.5138094122024075,
          0.7082355733246352,
          -2.004521818888406,
          1.0088034517924231,
          0.19898135532908753,
          0.9521169639269785,
          -0.03807202992688498,
          1.7246180652826841,
          1.0049603921498376,
          0.3561034983306561,
          1.0036856736349766,
          0.6371941877920423,
          1.534969468086901,
          -0.8419048062706564,
          -0.05031940466547256,
          -0.5993737503476307,
          0.967096866496843,
          -0.9714579177342824,
          -0.6204083855100891,
          0.6943598579296563,
          1.2587355386229353,
          -0.09904670726754072,
          -0.9889542216035125,
          1.349004205847779,
          0.6924025810598344,
          -0.3899570287709958,
          0.6923778114954655,
          0.4354946779581317,
          0.8395989470007246,
          -0.8023939293826446,
          0.5529062988801857,
          1.5930022158547414,
          -0.0033021948190812517,
          0.3914218714623637,
          0.16754014056453526,
          0.8342617129273869,
          1.0888118845726371,
          -0.1744573866531768,
          1.6280531748603946,
          -1.2243913141704272,
          -0.4633239306090089,
          0.6125049384428948,
          0.051854633513044444,
          0.8508869477339461,
          1.5027127847691086,
          0.48426485243644807,
          -1.128822208688011,
          -0.9717832870910856,
          0.6254143649548266,
          0.592465907128901,
          -0.39067682200424536,
          0.06759480248335602,
          0.9858707264858869,
          -0.7246544723035329,
          -1.1019909708749236,
          -1.8734821669209074,
          2.6910576016600904,
          0.8326038503827787,
          -0.6837829572010239,
          -0.27828647768238607,
          -2.1930223888736338,
          -1.3010368303151036,
          0.03847258451290304,
          -0.39220334098864656,
          0.4515211677197727,
          0.3850212005586349,
          -1.7031979580192445,
          -0.6995949612797254,
          0.5978437816476047,
          -1.829365113479942,
          -1.5934857748804108,
          -0.7180116789337732,
          0.1777678173297205,
          -2.1969426091857263,
          -0.9611101217742426,
          0.7084924626039807,
          -0.833105851124916
         ],
         "yaxis": "y9"
        },
        {
         "line": {
          "color": "rgba(128, 128, 128, 1.0)",
          "dash": "solid",
          "shape": "linear",
          "width": 1.3
         },
         "marker": {
          "size": 2,
          "symbol": "circle"
         },
         "mode": "markers",
         "name": "C",
         "text": "",
         "type": "scatter",
         "x": [
          1.0464563135578546,
          -3.0632225880848103,
          0.7347392981478813,
          -0.4260768015024099,
          0.96632800431009,
          1.2259616492672805,
          -0.3898324536994116,
          -1.3347108635827836,
          0.05850423362368821,
          -0.4564072432013887,
          -0.15724725260979047,
          -1.0977125535217649,
          -1.665999133255654,
          -0.21072539560613976,
          0.7962219185478997,
          -1.288845173225243,
          1.564273626180649,
          -0.11076177080563634,
          0.8491023364744843,
          0.9853140925690016,
          0.6952633578875285,
          -0.5600769380847198,
          -0.19660318900246418,
          -0.6629276497584601,
          -1.3095091871088107,
          1.9410326677104206,
          -0.1989245390276827,
          -0.7713841078744924,
          0.552871220815854,
          -0.8537682860036248,
          -1.4949821204592284,
          0.2732931186024205,
          0.3180571929056187,
          -0.837676117557035,
          0.04896750587297655,
          0.12963765216194872,
          1.4307678743993686,
          -0.42045979023879326,
          -1.9952224416416797,
          -0.5346484174600119,
          -0.204811204865994,
          0.5420650487257817,
          0.4503872326298657,
          0.35425475395255546,
          0.5098829247281865,
          0.34922028677025024,
          -0.7712388190084934,
          1.2298158269216979,
          0.1733960637726265,
          0.3126798756781296,
          0.19876210807019104,
          1.0582434500911917,
          -1.6849847277255832,
          -0.10124840186809116,
          -0.23032439763298906,
          1.6930993305863318,
          -0.5503621073120089,
          1.120459574282658,
          -0.5427843412382684,
          -0.5993572950007119,
          0.39726633886579293,
          -0.465487493410192,
          -0.3432593210298152,
          -0.38337663937759575,
          -1.140292528148463,
          -0.8325557987264668,
          1.6304602355112843,
          1.284431606320553,
          -0.012042543937797351,
          1.6039192046856627,
          -0.5404995606983964,
          1.4255305799121059,
          -0.7118064004521089,
          1.9924921540827385,
          2.3583690017492733,
          1.467961164888937,
          0.6915606738845025,
          -1.7905203549323134,
          0.9946791497816215,
          0.40474624180499874,
          -0.861893923994319,
          -2.102546055137808,
          -0.7677543614787729,
          0.12425845837419648,
          -0.8931963800510369,
          -0.9950165747531337,
          0.9757275360573655,
          -0.2788829177616858,
          0.9797543092857613,
          -0.49850385133220226,
          0.14271820497733537,
          0.03975498644747681,
          0.7118652256934209,
          0.8906588179631437,
          -0.6197301677060046,
          -1.201610403980832,
          2.4617261927462804,
          1.0102652057417734,
          -1.0027608010524207,
          -1.935435639286333
         ],
         "xaxis": "x10",
         "y": [
          0.33843758094155335,
          -0.2382709946480748,
          0.22403536453053965,
          -0.3043966856091476,
          -0.9092891682702926,
          2.17868145639729,
          -0.2834297476206791,
          -1.1747593063055741,
          0.8547278158043446,
          -0.28895013784748314,
          -1.0555352363008217,
          -1.7216316204653157,
          -0.6724901553983208,
          0.9453486302766296,
          -1.0250727206635541,
          0.06618194321345852,
          -0.28411764141537355,
          1.631059058350737,
          1.694501208527916,
          0.18409191694693677,
          -0.435324315739716,
          1.49312748793559,
          -0.9461586780122293,
          -0.5138094122024075,
          0.7082355733246352,
          -2.004521818888406,
          1.0088034517924231,
          0.19898135532908753,
          0.9521169639269785,
          -0.03807202992688498,
          1.7246180652826841,
          1.0049603921498376,
          0.3561034983306561,
          1.0036856736349766,
          0.6371941877920423,
          1.534969468086901,
          -0.8419048062706564,
          -0.05031940466547256,
          -0.5993737503476307,
          0.967096866496843,
          -0.9714579177342824,
          -0.6204083855100891,
          0.6943598579296563,
          1.2587355386229353,
          -0.09904670726754072,
          -0.9889542216035125,
          1.349004205847779,
          0.6924025810598344,
          -0.3899570287709958,
          0.6923778114954655,
          0.4354946779581317,
          0.8395989470007246,
          -0.8023939293826446,
          0.5529062988801857,
          1.5930022158547414,
          -0.0033021948190812517,
          0.3914218714623637,
          0.16754014056453526,
          0.8342617129273869,
          1.0888118845726371,
          -0.1744573866531768,
          1.6280531748603946,
          -1.2243913141704272,
          -0.4633239306090089,
          0.6125049384428948,
          0.051854633513044444,
          0.8508869477339461,
          1.5027127847691086,
          0.48426485243644807,
          -1.128822208688011,
          -0.9717832870910856,
          0.6254143649548266,
          0.592465907128901,
          -0.39067682200424536,
          0.06759480248335602,
          0.9858707264858869,
          -0.7246544723035329,
          -1.1019909708749236,
          -1.8734821669209074,
          2.6910576016600904,
          0.8326038503827787,
          -0.6837829572010239,
          -0.27828647768238607,
          -2.1930223888736338,
          -1.3010368303151036,
          0.03847258451290304,
          -0.39220334098864656,
          0.4515211677197727,
          0.3850212005586349,
          -1.7031979580192445,
          -0.6995949612797254,
          0.5978437816476047,
          -1.829365113479942,
          -1.5934857748804108,
          -0.7180116789337732,
          0.1777678173297205,
          -2.1969426091857263,
          -0.9611101217742426,
          0.7084924626039807,
          -0.833105851124916
         ],
         "yaxis": "y10"
        },
        {
         "histfunc": "count",
         "histnorm": "",
         "marker": {
          "color": "rgba(50, 171, 96, 1.0)",
          "line": {
           "color": "#4D5663",
           "width": 1.3
          }
         },
         "name": "C",
         "nbinsx": 10,
         "opacity": 0.8,
         "orientation": "v",
         "type": "histogram",
         "x": [
          0.33843758094155335,
          -0.2382709946480748,
          0.22403536453053965,
          -0.3043966856091476,
          -0.9092891682702926,
          2.17868145639729,
          -0.2834297476206791,
          -1.1747593063055741,
          0.8547278158043446,
          -0.28895013784748314,
          -1.0555352363008217,
          -1.7216316204653157,
          -0.6724901553983208,
          0.9453486302766296,
          -1.0250727206635541,
          0.06618194321345852,
          -0.28411764141537355,
          1.631059058350737,
          1.694501208527916,
          0.18409191694693677,
          -0.435324315739716,
          1.49312748793559,
          -0.9461586780122293,
          -0.5138094122024075,
          0.7082355733246352,
          -2.004521818888406,
          1.0088034517924231,
          0.19898135532908753,
          0.9521169639269785,
          -0.03807202992688498,
          1.7246180652826841,
          1.0049603921498376,
          0.3561034983306561,
          1.0036856736349766,
          0.6371941877920423,
          1.534969468086901,
          -0.8419048062706564,
          -0.05031940466547256,
          -0.5993737503476307,
          0.967096866496843,
          -0.9714579177342824,
          -0.6204083855100891,
          0.6943598579296563,
          1.2587355386229353,
          -0.09904670726754072,
          -0.9889542216035125,
          1.349004205847779,
          0.6924025810598344,
          -0.3899570287709958,
          0.6923778114954655,
          0.4354946779581317,
          0.8395989470007246,
          -0.8023939293826446,
          0.5529062988801857,
          1.5930022158547414,
          -0.0033021948190812517,
          0.3914218714623637,
          0.16754014056453526,
          0.8342617129273869,
          1.0888118845726371,
          -0.1744573866531768,
          1.6280531748603946,
          -1.2243913141704272,
          -0.4633239306090089,
          0.6125049384428948,
          0.051854633513044444,
          0.8508869477339461,
          1.5027127847691086,
          0.48426485243644807,
          -1.128822208688011,
          -0.9717832870910856,
          0.6254143649548266,
          0.592465907128901,
          -0.39067682200424536,
          0.06759480248335602,
          0.9858707264858869,
          -0.7246544723035329,
          -1.1019909708749236,
          -1.8734821669209074,
          2.6910576016600904,
          0.8326038503827787,
          -0.6837829572010239,
          -0.27828647768238607,
          -2.1930223888736338,
          -1.3010368303151036,
          0.03847258451290304,
          -0.39220334098864656,
          0.4515211677197727,
          0.3850212005586349,
          -1.7031979580192445,
          -0.6995949612797254,
          0.5978437816476047,
          -1.829365113479942,
          -1.5934857748804108,
          -0.7180116789337732,
          0.1777678173297205,
          -2.1969426091857263,
          -0.9611101217742426,
          0.7084924626039807,
          -0.833105851124916
         ],
         "xaxis": "x11",
         "yaxis": "y11"
        },
        {
         "line": {
          "color": "rgba(128, 128, 128, 1.0)",
          "dash": "solid",
          "shape": "linear",
          "width": 1.3
         },
         "marker": {
          "size": 2,
          "symbol": "circle"
         },
         "mode": "markers",
         "name": "C",
         "text": "",
         "type": "scatter",
         "x": [
          -1.1004471665582038,
          0.041217183727715746,
          -0.7718473787639256,
          0.109557433906497,
          1.408925887016048,
          0.796780758991421,
          0.3660699365361497,
          0.9390213997427165,
          -0.5968841974369468,
          0.3672813247171284,
          0.7023621972232881,
          -0.1569516908250397,
          1.5268566575278142,
          0.5890678720923911,
          -1.8729957508816617,
          0.3211315137072359,
          -0.9273489054776755,
          0.1365792379447031,
          -0.6430232999123707,
          0.1961283295358216,
          0.20682960503607187,
          1.7340790969935829,
          0.07469030215823605,
          0.4069181240374408,
          0.887401920221741,
          -0.003514010812075497,
          -0.35382803423574477,
          0.0014193462807367129,
          0.6040694239822059,
          0.63826759625818,
          0.12284176757473954,
          0.3078461613565154,
          0.886220242731648,
          0.5355407769598614,
          -0.3868766954356073,
          -1.235122496288211,
          -0.02187803860552186,
          -0.690821704620183,
          -0.96843782816511,
          0.4290004724349664,
          -0.6150667513201463,
          -1.1644702103477313,
          -0.3024878956777604,
          0.21675550479802616,
          -1.108344807575133,
          -0.6529549198621861,
          -1.6048750507931338,
          2.1282050713734972,
          1.240451474833909,
          -0.9468468701132373,
          -0.7149128729282663,
          0.7684842078600935,
          0.6152290770981884,
          -0.9601817186734947,
          -0.6240098199662922,
          -1.9132242570550178,
          2.3860115322006923,
          1.6017347659003962,
          1.3854886213432298,
          -1.2533714050617275,
          1.1675065748777036,
          -0.8339954419544497,
          0.6645104113109662,
          -1.8460278374452133,
          0.9251573704783496,
          0.2555287627841315,
          2.011142381066698,
          -0.6568507775284618,
          0.4762725736337321,
          1.2235886048878013,
          -0.019813701981420996,
          0.2760002279222589,
          -1.4773144851682558,
          0.3492241057863119,
          0.12354359418652405,
          0.8879054373917248,
          0.25607188364142947,
          0.6587390390326553,
          -0.6310520211119438,
          -1.3190616725838245,
          1.308501006057353,
          0.4882677346986149,
          -0.4421846205193525,
          -3.007741043840323,
          0.8179465777852021,
          0.43747631218148203,
          1.9454955053320981,
          -1.748406067292762,
          0.8939847009844076,
          0.2704301609821631,
          -1.0529061904206758,
          0.2687186229625887,
          -1.061510706367173,
          0.6879940899945505,
          -1.1320643754291746,
          0.12005105359613082,
          -1.7391644637925068,
          -0.8504517692291123,
          0.944538349676949,
          2.2049053506380676
         ],
         "xaxis": "x12",
         "y": [
          0.33843758094155335,
          -0.2382709946480748,
          0.22403536453053965,
          -0.3043966856091476,
          -0.9092891682702926,
          2.17868145639729,
          -0.2834297476206791,
          -1.1747593063055741,
          0.8547278158043446,
          -0.28895013784748314,
          -1.0555352363008217,
          -1.7216316204653157,
          -0.6724901553983208,
          0.9453486302766296,
          -1.0250727206635541,
          0.06618194321345852,
          -0.28411764141537355,
          1.631059058350737,
          1.694501208527916,
          0.18409191694693677,
          -0.435324315739716,
          1.49312748793559,
          -0.9461586780122293,
          -0.5138094122024075,
          0.7082355733246352,
          -2.004521818888406,
          1.0088034517924231,
          0.19898135532908753,
          0.9521169639269785,
          -0.03807202992688498,
          1.7246180652826841,
          1.0049603921498376,
          0.3561034983306561,
          1.0036856736349766,
          0.6371941877920423,
          1.534969468086901,
          -0.8419048062706564,
          -0.05031940466547256,
          -0.5993737503476307,
          0.967096866496843,
          -0.9714579177342824,
          -0.6204083855100891,
          0.6943598579296563,
          1.2587355386229353,
          -0.09904670726754072,
          -0.9889542216035125,
          1.349004205847779,
          0.6924025810598344,
          -0.3899570287709958,
          0.6923778114954655,
          0.4354946779581317,
          0.8395989470007246,
          -0.8023939293826446,
          0.5529062988801857,
          1.5930022158547414,
          -0.0033021948190812517,
          0.3914218714623637,
          0.16754014056453526,
          0.8342617129273869,
          1.0888118845726371,
          -0.1744573866531768,
          1.6280531748603946,
          -1.2243913141704272,
          -0.4633239306090089,
          0.6125049384428948,
          0.051854633513044444,
          0.8508869477339461,
          1.5027127847691086,
          0.48426485243644807,
          -1.128822208688011,
          -0.9717832870910856,
          0.6254143649548266,
          0.592465907128901,
          -0.39067682200424536,
          0.06759480248335602,
          0.9858707264858869,
          -0.7246544723035329,
          -1.1019909708749236,
          -1.8734821669209074,
          2.6910576016600904,
          0.8326038503827787,
          -0.6837829572010239,
          -0.27828647768238607,
          -2.1930223888736338,
          -1.3010368303151036,
          0.03847258451290304,
          -0.39220334098864656,
          0.4515211677197727,
          0.3850212005586349,
          -1.7031979580192445,
          -0.6995949612797254,
          0.5978437816476047,
          -1.829365113479942,
          -1.5934857748804108,
          -0.7180116789337732,
          0.1777678173297205,
          -2.1969426091857263,
          -0.9611101217742426,
          0.7084924626039807,
          -0.833105851124916
         ],
         "yaxis": "y12"
        },
        {
         "line": {
          "color": "rgba(128, 128, 128, 1.0)",
          "dash": "solid",
          "shape": "linear",
          "width": 1.3
         },
         "marker": {
          "size": 2,
          "symbol": "circle"
         },
         "mode": "markers",
         "name": "D",
         "text": "",
         "type": "scatter",
         "x": [
          1.621784997721568,
          -0.41366034592813133,
          0.1703499631587245,
          -1.1920692972460996,
          1.490540900725984,
          -0.057932056600882395,
          1.9493212915706266,
          -1.2133489775891626,
          -1.0171927857273269,
          -0.8748618841330696,
          -0.19903180545332752,
          1.847526392833172,
          -0.2758818988849343,
          0.17071171785641004,
          0.24112433897690283,
          -1.0364302350178969,
          -0.8704374048875894,
          0.11878631382799285,
          0.5524041774833329,
          0.4112892963529475,
          -0.20274718423037727,
          -0.1461750034500728,
          0.3938150717043993,
          1.013168990337693,
          1.1587377671220014,
          -0.07891110920131336,
          0.19674715852663466,
          -0.5137254496290548,
          -1.3594253212057925,
          0.7768929577215199,
          0.6932876094382373,
          0.1484716481867066,
          2.141638801331524,
          -0.6084944312615944,
          0.12650327275946432,
          0.32470093884566403,
          1.4432404036386661,
          0.5217947714925911,
          -1.0688444844738667,
          1.089135815260983,
          -0.29998118456619116,
          1.0273537271019182,
          0.33014992958416733,
          0.586781806816406,
          -1.6649854938580066,
          -0.39329069469733646,
          -0.8237723532130063,
          0.4796787729400577,
          -0.3700012746496557,
          -0.13284150565306116,
          -1.1415402494783435,
          0.4020235767439107,
          -0.06843544392719376,
          -1.605258168642368,
          0.3923808704859432,
          -1.6020304450352683,
          1.0229879340680732,
          -0.4716385035017622,
          -0.3026686970378709,
          0.23121824625826157,
          0.7941197295728922,
          0.2078528949337184,
          -0.05314850978774376,
          1.091414986451456,
          -0.23054064816857944,
          0.12287026554946075,
          -1.7032966482057637,
          -0.5607482142252319,
          -0.4070160127155237,
          0.2911341229123403,
          -1.3376367352973613,
          2.471298182591257,
          -1.4273438012656001,
          -0.9644104778552279,
          0.7529486000501481,
          0.9160977380939834,
          -1.3222788380506154,
          0.07158314746484597,
          1.7485767845451123,
          2.159357303646926,
          -2.4804194984392924,
          -1.423385099276626,
          -1.456924292494143,
          0.09113542169714114,
          -0.8048108696952876,
          -0.27162322444491255,
          0.1389955219980199,
          0.2236833151602733,
          -1.0924382534322106,
          -1.0804917489162433,
          1.4912408101051184,
          0.18322793537716855,
          1.3056813227817263,
          1.9582872537903173,
          -1.3558255227600555,
          -1.5599278170781556,
          0.05322385578051336,
          0.2884950550162606,
          0.48473933084086995,
          -1.1138289966447266
         ],
         "xaxis": "x13",
         "y": [
          -1.1004471665582038,
          0.041217183727715746,
          -0.7718473787639256,
          0.109557433906497,
          1.408925887016048,
          0.796780758991421,
          0.3660699365361497,
          0.9390213997427165,
          -0.5968841974369468,
          0.3672813247171284,
          0.7023621972232881,
          -0.1569516908250397,
          1.5268566575278142,
          0.5890678720923911,
          -1.8729957508816617,
          0.3211315137072359,
          -0.9273489054776755,
          0.1365792379447031,
          -0.6430232999123707,
          0.1961283295358216,
          0.20682960503607187,
          1.7340790969935829,
          0.07469030215823605,
          0.4069181240374408,
          0.887401920221741,
          -0.003514010812075497,
          -0.35382803423574477,
          0.0014193462807367129,
          0.6040694239822059,
          0.63826759625818,
          0.12284176757473954,
          0.3078461613565154,
          0.886220242731648,
          0.5355407769598614,
          -0.3868766954356073,
          -1.235122496288211,
          -0.02187803860552186,
          -0.690821704620183,
          -0.96843782816511,
          0.4290004724349664,
          -0.6150667513201463,
          -1.1644702103477313,
          -0.3024878956777604,
          0.21675550479802616,
          -1.108344807575133,
          -0.6529549198621861,
          -1.6048750507931338,
          2.1282050713734972,
          1.240451474833909,
          -0.9468468701132373,
          -0.7149128729282663,
          0.7684842078600935,
          0.6152290770981884,
          -0.9601817186734947,
          -0.6240098199662922,
          -1.9132242570550178,
          2.3860115322006923,
          1.6017347659003962,
          1.3854886213432298,
          -1.2533714050617275,
          1.1675065748777036,
          -0.8339954419544497,
          0.6645104113109662,
          -1.8460278374452133,
          0.9251573704783496,
          0.2555287627841315,
          2.011142381066698,
          -0.6568507775284618,
          0.4762725736337321,
          1.2235886048878013,
          -0.019813701981420996,
          0.2760002279222589,
          -1.4773144851682558,
          0.3492241057863119,
          0.12354359418652405,
          0.8879054373917248,
          0.25607188364142947,
          0.6587390390326553,
          -0.6310520211119438,
          -1.3190616725838245,
          1.308501006057353,
          0.4882677346986149,
          -0.4421846205193525,
          -3.007741043840323,
          0.8179465777852021,
          0.43747631218148203,
          1.9454955053320981,
          -1.748406067292762,
          0.8939847009844076,
          0.2704301609821631,
          -1.0529061904206758,
          0.2687186229625887,
          -1.061510706367173,
          0.6879940899945505,
          -1.1320643754291746,
          0.12005105359613082,
          -1.7391644637925068,
          -0.8504517692291123,
          0.944538349676949,
          2.2049053506380676
         ],
         "yaxis": "y13"
        },
        {
         "line": {
          "color": "rgba(128, 128, 128, 1.0)",
          "dash": "solid",
          "shape": "linear",
          "width": 1.3
         },
         "marker": {
          "size": 2,
          "symbol": "circle"
         },
         "mode": "markers",
         "name": "D",
         "text": "",
         "type": "scatter",
         "x": [
          1.0464563135578546,
          -3.0632225880848103,
          0.7347392981478813,
          -0.4260768015024099,
          0.96632800431009,
          1.2259616492672805,
          -0.3898324536994116,
          -1.3347108635827836,
          0.05850423362368821,
          -0.4564072432013887,
          -0.15724725260979047,
          -1.0977125535217649,
          -1.665999133255654,
          -0.21072539560613976,
          0.7962219185478997,
          -1.288845173225243,
          1.564273626180649,
          -0.11076177080563634,
          0.8491023364744843,
          0.9853140925690016,
          0.6952633578875285,
          -0.5600769380847198,
          -0.19660318900246418,
          -0.6629276497584601,
          -1.3095091871088107,
          1.9410326677104206,
          -0.1989245390276827,
          -0.7713841078744924,
          0.552871220815854,
          -0.8537682860036248,
          -1.4949821204592284,
          0.2732931186024205,
          0.3180571929056187,
          -0.837676117557035,
          0.04896750587297655,
          0.12963765216194872,
          1.4307678743993686,
          -0.42045979023879326,
          -1.9952224416416797,
          -0.5346484174600119,
          -0.204811204865994,
          0.5420650487257817,
          0.4503872326298657,
          0.35425475395255546,
          0.5098829247281865,
          0.34922028677025024,
          -0.7712388190084934,
          1.2298158269216979,
          0.1733960637726265,
          0.3126798756781296,
          0.19876210807019104,
          1.0582434500911917,
          -1.6849847277255832,
          -0.10124840186809116,
          -0.23032439763298906,
          1.6930993305863318,
          -0.5503621073120089,
          1.120459574282658,
          -0.5427843412382684,
          -0.5993572950007119,
          0.39726633886579293,
          -0.465487493410192,
          -0.3432593210298152,
          -0.38337663937759575,
          -1.140292528148463,
          -0.8325557987264668,
          1.6304602355112843,
          1.284431606320553,
          -0.012042543937797351,
          1.6039192046856627,
          -0.5404995606983964,
          1.4255305799121059,
          -0.7118064004521089,
          1.9924921540827385,
          2.3583690017492733,
          1.467961164888937,
          0.6915606738845025,
          -1.7905203549323134,
          0.9946791497816215,
          0.40474624180499874,
          -0.861893923994319,
          -2.102546055137808,
          -0.7677543614787729,
          0.12425845837419648,
          -0.8931963800510369,
          -0.9950165747531337,
          0.9757275360573655,
          -0.2788829177616858,
          0.9797543092857613,
          -0.49850385133220226,
          0.14271820497733537,
          0.03975498644747681,
          0.7118652256934209,
          0.8906588179631437,
          -0.6197301677060046,
          -1.201610403980832,
          2.4617261927462804,
          1.0102652057417734,
          -1.0027608010524207,
          -1.935435639286333
         ],
         "xaxis": "x14",
         "y": [
          -1.1004471665582038,
          0.041217183727715746,
          -0.7718473787639256,
          0.109557433906497,
          1.408925887016048,
          0.796780758991421,
          0.3660699365361497,
          0.9390213997427165,
          -0.5968841974369468,
          0.3672813247171284,
          0.7023621972232881,
          -0.1569516908250397,
          1.5268566575278142,
          0.5890678720923911,
          -1.8729957508816617,
          0.3211315137072359,
          -0.9273489054776755,
          0.1365792379447031,
          -0.6430232999123707,
          0.1961283295358216,
          0.20682960503607187,
          1.7340790969935829,
          0.07469030215823605,
          0.4069181240374408,
          0.887401920221741,
          -0.003514010812075497,
          -0.35382803423574477,
          0.0014193462807367129,
          0.6040694239822059,
          0.63826759625818,
          0.12284176757473954,
          0.3078461613565154,
          0.886220242731648,
          0.5355407769598614,
          -0.3868766954356073,
          -1.235122496288211,
          -0.02187803860552186,
          -0.690821704620183,
          -0.96843782816511,
          0.4290004724349664,
          -0.6150667513201463,
          -1.1644702103477313,
          -0.3024878956777604,
          0.21675550479802616,
          -1.108344807575133,
          -0.6529549198621861,
          -1.6048750507931338,
          2.1282050713734972,
          1.240451474833909,
          -0.9468468701132373,
          -0.7149128729282663,
          0.7684842078600935,
          0.6152290770981884,
          -0.9601817186734947,
          -0.6240098199662922,
          -1.9132242570550178,
          2.3860115322006923,
          1.6017347659003962,
          1.3854886213432298,
          -1.2533714050617275,
          1.1675065748777036,
          -0.8339954419544497,
          0.6645104113109662,
          -1.8460278374452133,
          0.9251573704783496,
          0.2555287627841315,
          2.011142381066698,
          -0.6568507775284618,
          0.4762725736337321,
          1.2235886048878013,
          -0.019813701981420996,
          0.2760002279222589,
          -1.4773144851682558,
          0.3492241057863119,
          0.12354359418652405,
          0.8879054373917248,
          0.25607188364142947,
          0.6587390390326553,
          -0.6310520211119438,
          -1.3190616725838245,
          1.308501006057353,
          0.4882677346986149,
          -0.4421846205193525,
          -3.007741043840323,
          0.8179465777852021,
          0.43747631218148203,
          1.9454955053320981,
          -1.748406067292762,
          0.8939847009844076,
          0.2704301609821631,
          -1.0529061904206758,
          0.2687186229625887,
          -1.061510706367173,
          0.6879940899945505,
          -1.1320643754291746,
          0.12005105359613082,
          -1.7391644637925068,
          -0.8504517692291123,
          0.944538349676949,
          2.2049053506380676
         ],
         "yaxis": "y14"
        },
        {
         "line": {
          "color": "rgba(128, 128, 128, 1.0)",
          "dash": "solid",
          "shape": "linear",
          "width": 1.3
         },
         "marker": {
          "size": 2,
          "symbol": "circle"
         },
         "mode": "markers",
         "name": "D",
         "text": "",
         "type": "scatter",
         "x": [
          0.33843758094155335,
          -0.2382709946480748,
          0.22403536453053965,
          -0.3043966856091476,
          -0.9092891682702926,
          2.17868145639729,
          -0.2834297476206791,
          -1.1747593063055741,
          0.8547278158043446,
          -0.28895013784748314,
          -1.0555352363008217,
          -1.7216316204653157,
          -0.6724901553983208,
          0.9453486302766296,
          -1.0250727206635541,
          0.06618194321345852,
          -0.28411764141537355,
          1.631059058350737,
          1.694501208527916,
          0.18409191694693677,
          -0.435324315739716,
          1.49312748793559,
          -0.9461586780122293,
          -0.5138094122024075,
          0.7082355733246352,
          -2.004521818888406,
          1.0088034517924231,
          0.19898135532908753,
          0.9521169639269785,
          -0.03807202992688498,
          1.7246180652826841,
          1.0049603921498376,
          0.3561034983306561,
          1.0036856736349766,
          0.6371941877920423,
          1.534969468086901,
          -0.8419048062706564,
          -0.05031940466547256,
          -0.5993737503476307,
          0.967096866496843,
          -0.9714579177342824,
          -0.6204083855100891,
          0.6943598579296563,
          1.2587355386229353,
          -0.09904670726754072,
          -0.9889542216035125,
          1.349004205847779,
          0.6924025810598344,
          -0.3899570287709958,
          0.6923778114954655,
          0.4354946779581317,
          0.8395989470007246,
          -0.8023939293826446,
          0.5529062988801857,
          1.5930022158547414,
          -0.0033021948190812517,
          0.3914218714623637,
          0.16754014056453526,
          0.8342617129273869,
          1.0888118845726371,
          -0.1744573866531768,
          1.6280531748603946,
          -1.2243913141704272,
          -0.4633239306090089,
          0.6125049384428948,
          0.051854633513044444,
          0.8508869477339461,
          1.5027127847691086,
          0.48426485243644807,
          -1.128822208688011,
          -0.9717832870910856,
          0.6254143649548266,
          0.592465907128901,
          -0.39067682200424536,
          0.06759480248335602,
          0.9858707264858869,
          -0.7246544723035329,
          -1.1019909708749236,
          -1.8734821669209074,
          2.6910576016600904,
          0.8326038503827787,
          -0.6837829572010239,
          -0.27828647768238607,
          -2.1930223888736338,
          -1.3010368303151036,
          0.03847258451290304,
          -0.39220334098864656,
          0.4515211677197727,
          0.3850212005586349,
          -1.7031979580192445,
          -0.6995949612797254,
          0.5978437816476047,
          -1.829365113479942,
          -1.5934857748804108,
          -0.7180116789337732,
          0.1777678173297205,
          -2.1969426091857263,
          -0.9611101217742426,
          0.7084924626039807,
          -0.833105851124916
         ],
         "xaxis": "x15",
         "y": [
          -1.1004471665582038,
          0.041217183727715746,
          -0.7718473787639256,
          0.109557433906497,
          1.408925887016048,
          0.796780758991421,
          0.3660699365361497,
          0.9390213997427165,
          -0.5968841974369468,
          0.3672813247171284,
          0.7023621972232881,
          -0.1569516908250397,
          1.5268566575278142,
          0.5890678720923911,
          -1.8729957508816617,
          0.3211315137072359,
          -0.9273489054776755,
          0.1365792379447031,
          -0.6430232999123707,
          0.1961283295358216,
          0.20682960503607187,
          1.7340790969935829,
          0.07469030215823605,
          0.4069181240374408,
          0.887401920221741,
          -0.003514010812075497,
          -0.35382803423574477,
          0.0014193462807367129,
          0.6040694239822059,
          0.63826759625818,
          0.12284176757473954,
          0.3078461613565154,
          0.886220242731648,
          0.5355407769598614,
          -0.3868766954356073,
          -1.235122496288211,
          -0.02187803860552186,
          -0.690821704620183,
          -0.96843782816511,
          0.4290004724349664,
          -0.6150667513201463,
          -1.1644702103477313,
          -0.3024878956777604,
          0.21675550479802616,
          -1.108344807575133,
          -0.6529549198621861,
          -1.6048750507931338,
          2.1282050713734972,
          1.240451474833909,
          -0.9468468701132373,
          -0.7149128729282663,
          0.7684842078600935,
          0.6152290770981884,
          -0.9601817186734947,
          -0.6240098199662922,
          -1.9132242570550178,
          2.3860115322006923,
          1.6017347659003962,
          1.3854886213432298,
          -1.2533714050617275,
          1.1675065748777036,
          -0.8339954419544497,
          0.6645104113109662,
          -1.8460278374452133,
          0.9251573704783496,
          0.2555287627841315,
          2.011142381066698,
          -0.6568507775284618,
          0.4762725736337321,
          1.2235886048878013,
          -0.019813701981420996,
          0.2760002279222589,
          -1.4773144851682558,
          0.3492241057863119,
          0.12354359418652405,
          0.8879054373917248,
          0.25607188364142947,
          0.6587390390326553,
          -0.6310520211119438,
          -1.3190616725838245,
          1.308501006057353,
          0.4882677346986149,
          -0.4421846205193525,
          -3.007741043840323,
          0.8179465777852021,
          0.43747631218148203,
          1.9454955053320981,
          -1.748406067292762,
          0.8939847009844076,
          0.2704301609821631,
          -1.0529061904206758,
          0.2687186229625887,
          -1.061510706367173,
          0.6879940899945505,
          -1.1320643754291746,
          0.12005105359613082,
          -1.7391644637925068,
          -0.8504517692291123,
          0.944538349676949,
          2.2049053506380676
         ],
         "yaxis": "y15"
        },
        {
         "histfunc": "count",
         "histnorm": "",
         "marker": {
          "color": "rgba(128, 0, 128, 1.0)",
          "line": {
           "color": "#4D5663",
           "width": 1.3
          }
         },
         "name": "D",
         "nbinsx": 10,
         "opacity": 0.8,
         "orientation": "v",
         "type": "histogram",
         "x": [
          -1.1004471665582038,
          0.041217183727715746,
          -0.7718473787639256,
          0.109557433906497,
          1.408925887016048,
          0.796780758991421,
          0.3660699365361497,
          0.9390213997427165,
          -0.5968841974369468,
          0.3672813247171284,
          0.7023621972232881,
          -0.1569516908250397,
          1.5268566575278142,
          0.5890678720923911,
          -1.8729957508816617,
          0.3211315137072359,
          -0.9273489054776755,
          0.1365792379447031,
          -0.6430232999123707,
          0.1961283295358216,
          0.20682960503607187,
          1.7340790969935829,
          0.07469030215823605,
          0.4069181240374408,
          0.887401920221741,
          -0.003514010812075497,
          -0.35382803423574477,
          0.0014193462807367129,
          0.6040694239822059,
          0.63826759625818,
          0.12284176757473954,
          0.3078461613565154,
          0.886220242731648,
          0.5355407769598614,
          -0.3868766954356073,
          -1.235122496288211,
          -0.02187803860552186,
          -0.690821704620183,
          -0.96843782816511,
          0.4290004724349664,
          -0.6150667513201463,
          -1.1644702103477313,
          -0.3024878956777604,
          0.21675550479802616,
          -1.108344807575133,
          -0.6529549198621861,
          -1.6048750507931338,
          2.1282050713734972,
          1.240451474833909,
          -0.9468468701132373,
          -0.7149128729282663,
          0.7684842078600935,
          0.6152290770981884,
          -0.9601817186734947,
          -0.6240098199662922,
          -1.9132242570550178,
          2.3860115322006923,
          1.6017347659003962,
          1.3854886213432298,
          -1.2533714050617275,
          1.1675065748777036,
          -0.8339954419544497,
          0.6645104113109662,
          -1.8460278374452133,
          0.9251573704783496,
          0.2555287627841315,
          2.011142381066698,
          -0.6568507775284618,
          0.4762725736337321,
          1.2235886048878013,
          -0.019813701981420996,
          0.2760002279222589,
          -1.4773144851682558,
          0.3492241057863119,
          0.12354359418652405,
          0.8879054373917248,
          0.25607188364142947,
          0.6587390390326553,
          -0.6310520211119438,
          -1.3190616725838245,
          1.308501006057353,
          0.4882677346986149,
          -0.4421846205193525,
          -3.007741043840323,
          0.8179465777852021,
          0.43747631218148203,
          1.9454955053320981,
          -1.748406067292762,
          0.8939847009844076,
          0.2704301609821631,
          -1.0529061904206758,
          0.2687186229625887,
          -1.061510706367173,
          0.6879940899945505,
          -1.1320643754291746,
          0.12005105359613082,
          -1.7391644637925068,
          -0.8504517692291123,
          0.944538349676949,
          2.2049053506380676
         ],
         "xaxis": "x16",
         "yaxis": "y16"
        }
       ],
       "layout": {
        "bargap": 0.02,
        "legend": {
         "bgcolor": "#F5F6F9",
         "font": {
          "color": "#4D5663"
         }
        },
        "paper_bgcolor": "#F5F6F9",
        "plot_bgcolor": "#F5F6F9",
        "showlegend": false,
        "template": {
         "data": {
          "bar": [
           {
            "error_x": {
             "color": "#2a3f5f"
            },
            "error_y": {
             "color": "#2a3f5f"
            },
            "marker": {
             "line": {
              "color": "#E5ECF6",
              "width": 0.5
             },
             "pattern": {
              "fillmode": "overlay",
              "size": 10,
              "solidity": 0.2
             }
            },
            "type": "bar"
           }
          ],
          "barpolar": [
           {
            "marker": {
             "line": {
              "color": "#E5ECF6",
              "width": 0.5
             },
             "pattern": {
              "fillmode": "overlay",
              "size": 10,
              "solidity": 0.2
             }
            },
            "type": "barpolar"
           }
          ],
          "carpet": [
           {
            "aaxis": {
             "endlinecolor": "#2a3f5f",
             "gridcolor": "white",
             "linecolor": "white",
             "minorgridcolor": "white",
             "startlinecolor": "#2a3f5f"
            },
            "baxis": {
             "endlinecolor": "#2a3f5f",
             "gridcolor": "white",
             "linecolor": "white",
             "minorgridcolor": "white",
             "startlinecolor": "#2a3f5f"
            },
            "type": "carpet"
           }
          ],
          "choropleth": [
           {
            "colorbar": {
             "outlinewidth": 0,
             "ticks": ""
            },
            "type": "choropleth"
           }
          ],
          "contour": [
           {
            "colorbar": {
             "outlinewidth": 0,
             "ticks": ""
            },
            "colorscale": [
             [
              0,
              "#0d0887"
             ],
             [
              0.1111111111111111,
              "#46039f"
             ],
             [
              0.2222222222222222,
              "#7201a8"
             ],
             [
              0.3333333333333333,
              "#9c179e"
             ],
             [
              0.4444444444444444,
              "#bd3786"
             ],
             [
              0.5555555555555556,
              "#d8576b"
             ],
             [
              0.6666666666666666,
              "#ed7953"
             ],
             [
              0.7777777777777778,
              "#fb9f3a"
             ],
             [
              0.8888888888888888,
              "#fdca26"
             ],
             [
              1,
              "#f0f921"
             ]
            ],
            "type": "contour"
           }
          ],
          "contourcarpet": [
           {
            "colorbar": {
             "outlinewidth": 0,
             "ticks": ""
            },
            "type": "contourcarpet"
           }
          ],
          "heatmap": [
           {
            "colorbar": {
             "outlinewidth": 0,
             "ticks": ""
            },
            "colorscale": [
             [
              0,
              "#0d0887"
             ],
             [
              0.1111111111111111,
              "#46039f"
             ],
             [
              0.2222222222222222,
              "#7201a8"
             ],
             [
              0.3333333333333333,
              "#9c179e"
             ],
             [
              0.4444444444444444,
              "#bd3786"
             ],
             [
              0.5555555555555556,
              "#d8576b"
             ],
             [
              0.6666666666666666,
              "#ed7953"
             ],
             [
              0.7777777777777778,
              "#fb9f3a"
             ],
             [
              0.8888888888888888,
              "#fdca26"
             ],
             [
              1,
              "#f0f921"
             ]
            ],
            "type": "heatmap"
           }
          ],
          "heatmapgl": [
           {
            "colorbar": {
             "outlinewidth": 0,
             "ticks": ""
            },
            "colorscale": [
             [
              0,
              "#0d0887"
             ],
             [
              0.1111111111111111,
              "#46039f"
             ],
             [
              0.2222222222222222,
              "#7201a8"
             ],
             [
              0.3333333333333333,
              "#9c179e"
             ],
             [
              0.4444444444444444,
              "#bd3786"
             ],
             [
              0.5555555555555556,
              "#d8576b"
             ],
             [
              0.6666666666666666,
              "#ed7953"
             ],
             [
              0.7777777777777778,
              "#fb9f3a"
             ],
             [
              0.8888888888888888,
              "#fdca26"
             ],
             [
              1,
              "#f0f921"
             ]
            ],
            "type": "heatmapgl"
           }
          ],
          "histogram": [
           {
            "marker": {
             "pattern": {
              "fillmode": "overlay",
              "size": 10,
              "solidity": 0.2
             }
            },
            "type": "histogram"
           }
          ],
          "histogram2d": [
           {
            "colorbar": {
             "outlinewidth": 0,
             "ticks": ""
            },
            "colorscale": [
             [
              0,
              "#0d0887"
             ],
             [
              0.1111111111111111,
              "#46039f"
             ],
             [
              0.2222222222222222,
              "#7201a8"
             ],
             [
              0.3333333333333333,
              "#9c179e"
             ],
             [
              0.4444444444444444,
              "#bd3786"
             ],
             [
              0.5555555555555556,
              "#d8576b"
             ],
             [
              0.6666666666666666,
              "#ed7953"
             ],
             [
              0.7777777777777778,
              "#fb9f3a"
             ],
             [
              0.8888888888888888,
              "#fdca26"
             ],
             [
              1,
              "#f0f921"
             ]
            ],
            "type": "histogram2d"
           }
          ],
          "histogram2dcontour": [
           {
            "colorbar": {
             "outlinewidth": 0,
             "ticks": ""
            },
            "colorscale": [
             [
              0,
              "#0d0887"
             ],
             [
              0.1111111111111111,
              "#46039f"
             ],
             [
              0.2222222222222222,
              "#7201a8"
             ],
             [
              0.3333333333333333,
              "#9c179e"
             ],
             [
              0.4444444444444444,
              "#bd3786"
             ],
             [
              0.5555555555555556,
              "#d8576b"
             ],
             [
              0.6666666666666666,
              "#ed7953"
             ],
             [
              0.7777777777777778,
              "#fb9f3a"
             ],
             [
              0.8888888888888888,
              "#fdca26"
             ],
             [
              1,
              "#f0f921"
             ]
            ],
            "type": "histogram2dcontour"
           }
          ],
          "mesh3d": [
           {
            "colorbar": {
             "outlinewidth": 0,
             "ticks": ""
            },
            "type": "mesh3d"
           }
          ],
          "parcoords": [
           {
            "line": {
             "colorbar": {
              "outlinewidth": 0,
              "ticks": ""
             }
            },
            "type": "parcoords"
           }
          ],
          "pie": [
           {
            "automargin": true,
            "type": "pie"
           }
          ],
          "scatter": [
           {
            "marker": {
             "colorbar": {
              "outlinewidth": 0,
              "ticks": ""
             }
            },
            "type": "scatter"
           }
          ],
          "scatter3d": [
           {
            "line": {
             "colorbar": {
              "outlinewidth": 0,
              "ticks": ""
             }
            },
            "marker": {
             "colorbar": {
              "outlinewidth": 0,
              "ticks": ""
             }
            },
            "type": "scatter3d"
           }
          ],
          "scattercarpet": [
           {
            "marker": {
             "colorbar": {
              "outlinewidth": 0,
              "ticks": ""
             }
            },
            "type": "scattercarpet"
           }
          ],
          "scattergeo": [
           {
            "marker": {
             "colorbar": {
              "outlinewidth": 0,
              "ticks": ""
             }
            },
            "type": "scattergeo"
           }
          ],
          "scattergl": [
           {
            "marker": {
             "colorbar": {
              "outlinewidth": 0,
              "ticks": ""
             }
            },
            "type": "scattergl"
           }
          ],
          "scattermapbox": [
           {
            "marker": {
             "colorbar": {
              "outlinewidth": 0,
              "ticks": ""
             }
            },
            "type": "scattermapbox"
           }
          ],
          "scatterpolar": [
           {
            "marker": {
             "colorbar": {
              "outlinewidth": 0,
              "ticks": ""
             }
            },
            "type": "scatterpolar"
           }
          ],
          "scatterpolargl": [
           {
            "marker": {
             "colorbar": {
              "outlinewidth": 0,
              "ticks": ""
             }
            },
            "type": "scatterpolargl"
           }
          ],
          "scatterternary": [
           {
            "marker": {
             "colorbar": {
              "outlinewidth": 0,
              "ticks": ""
             }
            },
            "type": "scatterternary"
           }
          ],
          "surface": [
           {
            "colorbar": {
             "outlinewidth": 0,
             "ticks": ""
            },
            "colorscale": [
             [
              0,
              "#0d0887"
             ],
             [
              0.1111111111111111,
              "#46039f"
             ],
             [
              0.2222222222222222,
              "#7201a8"
             ],
             [
              0.3333333333333333,
              "#9c179e"
             ],
             [
              0.4444444444444444,
              "#bd3786"
             ],
             [
              0.5555555555555556,
              "#d8576b"
             ],
             [
              0.6666666666666666,
              "#ed7953"
             ],
             [
              0.7777777777777778,
              "#fb9f3a"
             ],
             [
              0.8888888888888888,
              "#fdca26"
             ],
             [
              1,
              "#f0f921"
             ]
            ],
            "type": "surface"
           }
          ],
          "table": [
           {
            "cells": {
             "fill": {
              "color": "#EBF0F8"
             },
             "line": {
              "color": "white"
             }
            },
            "header": {
             "fill": {
              "color": "#C8D4E3"
             },
             "line": {
              "color": "white"
             }
            },
            "type": "table"
           }
          ]
         },
         "layout": {
          "annotationdefaults": {
           "arrowcolor": "#2a3f5f",
           "arrowhead": 0,
           "arrowwidth": 1
          },
          "autotypenumbers": "strict",
          "coloraxis": {
           "colorbar": {
            "outlinewidth": 0,
            "ticks": ""
           }
          },
          "colorscale": {
           "diverging": [
            [
             0,
             "#8e0152"
            ],
            [
             0.1,
             "#c51b7d"
            ],
            [
             0.2,
             "#de77ae"
            ],
            [
             0.3,
             "#f1b6da"
            ],
            [
             0.4,
             "#fde0ef"
            ],
            [
             0.5,
             "#f7f7f7"
            ],
            [
             0.6,
             "#e6f5d0"
            ],
            [
             0.7,
             "#b8e186"
            ],
            [
             0.8,
             "#7fbc41"
            ],
            [
             0.9,
             "#4d9221"
            ],
            [
             1,
             "#276419"
            ]
           ],
           "sequential": [
            [
             0,
             "#0d0887"
            ],
            [
             0.1111111111111111,
             "#46039f"
            ],
            [
             0.2222222222222222,
             "#7201a8"
            ],
            [
             0.3333333333333333,
             "#9c179e"
            ],
            [
             0.4444444444444444,
             "#bd3786"
            ],
            [
             0.5555555555555556,
             "#d8576b"
            ],
            [
             0.6666666666666666,
             "#ed7953"
            ],
            [
             0.7777777777777778,
             "#fb9f3a"
            ],
            [
             0.8888888888888888,
             "#fdca26"
            ],
            [
             1,
             "#f0f921"
            ]
           ],
           "sequentialminus": [
            [
             0,
             "#0d0887"
            ],
            [
             0.1111111111111111,
             "#46039f"
            ],
            [
             0.2222222222222222,
             "#7201a8"
            ],
            [
             0.3333333333333333,
             "#9c179e"
            ],
            [
             0.4444444444444444,
             "#bd3786"
            ],
            [
             0.5555555555555556,
             "#d8576b"
            ],
            [
             0.6666666666666666,
             "#ed7953"
            ],
            [
             0.7777777777777778,
             "#fb9f3a"
            ],
            [
             0.8888888888888888,
             "#fdca26"
            ],
            [
             1,
             "#f0f921"
            ]
           ]
          },
          "colorway": [
           "#636efa",
           "#EF553B",
           "#00cc96",
           "#ab63fa",
           "#FFA15A",
           "#19d3f3",
           "#FF6692",
           "#B6E880",
           "#FF97FF",
           "#FECB52"
          ],
          "font": {
           "color": "#2a3f5f"
          },
          "geo": {
           "bgcolor": "white",
           "lakecolor": "white",
           "landcolor": "#E5ECF6",
           "showlakes": true,
           "showland": true,
           "subunitcolor": "white"
          },
          "hoverlabel": {
           "align": "left"
          },
          "hovermode": "closest",
          "mapbox": {
           "style": "light"
          },
          "paper_bgcolor": "white",
          "plot_bgcolor": "#E5ECF6",
          "polar": {
           "angularaxis": {
            "gridcolor": "white",
            "linecolor": "white",
            "ticks": ""
           },
           "bgcolor": "#E5ECF6",
           "radialaxis": {
            "gridcolor": "white",
            "linecolor": "white",
            "ticks": ""
           }
          },
          "scene": {
           "xaxis": {
            "backgroundcolor": "#E5ECF6",
            "gridcolor": "white",
            "gridwidth": 2,
            "linecolor": "white",
            "showbackground": true,
            "ticks": "",
            "zerolinecolor": "white"
           },
           "yaxis": {
            "backgroundcolor": "#E5ECF6",
            "gridcolor": "white",
            "gridwidth": 2,
            "linecolor": "white",
            "showbackground": true,
            "ticks": "",
            "zerolinecolor": "white"
           },
           "zaxis": {
            "backgroundcolor": "#E5ECF6",
            "gridcolor": "white",
            "gridwidth": 2,
            "linecolor": "white",
            "showbackground": true,
            "ticks": "",
            "zerolinecolor": "white"
           }
          },
          "shapedefaults": {
           "line": {
            "color": "#2a3f5f"
           }
          },
          "ternary": {
           "aaxis": {
            "gridcolor": "white",
            "linecolor": "white",
            "ticks": ""
           },
           "baxis": {
            "gridcolor": "white",
            "linecolor": "white",
            "ticks": ""
           },
           "bgcolor": "#E5ECF6",
           "caxis": {
            "gridcolor": "white",
            "linecolor": "white",
            "ticks": ""
           }
          },
          "title": {
           "x": 0.05
          },
          "xaxis": {
           "automargin": true,
           "gridcolor": "white",
           "linecolor": "white",
           "ticks": "",
           "title": {
            "standoff": 15
           },
           "zerolinecolor": "white",
           "zerolinewidth": 2
          },
          "yaxis": {
           "automargin": true,
           "gridcolor": "white",
           "linecolor": "white",
           "ticks": "",
           "title": {
            "standoff": 15
           },
           "zerolinecolor": "white",
           "zerolinewidth": 2
          }
         }
        },
        "title": {
         "font": {
          "color": "#4D5663"
         }
        },
        "xaxis": {
         "anchor": "y",
         "domain": [
          0,
          0.2125
         ],
         "gridcolor": "#E1E5ED",
         "showgrid": false,
         "tickfont": {
          "color": "#4D5663"
         },
         "title": {
          "font": {
           "color": "#4D5663"
          },
          "text": ""
         },
         "zerolinecolor": "#E1E5ED"
        },
        "xaxis10": {
         "anchor": "y10",
         "domain": [
          0.2625,
          0.475
         ],
         "gridcolor": "#E1E5ED",
         "showgrid": false,
         "tickfont": {
          "color": "#4D5663"
         },
         "title": {
          "font": {
           "color": "#4D5663"
          },
          "text": ""
         },
         "zerolinecolor": "#E1E5ED"
        },
        "xaxis11": {
         "anchor": "y11",
         "domain": [
          0.525,
          0.7375
         ],
         "gridcolor": "#E1E5ED",
         "showgrid": false,
         "tickfont": {
          "color": "#4D5663"
         },
         "title": {
          "font": {
           "color": "#4D5663"
          },
          "text": ""
         },
         "zerolinecolor": "#E1E5ED"
        },
        "xaxis12": {
         "anchor": "y12",
         "domain": [
          0.7875,
          1
         ],
         "gridcolor": "#E1E5ED",
         "showgrid": false,
         "tickfont": {
          "color": "#4D5663"
         },
         "title": {
          "font": {
           "color": "#4D5663"
          },
          "text": ""
         },
         "zerolinecolor": "#E1E5ED"
        },
        "xaxis13": {
         "anchor": "y13",
         "domain": [
          0,
          0.2125
         ],
         "gridcolor": "#E1E5ED",
         "showgrid": false,
         "tickfont": {
          "color": "#4D5663"
         },
         "title": {
          "font": {
           "color": "#4D5663"
          },
          "text": ""
         },
         "zerolinecolor": "#E1E5ED"
        },
        "xaxis14": {
         "anchor": "y14",
         "domain": [
          0.2625,
          0.475
         ],
         "gridcolor": "#E1E5ED",
         "showgrid": false,
         "tickfont": {
          "color": "#4D5663"
         },
         "title": {
          "font": {
           "color": "#4D5663"
          },
          "text": ""
         },
         "zerolinecolor": "#E1E5ED"
        },
        "xaxis15": {
         "anchor": "y15",
         "domain": [
          0.525,
          0.7375
         ],
         "gridcolor": "#E1E5ED",
         "showgrid": false,
         "tickfont": {
          "color": "#4D5663"
         },
         "title": {
          "font": {
           "color": "#4D5663"
          },
          "text": ""
         },
         "zerolinecolor": "#E1E5ED"
        },
        "xaxis16": {
         "anchor": "y16",
         "domain": [
          0.7875,
          1
         ],
         "gridcolor": "#E1E5ED",
         "showgrid": false,
         "tickfont": {
          "color": "#4D5663"
         },
         "title": {
          "font": {
           "color": "#4D5663"
          },
          "text": ""
         },
         "zerolinecolor": "#E1E5ED"
        },
        "xaxis2": {
         "anchor": "y2",
         "domain": [
          0.2625,
          0.475
         ],
         "gridcolor": "#E1E5ED",
         "showgrid": false,
         "tickfont": {
          "color": "#4D5663"
         },
         "title": {
          "font": {
           "color": "#4D5663"
          },
          "text": ""
         },
         "zerolinecolor": "#E1E5ED"
        },
        "xaxis3": {
         "anchor": "y3",
         "domain": [
          0.525,
          0.7375
         ],
         "gridcolor": "#E1E5ED",
         "showgrid": false,
         "tickfont": {
          "color": "#4D5663"
         },
         "title": {
          "font": {
           "color": "#4D5663"
          },
          "text": ""
         },
         "zerolinecolor": "#E1E5ED"
        },
        "xaxis4": {
         "anchor": "y4",
         "domain": [
          0.7875,
          1
         ],
         "gridcolor": "#E1E5ED",
         "showgrid": false,
         "tickfont": {
          "color": "#4D5663"
         },
         "title": {
          "font": {
           "color": "#4D5663"
          },
          "text": ""
         },
         "zerolinecolor": "#E1E5ED"
        },
        "xaxis5": {
         "anchor": "y5",
         "domain": [
          0,
          0.2125
         ],
         "gridcolor": "#E1E5ED",
         "showgrid": false,
         "tickfont": {
          "color": "#4D5663"
         },
         "title": {
          "font": {
           "color": "#4D5663"
          },
          "text": ""
         },
         "zerolinecolor": "#E1E5ED"
        },
        "xaxis6": {
         "anchor": "y6",
         "domain": [
          0.2625,
          0.475
         ],
         "gridcolor": "#E1E5ED",
         "showgrid": false,
         "tickfont": {
          "color": "#4D5663"
         },
         "title": {
          "font": {
           "color": "#4D5663"
          },
          "text": ""
         },
         "zerolinecolor": "#E1E5ED"
        },
        "xaxis7": {
         "anchor": "y7",
         "domain": [
          0.525,
          0.7375
         ],
         "gridcolor": "#E1E5ED",
         "showgrid": false,
         "tickfont": {
          "color": "#4D5663"
         },
         "title": {
          "font": {
           "color": "#4D5663"
          },
          "text": ""
         },
         "zerolinecolor": "#E1E5ED"
        },
        "xaxis8": {
         "anchor": "y8",
         "domain": [
          0.7875,
          1
         ],
         "gridcolor": "#E1E5ED",
         "showgrid": false,
         "tickfont": {
          "color": "#4D5663"
         },
         "title": {
          "font": {
           "color": "#4D5663"
          },
          "text": ""
         },
         "zerolinecolor": "#E1E5ED"
        },
        "xaxis9": {
         "anchor": "y9",
         "domain": [
          0,
          0.2125
         ],
         "gridcolor": "#E1E5ED",
         "showgrid": false,
         "tickfont": {
          "color": "#4D5663"
         },
         "title": {
          "font": {
           "color": "#4D5663"
          },
          "text": ""
         },
         "zerolinecolor": "#E1E5ED"
        },
        "yaxis": {
         "anchor": "x",
         "domain": [
          0.8025,
          1
         ],
         "gridcolor": "#E1E5ED",
         "showgrid": false,
         "tickfont": {
          "color": "#4D5663"
         },
         "title": {
          "font": {
           "color": "#4D5663"
          },
          "text": ""
         },
         "zerolinecolor": "#E1E5ED"
        },
        "yaxis10": {
         "anchor": "x10",
         "domain": [
          0.2675,
          0.465
         ],
         "gridcolor": "#E1E5ED",
         "showgrid": false,
         "tickfont": {
          "color": "#4D5663"
         },
         "title": {
          "font": {
           "color": "#4D5663"
          },
          "text": ""
         },
         "zerolinecolor": "#E1E5ED"
        },
        "yaxis11": {
         "anchor": "x11",
         "domain": [
          0.2675,
          0.465
         ],
         "gridcolor": "#E1E5ED",
         "showgrid": false,
         "tickfont": {
          "color": "#4D5663"
         },
         "title": {
          "font": {
           "color": "#4D5663"
          },
          "text": ""
         },
         "zerolinecolor": "#E1E5ED"
        },
        "yaxis12": {
         "anchor": "x12",
         "domain": [
          0.2675,
          0.465
         ],
         "gridcolor": "#E1E5ED",
         "showgrid": false,
         "tickfont": {
          "color": "#4D5663"
         },
         "title": {
          "font": {
           "color": "#4D5663"
          },
          "text": ""
         },
         "zerolinecolor": "#E1E5ED"
        },
        "yaxis13": {
         "anchor": "x13",
         "domain": [
          0,
          0.1975
         ],
         "gridcolor": "#E1E5ED",
         "showgrid": false,
         "tickfont": {
          "color": "#4D5663"
         },
         "title": {
          "font": {
           "color": "#4D5663"
          },
          "text": ""
         },
         "zerolinecolor": "#E1E5ED"
        },
        "yaxis14": {
         "anchor": "x14",
         "domain": [
          0,
          0.1975
         ],
         "gridcolor": "#E1E5ED",
         "showgrid": false,
         "tickfont": {
          "color": "#4D5663"
         },
         "title": {
          "font": {
           "color": "#4D5663"
          },
          "text": ""
         },
         "zerolinecolor": "#E1E5ED"
        },
        "yaxis15": {
         "anchor": "x15",
         "domain": [
          0,
          0.1975
         ],
         "gridcolor": "#E1E5ED",
         "showgrid": false,
         "tickfont": {
          "color": "#4D5663"
         },
         "title": {
          "font": {
           "color": "#4D5663"
          },
          "text": ""
         },
         "zerolinecolor": "#E1E5ED"
        },
        "yaxis16": {
         "anchor": "x16",
         "domain": [
          0,
          0.1975
         ],
         "gridcolor": "#E1E5ED",
         "showgrid": false,
         "tickfont": {
          "color": "#4D5663"
         },
         "title": {
          "font": {
           "color": "#4D5663"
          },
          "text": ""
         },
         "zerolinecolor": "#E1E5ED"
        },
        "yaxis2": {
         "anchor": "x2",
         "domain": [
          0.8025,
          1
         ],
         "gridcolor": "#E1E5ED",
         "showgrid": false,
         "tickfont": {
          "color": "#4D5663"
         },
         "title": {
          "font": {
           "color": "#4D5663"
          },
          "text": ""
         },
         "zerolinecolor": "#E1E5ED"
        },
        "yaxis3": {
         "anchor": "x3",
         "domain": [
          0.8025,
          1
         ],
         "gridcolor": "#E1E5ED",
         "showgrid": false,
         "tickfont": {
          "color": "#4D5663"
         },
         "title": {
          "font": {
           "color": "#4D5663"
          },
          "text": ""
         },
         "zerolinecolor": "#E1E5ED"
        },
        "yaxis4": {
         "anchor": "x4",
         "domain": [
          0.8025,
          1
         ],
         "gridcolor": "#E1E5ED",
         "showgrid": false,
         "tickfont": {
          "color": "#4D5663"
         },
         "title": {
          "font": {
           "color": "#4D5663"
          },
          "text": ""
         },
         "zerolinecolor": "#E1E5ED"
        },
        "yaxis5": {
         "anchor": "x5",
         "domain": [
          0.535,
          0.7325
         ],
         "gridcolor": "#E1E5ED",
         "showgrid": false,
         "tickfont": {
          "color": "#4D5663"
         },
         "title": {
          "font": {
           "color": "#4D5663"
          },
          "text": ""
         },
         "zerolinecolor": "#E1E5ED"
        },
        "yaxis6": {
         "anchor": "x6",
         "domain": [
          0.535,
          0.7325
         ],
         "gridcolor": "#E1E5ED",
         "showgrid": false,
         "tickfont": {
          "color": "#4D5663"
         },
         "title": {
          "font": {
           "color": "#4D5663"
          },
          "text": ""
         },
         "zerolinecolor": "#E1E5ED"
        },
        "yaxis7": {
         "anchor": "x7",
         "domain": [
          0.535,
          0.7325
         ],
         "gridcolor": "#E1E5ED",
         "showgrid": false,
         "tickfont": {
          "color": "#4D5663"
         },
         "title": {
          "font": {
           "color": "#4D5663"
          },
          "text": ""
         },
         "zerolinecolor": "#E1E5ED"
        },
        "yaxis8": {
         "anchor": "x8",
         "domain": [
          0.535,
          0.7325
         ],
         "gridcolor": "#E1E5ED",
         "showgrid": false,
         "tickfont": {
          "color": "#4D5663"
         },
         "title": {
          "font": {
           "color": "#4D5663"
          },
          "text": ""
         },
         "zerolinecolor": "#E1E5ED"
        },
        "yaxis9": {
         "anchor": "x9",
         "domain": [
          0.2675,
          0.465
         ],
         "gridcolor": "#E1E5ED",
         "showgrid": false,
         "tickfont": {
          "color": "#4D5663"
         },
         "title": {
          "font": {
           "color": "#4D5663"
          },
          "text": ""
         },
         "zerolinecolor": "#E1E5ED"
        }
       }
      },
      "text/html": [
       "<div>                            <div id=\"becb438a-e679-4197-a3c1-e04b94ba0c6e\" class=\"plotly-graph-div\" style=\"height:525px; width:100%;\"></div>            <script type=\"text/javascript\">                require([\"plotly\"], function(Plotly) {                    window.PLOTLYENV=window.PLOTLYENV || {};\n",
       "                    window.PLOTLYENV.BASE_URL='https://plot.ly';                                    if (document.getElementById(\"becb438a-e679-4197-a3c1-e04b94ba0c6e\")) {                    Plotly.newPlot(                        \"becb438a-e679-4197-a3c1-e04b94ba0c6e\",                        [{\"histfunc\":\"count\",\"histnorm\":\"\",\"marker\":{\"color\":\"rgba(255, 153, 51, 1.0)\",\"line\":{\"color\":\"#4D5663\",\"width\":1.3}},\"name\":\"A\",\"nbinsx\":10,\"opacity\":0.8,\"orientation\":\"v\",\"x\":[1.621784997721568,-0.41366034592813133,0.1703499631587245,-1.1920692972460996,1.490540900725984,-0.057932056600882395,1.9493212915706266,-1.2133489775891626,-1.0171927857273269,-0.8748618841330696,-0.19903180545332752,1.847526392833172,-0.2758818988849343,0.17071171785641004,0.24112433897690283,-1.0364302350178969,-0.8704374048875894,0.11878631382799285,0.5524041774833329,0.4112892963529475,-0.20274718423037727,-0.1461750034500728,0.3938150717043993,1.013168990337693,1.1587377671220014,-0.07891110920131336,0.19674715852663466,-0.5137254496290548,-1.3594253212057925,0.7768929577215199,0.6932876094382373,0.1484716481867066,2.141638801331524,-0.6084944312615944,0.12650327275946432,0.32470093884566403,1.4432404036386661,0.5217947714925911,-1.0688444844738667,1.089135815260983,-0.29998118456619116,1.0273537271019182,0.33014992958416733,0.586781806816406,-1.6649854938580066,-0.39329069469733646,-0.8237723532130063,0.4796787729400577,-0.3700012746496557,-0.13284150565306116,-1.1415402494783435,0.4020235767439107,-0.06843544392719376,-1.605258168642368,0.3923808704859432,-1.6020304450352683,1.0229879340680732,-0.4716385035017622,-0.3026686970378709,0.23121824625826157,0.7941197295728922,0.2078528949337184,-0.05314850978774376,1.091414986451456,-0.23054064816857944,0.12287026554946075,-1.7032966482057637,-0.5607482142252319,-0.4070160127155237,0.2911341229123403,-1.3376367352973613,2.471298182591257,-1.4273438012656001,-0.9644104778552279,0.7529486000501481,0.9160977380939834,-1.3222788380506154,0.07158314746484597,1.7485767845451123,2.159357303646926,-2.4804194984392924,-1.423385099276626,-1.456924292494143,0.09113542169714114,-0.8048108696952876,-0.27162322444491255,0.1389955219980199,0.2236833151602733,-1.0924382534322106,-1.0804917489162433,1.4912408101051184,0.18322793537716855,1.3056813227817263,1.9582872537903173,-1.3558255227600555,-1.5599278170781556,0.05322385578051336,0.2884950550162606,0.48473933084086995,-1.1138289966447266],\"xaxis\":\"x\",\"yaxis\":\"y\",\"type\":\"histogram\"},{\"line\":{\"color\":\"rgba(128, 128, 128, 1.0)\",\"dash\":\"solid\",\"shape\":\"linear\",\"width\":1.3},\"marker\":{\"size\":2,\"symbol\":\"circle\"},\"mode\":\"markers\",\"name\":\"A\",\"text\":\"\",\"x\":[1.0464563135578546,-3.0632225880848103,0.7347392981478813,-0.4260768015024099,0.96632800431009,1.2259616492672805,-0.3898324536994116,-1.3347108635827836,0.05850423362368821,-0.4564072432013887,-0.15724725260979047,-1.0977125535217649,-1.665999133255654,-0.21072539560613976,0.7962219185478997,-1.288845173225243,1.564273626180649,-0.11076177080563634,0.8491023364744843,0.9853140925690016,0.6952633578875285,-0.5600769380847198,-0.19660318900246418,-0.6629276497584601,-1.3095091871088107,1.9410326677104206,-0.1989245390276827,-0.7713841078744924,0.552871220815854,-0.8537682860036248,-1.4949821204592284,0.2732931186024205,0.3180571929056187,-0.837676117557035,0.04896750587297655,0.12963765216194872,1.4307678743993686,-0.42045979023879326,-1.9952224416416797,-0.5346484174600119,-0.204811204865994,0.5420650487257817,0.4503872326298657,0.35425475395255546,0.5098829247281865,0.34922028677025024,-0.7712388190084934,1.2298158269216979,0.1733960637726265,0.3126798756781296,0.19876210807019104,1.0582434500911917,-1.6849847277255832,-0.10124840186809116,-0.23032439763298906,1.6930993305863318,-0.5503621073120089,1.120459574282658,-0.5427843412382684,-0.5993572950007119,0.39726633886579293,-0.465487493410192,-0.3432593210298152,-0.38337663937759575,-1.140292528148463,-0.8325557987264668,1.6304602355112843,1.284431606320553,-0.012042543937797351,1.6039192046856627,-0.5404995606983964,1.4255305799121059,-0.7118064004521089,1.9924921540827385,2.3583690017492733,1.467961164888937,0.6915606738845025,-1.7905203549323134,0.9946791497816215,0.40474624180499874,-0.861893923994319,-2.102546055137808,-0.7677543614787729,0.12425845837419648,-0.8931963800510369,-0.9950165747531337,0.9757275360573655,-0.2788829177616858,0.9797543092857613,-0.49850385133220226,0.14271820497733537,0.03975498644747681,0.7118652256934209,0.8906588179631437,-0.6197301677060046,-1.201610403980832,2.4617261927462804,1.0102652057417734,-1.0027608010524207,-1.935435639286333],\"xaxis\":\"x2\",\"y\":[1.621784997721568,-0.41366034592813133,0.1703499631587245,-1.1920692972460996,1.490540900725984,-0.057932056600882395,1.9493212915706266,-1.2133489775891626,-1.0171927857273269,-0.8748618841330696,-0.19903180545332752,1.847526392833172,-0.2758818988849343,0.17071171785641004,0.24112433897690283,-1.0364302350178969,-0.8704374048875894,0.11878631382799285,0.5524041774833329,0.4112892963529475,-0.20274718423037727,-0.1461750034500728,0.3938150717043993,1.013168990337693,1.1587377671220014,-0.07891110920131336,0.19674715852663466,-0.5137254496290548,-1.3594253212057925,0.7768929577215199,0.6932876094382373,0.1484716481867066,2.141638801331524,-0.6084944312615944,0.12650327275946432,0.32470093884566403,1.4432404036386661,0.5217947714925911,-1.0688444844738667,1.089135815260983,-0.29998118456619116,1.0273537271019182,0.33014992958416733,0.586781806816406,-1.6649854938580066,-0.39329069469733646,-0.8237723532130063,0.4796787729400577,-0.3700012746496557,-0.13284150565306116,-1.1415402494783435,0.4020235767439107,-0.06843544392719376,-1.605258168642368,0.3923808704859432,-1.6020304450352683,1.0229879340680732,-0.4716385035017622,-0.3026686970378709,0.23121824625826157,0.7941197295728922,0.2078528949337184,-0.05314850978774376,1.091414986451456,-0.23054064816857944,0.12287026554946075,-1.7032966482057637,-0.5607482142252319,-0.4070160127155237,0.2911341229123403,-1.3376367352973613,2.471298182591257,-1.4273438012656001,-0.9644104778552279,0.7529486000501481,0.9160977380939834,-1.3222788380506154,0.07158314746484597,1.7485767845451123,2.159357303646926,-2.4804194984392924,-1.423385099276626,-1.456924292494143,0.09113542169714114,-0.8048108696952876,-0.27162322444491255,0.1389955219980199,0.2236833151602733,-1.0924382534322106,-1.0804917489162433,1.4912408101051184,0.18322793537716855,1.3056813227817263,1.9582872537903173,-1.3558255227600555,-1.5599278170781556,0.05322385578051336,0.2884950550162606,0.48473933084086995,-1.1138289966447266],\"yaxis\":\"y2\",\"type\":\"scatter\"},{\"line\":{\"color\":\"rgba(128, 128, 128, 1.0)\",\"dash\":\"solid\",\"shape\":\"linear\",\"width\":1.3},\"marker\":{\"size\":2,\"symbol\":\"circle\"},\"mode\":\"markers\",\"name\":\"A\",\"text\":\"\",\"x\":[0.33843758094155335,-0.2382709946480748,0.22403536453053965,-0.3043966856091476,-0.9092891682702926,2.17868145639729,-0.2834297476206791,-1.1747593063055741,0.8547278158043446,-0.28895013784748314,-1.0555352363008217,-1.7216316204653157,-0.6724901553983208,0.9453486302766296,-1.0250727206635541,0.06618194321345852,-0.28411764141537355,1.631059058350737,1.694501208527916,0.18409191694693677,-0.435324315739716,1.49312748793559,-0.9461586780122293,-0.5138094122024075,0.7082355733246352,-2.004521818888406,1.0088034517924231,0.19898135532908753,0.9521169639269785,-0.03807202992688498,1.7246180652826841,1.0049603921498376,0.3561034983306561,1.0036856736349766,0.6371941877920423,1.534969468086901,-0.8419048062706564,-0.05031940466547256,-0.5993737503476307,0.967096866496843,-0.9714579177342824,-0.6204083855100891,0.6943598579296563,1.2587355386229353,-0.09904670726754072,-0.9889542216035125,1.349004205847779,0.6924025810598344,-0.3899570287709958,0.6923778114954655,0.4354946779581317,0.8395989470007246,-0.8023939293826446,0.5529062988801857,1.5930022158547414,-0.0033021948190812517,0.3914218714623637,0.16754014056453526,0.8342617129273869,1.0888118845726371,-0.1744573866531768,1.6280531748603946,-1.2243913141704272,-0.4633239306090089,0.6125049384428948,0.051854633513044444,0.8508869477339461,1.5027127847691086,0.48426485243644807,-1.128822208688011,-0.9717832870910856,0.6254143649548266,0.592465907128901,-0.39067682200424536,0.06759480248335602,0.9858707264858869,-0.7246544723035329,-1.1019909708749236,-1.8734821669209074,2.6910576016600904,0.8326038503827787,-0.6837829572010239,-0.27828647768238607,-2.1930223888736338,-1.3010368303151036,0.03847258451290304,-0.39220334098864656,0.4515211677197727,0.3850212005586349,-1.7031979580192445,-0.6995949612797254,0.5978437816476047,-1.829365113479942,-1.5934857748804108,-0.7180116789337732,0.1777678173297205,-2.1969426091857263,-0.9611101217742426,0.7084924626039807,-0.833105851124916],\"xaxis\":\"x3\",\"y\":[1.621784997721568,-0.41366034592813133,0.1703499631587245,-1.1920692972460996,1.490540900725984,-0.057932056600882395,1.9493212915706266,-1.2133489775891626,-1.0171927857273269,-0.8748618841330696,-0.19903180545332752,1.847526392833172,-0.2758818988849343,0.17071171785641004,0.24112433897690283,-1.0364302350178969,-0.8704374048875894,0.11878631382799285,0.5524041774833329,0.4112892963529475,-0.20274718423037727,-0.1461750034500728,0.3938150717043993,1.013168990337693,1.1587377671220014,-0.07891110920131336,0.19674715852663466,-0.5137254496290548,-1.3594253212057925,0.7768929577215199,0.6932876094382373,0.1484716481867066,2.141638801331524,-0.6084944312615944,0.12650327275946432,0.32470093884566403,1.4432404036386661,0.5217947714925911,-1.0688444844738667,1.089135815260983,-0.29998118456619116,1.0273537271019182,0.33014992958416733,0.586781806816406,-1.6649854938580066,-0.39329069469733646,-0.8237723532130063,0.4796787729400577,-0.3700012746496557,-0.13284150565306116,-1.1415402494783435,0.4020235767439107,-0.06843544392719376,-1.605258168642368,0.3923808704859432,-1.6020304450352683,1.0229879340680732,-0.4716385035017622,-0.3026686970378709,0.23121824625826157,0.7941197295728922,0.2078528949337184,-0.05314850978774376,1.091414986451456,-0.23054064816857944,0.12287026554946075,-1.7032966482057637,-0.5607482142252319,-0.4070160127155237,0.2911341229123403,-1.3376367352973613,2.471298182591257,-1.4273438012656001,-0.9644104778552279,0.7529486000501481,0.9160977380939834,-1.3222788380506154,0.07158314746484597,1.7485767845451123,2.159357303646926,-2.4804194984392924,-1.423385099276626,-1.456924292494143,0.09113542169714114,-0.8048108696952876,-0.27162322444491255,0.1389955219980199,0.2236833151602733,-1.0924382534322106,-1.0804917489162433,1.4912408101051184,0.18322793537716855,1.3056813227817263,1.9582872537903173,-1.3558255227600555,-1.5599278170781556,0.05322385578051336,0.2884950550162606,0.48473933084086995,-1.1138289966447266],\"yaxis\":\"y3\",\"type\":\"scatter\"},{\"line\":{\"color\":\"rgba(128, 128, 128, 1.0)\",\"dash\":\"solid\",\"shape\":\"linear\",\"width\":1.3},\"marker\":{\"size\":2,\"symbol\":\"circle\"},\"mode\":\"markers\",\"name\":\"A\",\"text\":\"\",\"x\":[-1.1004471665582038,0.041217183727715746,-0.7718473787639256,0.109557433906497,1.408925887016048,0.796780758991421,0.3660699365361497,0.9390213997427165,-0.5968841974369468,0.3672813247171284,0.7023621972232881,-0.1569516908250397,1.5268566575278142,0.5890678720923911,-1.8729957508816617,0.3211315137072359,-0.9273489054776755,0.1365792379447031,-0.6430232999123707,0.1961283295358216,0.20682960503607187,1.7340790969935829,0.07469030215823605,0.4069181240374408,0.887401920221741,-0.003514010812075497,-0.35382803423574477,0.0014193462807367129,0.6040694239822059,0.63826759625818,0.12284176757473954,0.3078461613565154,0.886220242731648,0.5355407769598614,-0.3868766954356073,-1.235122496288211,-0.02187803860552186,-0.690821704620183,-0.96843782816511,0.4290004724349664,-0.6150667513201463,-1.1644702103477313,-0.3024878956777604,0.21675550479802616,-1.108344807575133,-0.6529549198621861,-1.6048750507931338,2.1282050713734972,1.240451474833909,-0.9468468701132373,-0.7149128729282663,0.7684842078600935,0.6152290770981884,-0.9601817186734947,-0.6240098199662922,-1.9132242570550178,2.3860115322006923,1.6017347659003962,1.3854886213432298,-1.2533714050617275,1.1675065748777036,-0.8339954419544497,0.6645104113109662,-1.8460278374452133,0.9251573704783496,0.2555287627841315,2.011142381066698,-0.6568507775284618,0.4762725736337321,1.2235886048878013,-0.019813701981420996,0.2760002279222589,-1.4773144851682558,0.3492241057863119,0.12354359418652405,0.8879054373917248,0.25607188364142947,0.6587390390326553,-0.6310520211119438,-1.3190616725838245,1.308501006057353,0.4882677346986149,-0.4421846205193525,-3.007741043840323,0.8179465777852021,0.43747631218148203,1.9454955053320981,-1.748406067292762,0.8939847009844076,0.2704301609821631,-1.0529061904206758,0.2687186229625887,-1.061510706367173,0.6879940899945505,-1.1320643754291746,0.12005105359613082,-1.7391644637925068,-0.8504517692291123,0.944538349676949,2.2049053506380676],\"xaxis\":\"x4\",\"y\":[1.621784997721568,-0.41366034592813133,0.1703499631587245,-1.1920692972460996,1.490540900725984,-0.057932056600882395,1.9493212915706266,-1.2133489775891626,-1.0171927857273269,-0.8748618841330696,-0.19903180545332752,1.847526392833172,-0.2758818988849343,0.17071171785641004,0.24112433897690283,-1.0364302350178969,-0.8704374048875894,0.11878631382799285,0.5524041774833329,0.4112892963529475,-0.20274718423037727,-0.1461750034500728,0.3938150717043993,1.013168990337693,1.1587377671220014,-0.07891110920131336,0.19674715852663466,-0.5137254496290548,-1.3594253212057925,0.7768929577215199,0.6932876094382373,0.1484716481867066,2.141638801331524,-0.6084944312615944,0.12650327275946432,0.32470093884566403,1.4432404036386661,0.5217947714925911,-1.0688444844738667,1.089135815260983,-0.29998118456619116,1.0273537271019182,0.33014992958416733,0.586781806816406,-1.6649854938580066,-0.39329069469733646,-0.8237723532130063,0.4796787729400577,-0.3700012746496557,-0.13284150565306116,-1.1415402494783435,0.4020235767439107,-0.06843544392719376,-1.605258168642368,0.3923808704859432,-1.6020304450352683,1.0229879340680732,-0.4716385035017622,-0.3026686970378709,0.23121824625826157,0.7941197295728922,0.2078528949337184,-0.05314850978774376,1.091414986451456,-0.23054064816857944,0.12287026554946075,-1.7032966482057637,-0.5607482142252319,-0.4070160127155237,0.2911341229123403,-1.3376367352973613,2.471298182591257,-1.4273438012656001,-0.9644104778552279,0.7529486000501481,0.9160977380939834,-1.3222788380506154,0.07158314746484597,1.7485767845451123,2.159357303646926,-2.4804194984392924,-1.423385099276626,-1.456924292494143,0.09113542169714114,-0.8048108696952876,-0.27162322444491255,0.1389955219980199,0.2236833151602733,-1.0924382534322106,-1.0804917489162433,1.4912408101051184,0.18322793537716855,1.3056813227817263,1.9582872537903173,-1.3558255227600555,-1.5599278170781556,0.05322385578051336,0.2884950550162606,0.48473933084086995,-1.1138289966447266],\"yaxis\":\"y4\",\"type\":\"scatter\"},{\"line\":{\"color\":\"rgba(128, 128, 128, 1.0)\",\"dash\":\"solid\",\"shape\":\"linear\",\"width\":1.3},\"marker\":{\"size\":2,\"symbol\":\"circle\"},\"mode\":\"markers\",\"name\":\"B\",\"text\":\"\",\"x\":[1.621784997721568,-0.41366034592813133,0.1703499631587245,-1.1920692972460996,1.490540900725984,-0.057932056600882395,1.9493212915706266,-1.2133489775891626,-1.0171927857273269,-0.8748618841330696,-0.19903180545332752,1.847526392833172,-0.2758818988849343,0.17071171785641004,0.24112433897690283,-1.0364302350178969,-0.8704374048875894,0.11878631382799285,0.5524041774833329,0.4112892963529475,-0.20274718423037727,-0.1461750034500728,0.3938150717043993,1.013168990337693,1.1587377671220014,-0.07891110920131336,0.19674715852663466,-0.5137254496290548,-1.3594253212057925,0.7768929577215199,0.6932876094382373,0.1484716481867066,2.141638801331524,-0.6084944312615944,0.12650327275946432,0.32470093884566403,1.4432404036386661,0.5217947714925911,-1.0688444844738667,1.089135815260983,-0.29998118456619116,1.0273537271019182,0.33014992958416733,0.586781806816406,-1.6649854938580066,-0.39329069469733646,-0.8237723532130063,0.4796787729400577,-0.3700012746496557,-0.13284150565306116,-1.1415402494783435,0.4020235767439107,-0.06843544392719376,-1.605258168642368,0.3923808704859432,-1.6020304450352683,1.0229879340680732,-0.4716385035017622,-0.3026686970378709,0.23121824625826157,0.7941197295728922,0.2078528949337184,-0.05314850978774376,1.091414986451456,-0.23054064816857944,0.12287026554946075,-1.7032966482057637,-0.5607482142252319,-0.4070160127155237,0.2911341229123403,-1.3376367352973613,2.471298182591257,-1.4273438012656001,-0.9644104778552279,0.7529486000501481,0.9160977380939834,-1.3222788380506154,0.07158314746484597,1.7485767845451123,2.159357303646926,-2.4804194984392924,-1.423385099276626,-1.456924292494143,0.09113542169714114,-0.8048108696952876,-0.27162322444491255,0.1389955219980199,0.2236833151602733,-1.0924382534322106,-1.0804917489162433,1.4912408101051184,0.18322793537716855,1.3056813227817263,1.9582872537903173,-1.3558255227600555,-1.5599278170781556,0.05322385578051336,0.2884950550162606,0.48473933084086995,-1.1138289966447266],\"xaxis\":\"x5\",\"y\":[1.0464563135578546,-3.0632225880848103,0.7347392981478813,-0.4260768015024099,0.96632800431009,1.2259616492672805,-0.3898324536994116,-1.3347108635827836,0.05850423362368821,-0.4564072432013887,-0.15724725260979047,-1.0977125535217649,-1.665999133255654,-0.21072539560613976,0.7962219185478997,-1.288845173225243,1.564273626180649,-0.11076177080563634,0.8491023364744843,0.9853140925690016,0.6952633578875285,-0.5600769380847198,-0.19660318900246418,-0.6629276497584601,-1.3095091871088107,1.9410326677104206,-0.1989245390276827,-0.7713841078744924,0.552871220815854,-0.8537682860036248,-1.4949821204592284,0.2732931186024205,0.3180571929056187,-0.837676117557035,0.04896750587297655,0.12963765216194872,1.4307678743993686,-0.42045979023879326,-1.9952224416416797,-0.5346484174600119,-0.204811204865994,0.5420650487257817,0.4503872326298657,0.35425475395255546,0.5098829247281865,0.34922028677025024,-0.7712388190084934,1.2298158269216979,0.1733960637726265,0.3126798756781296,0.19876210807019104,1.0582434500911917,-1.6849847277255832,-0.10124840186809116,-0.23032439763298906,1.6930993305863318,-0.5503621073120089,1.120459574282658,-0.5427843412382684,-0.5993572950007119,0.39726633886579293,-0.465487493410192,-0.3432593210298152,-0.38337663937759575,-1.140292528148463,-0.8325557987264668,1.6304602355112843,1.284431606320553,-0.012042543937797351,1.6039192046856627,-0.5404995606983964,1.4255305799121059,-0.7118064004521089,1.9924921540827385,2.3583690017492733,1.467961164888937,0.6915606738845025,-1.7905203549323134,0.9946791497816215,0.40474624180499874,-0.861893923994319,-2.102546055137808,-0.7677543614787729,0.12425845837419648,-0.8931963800510369,-0.9950165747531337,0.9757275360573655,-0.2788829177616858,0.9797543092857613,-0.49850385133220226,0.14271820497733537,0.03975498644747681,0.7118652256934209,0.8906588179631437,-0.6197301677060046,-1.201610403980832,2.4617261927462804,1.0102652057417734,-1.0027608010524207,-1.935435639286333],\"yaxis\":\"y5\",\"type\":\"scatter\"},{\"histfunc\":\"count\",\"histnorm\":\"\",\"marker\":{\"color\":\"rgba(55, 128, 191, 1.0)\",\"line\":{\"color\":\"#4D5663\",\"width\":1.3}},\"name\":\"B\",\"nbinsx\":10,\"opacity\":0.8,\"orientation\":\"v\",\"x\":[1.0464563135578546,-3.0632225880848103,0.7347392981478813,-0.4260768015024099,0.96632800431009,1.2259616492672805,-0.3898324536994116,-1.3347108635827836,0.05850423362368821,-0.4564072432013887,-0.15724725260979047,-1.0977125535217649,-1.665999133255654,-0.21072539560613976,0.7962219185478997,-1.288845173225243,1.564273626180649,-0.11076177080563634,0.8491023364744843,0.9853140925690016,0.6952633578875285,-0.5600769380847198,-0.19660318900246418,-0.6629276497584601,-1.3095091871088107,1.9410326677104206,-0.1989245390276827,-0.7713841078744924,0.552871220815854,-0.8537682860036248,-1.4949821204592284,0.2732931186024205,0.3180571929056187,-0.837676117557035,0.04896750587297655,0.12963765216194872,1.4307678743993686,-0.42045979023879326,-1.9952224416416797,-0.5346484174600119,-0.204811204865994,0.5420650487257817,0.4503872326298657,0.35425475395255546,0.5098829247281865,0.34922028677025024,-0.7712388190084934,1.2298158269216979,0.1733960637726265,0.3126798756781296,0.19876210807019104,1.0582434500911917,-1.6849847277255832,-0.10124840186809116,-0.23032439763298906,1.6930993305863318,-0.5503621073120089,1.120459574282658,-0.5427843412382684,-0.5993572950007119,0.39726633886579293,-0.465487493410192,-0.3432593210298152,-0.38337663937759575,-1.140292528148463,-0.8325557987264668,1.6304602355112843,1.284431606320553,-0.012042543937797351,1.6039192046856627,-0.5404995606983964,1.4255305799121059,-0.7118064004521089,1.9924921540827385,2.3583690017492733,1.467961164888937,0.6915606738845025,-1.7905203549323134,0.9946791497816215,0.40474624180499874,-0.861893923994319,-2.102546055137808,-0.7677543614787729,0.12425845837419648,-0.8931963800510369,-0.9950165747531337,0.9757275360573655,-0.2788829177616858,0.9797543092857613,-0.49850385133220226,0.14271820497733537,0.03975498644747681,0.7118652256934209,0.8906588179631437,-0.6197301677060046,-1.201610403980832,2.4617261927462804,1.0102652057417734,-1.0027608010524207,-1.935435639286333],\"xaxis\":\"x6\",\"yaxis\":\"y6\",\"type\":\"histogram\"},{\"line\":{\"color\":\"rgba(128, 128, 128, 1.0)\",\"dash\":\"solid\",\"shape\":\"linear\",\"width\":1.3},\"marker\":{\"size\":2,\"symbol\":\"circle\"},\"mode\":\"markers\",\"name\":\"B\",\"text\":\"\",\"x\":[0.33843758094155335,-0.2382709946480748,0.22403536453053965,-0.3043966856091476,-0.9092891682702926,2.17868145639729,-0.2834297476206791,-1.1747593063055741,0.8547278158043446,-0.28895013784748314,-1.0555352363008217,-1.7216316204653157,-0.6724901553983208,0.9453486302766296,-1.0250727206635541,0.06618194321345852,-0.28411764141537355,1.631059058350737,1.694501208527916,0.18409191694693677,-0.435324315739716,1.49312748793559,-0.9461586780122293,-0.5138094122024075,0.7082355733246352,-2.004521818888406,1.0088034517924231,0.19898135532908753,0.9521169639269785,-0.03807202992688498,1.7246180652826841,1.0049603921498376,0.3561034983306561,1.0036856736349766,0.6371941877920423,1.534969468086901,-0.8419048062706564,-0.05031940466547256,-0.5993737503476307,0.967096866496843,-0.9714579177342824,-0.6204083855100891,0.6943598579296563,1.2587355386229353,-0.09904670726754072,-0.9889542216035125,1.349004205847779,0.6924025810598344,-0.3899570287709958,0.6923778114954655,0.4354946779581317,0.8395989470007246,-0.8023939293826446,0.5529062988801857,1.5930022158547414,-0.0033021948190812517,0.3914218714623637,0.16754014056453526,0.8342617129273869,1.0888118845726371,-0.1744573866531768,1.6280531748603946,-1.2243913141704272,-0.4633239306090089,0.6125049384428948,0.051854633513044444,0.8508869477339461,1.5027127847691086,0.48426485243644807,-1.128822208688011,-0.9717832870910856,0.6254143649548266,0.592465907128901,-0.39067682200424536,0.06759480248335602,0.9858707264858869,-0.7246544723035329,-1.1019909708749236,-1.8734821669209074,2.6910576016600904,0.8326038503827787,-0.6837829572010239,-0.27828647768238607,-2.1930223888736338,-1.3010368303151036,0.03847258451290304,-0.39220334098864656,0.4515211677197727,0.3850212005586349,-1.7031979580192445,-0.6995949612797254,0.5978437816476047,-1.829365113479942,-1.5934857748804108,-0.7180116789337732,0.1777678173297205,-2.1969426091857263,-0.9611101217742426,0.7084924626039807,-0.833105851124916],\"xaxis\":\"x7\",\"y\":[1.0464563135578546,-3.0632225880848103,0.7347392981478813,-0.4260768015024099,0.96632800431009,1.2259616492672805,-0.3898324536994116,-1.3347108635827836,0.05850423362368821,-0.4564072432013887,-0.15724725260979047,-1.0977125535217649,-1.665999133255654,-0.21072539560613976,0.7962219185478997,-1.288845173225243,1.564273626180649,-0.11076177080563634,0.8491023364744843,0.9853140925690016,0.6952633578875285,-0.5600769380847198,-0.19660318900246418,-0.6629276497584601,-1.3095091871088107,1.9410326677104206,-0.1989245390276827,-0.7713841078744924,0.552871220815854,-0.8537682860036248,-1.4949821204592284,0.2732931186024205,0.3180571929056187,-0.837676117557035,0.04896750587297655,0.12963765216194872,1.4307678743993686,-0.42045979023879326,-1.9952224416416797,-0.5346484174600119,-0.204811204865994,0.5420650487257817,0.4503872326298657,0.35425475395255546,0.5098829247281865,0.34922028677025024,-0.7712388190084934,1.2298158269216979,0.1733960637726265,0.3126798756781296,0.19876210807019104,1.0582434500911917,-1.6849847277255832,-0.10124840186809116,-0.23032439763298906,1.6930993305863318,-0.5503621073120089,1.120459574282658,-0.5427843412382684,-0.5993572950007119,0.39726633886579293,-0.465487493410192,-0.3432593210298152,-0.38337663937759575,-1.140292528148463,-0.8325557987264668,1.6304602355112843,1.284431606320553,-0.012042543937797351,1.6039192046856627,-0.5404995606983964,1.4255305799121059,-0.7118064004521089,1.9924921540827385,2.3583690017492733,1.467961164888937,0.6915606738845025,-1.7905203549323134,0.9946791497816215,0.40474624180499874,-0.861893923994319,-2.102546055137808,-0.7677543614787729,0.12425845837419648,-0.8931963800510369,-0.9950165747531337,0.9757275360573655,-0.2788829177616858,0.9797543092857613,-0.49850385133220226,0.14271820497733537,0.03975498644747681,0.7118652256934209,0.8906588179631437,-0.6197301677060046,-1.201610403980832,2.4617261927462804,1.0102652057417734,-1.0027608010524207,-1.935435639286333],\"yaxis\":\"y7\",\"type\":\"scatter\"},{\"line\":{\"color\":\"rgba(128, 128, 128, 1.0)\",\"dash\":\"solid\",\"shape\":\"linear\",\"width\":1.3},\"marker\":{\"size\":2,\"symbol\":\"circle\"},\"mode\":\"markers\",\"name\":\"B\",\"text\":\"\",\"x\":[-1.1004471665582038,0.041217183727715746,-0.7718473787639256,0.109557433906497,1.408925887016048,0.796780758991421,0.3660699365361497,0.9390213997427165,-0.5968841974369468,0.3672813247171284,0.7023621972232881,-0.1569516908250397,1.5268566575278142,0.5890678720923911,-1.8729957508816617,0.3211315137072359,-0.9273489054776755,0.1365792379447031,-0.6430232999123707,0.1961283295358216,0.20682960503607187,1.7340790969935829,0.07469030215823605,0.4069181240374408,0.887401920221741,-0.003514010812075497,-0.35382803423574477,0.0014193462807367129,0.6040694239822059,0.63826759625818,0.12284176757473954,0.3078461613565154,0.886220242731648,0.5355407769598614,-0.3868766954356073,-1.235122496288211,-0.02187803860552186,-0.690821704620183,-0.96843782816511,0.4290004724349664,-0.6150667513201463,-1.1644702103477313,-0.3024878956777604,0.21675550479802616,-1.108344807575133,-0.6529549198621861,-1.6048750507931338,2.1282050713734972,1.240451474833909,-0.9468468701132373,-0.7149128729282663,0.7684842078600935,0.6152290770981884,-0.9601817186734947,-0.6240098199662922,-1.9132242570550178,2.3860115322006923,1.6017347659003962,1.3854886213432298,-1.2533714050617275,1.1675065748777036,-0.8339954419544497,0.6645104113109662,-1.8460278374452133,0.9251573704783496,0.2555287627841315,2.011142381066698,-0.6568507775284618,0.4762725736337321,1.2235886048878013,-0.019813701981420996,0.2760002279222589,-1.4773144851682558,0.3492241057863119,0.12354359418652405,0.8879054373917248,0.25607188364142947,0.6587390390326553,-0.6310520211119438,-1.3190616725838245,1.308501006057353,0.4882677346986149,-0.4421846205193525,-3.007741043840323,0.8179465777852021,0.43747631218148203,1.9454955053320981,-1.748406067292762,0.8939847009844076,0.2704301609821631,-1.0529061904206758,0.2687186229625887,-1.061510706367173,0.6879940899945505,-1.1320643754291746,0.12005105359613082,-1.7391644637925068,-0.8504517692291123,0.944538349676949,2.2049053506380676],\"xaxis\":\"x8\",\"y\":[1.0464563135578546,-3.0632225880848103,0.7347392981478813,-0.4260768015024099,0.96632800431009,1.2259616492672805,-0.3898324536994116,-1.3347108635827836,0.05850423362368821,-0.4564072432013887,-0.15724725260979047,-1.0977125535217649,-1.665999133255654,-0.21072539560613976,0.7962219185478997,-1.288845173225243,1.564273626180649,-0.11076177080563634,0.8491023364744843,0.9853140925690016,0.6952633578875285,-0.5600769380847198,-0.19660318900246418,-0.6629276497584601,-1.3095091871088107,1.9410326677104206,-0.1989245390276827,-0.7713841078744924,0.552871220815854,-0.8537682860036248,-1.4949821204592284,0.2732931186024205,0.3180571929056187,-0.837676117557035,0.04896750587297655,0.12963765216194872,1.4307678743993686,-0.42045979023879326,-1.9952224416416797,-0.5346484174600119,-0.204811204865994,0.5420650487257817,0.4503872326298657,0.35425475395255546,0.5098829247281865,0.34922028677025024,-0.7712388190084934,1.2298158269216979,0.1733960637726265,0.3126798756781296,0.19876210807019104,1.0582434500911917,-1.6849847277255832,-0.10124840186809116,-0.23032439763298906,1.6930993305863318,-0.5503621073120089,1.120459574282658,-0.5427843412382684,-0.5993572950007119,0.39726633886579293,-0.465487493410192,-0.3432593210298152,-0.38337663937759575,-1.140292528148463,-0.8325557987264668,1.6304602355112843,1.284431606320553,-0.012042543937797351,1.6039192046856627,-0.5404995606983964,1.4255305799121059,-0.7118064004521089,1.9924921540827385,2.3583690017492733,1.467961164888937,0.6915606738845025,-1.7905203549323134,0.9946791497816215,0.40474624180499874,-0.861893923994319,-2.102546055137808,-0.7677543614787729,0.12425845837419648,-0.8931963800510369,-0.9950165747531337,0.9757275360573655,-0.2788829177616858,0.9797543092857613,-0.49850385133220226,0.14271820497733537,0.03975498644747681,0.7118652256934209,0.8906588179631437,-0.6197301677060046,-1.201610403980832,2.4617261927462804,1.0102652057417734,-1.0027608010524207,-1.935435639286333],\"yaxis\":\"y8\",\"type\":\"scatter\"},{\"line\":{\"color\":\"rgba(128, 128, 128, 1.0)\",\"dash\":\"solid\",\"shape\":\"linear\",\"width\":1.3},\"marker\":{\"size\":2,\"symbol\":\"circle\"},\"mode\":\"markers\",\"name\":\"C\",\"text\":\"\",\"x\":[1.621784997721568,-0.41366034592813133,0.1703499631587245,-1.1920692972460996,1.490540900725984,-0.057932056600882395,1.9493212915706266,-1.2133489775891626,-1.0171927857273269,-0.8748618841330696,-0.19903180545332752,1.847526392833172,-0.2758818988849343,0.17071171785641004,0.24112433897690283,-1.0364302350178969,-0.8704374048875894,0.11878631382799285,0.5524041774833329,0.4112892963529475,-0.20274718423037727,-0.1461750034500728,0.3938150717043993,1.013168990337693,1.1587377671220014,-0.07891110920131336,0.19674715852663466,-0.5137254496290548,-1.3594253212057925,0.7768929577215199,0.6932876094382373,0.1484716481867066,2.141638801331524,-0.6084944312615944,0.12650327275946432,0.32470093884566403,1.4432404036386661,0.5217947714925911,-1.0688444844738667,1.089135815260983,-0.29998118456619116,1.0273537271019182,0.33014992958416733,0.586781806816406,-1.6649854938580066,-0.39329069469733646,-0.8237723532130063,0.4796787729400577,-0.3700012746496557,-0.13284150565306116,-1.1415402494783435,0.4020235767439107,-0.06843544392719376,-1.605258168642368,0.3923808704859432,-1.6020304450352683,1.0229879340680732,-0.4716385035017622,-0.3026686970378709,0.23121824625826157,0.7941197295728922,0.2078528949337184,-0.05314850978774376,1.091414986451456,-0.23054064816857944,0.12287026554946075,-1.7032966482057637,-0.5607482142252319,-0.4070160127155237,0.2911341229123403,-1.3376367352973613,2.471298182591257,-1.4273438012656001,-0.9644104778552279,0.7529486000501481,0.9160977380939834,-1.3222788380506154,0.07158314746484597,1.7485767845451123,2.159357303646926,-2.4804194984392924,-1.423385099276626,-1.456924292494143,0.09113542169714114,-0.8048108696952876,-0.27162322444491255,0.1389955219980199,0.2236833151602733,-1.0924382534322106,-1.0804917489162433,1.4912408101051184,0.18322793537716855,1.3056813227817263,1.9582872537903173,-1.3558255227600555,-1.5599278170781556,0.05322385578051336,0.2884950550162606,0.48473933084086995,-1.1138289966447266],\"xaxis\":\"x9\",\"y\":[0.33843758094155335,-0.2382709946480748,0.22403536453053965,-0.3043966856091476,-0.9092891682702926,2.17868145639729,-0.2834297476206791,-1.1747593063055741,0.8547278158043446,-0.28895013784748314,-1.0555352363008217,-1.7216316204653157,-0.6724901553983208,0.9453486302766296,-1.0250727206635541,0.06618194321345852,-0.28411764141537355,1.631059058350737,1.694501208527916,0.18409191694693677,-0.435324315739716,1.49312748793559,-0.9461586780122293,-0.5138094122024075,0.7082355733246352,-2.004521818888406,1.0088034517924231,0.19898135532908753,0.9521169639269785,-0.03807202992688498,1.7246180652826841,1.0049603921498376,0.3561034983306561,1.0036856736349766,0.6371941877920423,1.534969468086901,-0.8419048062706564,-0.05031940466547256,-0.5993737503476307,0.967096866496843,-0.9714579177342824,-0.6204083855100891,0.6943598579296563,1.2587355386229353,-0.09904670726754072,-0.9889542216035125,1.349004205847779,0.6924025810598344,-0.3899570287709958,0.6923778114954655,0.4354946779581317,0.8395989470007246,-0.8023939293826446,0.5529062988801857,1.5930022158547414,-0.0033021948190812517,0.3914218714623637,0.16754014056453526,0.8342617129273869,1.0888118845726371,-0.1744573866531768,1.6280531748603946,-1.2243913141704272,-0.4633239306090089,0.6125049384428948,0.051854633513044444,0.8508869477339461,1.5027127847691086,0.48426485243644807,-1.128822208688011,-0.9717832870910856,0.6254143649548266,0.592465907128901,-0.39067682200424536,0.06759480248335602,0.9858707264858869,-0.7246544723035329,-1.1019909708749236,-1.8734821669209074,2.6910576016600904,0.8326038503827787,-0.6837829572010239,-0.27828647768238607,-2.1930223888736338,-1.3010368303151036,0.03847258451290304,-0.39220334098864656,0.4515211677197727,0.3850212005586349,-1.7031979580192445,-0.6995949612797254,0.5978437816476047,-1.829365113479942,-1.5934857748804108,-0.7180116789337732,0.1777678173297205,-2.1969426091857263,-0.9611101217742426,0.7084924626039807,-0.833105851124916],\"yaxis\":\"y9\",\"type\":\"scatter\"},{\"line\":{\"color\":\"rgba(128, 128, 128, 1.0)\",\"dash\":\"solid\",\"shape\":\"linear\",\"width\":1.3},\"marker\":{\"size\":2,\"symbol\":\"circle\"},\"mode\":\"markers\",\"name\":\"C\",\"text\":\"\",\"x\":[1.0464563135578546,-3.0632225880848103,0.7347392981478813,-0.4260768015024099,0.96632800431009,1.2259616492672805,-0.3898324536994116,-1.3347108635827836,0.05850423362368821,-0.4564072432013887,-0.15724725260979047,-1.0977125535217649,-1.665999133255654,-0.21072539560613976,0.7962219185478997,-1.288845173225243,1.564273626180649,-0.11076177080563634,0.8491023364744843,0.9853140925690016,0.6952633578875285,-0.5600769380847198,-0.19660318900246418,-0.6629276497584601,-1.3095091871088107,1.9410326677104206,-0.1989245390276827,-0.7713841078744924,0.552871220815854,-0.8537682860036248,-1.4949821204592284,0.2732931186024205,0.3180571929056187,-0.837676117557035,0.04896750587297655,0.12963765216194872,1.4307678743993686,-0.42045979023879326,-1.9952224416416797,-0.5346484174600119,-0.204811204865994,0.5420650487257817,0.4503872326298657,0.35425475395255546,0.5098829247281865,0.34922028677025024,-0.7712388190084934,1.2298158269216979,0.1733960637726265,0.3126798756781296,0.19876210807019104,1.0582434500911917,-1.6849847277255832,-0.10124840186809116,-0.23032439763298906,1.6930993305863318,-0.5503621073120089,1.120459574282658,-0.5427843412382684,-0.5993572950007119,0.39726633886579293,-0.465487493410192,-0.3432593210298152,-0.38337663937759575,-1.140292528148463,-0.8325557987264668,1.6304602355112843,1.284431606320553,-0.012042543937797351,1.6039192046856627,-0.5404995606983964,1.4255305799121059,-0.7118064004521089,1.9924921540827385,2.3583690017492733,1.467961164888937,0.6915606738845025,-1.7905203549323134,0.9946791497816215,0.40474624180499874,-0.861893923994319,-2.102546055137808,-0.7677543614787729,0.12425845837419648,-0.8931963800510369,-0.9950165747531337,0.9757275360573655,-0.2788829177616858,0.9797543092857613,-0.49850385133220226,0.14271820497733537,0.03975498644747681,0.7118652256934209,0.8906588179631437,-0.6197301677060046,-1.201610403980832,2.4617261927462804,1.0102652057417734,-1.0027608010524207,-1.935435639286333],\"xaxis\":\"x10\",\"y\":[0.33843758094155335,-0.2382709946480748,0.22403536453053965,-0.3043966856091476,-0.9092891682702926,2.17868145639729,-0.2834297476206791,-1.1747593063055741,0.8547278158043446,-0.28895013784748314,-1.0555352363008217,-1.7216316204653157,-0.6724901553983208,0.9453486302766296,-1.0250727206635541,0.06618194321345852,-0.28411764141537355,1.631059058350737,1.694501208527916,0.18409191694693677,-0.435324315739716,1.49312748793559,-0.9461586780122293,-0.5138094122024075,0.7082355733246352,-2.004521818888406,1.0088034517924231,0.19898135532908753,0.9521169639269785,-0.03807202992688498,1.7246180652826841,1.0049603921498376,0.3561034983306561,1.0036856736349766,0.6371941877920423,1.534969468086901,-0.8419048062706564,-0.05031940466547256,-0.5993737503476307,0.967096866496843,-0.9714579177342824,-0.6204083855100891,0.6943598579296563,1.2587355386229353,-0.09904670726754072,-0.9889542216035125,1.349004205847779,0.6924025810598344,-0.3899570287709958,0.6923778114954655,0.4354946779581317,0.8395989470007246,-0.8023939293826446,0.5529062988801857,1.5930022158547414,-0.0033021948190812517,0.3914218714623637,0.16754014056453526,0.8342617129273869,1.0888118845726371,-0.1744573866531768,1.6280531748603946,-1.2243913141704272,-0.4633239306090089,0.6125049384428948,0.051854633513044444,0.8508869477339461,1.5027127847691086,0.48426485243644807,-1.128822208688011,-0.9717832870910856,0.6254143649548266,0.592465907128901,-0.39067682200424536,0.06759480248335602,0.9858707264858869,-0.7246544723035329,-1.1019909708749236,-1.8734821669209074,2.6910576016600904,0.8326038503827787,-0.6837829572010239,-0.27828647768238607,-2.1930223888736338,-1.3010368303151036,0.03847258451290304,-0.39220334098864656,0.4515211677197727,0.3850212005586349,-1.7031979580192445,-0.6995949612797254,0.5978437816476047,-1.829365113479942,-1.5934857748804108,-0.7180116789337732,0.1777678173297205,-2.1969426091857263,-0.9611101217742426,0.7084924626039807,-0.833105851124916],\"yaxis\":\"y10\",\"type\":\"scatter\"},{\"histfunc\":\"count\",\"histnorm\":\"\",\"marker\":{\"color\":\"rgba(50, 171, 96, 1.0)\",\"line\":{\"color\":\"#4D5663\",\"width\":1.3}},\"name\":\"C\",\"nbinsx\":10,\"opacity\":0.8,\"orientation\":\"v\",\"x\":[0.33843758094155335,-0.2382709946480748,0.22403536453053965,-0.3043966856091476,-0.9092891682702926,2.17868145639729,-0.2834297476206791,-1.1747593063055741,0.8547278158043446,-0.28895013784748314,-1.0555352363008217,-1.7216316204653157,-0.6724901553983208,0.9453486302766296,-1.0250727206635541,0.06618194321345852,-0.28411764141537355,1.631059058350737,1.694501208527916,0.18409191694693677,-0.435324315739716,1.49312748793559,-0.9461586780122293,-0.5138094122024075,0.7082355733246352,-2.004521818888406,1.0088034517924231,0.19898135532908753,0.9521169639269785,-0.03807202992688498,1.7246180652826841,1.0049603921498376,0.3561034983306561,1.0036856736349766,0.6371941877920423,1.534969468086901,-0.8419048062706564,-0.05031940466547256,-0.5993737503476307,0.967096866496843,-0.9714579177342824,-0.6204083855100891,0.6943598579296563,1.2587355386229353,-0.09904670726754072,-0.9889542216035125,1.349004205847779,0.6924025810598344,-0.3899570287709958,0.6923778114954655,0.4354946779581317,0.8395989470007246,-0.8023939293826446,0.5529062988801857,1.5930022158547414,-0.0033021948190812517,0.3914218714623637,0.16754014056453526,0.8342617129273869,1.0888118845726371,-0.1744573866531768,1.6280531748603946,-1.2243913141704272,-0.4633239306090089,0.6125049384428948,0.051854633513044444,0.8508869477339461,1.5027127847691086,0.48426485243644807,-1.128822208688011,-0.9717832870910856,0.6254143649548266,0.592465907128901,-0.39067682200424536,0.06759480248335602,0.9858707264858869,-0.7246544723035329,-1.1019909708749236,-1.8734821669209074,2.6910576016600904,0.8326038503827787,-0.6837829572010239,-0.27828647768238607,-2.1930223888736338,-1.3010368303151036,0.03847258451290304,-0.39220334098864656,0.4515211677197727,0.3850212005586349,-1.7031979580192445,-0.6995949612797254,0.5978437816476047,-1.829365113479942,-1.5934857748804108,-0.7180116789337732,0.1777678173297205,-2.1969426091857263,-0.9611101217742426,0.7084924626039807,-0.833105851124916],\"xaxis\":\"x11\",\"yaxis\":\"y11\",\"type\":\"histogram\"},{\"line\":{\"color\":\"rgba(128, 128, 128, 1.0)\",\"dash\":\"solid\",\"shape\":\"linear\",\"width\":1.3},\"marker\":{\"size\":2,\"symbol\":\"circle\"},\"mode\":\"markers\",\"name\":\"C\",\"text\":\"\",\"x\":[-1.1004471665582038,0.041217183727715746,-0.7718473787639256,0.109557433906497,1.408925887016048,0.796780758991421,0.3660699365361497,0.9390213997427165,-0.5968841974369468,0.3672813247171284,0.7023621972232881,-0.1569516908250397,1.5268566575278142,0.5890678720923911,-1.8729957508816617,0.3211315137072359,-0.9273489054776755,0.1365792379447031,-0.6430232999123707,0.1961283295358216,0.20682960503607187,1.7340790969935829,0.07469030215823605,0.4069181240374408,0.887401920221741,-0.003514010812075497,-0.35382803423574477,0.0014193462807367129,0.6040694239822059,0.63826759625818,0.12284176757473954,0.3078461613565154,0.886220242731648,0.5355407769598614,-0.3868766954356073,-1.235122496288211,-0.02187803860552186,-0.690821704620183,-0.96843782816511,0.4290004724349664,-0.6150667513201463,-1.1644702103477313,-0.3024878956777604,0.21675550479802616,-1.108344807575133,-0.6529549198621861,-1.6048750507931338,2.1282050713734972,1.240451474833909,-0.9468468701132373,-0.7149128729282663,0.7684842078600935,0.6152290770981884,-0.9601817186734947,-0.6240098199662922,-1.9132242570550178,2.3860115322006923,1.6017347659003962,1.3854886213432298,-1.2533714050617275,1.1675065748777036,-0.8339954419544497,0.6645104113109662,-1.8460278374452133,0.9251573704783496,0.2555287627841315,2.011142381066698,-0.6568507775284618,0.4762725736337321,1.2235886048878013,-0.019813701981420996,0.2760002279222589,-1.4773144851682558,0.3492241057863119,0.12354359418652405,0.8879054373917248,0.25607188364142947,0.6587390390326553,-0.6310520211119438,-1.3190616725838245,1.308501006057353,0.4882677346986149,-0.4421846205193525,-3.007741043840323,0.8179465777852021,0.43747631218148203,1.9454955053320981,-1.748406067292762,0.8939847009844076,0.2704301609821631,-1.0529061904206758,0.2687186229625887,-1.061510706367173,0.6879940899945505,-1.1320643754291746,0.12005105359613082,-1.7391644637925068,-0.8504517692291123,0.944538349676949,2.2049053506380676],\"xaxis\":\"x12\",\"y\":[0.33843758094155335,-0.2382709946480748,0.22403536453053965,-0.3043966856091476,-0.9092891682702926,2.17868145639729,-0.2834297476206791,-1.1747593063055741,0.8547278158043446,-0.28895013784748314,-1.0555352363008217,-1.7216316204653157,-0.6724901553983208,0.9453486302766296,-1.0250727206635541,0.06618194321345852,-0.28411764141537355,1.631059058350737,1.694501208527916,0.18409191694693677,-0.435324315739716,1.49312748793559,-0.9461586780122293,-0.5138094122024075,0.7082355733246352,-2.004521818888406,1.0088034517924231,0.19898135532908753,0.9521169639269785,-0.03807202992688498,1.7246180652826841,1.0049603921498376,0.3561034983306561,1.0036856736349766,0.6371941877920423,1.534969468086901,-0.8419048062706564,-0.05031940466547256,-0.5993737503476307,0.967096866496843,-0.9714579177342824,-0.6204083855100891,0.6943598579296563,1.2587355386229353,-0.09904670726754072,-0.9889542216035125,1.349004205847779,0.6924025810598344,-0.3899570287709958,0.6923778114954655,0.4354946779581317,0.8395989470007246,-0.8023939293826446,0.5529062988801857,1.5930022158547414,-0.0033021948190812517,0.3914218714623637,0.16754014056453526,0.8342617129273869,1.0888118845726371,-0.1744573866531768,1.6280531748603946,-1.2243913141704272,-0.4633239306090089,0.6125049384428948,0.051854633513044444,0.8508869477339461,1.5027127847691086,0.48426485243644807,-1.128822208688011,-0.9717832870910856,0.6254143649548266,0.592465907128901,-0.39067682200424536,0.06759480248335602,0.9858707264858869,-0.7246544723035329,-1.1019909708749236,-1.8734821669209074,2.6910576016600904,0.8326038503827787,-0.6837829572010239,-0.27828647768238607,-2.1930223888736338,-1.3010368303151036,0.03847258451290304,-0.39220334098864656,0.4515211677197727,0.3850212005586349,-1.7031979580192445,-0.6995949612797254,0.5978437816476047,-1.829365113479942,-1.5934857748804108,-0.7180116789337732,0.1777678173297205,-2.1969426091857263,-0.9611101217742426,0.7084924626039807,-0.833105851124916],\"yaxis\":\"y12\",\"type\":\"scatter\"},{\"line\":{\"color\":\"rgba(128, 128, 128, 1.0)\",\"dash\":\"solid\",\"shape\":\"linear\",\"width\":1.3},\"marker\":{\"size\":2,\"symbol\":\"circle\"},\"mode\":\"markers\",\"name\":\"D\",\"text\":\"\",\"x\":[1.621784997721568,-0.41366034592813133,0.1703499631587245,-1.1920692972460996,1.490540900725984,-0.057932056600882395,1.9493212915706266,-1.2133489775891626,-1.0171927857273269,-0.8748618841330696,-0.19903180545332752,1.847526392833172,-0.2758818988849343,0.17071171785641004,0.24112433897690283,-1.0364302350178969,-0.8704374048875894,0.11878631382799285,0.5524041774833329,0.4112892963529475,-0.20274718423037727,-0.1461750034500728,0.3938150717043993,1.013168990337693,1.1587377671220014,-0.07891110920131336,0.19674715852663466,-0.5137254496290548,-1.3594253212057925,0.7768929577215199,0.6932876094382373,0.1484716481867066,2.141638801331524,-0.6084944312615944,0.12650327275946432,0.32470093884566403,1.4432404036386661,0.5217947714925911,-1.0688444844738667,1.089135815260983,-0.29998118456619116,1.0273537271019182,0.33014992958416733,0.586781806816406,-1.6649854938580066,-0.39329069469733646,-0.8237723532130063,0.4796787729400577,-0.3700012746496557,-0.13284150565306116,-1.1415402494783435,0.4020235767439107,-0.06843544392719376,-1.605258168642368,0.3923808704859432,-1.6020304450352683,1.0229879340680732,-0.4716385035017622,-0.3026686970378709,0.23121824625826157,0.7941197295728922,0.2078528949337184,-0.05314850978774376,1.091414986451456,-0.23054064816857944,0.12287026554946075,-1.7032966482057637,-0.5607482142252319,-0.4070160127155237,0.2911341229123403,-1.3376367352973613,2.471298182591257,-1.4273438012656001,-0.9644104778552279,0.7529486000501481,0.9160977380939834,-1.3222788380506154,0.07158314746484597,1.7485767845451123,2.159357303646926,-2.4804194984392924,-1.423385099276626,-1.456924292494143,0.09113542169714114,-0.8048108696952876,-0.27162322444491255,0.1389955219980199,0.2236833151602733,-1.0924382534322106,-1.0804917489162433,1.4912408101051184,0.18322793537716855,1.3056813227817263,1.9582872537903173,-1.3558255227600555,-1.5599278170781556,0.05322385578051336,0.2884950550162606,0.48473933084086995,-1.1138289966447266],\"xaxis\":\"x13\",\"y\":[-1.1004471665582038,0.041217183727715746,-0.7718473787639256,0.109557433906497,1.408925887016048,0.796780758991421,0.3660699365361497,0.9390213997427165,-0.5968841974369468,0.3672813247171284,0.7023621972232881,-0.1569516908250397,1.5268566575278142,0.5890678720923911,-1.8729957508816617,0.3211315137072359,-0.9273489054776755,0.1365792379447031,-0.6430232999123707,0.1961283295358216,0.20682960503607187,1.7340790969935829,0.07469030215823605,0.4069181240374408,0.887401920221741,-0.003514010812075497,-0.35382803423574477,0.0014193462807367129,0.6040694239822059,0.63826759625818,0.12284176757473954,0.3078461613565154,0.886220242731648,0.5355407769598614,-0.3868766954356073,-1.235122496288211,-0.02187803860552186,-0.690821704620183,-0.96843782816511,0.4290004724349664,-0.6150667513201463,-1.1644702103477313,-0.3024878956777604,0.21675550479802616,-1.108344807575133,-0.6529549198621861,-1.6048750507931338,2.1282050713734972,1.240451474833909,-0.9468468701132373,-0.7149128729282663,0.7684842078600935,0.6152290770981884,-0.9601817186734947,-0.6240098199662922,-1.9132242570550178,2.3860115322006923,1.6017347659003962,1.3854886213432298,-1.2533714050617275,1.1675065748777036,-0.8339954419544497,0.6645104113109662,-1.8460278374452133,0.9251573704783496,0.2555287627841315,2.011142381066698,-0.6568507775284618,0.4762725736337321,1.2235886048878013,-0.019813701981420996,0.2760002279222589,-1.4773144851682558,0.3492241057863119,0.12354359418652405,0.8879054373917248,0.25607188364142947,0.6587390390326553,-0.6310520211119438,-1.3190616725838245,1.308501006057353,0.4882677346986149,-0.4421846205193525,-3.007741043840323,0.8179465777852021,0.43747631218148203,1.9454955053320981,-1.748406067292762,0.8939847009844076,0.2704301609821631,-1.0529061904206758,0.2687186229625887,-1.061510706367173,0.6879940899945505,-1.1320643754291746,0.12005105359613082,-1.7391644637925068,-0.8504517692291123,0.944538349676949,2.2049053506380676],\"yaxis\":\"y13\",\"type\":\"scatter\"},{\"line\":{\"color\":\"rgba(128, 128, 128, 1.0)\",\"dash\":\"solid\",\"shape\":\"linear\",\"width\":1.3},\"marker\":{\"size\":2,\"symbol\":\"circle\"},\"mode\":\"markers\",\"name\":\"D\",\"text\":\"\",\"x\":[1.0464563135578546,-3.0632225880848103,0.7347392981478813,-0.4260768015024099,0.96632800431009,1.2259616492672805,-0.3898324536994116,-1.3347108635827836,0.05850423362368821,-0.4564072432013887,-0.15724725260979047,-1.0977125535217649,-1.665999133255654,-0.21072539560613976,0.7962219185478997,-1.288845173225243,1.564273626180649,-0.11076177080563634,0.8491023364744843,0.9853140925690016,0.6952633578875285,-0.5600769380847198,-0.19660318900246418,-0.6629276497584601,-1.3095091871088107,1.9410326677104206,-0.1989245390276827,-0.7713841078744924,0.552871220815854,-0.8537682860036248,-1.4949821204592284,0.2732931186024205,0.3180571929056187,-0.837676117557035,0.04896750587297655,0.12963765216194872,1.4307678743993686,-0.42045979023879326,-1.9952224416416797,-0.5346484174600119,-0.204811204865994,0.5420650487257817,0.4503872326298657,0.35425475395255546,0.5098829247281865,0.34922028677025024,-0.7712388190084934,1.2298158269216979,0.1733960637726265,0.3126798756781296,0.19876210807019104,1.0582434500911917,-1.6849847277255832,-0.10124840186809116,-0.23032439763298906,1.6930993305863318,-0.5503621073120089,1.120459574282658,-0.5427843412382684,-0.5993572950007119,0.39726633886579293,-0.465487493410192,-0.3432593210298152,-0.38337663937759575,-1.140292528148463,-0.8325557987264668,1.6304602355112843,1.284431606320553,-0.012042543937797351,1.6039192046856627,-0.5404995606983964,1.4255305799121059,-0.7118064004521089,1.9924921540827385,2.3583690017492733,1.467961164888937,0.6915606738845025,-1.7905203549323134,0.9946791497816215,0.40474624180499874,-0.861893923994319,-2.102546055137808,-0.7677543614787729,0.12425845837419648,-0.8931963800510369,-0.9950165747531337,0.9757275360573655,-0.2788829177616858,0.9797543092857613,-0.49850385133220226,0.14271820497733537,0.03975498644747681,0.7118652256934209,0.8906588179631437,-0.6197301677060046,-1.201610403980832,2.4617261927462804,1.0102652057417734,-1.0027608010524207,-1.935435639286333],\"xaxis\":\"x14\",\"y\":[-1.1004471665582038,0.041217183727715746,-0.7718473787639256,0.109557433906497,1.408925887016048,0.796780758991421,0.3660699365361497,0.9390213997427165,-0.5968841974369468,0.3672813247171284,0.7023621972232881,-0.1569516908250397,1.5268566575278142,0.5890678720923911,-1.8729957508816617,0.3211315137072359,-0.9273489054776755,0.1365792379447031,-0.6430232999123707,0.1961283295358216,0.20682960503607187,1.7340790969935829,0.07469030215823605,0.4069181240374408,0.887401920221741,-0.003514010812075497,-0.35382803423574477,0.0014193462807367129,0.6040694239822059,0.63826759625818,0.12284176757473954,0.3078461613565154,0.886220242731648,0.5355407769598614,-0.3868766954356073,-1.235122496288211,-0.02187803860552186,-0.690821704620183,-0.96843782816511,0.4290004724349664,-0.6150667513201463,-1.1644702103477313,-0.3024878956777604,0.21675550479802616,-1.108344807575133,-0.6529549198621861,-1.6048750507931338,2.1282050713734972,1.240451474833909,-0.9468468701132373,-0.7149128729282663,0.7684842078600935,0.6152290770981884,-0.9601817186734947,-0.6240098199662922,-1.9132242570550178,2.3860115322006923,1.6017347659003962,1.3854886213432298,-1.2533714050617275,1.1675065748777036,-0.8339954419544497,0.6645104113109662,-1.8460278374452133,0.9251573704783496,0.2555287627841315,2.011142381066698,-0.6568507775284618,0.4762725736337321,1.2235886048878013,-0.019813701981420996,0.2760002279222589,-1.4773144851682558,0.3492241057863119,0.12354359418652405,0.8879054373917248,0.25607188364142947,0.6587390390326553,-0.6310520211119438,-1.3190616725838245,1.308501006057353,0.4882677346986149,-0.4421846205193525,-3.007741043840323,0.8179465777852021,0.43747631218148203,1.9454955053320981,-1.748406067292762,0.8939847009844076,0.2704301609821631,-1.0529061904206758,0.2687186229625887,-1.061510706367173,0.6879940899945505,-1.1320643754291746,0.12005105359613082,-1.7391644637925068,-0.8504517692291123,0.944538349676949,2.2049053506380676],\"yaxis\":\"y14\",\"type\":\"scatter\"},{\"line\":{\"color\":\"rgba(128, 128, 128, 1.0)\",\"dash\":\"solid\",\"shape\":\"linear\",\"width\":1.3},\"marker\":{\"size\":2,\"symbol\":\"circle\"},\"mode\":\"markers\",\"name\":\"D\",\"text\":\"\",\"x\":[0.33843758094155335,-0.2382709946480748,0.22403536453053965,-0.3043966856091476,-0.9092891682702926,2.17868145639729,-0.2834297476206791,-1.1747593063055741,0.8547278158043446,-0.28895013784748314,-1.0555352363008217,-1.7216316204653157,-0.6724901553983208,0.9453486302766296,-1.0250727206635541,0.06618194321345852,-0.28411764141537355,1.631059058350737,1.694501208527916,0.18409191694693677,-0.435324315739716,1.49312748793559,-0.9461586780122293,-0.5138094122024075,0.7082355733246352,-2.004521818888406,1.0088034517924231,0.19898135532908753,0.9521169639269785,-0.03807202992688498,1.7246180652826841,1.0049603921498376,0.3561034983306561,1.0036856736349766,0.6371941877920423,1.534969468086901,-0.8419048062706564,-0.05031940466547256,-0.5993737503476307,0.967096866496843,-0.9714579177342824,-0.6204083855100891,0.6943598579296563,1.2587355386229353,-0.09904670726754072,-0.9889542216035125,1.349004205847779,0.6924025810598344,-0.3899570287709958,0.6923778114954655,0.4354946779581317,0.8395989470007246,-0.8023939293826446,0.5529062988801857,1.5930022158547414,-0.0033021948190812517,0.3914218714623637,0.16754014056453526,0.8342617129273869,1.0888118845726371,-0.1744573866531768,1.6280531748603946,-1.2243913141704272,-0.4633239306090089,0.6125049384428948,0.051854633513044444,0.8508869477339461,1.5027127847691086,0.48426485243644807,-1.128822208688011,-0.9717832870910856,0.6254143649548266,0.592465907128901,-0.39067682200424536,0.06759480248335602,0.9858707264858869,-0.7246544723035329,-1.1019909708749236,-1.8734821669209074,2.6910576016600904,0.8326038503827787,-0.6837829572010239,-0.27828647768238607,-2.1930223888736338,-1.3010368303151036,0.03847258451290304,-0.39220334098864656,0.4515211677197727,0.3850212005586349,-1.7031979580192445,-0.6995949612797254,0.5978437816476047,-1.829365113479942,-1.5934857748804108,-0.7180116789337732,0.1777678173297205,-2.1969426091857263,-0.9611101217742426,0.7084924626039807,-0.833105851124916],\"xaxis\":\"x15\",\"y\":[-1.1004471665582038,0.041217183727715746,-0.7718473787639256,0.109557433906497,1.408925887016048,0.796780758991421,0.3660699365361497,0.9390213997427165,-0.5968841974369468,0.3672813247171284,0.7023621972232881,-0.1569516908250397,1.5268566575278142,0.5890678720923911,-1.8729957508816617,0.3211315137072359,-0.9273489054776755,0.1365792379447031,-0.6430232999123707,0.1961283295358216,0.20682960503607187,1.7340790969935829,0.07469030215823605,0.4069181240374408,0.887401920221741,-0.003514010812075497,-0.35382803423574477,0.0014193462807367129,0.6040694239822059,0.63826759625818,0.12284176757473954,0.3078461613565154,0.886220242731648,0.5355407769598614,-0.3868766954356073,-1.235122496288211,-0.02187803860552186,-0.690821704620183,-0.96843782816511,0.4290004724349664,-0.6150667513201463,-1.1644702103477313,-0.3024878956777604,0.21675550479802616,-1.108344807575133,-0.6529549198621861,-1.6048750507931338,2.1282050713734972,1.240451474833909,-0.9468468701132373,-0.7149128729282663,0.7684842078600935,0.6152290770981884,-0.9601817186734947,-0.6240098199662922,-1.9132242570550178,2.3860115322006923,1.6017347659003962,1.3854886213432298,-1.2533714050617275,1.1675065748777036,-0.8339954419544497,0.6645104113109662,-1.8460278374452133,0.9251573704783496,0.2555287627841315,2.011142381066698,-0.6568507775284618,0.4762725736337321,1.2235886048878013,-0.019813701981420996,0.2760002279222589,-1.4773144851682558,0.3492241057863119,0.12354359418652405,0.8879054373917248,0.25607188364142947,0.6587390390326553,-0.6310520211119438,-1.3190616725838245,1.308501006057353,0.4882677346986149,-0.4421846205193525,-3.007741043840323,0.8179465777852021,0.43747631218148203,1.9454955053320981,-1.748406067292762,0.8939847009844076,0.2704301609821631,-1.0529061904206758,0.2687186229625887,-1.061510706367173,0.6879940899945505,-1.1320643754291746,0.12005105359613082,-1.7391644637925068,-0.8504517692291123,0.944538349676949,2.2049053506380676],\"yaxis\":\"y15\",\"type\":\"scatter\"},{\"histfunc\":\"count\",\"histnorm\":\"\",\"marker\":{\"color\":\"rgba(128, 0, 128, 1.0)\",\"line\":{\"color\":\"#4D5663\",\"width\":1.3}},\"name\":\"D\",\"nbinsx\":10,\"opacity\":0.8,\"orientation\":\"v\",\"x\":[-1.1004471665582038,0.041217183727715746,-0.7718473787639256,0.109557433906497,1.408925887016048,0.796780758991421,0.3660699365361497,0.9390213997427165,-0.5968841974369468,0.3672813247171284,0.7023621972232881,-0.1569516908250397,1.5268566575278142,0.5890678720923911,-1.8729957508816617,0.3211315137072359,-0.9273489054776755,0.1365792379447031,-0.6430232999123707,0.1961283295358216,0.20682960503607187,1.7340790969935829,0.07469030215823605,0.4069181240374408,0.887401920221741,-0.003514010812075497,-0.35382803423574477,0.0014193462807367129,0.6040694239822059,0.63826759625818,0.12284176757473954,0.3078461613565154,0.886220242731648,0.5355407769598614,-0.3868766954356073,-1.235122496288211,-0.02187803860552186,-0.690821704620183,-0.96843782816511,0.4290004724349664,-0.6150667513201463,-1.1644702103477313,-0.3024878956777604,0.21675550479802616,-1.108344807575133,-0.6529549198621861,-1.6048750507931338,2.1282050713734972,1.240451474833909,-0.9468468701132373,-0.7149128729282663,0.7684842078600935,0.6152290770981884,-0.9601817186734947,-0.6240098199662922,-1.9132242570550178,2.3860115322006923,1.6017347659003962,1.3854886213432298,-1.2533714050617275,1.1675065748777036,-0.8339954419544497,0.6645104113109662,-1.8460278374452133,0.9251573704783496,0.2555287627841315,2.011142381066698,-0.6568507775284618,0.4762725736337321,1.2235886048878013,-0.019813701981420996,0.2760002279222589,-1.4773144851682558,0.3492241057863119,0.12354359418652405,0.8879054373917248,0.25607188364142947,0.6587390390326553,-0.6310520211119438,-1.3190616725838245,1.308501006057353,0.4882677346986149,-0.4421846205193525,-3.007741043840323,0.8179465777852021,0.43747631218148203,1.9454955053320981,-1.748406067292762,0.8939847009844076,0.2704301609821631,-1.0529061904206758,0.2687186229625887,-1.061510706367173,0.6879940899945505,-1.1320643754291746,0.12005105359613082,-1.7391644637925068,-0.8504517692291123,0.944538349676949,2.2049053506380676],\"xaxis\":\"x16\",\"yaxis\":\"y16\",\"type\":\"histogram\"}],                        {\"bargap\":0.02,\"legend\":{\"bgcolor\":\"#F5F6F9\",\"font\":{\"color\":\"#4D5663\"}},\"paper_bgcolor\":\"#F5F6F9\",\"plot_bgcolor\":\"#F5F6F9\",\"showlegend\":false,\"template\":{\"data\":{\"barpolar\":[{\"marker\":{\"line\":{\"color\":\"#E5ECF6\",\"width\":0.5},\"pattern\":{\"fillmode\":\"overlay\",\"size\":10,\"solidity\":0.2}},\"type\":\"barpolar\"}],\"bar\":[{\"error_x\":{\"color\":\"#2a3f5f\"},\"error_y\":{\"color\":\"#2a3f5f\"},\"marker\":{\"line\":{\"color\":\"#E5ECF6\",\"width\":0.5},\"pattern\":{\"fillmode\":\"overlay\",\"size\":10,\"solidity\":0.2}},\"type\":\"bar\"}],\"carpet\":[{\"aaxis\":{\"endlinecolor\":\"#2a3f5f\",\"gridcolor\":\"white\",\"linecolor\":\"white\",\"minorgridcolor\":\"white\",\"startlinecolor\":\"#2a3f5f\"},\"baxis\":{\"endlinecolor\":\"#2a3f5f\",\"gridcolor\":\"white\",\"linecolor\":\"white\",\"minorgridcolor\":\"white\",\"startlinecolor\":\"#2a3f5f\"},\"type\":\"carpet\"}],\"choropleth\":[{\"colorbar\":{\"outlinewidth\":0,\"ticks\":\"\"},\"type\":\"choropleth\"}],\"contourcarpet\":[{\"colorbar\":{\"outlinewidth\":0,\"ticks\":\"\"},\"type\":\"contourcarpet\"}],\"contour\":[{\"colorbar\":{\"outlinewidth\":0,\"ticks\":\"\"},\"colorscale\":[[0.0,\"#0d0887\"],[0.1111111111111111,\"#46039f\"],[0.2222222222222222,\"#7201a8\"],[0.3333333333333333,\"#9c179e\"],[0.4444444444444444,\"#bd3786\"],[0.5555555555555556,\"#d8576b\"],[0.6666666666666666,\"#ed7953\"],[0.7777777777777778,\"#fb9f3a\"],[0.8888888888888888,\"#fdca26\"],[1.0,\"#f0f921\"]],\"type\":\"contour\"}],\"heatmapgl\":[{\"colorbar\":{\"outlinewidth\":0,\"ticks\":\"\"},\"colorscale\":[[0.0,\"#0d0887\"],[0.1111111111111111,\"#46039f\"],[0.2222222222222222,\"#7201a8\"],[0.3333333333333333,\"#9c179e\"],[0.4444444444444444,\"#bd3786\"],[0.5555555555555556,\"#d8576b\"],[0.6666666666666666,\"#ed7953\"],[0.7777777777777778,\"#fb9f3a\"],[0.8888888888888888,\"#fdca26\"],[1.0,\"#f0f921\"]],\"type\":\"heatmapgl\"}],\"heatmap\":[{\"colorbar\":{\"outlinewidth\":0,\"ticks\":\"\"},\"colorscale\":[[0.0,\"#0d0887\"],[0.1111111111111111,\"#46039f\"],[0.2222222222222222,\"#7201a8\"],[0.3333333333333333,\"#9c179e\"],[0.4444444444444444,\"#bd3786\"],[0.5555555555555556,\"#d8576b\"],[0.6666666666666666,\"#ed7953\"],[0.7777777777777778,\"#fb9f3a\"],[0.8888888888888888,\"#fdca26\"],[1.0,\"#f0f921\"]],\"type\":\"heatmap\"}],\"histogram2dcontour\":[{\"colorbar\":{\"outlinewidth\":0,\"ticks\":\"\"},\"colorscale\":[[0.0,\"#0d0887\"],[0.1111111111111111,\"#46039f\"],[0.2222222222222222,\"#7201a8\"],[0.3333333333333333,\"#9c179e\"],[0.4444444444444444,\"#bd3786\"],[0.5555555555555556,\"#d8576b\"],[0.6666666666666666,\"#ed7953\"],[0.7777777777777778,\"#fb9f3a\"],[0.8888888888888888,\"#fdca26\"],[1.0,\"#f0f921\"]],\"type\":\"histogram2dcontour\"}],\"histogram2d\":[{\"colorbar\":{\"outlinewidth\":0,\"ticks\":\"\"},\"colorscale\":[[0.0,\"#0d0887\"],[0.1111111111111111,\"#46039f\"],[0.2222222222222222,\"#7201a8\"],[0.3333333333333333,\"#9c179e\"],[0.4444444444444444,\"#bd3786\"],[0.5555555555555556,\"#d8576b\"],[0.6666666666666666,\"#ed7953\"],[0.7777777777777778,\"#fb9f3a\"],[0.8888888888888888,\"#fdca26\"],[1.0,\"#f0f921\"]],\"type\":\"histogram2d\"}],\"histogram\":[{\"marker\":{\"pattern\":{\"fillmode\":\"overlay\",\"size\":10,\"solidity\":0.2}},\"type\":\"histogram\"}],\"mesh3d\":[{\"colorbar\":{\"outlinewidth\":0,\"ticks\":\"\"},\"type\":\"mesh3d\"}],\"parcoords\":[{\"line\":{\"colorbar\":{\"outlinewidth\":0,\"ticks\":\"\"}},\"type\":\"parcoords\"}],\"pie\":[{\"automargin\":true,\"type\":\"pie\"}],\"scatter3d\":[{\"line\":{\"colorbar\":{\"outlinewidth\":0,\"ticks\":\"\"}},\"marker\":{\"colorbar\":{\"outlinewidth\":0,\"ticks\":\"\"}},\"type\":\"scatter3d\"}],\"scattercarpet\":[{\"marker\":{\"colorbar\":{\"outlinewidth\":0,\"ticks\":\"\"}},\"type\":\"scattercarpet\"}],\"scattergeo\":[{\"marker\":{\"colorbar\":{\"outlinewidth\":0,\"ticks\":\"\"}},\"type\":\"scattergeo\"}],\"scattergl\":[{\"marker\":{\"colorbar\":{\"outlinewidth\":0,\"ticks\":\"\"}},\"type\":\"scattergl\"}],\"scattermapbox\":[{\"marker\":{\"colorbar\":{\"outlinewidth\":0,\"ticks\":\"\"}},\"type\":\"scattermapbox\"}],\"scatterpolargl\":[{\"marker\":{\"colorbar\":{\"outlinewidth\":0,\"ticks\":\"\"}},\"type\":\"scatterpolargl\"}],\"scatterpolar\":[{\"marker\":{\"colorbar\":{\"outlinewidth\":0,\"ticks\":\"\"}},\"type\":\"scatterpolar\"}],\"scatter\":[{\"marker\":{\"colorbar\":{\"outlinewidth\":0,\"ticks\":\"\"}},\"type\":\"scatter\"}],\"scatterternary\":[{\"marker\":{\"colorbar\":{\"outlinewidth\":0,\"ticks\":\"\"}},\"type\":\"scatterternary\"}],\"surface\":[{\"colorbar\":{\"outlinewidth\":0,\"ticks\":\"\"},\"colorscale\":[[0.0,\"#0d0887\"],[0.1111111111111111,\"#46039f\"],[0.2222222222222222,\"#7201a8\"],[0.3333333333333333,\"#9c179e\"],[0.4444444444444444,\"#bd3786\"],[0.5555555555555556,\"#d8576b\"],[0.6666666666666666,\"#ed7953\"],[0.7777777777777778,\"#fb9f3a\"],[0.8888888888888888,\"#fdca26\"],[1.0,\"#f0f921\"]],\"type\":\"surface\"}],\"table\":[{\"cells\":{\"fill\":{\"color\":\"#EBF0F8\"},\"line\":{\"color\":\"white\"}},\"header\":{\"fill\":{\"color\":\"#C8D4E3\"},\"line\":{\"color\":\"white\"}},\"type\":\"table\"}]},\"layout\":{\"annotationdefaults\":{\"arrowcolor\":\"#2a3f5f\",\"arrowhead\":0,\"arrowwidth\":1},\"autotypenumbers\":\"strict\",\"coloraxis\":{\"colorbar\":{\"outlinewidth\":0,\"ticks\":\"\"}},\"colorscale\":{\"diverging\":[[0,\"#8e0152\"],[0.1,\"#c51b7d\"],[0.2,\"#de77ae\"],[0.3,\"#f1b6da\"],[0.4,\"#fde0ef\"],[0.5,\"#f7f7f7\"],[0.6,\"#e6f5d0\"],[0.7,\"#b8e186\"],[0.8,\"#7fbc41\"],[0.9,\"#4d9221\"],[1,\"#276419\"]],\"sequential\":[[0.0,\"#0d0887\"],[0.1111111111111111,\"#46039f\"],[0.2222222222222222,\"#7201a8\"],[0.3333333333333333,\"#9c179e\"],[0.4444444444444444,\"#bd3786\"],[0.5555555555555556,\"#d8576b\"],[0.6666666666666666,\"#ed7953\"],[0.7777777777777778,\"#fb9f3a\"],[0.8888888888888888,\"#fdca26\"],[1.0,\"#f0f921\"]],\"sequentialminus\":[[0.0,\"#0d0887\"],[0.1111111111111111,\"#46039f\"],[0.2222222222222222,\"#7201a8\"],[0.3333333333333333,\"#9c179e\"],[0.4444444444444444,\"#bd3786\"],[0.5555555555555556,\"#d8576b\"],[0.6666666666666666,\"#ed7953\"],[0.7777777777777778,\"#fb9f3a\"],[0.8888888888888888,\"#fdca26\"],[1.0,\"#f0f921\"]]},\"colorway\":[\"#636efa\",\"#EF553B\",\"#00cc96\",\"#ab63fa\",\"#FFA15A\",\"#19d3f3\",\"#FF6692\",\"#B6E880\",\"#FF97FF\",\"#FECB52\"],\"font\":{\"color\":\"#2a3f5f\"},\"geo\":{\"bgcolor\":\"white\",\"lakecolor\":\"white\",\"landcolor\":\"#E5ECF6\",\"showlakes\":true,\"showland\":true,\"subunitcolor\":\"white\"},\"hoverlabel\":{\"align\":\"left\"},\"hovermode\":\"closest\",\"mapbox\":{\"style\":\"light\"},\"paper_bgcolor\":\"white\",\"plot_bgcolor\":\"#E5ECF6\",\"polar\":{\"angularaxis\":{\"gridcolor\":\"white\",\"linecolor\":\"white\",\"ticks\":\"\"},\"bgcolor\":\"#E5ECF6\",\"radialaxis\":{\"gridcolor\":\"white\",\"linecolor\":\"white\",\"ticks\":\"\"}},\"scene\":{\"xaxis\":{\"backgroundcolor\":\"#E5ECF6\",\"gridcolor\":\"white\",\"gridwidth\":2,\"linecolor\":\"white\",\"showbackground\":true,\"ticks\":\"\",\"zerolinecolor\":\"white\"},\"yaxis\":{\"backgroundcolor\":\"#E5ECF6\",\"gridcolor\":\"white\",\"gridwidth\":2,\"linecolor\":\"white\",\"showbackground\":true,\"ticks\":\"\",\"zerolinecolor\":\"white\"},\"zaxis\":{\"backgroundcolor\":\"#E5ECF6\",\"gridcolor\":\"white\",\"gridwidth\":2,\"linecolor\":\"white\",\"showbackground\":true,\"ticks\":\"\",\"zerolinecolor\":\"white\"}},\"shapedefaults\":{\"line\":{\"color\":\"#2a3f5f\"}},\"ternary\":{\"aaxis\":{\"gridcolor\":\"white\",\"linecolor\":\"white\",\"ticks\":\"\"},\"baxis\":{\"gridcolor\":\"white\",\"linecolor\":\"white\",\"ticks\":\"\"},\"bgcolor\":\"#E5ECF6\",\"caxis\":{\"gridcolor\":\"white\",\"linecolor\":\"white\",\"ticks\":\"\"}},\"title\":{\"x\":0.05},\"xaxis\":{\"automargin\":true,\"gridcolor\":\"white\",\"linecolor\":\"white\",\"ticks\":\"\",\"title\":{\"standoff\":15},\"zerolinecolor\":\"white\",\"zerolinewidth\":2},\"yaxis\":{\"automargin\":true,\"gridcolor\":\"white\",\"linecolor\":\"white\",\"ticks\":\"\",\"title\":{\"standoff\":15},\"zerolinecolor\":\"white\",\"zerolinewidth\":2}}},\"title\":{\"font\":{\"color\":\"#4D5663\"}},\"xaxis\":{\"anchor\":\"y\",\"domain\":[0.0,0.2125],\"gridcolor\":\"#E1E5ED\",\"showgrid\":false,\"tickfont\":{\"color\":\"#4D5663\"},\"title\":{\"font\":{\"color\":\"#4D5663\"},\"text\":\"\"},\"zerolinecolor\":\"#E1E5ED\"},\"yaxis\":{\"anchor\":\"x\",\"domain\":[0.8025,1.0],\"gridcolor\":\"#E1E5ED\",\"showgrid\":false,\"tickfont\":{\"color\":\"#4D5663\"},\"title\":{\"font\":{\"color\":\"#4D5663\"},\"text\":\"\"},\"zerolinecolor\":\"#E1E5ED\"},\"xaxis2\":{\"anchor\":\"y2\",\"domain\":[0.2625,0.475],\"gridcolor\":\"#E1E5ED\",\"showgrid\":false,\"tickfont\":{\"color\":\"#4D5663\"},\"title\":{\"font\":{\"color\":\"#4D5663\"},\"text\":\"\"},\"zerolinecolor\":\"#E1E5ED\"},\"yaxis2\":{\"anchor\":\"x2\",\"domain\":[0.8025,1.0],\"gridcolor\":\"#E1E5ED\",\"showgrid\":false,\"tickfont\":{\"color\":\"#4D5663\"},\"title\":{\"font\":{\"color\":\"#4D5663\"},\"text\":\"\"},\"zerolinecolor\":\"#E1E5ED\"},\"xaxis3\":{\"anchor\":\"y3\",\"domain\":[0.525,0.7375],\"gridcolor\":\"#E1E5ED\",\"showgrid\":false,\"tickfont\":{\"color\":\"#4D5663\"},\"title\":{\"font\":{\"color\":\"#4D5663\"},\"text\":\"\"},\"zerolinecolor\":\"#E1E5ED\"},\"yaxis3\":{\"anchor\":\"x3\",\"domain\":[0.8025,1.0],\"gridcolor\":\"#E1E5ED\",\"showgrid\":false,\"tickfont\":{\"color\":\"#4D5663\"},\"title\":{\"font\":{\"color\":\"#4D5663\"},\"text\":\"\"},\"zerolinecolor\":\"#E1E5ED\"},\"xaxis4\":{\"anchor\":\"y4\",\"domain\":[0.7875,1.0],\"gridcolor\":\"#E1E5ED\",\"showgrid\":false,\"tickfont\":{\"color\":\"#4D5663\"},\"title\":{\"font\":{\"color\":\"#4D5663\"},\"text\":\"\"},\"zerolinecolor\":\"#E1E5ED\"},\"yaxis4\":{\"anchor\":\"x4\",\"domain\":[0.8025,1.0],\"gridcolor\":\"#E1E5ED\",\"showgrid\":false,\"tickfont\":{\"color\":\"#4D5663\"},\"title\":{\"font\":{\"color\":\"#4D5663\"},\"text\":\"\"},\"zerolinecolor\":\"#E1E5ED\"},\"xaxis5\":{\"anchor\":\"y5\",\"domain\":[0.0,0.2125],\"gridcolor\":\"#E1E5ED\",\"showgrid\":false,\"tickfont\":{\"color\":\"#4D5663\"},\"title\":{\"font\":{\"color\":\"#4D5663\"},\"text\":\"\"},\"zerolinecolor\":\"#E1E5ED\"},\"yaxis5\":{\"anchor\":\"x5\",\"domain\":[0.535,0.7325],\"gridcolor\":\"#E1E5ED\",\"showgrid\":false,\"tickfont\":{\"color\":\"#4D5663\"},\"title\":{\"font\":{\"color\":\"#4D5663\"},\"text\":\"\"},\"zerolinecolor\":\"#E1E5ED\"},\"xaxis6\":{\"anchor\":\"y6\",\"domain\":[0.2625,0.475],\"gridcolor\":\"#E1E5ED\",\"showgrid\":false,\"tickfont\":{\"color\":\"#4D5663\"},\"title\":{\"font\":{\"color\":\"#4D5663\"},\"text\":\"\"},\"zerolinecolor\":\"#E1E5ED\"},\"yaxis6\":{\"anchor\":\"x6\",\"domain\":[0.535,0.7325],\"gridcolor\":\"#E1E5ED\",\"showgrid\":false,\"tickfont\":{\"color\":\"#4D5663\"},\"title\":{\"font\":{\"color\":\"#4D5663\"},\"text\":\"\"},\"zerolinecolor\":\"#E1E5ED\"},\"xaxis7\":{\"anchor\":\"y7\",\"domain\":[0.525,0.7375],\"gridcolor\":\"#E1E5ED\",\"showgrid\":false,\"tickfont\":{\"color\":\"#4D5663\"},\"title\":{\"font\":{\"color\":\"#4D5663\"},\"text\":\"\"},\"zerolinecolor\":\"#E1E5ED\"},\"yaxis7\":{\"anchor\":\"x7\",\"domain\":[0.535,0.7325],\"gridcolor\":\"#E1E5ED\",\"showgrid\":false,\"tickfont\":{\"color\":\"#4D5663\"},\"title\":{\"font\":{\"color\":\"#4D5663\"},\"text\":\"\"},\"zerolinecolor\":\"#E1E5ED\"},\"xaxis8\":{\"anchor\":\"y8\",\"domain\":[0.7875,1.0],\"gridcolor\":\"#E1E5ED\",\"showgrid\":false,\"tickfont\":{\"color\":\"#4D5663\"},\"title\":{\"font\":{\"color\":\"#4D5663\"},\"text\":\"\"},\"zerolinecolor\":\"#E1E5ED\"},\"yaxis8\":{\"anchor\":\"x8\",\"domain\":[0.535,0.7325],\"gridcolor\":\"#E1E5ED\",\"showgrid\":false,\"tickfont\":{\"color\":\"#4D5663\"},\"title\":{\"font\":{\"color\":\"#4D5663\"},\"text\":\"\"},\"zerolinecolor\":\"#E1E5ED\"},\"xaxis9\":{\"anchor\":\"y9\",\"domain\":[0.0,0.2125],\"gridcolor\":\"#E1E5ED\",\"showgrid\":false,\"tickfont\":{\"color\":\"#4D5663\"},\"title\":{\"font\":{\"color\":\"#4D5663\"},\"text\":\"\"},\"zerolinecolor\":\"#E1E5ED\"},\"yaxis9\":{\"anchor\":\"x9\",\"domain\":[0.2675,0.465],\"gridcolor\":\"#E1E5ED\",\"showgrid\":false,\"tickfont\":{\"color\":\"#4D5663\"},\"title\":{\"font\":{\"color\":\"#4D5663\"},\"text\":\"\"},\"zerolinecolor\":\"#E1E5ED\"},\"xaxis10\":{\"anchor\":\"y10\",\"domain\":[0.2625,0.475],\"gridcolor\":\"#E1E5ED\",\"showgrid\":false,\"tickfont\":{\"color\":\"#4D5663\"},\"title\":{\"font\":{\"color\":\"#4D5663\"},\"text\":\"\"},\"zerolinecolor\":\"#E1E5ED\"},\"yaxis10\":{\"anchor\":\"x10\",\"domain\":[0.2675,0.465],\"gridcolor\":\"#E1E5ED\",\"showgrid\":false,\"tickfont\":{\"color\":\"#4D5663\"},\"title\":{\"font\":{\"color\":\"#4D5663\"},\"text\":\"\"},\"zerolinecolor\":\"#E1E5ED\"},\"xaxis11\":{\"anchor\":\"y11\",\"domain\":[0.525,0.7375],\"gridcolor\":\"#E1E5ED\",\"showgrid\":false,\"tickfont\":{\"color\":\"#4D5663\"},\"title\":{\"font\":{\"color\":\"#4D5663\"},\"text\":\"\"},\"zerolinecolor\":\"#E1E5ED\"},\"yaxis11\":{\"anchor\":\"x11\",\"domain\":[0.2675,0.465],\"gridcolor\":\"#E1E5ED\",\"showgrid\":false,\"tickfont\":{\"color\":\"#4D5663\"},\"title\":{\"font\":{\"color\":\"#4D5663\"},\"text\":\"\"},\"zerolinecolor\":\"#E1E5ED\"},\"xaxis12\":{\"anchor\":\"y12\",\"domain\":[0.7875,1.0],\"gridcolor\":\"#E1E5ED\",\"showgrid\":false,\"tickfont\":{\"color\":\"#4D5663\"},\"title\":{\"font\":{\"color\":\"#4D5663\"},\"text\":\"\"},\"zerolinecolor\":\"#E1E5ED\"},\"yaxis12\":{\"anchor\":\"x12\",\"domain\":[0.2675,0.465],\"gridcolor\":\"#E1E5ED\",\"showgrid\":false,\"tickfont\":{\"color\":\"#4D5663\"},\"title\":{\"font\":{\"color\":\"#4D5663\"},\"text\":\"\"},\"zerolinecolor\":\"#E1E5ED\"},\"xaxis13\":{\"anchor\":\"y13\",\"domain\":[0.0,0.2125],\"gridcolor\":\"#E1E5ED\",\"showgrid\":false,\"tickfont\":{\"color\":\"#4D5663\"},\"title\":{\"font\":{\"color\":\"#4D5663\"},\"text\":\"\"},\"zerolinecolor\":\"#E1E5ED\"},\"yaxis13\":{\"anchor\":\"x13\",\"domain\":[0.0,0.1975],\"gridcolor\":\"#E1E5ED\",\"showgrid\":false,\"tickfont\":{\"color\":\"#4D5663\"},\"title\":{\"font\":{\"color\":\"#4D5663\"},\"text\":\"\"},\"zerolinecolor\":\"#E1E5ED\"},\"xaxis14\":{\"anchor\":\"y14\",\"domain\":[0.2625,0.475],\"gridcolor\":\"#E1E5ED\",\"showgrid\":false,\"tickfont\":{\"color\":\"#4D5663\"},\"title\":{\"font\":{\"color\":\"#4D5663\"},\"text\":\"\"},\"zerolinecolor\":\"#E1E5ED\"},\"yaxis14\":{\"anchor\":\"x14\",\"domain\":[0.0,0.1975],\"gridcolor\":\"#E1E5ED\",\"showgrid\":false,\"tickfont\":{\"color\":\"#4D5663\"},\"title\":{\"font\":{\"color\":\"#4D5663\"},\"text\":\"\"},\"zerolinecolor\":\"#E1E5ED\"},\"xaxis15\":{\"anchor\":\"y15\",\"domain\":[0.525,0.7375],\"gridcolor\":\"#E1E5ED\",\"showgrid\":false,\"tickfont\":{\"color\":\"#4D5663\"},\"title\":{\"font\":{\"color\":\"#4D5663\"},\"text\":\"\"},\"zerolinecolor\":\"#E1E5ED\"},\"yaxis15\":{\"anchor\":\"x15\",\"domain\":[0.0,0.1975],\"gridcolor\":\"#E1E5ED\",\"showgrid\":false,\"tickfont\":{\"color\":\"#4D5663\"},\"title\":{\"font\":{\"color\":\"#4D5663\"},\"text\":\"\"},\"zerolinecolor\":\"#E1E5ED\"},\"xaxis16\":{\"anchor\":\"y16\",\"domain\":[0.7875,1.0],\"gridcolor\":\"#E1E5ED\",\"showgrid\":false,\"tickfont\":{\"color\":\"#4D5663\"},\"title\":{\"font\":{\"color\":\"#4D5663\"},\"text\":\"\"},\"zerolinecolor\":\"#E1E5ED\"},\"yaxis16\":{\"anchor\":\"x16\",\"domain\":[0.0,0.1975],\"gridcolor\":\"#E1E5ED\",\"showgrid\":false,\"tickfont\":{\"color\":\"#4D5663\"},\"title\":{\"font\":{\"color\":\"#4D5663\"},\"text\":\"\"},\"zerolinecolor\":\"#E1E5ED\"}},                        {\"showLink\": true, \"linkText\": \"Export to plot.ly\", \"plotlyServerURL\": \"https://plot.ly\", \"responsive\": true}                    ).then(function(){\n",
       "                            \n",
       "var gd = document.getElementById('becb438a-e679-4197-a3c1-e04b94ba0c6e');\n",
       "var x = new MutationObserver(function (mutations, observer) {{\n",
       "        var display = window.getComputedStyle(gd).display;\n",
       "        if (!display || display === 'none') {{\n",
       "            console.log([gd, 'removed!']);\n",
       "            Plotly.purge(gd);\n",
       "            observer.disconnect();\n",
       "        }}\n",
       "}});\n",
       "\n",
       "// Listen for the removal of the full notebook cells\n",
       "var notebookContainer = gd.closest('#notebook-container');\n",
       "if (notebookContainer) {{\n",
       "    x.observe(notebookContainer, {childList: true});\n",
       "}}\n",
       "\n",
       "// Listen for the clearing of the current output cell\n",
       "var outputEl = gd.closest('.output');\n",
       "if (outputEl) {{\n",
       "    x.observe(outputEl, {childList: true});\n",
       "}}\n",
       "\n",
       "                        })                };                });            </script>        </div>"
      ]
     },
     "metadata": {},
     "output_type": "display_data"
    }
   ],
   "source": [
    "df.scatter_matrix()"
   ]
  },
  {
   "cell_type": "markdown",
   "metadata": {
    "collapsed": true
   },
   "source": [
    "# Great Job!"
   ]
  }
 ],
 "metadata": {
  "kernelspec": {
   "display_name": "Python 3 (ipykernel)",
   "language": "python",
   "name": "python3"
  },
  "language_info": {
   "codemirror_mode": {
    "name": "ipython",
    "version": 3
   },
   "file_extension": ".py",
   "mimetype": "text/x-python",
   "name": "python",
   "nbconvert_exporter": "python",
   "pygments_lexer": "ipython3",
   "version": "3.9.12"
  }
 },
 "nbformat": 4,
 "nbformat_minor": 1
}
